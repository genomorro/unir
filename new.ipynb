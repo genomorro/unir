{
 "cells": [
  {
   "cell_type": "markdown",
   "id": "71279c83-c62f-4ced-a812-57f160546caf",
   "metadata": {},
   "source": [
    "Hay que completar `incompleto` con `datos`"
   ]
  },
  {
   "cell_type": "code",
   "execution_count": 1,
   "id": "62dd88e1-f953-488c-a170-050d63cb4f30",
   "metadata": {},
   "outputs": [],
   "source": [
    "import pandas as pd"
   ]
  },
  {
   "cell_type": "code",
   "execution_count": 2,
   "id": "13431abd-6a22-4da2-b851-58a2dc8bed6d",
   "metadata": {},
   "outputs": [
    {
     "name": "stderr",
     "output_type": "stream",
     "text": [
      "/srv/conda/envs/notebook/lib/python3.7/site-packages/IPython/core/interactiveshell.py:3457: DtypeWarning: Columns (0,1,2,3,4,5,6,7,8) have mixed types.Specify dtype option on import or set low_memory=False.\n",
      "  exec(code_obj, self.user_global_ns, self.user_ns)\n"
     ]
    }
   ],
   "source": [
    "incompleto = pd.read_csv('ds/edo mun y loc INEGI.csv')\n",
    "datos = pd.read_csv('ds/loc aclin.csv')"
   ]
  },
  {
   "cell_type": "code",
   "execution_count": 3,
   "id": "6c9eabc0-edb1-4b51-be81-03a460dacbae",
   "metadata": {},
   "outputs": [
    {
     "data": {
      "text/html": [
       "<div>\n",
       "<style scoped>\n",
       "    .dataframe tbody tr th:only-of-type {\n",
       "        vertical-align: middle;\n",
       "    }\n",
       "\n",
       "    .dataframe tbody tr th {\n",
       "        vertical-align: top;\n",
       "    }\n",
       "\n",
       "    .dataframe thead th {\n",
       "        text-align: right;\n",
       "    }\n",
       "</style>\n",
       "<table border=\"1\" class=\"dataframe\">\n",
       "  <thead>\n",
       "    <tr style=\"text-align: right;\">\n",
       "      <th></th>\n",
       "      <th>count</th>\n",
       "      <th>unique</th>\n",
       "      <th>top</th>\n",
       "      <th>freq</th>\n",
       "    </tr>\n",
       "  </thead>\n",
       "  <tbody>\n",
       "    <tr>\n",
       "      <th>Lengua</th>\n",
       "      <td>129750</td>\n",
       "      <td>72</td>\n",
       "      <td>Náhuatl</td>\n",
       "      <td>21097</td>\n",
       "    </tr>\n",
       "    <tr>\n",
       "      <th>Estado</th>\n",
       "      <td>129750</td>\n",
       "      <td>32</td>\n",
       "      <td>Oaxaca</td>\n",
       "      <td>16913</td>\n",
       "    </tr>\n",
       "    <tr>\n",
       "      <th>Municipio</th>\n",
       "      <td>129750</td>\n",
       "      <td>2295</td>\n",
       "      <td>Ocosingo</td>\n",
       "      <td>1553</td>\n",
       "    </tr>\n",
       "    <tr>\n",
       "      <th>Localidad</th>\n",
       "      <td>129750</td>\n",
       "      <td>41535</td>\n",
       "      <td>Emiliano Zapata</td>\n",
       "      <td>377</td>\n",
       "    </tr>\n",
       "  </tbody>\n",
       "</table>\n",
       "</div>"
      ],
      "text/plain": [
       "            count unique              top   freq\n",
       "Lengua     129750     72          Náhuatl  21097\n",
       "Estado     129750     32           Oaxaca  16913\n",
       "Municipio  129750   2295         Ocosingo   1553\n",
       "Localidad  129750  41535  Emiliano Zapata    377"
      ]
     },
     "execution_count": 3,
     "metadata": {},
     "output_type": "execute_result"
    }
   ],
   "source": [
    "incompleto.rename(columns={'Estados ':'Estado'}, inplace=True)\n",
    "incompleto_temporal = incompleto[['Lengua', 'Estado', 'Municipio', 'Localidad']]\n",
    "incompleto_temporal.describe().T"
   ]
  },
  {
   "cell_type": "code",
   "execution_count": 4,
   "id": "3f9e4555-c117-4834-8f4c-573e03b0c8e5",
   "metadata": {},
   "outputs": [
    {
     "data": {
      "text/html": [
       "<div>\n",
       "<style scoped>\n",
       "    .dataframe tbody tr th:only-of-type {\n",
       "        vertical-align: middle;\n",
       "    }\n",
       "\n",
       "    .dataframe tbody tr th {\n",
       "        vertical-align: top;\n",
       "    }\n",
       "\n",
       "    .dataframe thead th {\n",
       "        text-align: right;\n",
       "    }\n",
       "</style>\n",
       "<table border=\"1\" class=\"dataframe\">\n",
       "  <thead>\n",
       "    <tr style=\"text-align: right;\">\n",
       "      <th></th>\n",
       "      <th>count</th>\n",
       "      <th>unique</th>\n",
       "      <th>top</th>\n",
       "      <th>freq</th>\n",
       "    </tr>\n",
       "  </thead>\n",
       "  <tbody>\n",
       "    <tr>\n",
       "      <th>Lengua</th>\n",
       "      <td>44368</td>\n",
       "      <td>70</td>\n",
       "      <td>náhuatl</td>\n",
       "      <td>8651</td>\n",
       "    </tr>\n",
       "    <tr>\n",
       "      <th>Estado</th>\n",
       "      <td>44368</td>\n",
       "      <td>30</td>\n",
       "      <td>Oaxaca</td>\n",
       "      <td>7197</td>\n",
       "    </tr>\n",
       "    <tr>\n",
       "      <th>Municipio</th>\n",
       "      <td>44355</td>\n",
       "      <td>1233</td>\n",
       "      <td>Guachochi</td>\n",
       "      <td>990</td>\n",
       "    </tr>\n",
       "    <tr>\n",
       "      <th>Localidad</th>\n",
       "      <td>44262</td>\n",
       "      <td>27903</td>\n",
       "      <td>San Isidro</td>\n",
       "      <td>123</td>\n",
       "    </tr>\n",
       "  </tbody>\n",
       "</table>\n",
       "</div>"
      ],
      "text/plain": [
       "           count unique         top  freq\n",
       "Lengua     44368     70     náhuatl  8651\n",
       "Estado     44368     30      Oaxaca  7197\n",
       "Municipio  44355   1233   Guachochi   990\n",
       "Localidad  44262  27903  San Isidro   123"
      ]
     },
     "execution_count": 4,
     "metadata": {},
     "output_type": "execute_result"
    }
   ],
   "source": [
    "datos_temporal = datos[['Lengua', 'Estado', 'Municipio', 'Localidad']]\n",
    "datos_temporal.describe().T"
   ]
  },
  {
   "cell_type": "code",
   "execution_count": 5,
   "id": "37b0ee3b-c1f5-4353-869b-876b179fe8e2",
   "metadata": {},
   "outputs": [],
   "source": [
    "diff = pd.merge(incompleto_temporal, datos_temporal, how='left', indicator='Exist')"
   ]
  },
  {
   "cell_type": "code",
   "execution_count": 6,
   "id": "44ae4d80-5198-4833-a79b-5b7bf70aa3cb",
   "metadata": {},
   "outputs": [
    {
     "data": {
      "text/html": [
       "<div>\n",
       "<style scoped>\n",
       "    .dataframe tbody tr th:only-of-type {\n",
       "        vertical-align: middle;\n",
       "    }\n",
       "\n",
       "    .dataframe tbody tr th {\n",
       "        vertical-align: top;\n",
       "    }\n",
       "\n",
       "    .dataframe thead th {\n",
       "        text-align: right;\n",
       "    }\n",
       "</style>\n",
       "<table border=\"1\" class=\"dataframe\">\n",
       "  <thead>\n",
       "    <tr style=\"text-align: right;\">\n",
       "      <th></th>\n",
       "      <th>count</th>\n",
       "      <th>unique</th>\n",
       "      <th>top</th>\n",
       "      <th>freq</th>\n",
       "    </tr>\n",
       "  </thead>\n",
       "  <tbody>\n",
       "    <tr>\n",
       "      <th>Lengua</th>\n",
       "      <td>129752</td>\n",
       "      <td>72</td>\n",
       "      <td>Náhuatl</td>\n",
       "      <td>21097</td>\n",
       "    </tr>\n",
       "    <tr>\n",
       "      <th>Estado</th>\n",
       "      <td>129752</td>\n",
       "      <td>32</td>\n",
       "      <td>Oaxaca</td>\n",
       "      <td>16913</td>\n",
       "    </tr>\n",
       "    <tr>\n",
       "      <th>Municipio</th>\n",
       "      <td>129752</td>\n",
       "      <td>2295</td>\n",
       "      <td>Ocosingo</td>\n",
       "      <td>1553</td>\n",
       "    </tr>\n",
       "    <tr>\n",
       "      <th>Localidad</th>\n",
       "      <td>129752</td>\n",
       "      <td>41535</td>\n",
       "      <td>Emiliano Zapata</td>\n",
       "      <td>377</td>\n",
       "    </tr>\n",
       "    <tr>\n",
       "      <th>Exist</th>\n",
       "      <td>223733</td>\n",
       "      <td>2</td>\n",
       "      <td>left_only</td>\n",
       "      <td>223632</td>\n",
       "    </tr>\n",
       "  </tbody>\n",
       "</table>\n",
       "</div>"
      ],
      "text/plain": [
       "            count unique              top    freq\n",
       "Lengua     129752     72          Náhuatl   21097\n",
       "Estado     129752     32           Oaxaca   16913\n",
       "Municipio  129752   2295         Ocosingo    1553\n",
       "Localidad  129752  41535  Emiliano Zapata     377\n",
       "Exist      223733      2        left_only  223632"
      ]
     },
     "execution_count": 6,
     "metadata": {},
     "output_type": "execute_result"
    }
   ],
   "source": [
    "diff.describe().T"
   ]
  },
  {
   "cell_type": "code",
   "execution_count": 7,
   "id": "cccfc63c-20ed-44ee-9265-1c5ea2f8845e",
   "metadata": {},
   "outputs": [
    {
     "data": {
      "text/plain": [
       "left_only     223632\n",
       "both             101\n",
       "right_only         0\n",
       "Name: Exist, dtype: int64"
      ]
     },
     "execution_count": 7,
     "metadata": {},
     "output_type": "execute_result"
    }
   ],
   "source": [
    "diff['Exist'].value_counts()"
   ]
  },
  {
   "cell_type": "code",
   "execution_count": 8,
   "id": "3ca1627e-d686-4b17-9e23-b8062f1288b5",
   "metadata": {},
   "outputs": [],
   "source": [
    "diff.to_csv(\"out/resultado.csv\")"
   ]
  }
 ],
 "metadata": {
  "kernelspec": {
   "display_name": "Python 3 (ipykernel)",
   "language": "python",
   "name": "python3"
  },
  "language_info": {
   "codemirror_mode": {
    "name": "ipython",
    "version": 3
   },
   "file_extension": ".py",
   "mimetype": "text/x-python",
   "name": "python",
   "nbconvert_exporter": "python",
   "pygments_lexer": "ipython3",
   "version": "3.7.12"
  }
 },
 "nbformat": 4,
 "nbformat_minor": 5
}
