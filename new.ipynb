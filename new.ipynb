{
 "cells": [
  {
   "cell_type": "markdown",
   "id": "71279c83-c62f-4ced-a812-57f160546caf",
   "metadata": {},
   "source": [
    "Hay que completar `incompleto` con `datos`"
   ]
  },
  {
   "cell_type": "code",
   "execution_count": null,
   "id": "62dd88e1-f953-488c-a170-050d63cb4f30",
   "metadata": {},
   "outputs": [],
   "source": [
    "import pandas as pd"
   ]
  },
  {
   "cell_type": "code",
   "execution_count": null,
   "id": "13431abd-6a22-4da2-b851-58a2dc8bed6d",
   "metadata": {},
   "outputs": [],
   "source": [
    "incompleto = pd.read_csv('ds/edo mun y loc INEGI.csv')\n",
    "datos = pd.read_csv('ds/loc aclin.csv')"
   ]
  },
  {
   "cell_type": "code",
   "execution_count": null,
   "id": "6c9eabc0-edb1-4b51-be81-03a460dacbae",
   "metadata": {},
   "outputs": [],
   "source": [
    "incompleto.rename(columns={'Estados ':'Estado'}, inplace=True)\n",
    "incompleto_temporal = incompleto[['Lengua', 'Estado', 'Municipio', 'Localidad']]\n",
    "incompleto_temporal.describe().T"
   ]
  },
  {
   "cell_type": "code",
   "execution_count": null,
   "id": "3f9e4555-c117-4834-8f4c-573e03b0c8e5",
   "metadata": {},
   "outputs": [],
   "source": [
    "datos_temporal = datos[['Lengua', 'Estado', 'Municipio', 'Localidad']]\n",
    "datos_temporal.describe().T"
   ]
  },
  {
   "cell_type": "code",
   "execution_count": null,
   "id": "37b0ee3b-c1f5-4353-869b-876b179fe8e2",
   "metadata": {},
   "outputs": [],
   "source": [
    "diff = pd.merge(incompleto_temporal, datos_temporal, how='outer', indicator='Exist')"
   ]
  }
 ],
 "metadata": {
  "kernelspec": {
   "display_name": "Python 3 (ipykernel)",
   "language": "python",
   "name": "python3"
  },
  "language_info": {
   "codemirror_mode": {
    "name": "ipython",
    "version": 3
   },
   "file_extension": ".py",
   "mimetype": "text/x-python",
   "name": "python",
   "nbconvert_exporter": "python",
   "pygments_lexer": "ipython3",
   "version": "3.7.12"
  }
 },
 "nbformat": 4,
 "nbformat_minor": 5
}
