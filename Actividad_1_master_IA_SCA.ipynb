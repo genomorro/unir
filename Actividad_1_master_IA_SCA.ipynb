{
 "cells": [
  {
   "cell_type": "markdown",
   "source": "# Actividad 1: Conceptos generales de redes neuronales\nEn esta actividad vamos a revisar algunos de los conceptos basicos de las redes neuronales, pero no por ello menos importantes.\n\nEl dataset a utilizar es Fashion MNIST, un problema sencillo con imágenes pequeñas de ropa, pero más interesante que el dataset de MNIST. Puedes consultar más información sobre el dataset en este enlace.\n\nEl código utilizado para contestar tiene que quedar claramente reflejado en el Notebook. Puedes crear nuevas cells si así lo deseas para estructurar tu código y sus salidas. A la hora de entregar el notebook, asegúrate de que los resultados de ejecutar tu código han quedado guardados (por ejemplo, a la hora de entrenar una red neuronal tiene que verse claramente un log de los resultados de cada epoch).",
   "metadata": {
    "id": "4VFT5_VnJl19",
    "cell_id": "cc216d10-f0cb-4c69-8cf6-04cfb04b9f93",
    "deepnote_cell_type": "markdown",
    "deepnote_cell_height": 378
   }
  },
  {
   "cell_type": "code",
   "metadata": {
    "colab": {
     "base_uri": "https://localhost:8080/",
     "height": 34
    },
    "id": "VU8gdrsVG4h0",
    "outputId": "97ce2b9c-047a-4c25-c030-77a6a63b61e1",
    "cell_id": "00001-e1cd1d48-596f-425f-a347-ef3565e25454",
    "deepnote_to_be_reexecuted": false,
    "source_hash": "b91dbd17",
    "execution_start": 1656379346904,
    "execution_millis": 244,
    "deepnote_cell_type": "code",
    "deepnote_cell_height": 138
   },
   "source": "import tensorflow as tf\nprint(tf.__version__)",
   "execution_count": 32,
   "outputs": [
    {
     "name": "stdout",
     "text": "2.9.1\n",
     "output_type": "stream"
    }
   ]
  },
  {
   "cell_type": "markdown",
   "source": "En primer lugar vamos a importar el dataset Fashion MNIST (recordad que este es uno de los dataset de entranamiento que estan guardados en keras) que es el que vamos a utilizar en esta actividad:",
   "metadata": {
    "id": "zScMKU2OKSPD",
    "cell_id": "00002-710a6cf3-f885-4136-a149-ad8846b3f1aa",
    "deepnote_cell_type": "markdown",
    "deepnote_cell_height": 80
   }
  },
  {
   "cell_type": "code",
   "metadata": {
    "id": "4voG2hxxG4h3",
    "cell_id": "00003-517c400d-0e4a-41ff-807c-047345f4badc",
    "deepnote_to_be_reexecuted": false,
    "source_hash": "71d2622e",
    "execution_start": 1656379351635,
    "execution_millis": 3,
    "deepnote_cell_type": "code",
    "deepnote_cell_height": 81
   },
   "source": "mnist = tf.keras.datasets.fashion_mnist",
   "execution_count": 33,
   "outputs": []
  },
  {
   "cell_type": "markdown",
   "source": "Llamar a **load_data** en este dataset nos dará dos conjuntos de dos listas, estos serán los valores de entrenamiento y prueba para los gráficos que contienen las prendas de vestir y sus etiquetas.\n\nNota: Aunque en esta actividad lo veis de esta forma, también lo vais a poder encontrar como 4 variables de esta forma: training_images, training_labels, test_images, test_labels = mnist.load_data()",
   "metadata": {
    "id": "JphLsCvgKrzb",
    "cell_id": "00004-9c16fda0-e127-409f-9a40-4c6e7a5b0e89",
    "deepnote_cell_type": "markdown",
    "deepnote_cell_height": 144
   }
  },
  {
   "cell_type": "code",
   "metadata": {
    "id": "1muD4PHEG4h6",
    "cell_id": "00005-7a57d9d7-e8af-4a18-a687-f21d06ef1f3f",
    "deepnote_to_be_reexecuted": false,
    "source_hash": "799c24df",
    "execution_start": 1656379356059,
    "execution_millis": 401,
    "deepnote_cell_type": "code",
    "deepnote_cell_height": 81
   },
   "source": "(training_images, training_labels), (test_images, test_labels) = mnist.load_data()",
   "execution_count": 34,
   "outputs": []
  },
  {
   "cell_type": "markdown",
   "source": "Antes de continuar vamos a dar un vistazo a nuestro dataset, para ello vamos a ver una imagen de entrenamiento y su etiqueta o clase.",
   "metadata": {
    "id": "ZWGpJqVVLT3Y",
    "cell_id": "00006-c30e11d1-f482-4c3e-be54-5d504c6e1a09",
    "deepnote_cell_type": "markdown",
    "deepnote_cell_height": 80
   }
  },
  {
   "cell_type": "code",
   "metadata": {
    "id": "t5a5PlswG4h8",
    "cell_id": "00007-1c67173f-ba42-4a5b-a7b0-947585688317",
    "deepnote_to_be_reexecuted": false,
    "source_hash": "70acd57a",
    "execution_start": 1656379361479,
    "execution_millis": 220,
    "deepnote_cell_type": "code",
    "deepnote_cell_height": 1090,
    "deepnote_output_heights": [
     null,
     250
    ]
   },
   "source": "import numpy as np\nnp.set_printoptions(linewidth=200)\nimport matplotlib.pyplot as plt\nplt.imshow(training_images[0], cmap=\"gray\") # recordad que siempre es preferible trabajar en blanco y negro\n#\nprint(training_labels[0])\nprint(training_images[0])",
   "execution_count": 35,
   "outputs": [
    {
     "name": "stdout",
     "text": "9\n[[  0   0   0   0   0   0   0   0   0   0   0   0   0   0   0   0   0   0   0   0   0   0   0   0   0   0   0   0]\n [  0   0   0   0   0   0   0   0   0   0   0   0   0   0   0   0   0   0   0   0   0   0   0   0   0   0   0   0]\n [  0   0   0   0   0   0   0   0   0   0   0   0   0   0   0   0   0   0   0   0   0   0   0   0   0   0   0   0]\n [  0   0   0   0   0   0   0   0   0   0   0   0   1   0   0  13  73   0   0   1   4   0   0   0   0   1   1   0]\n [  0   0   0   0   0   0   0   0   0   0   0   0   3   0  36 136 127  62  54   0   0   0   1   3   4   0   0   3]\n [  0   0   0   0   0   0   0   0   0   0   0   0   6   0 102 204 176 134 144 123  23   0   0   0   0  12  10   0]\n [  0   0   0   0   0   0   0   0   0   0   0   0   0   0 155 236 207 178 107 156 161 109  64  23  77 130  72  15]\n [  0   0   0   0   0   0   0   0   0   0   0   1   0  69 207 223 218 216 216 163 127 121 122 146 141  88 172  66]\n [  0   0   0   0   0   0   0   0   0   1   1   1   0 200 232 232 233 229 223 223 215 213 164 127 123 196 229   0]\n [  0   0   0   0   0   0   0   0   0   0   0   0   0 183 225 216 223 228 235 227 224 222 224 221 223 245 173   0]\n [  0   0   0   0   0   0   0   0   0   0   0   0   0 193 228 218 213 198 180 212 210 211 213 223 220 243 202   0]\n [  0   0   0   0   0   0   0   0   0   1   3   0  12 219 220 212 218 192 169 227 208 218 224 212 226 197 209  52]\n [  0   0   0   0   0   0   0   0   0   0   6   0  99 244 222 220 218 203 198 221 215 213 222 220 245 119 167  56]\n [  0   0   0   0   0   0   0   0   0   4   0   0  55 236 228 230 228 240 232 213 218 223 234 217 217 209  92   0]\n [  0   0   1   4   6   7   2   0   0   0   0   0 237 226 217 223 222 219 222 221 216 223 229 215 218 255  77   0]\n [  0   3   0   0   0   0   0   0   0  62 145 204 228 207 213 221 218 208 211 218 224 223 219 215 224 244 159   0]\n [  0   0   0   0  18  44  82 107 189 228 220 222 217 226 200 205 211 230 224 234 176 188 250 248 233 238 215   0]\n [  0  57 187 208 224 221 224 208 204 214 208 209 200 159 245 193 206 223 255 255 221 234 221 211 220 232 246   0]\n [  3 202 228 224 221 211 211 214 205 205 205 220 240  80 150 255 229 221 188 154 191 210 204 209 222 228 225   0]\n [ 98 233 198 210 222 229 229 234 249 220 194 215 217 241  65  73 106 117 168 219 221 215 217 223 223 224 229  29]\n [ 75 204 212 204 193 205 211 225 216 185 197 206 198 213 240 195 227 245 239 223 218 212 209 222 220 221 230  67]\n [ 48 203 183 194 213 197 185 190 194 192 202 214 219 221 220 236 225 216 199 206 186 181 177 172 181 205 206 115]\n [  0 122 219 193 179 171 183 196 204 210 213 207 211 210 200 196 194 191 195 191 198 192 176 156 167 177 210  92]\n [  0   0  74 189 212 191 175 172 175 181 185 188 189 188 193 198 204 209 210 210 211 188 188 194 192 216 170   0]\n [  2   0   0   0  66 200 222 237 239 242 246 243 244 221 220 193 191 179 182 182 181 176 166 168  99  58   0   0]\n [  0   0   0   0   0   0   0  40  61  44  72  41  35   0   0   0   0   0   0   0   0   0   0   0   0   0   0   0]\n [  0   0   0   0   0   0   0   0   0   0   0   0   0   0   0   0   0   0   0   0   0   0   0   0   0   0   0   0]\n [  0   0   0   0   0   0   0   0   0   0   0   0   0   0   0   0   0   0   0   0   0   0   0   0   0   0   0   0]]\n",
     "output_type": "stream"
    },
    {
     "data": {
      "text/plain": "<Figure size 432x288 with 1 Axes>",
      "image/png": "[encoded data removed]"
     },
     "metadata": {
      "needs_background": "light",
      "image/png": {
       "width": 251,
       "height": 248
      }
     },
     "output_type": "display_data"
    }
   ]
  },
  {
   "cell_type": "markdown",
   "source": "Habreis notado que todos los valores numericos están entre 0 y 255. Si estamos entrenando una red neuronal, una buena practica es transformar todos los valores entre 0 y 1, un proceso llamado \"normalización\" y afortunadamente en Python es fácil normalizar una lista. Lo puedes hacer de esta manera:",
   "metadata": {
    "id": "WCJvZx3MLucY",
    "cell_id": "00008-2fd2dfdd-9a80-48b0-9f4c-fd75104242f8",
    "deepnote_cell_type": "markdown",
    "deepnote_cell_height": 105
   }
  },
  {
   "cell_type": "markdown",
   "source": "",
   "metadata": {
    "id": "OLpAvdVcRlyx",
    "cell_id": "00009-f226d013-418e-416a-abf1-35d1b91f8a0a",
    "deepnote_cell_type": "markdown",
    "deepnote_cell_height": 46
   }
  },
  {
   "cell_type": "code",
   "metadata": {
    "id": "tojL1BmjG4h_",
    "lines_to_next_cell": 2,
    "cell_id": "00010-477ddebd-7641-4990-8670-187f739c2029",
    "deepnote_to_be_reexecuted": false,
    "source_hash": "7609eab4",
    "execution_start": 1656379368273,
    "execution_millis": 367,
    "deepnote_cell_type": "code",
    "deepnote_cell_height": 99
   },
   "source": "training_images  = training_images / 255.0\ntest_images = test_images / 255.0",
   "execution_count": 36,
   "outputs": []
  },
  {
   "cell_type": "markdown",
   "source": "Ahora vamos a definir el modelo, pero antes vamos a repasar algunos comandos y conceptos muy utiles:\n* **Sequential**: Eso define una SECUENCIA de capas en la red neuronal\n* **Dense**: Añade una capa de neuronas\n* **Flatten**: ¿Recuerdas que las imágenes cómo eran las imagenes cuando las imprimiste para poder verlas? Un cuadrado, Flatten sólo toma ese cuadrado y lo convierte en un vector de una dimensión.\n\nCada capa de neuronas necesita una función de activación. Normalmente se usa la función relu en las capas intermedias y softmax en la ultima capa\n* **Relu** significa que \"Si X>0 devuelve X, si no, devuelve 0\", así que lo que hace es pasar sólo valores 0 o mayores a la siguiente capa de la red.\n* **Softmax** toma un conjunto de valores, y escoge el más grande.",
   "metadata": {
    "id": "yYUWWsszMAKt",
    "cell_id": "00011-2e487eb8-d511-441f-a33b-12b424072f17",
    "deepnote_cell_type": "markdown",
    "deepnote_cell_height": 345
   }
  },
  {
   "cell_type": "markdown",
   "source": " **Pregunta 1 (3.5 puntos)**. Utilizando Keras, y preparando los datos de X e y como fuera necesario, define y entrena una red neuronal que sea capaz de clasificar imágenes de Fashion MNIST con las siguientes características:\n\n* Una hidden layer de tamaños 128, utilizando unidades sigmoid\nOptimizador Adam.\n* Durante el entrenamiento, la red tiene que mostrar resultados de loss y accuracy por cada epoch.\n* La red debe entrenar durante 10 epochs y batch size de 64.\n* La última capa debe de ser una capa softmax.\n* Tu red tendría que ser capaz de superar fácilmente 80% de accuracy.",
   "metadata": {
    "id": "QgBW1yE2MwPp",
    "cell_id": "00012-a65b5097-c3c9-48b1-bd2a-a4d0a3eb129d",
    "deepnote_cell_type": "markdown",
    "deepnote_cell_height": 320
   }
  },
  {
   "cell_type": "code",
   "metadata": {
    "id": "aTaD2QXIORwu",
    "lines_to_next_cell": 2,
    "cell_id": "00013-5a03fd28-b1cd-405c-bf7b-d19062449254",
    "deepnote_to_be_reexecuted": false,
    "source_hash": "9334e3bc",
    "execution_start": 1656379373361,
    "execution_millis": 25595,
    "deepnote_cell_type": "code",
    "deepnote_cell_height": 894,
    "deepnote_output_heights": [
     null,
     27
    ]
   },
   "source": "### Tu código para la red neuronal de la pregunta 1 aquí ###\nnn = tf.keras.models.Sequential([\n      tf.keras.layers.Flatten(input_shape=[28,28]), # Según training_images.shape\n      tf.keras.layers.Dense(128, activation=\"sigmoid\"),\n      tf.keras.layers.Dense(10, activation=\"softmax\") # número de clases np.unique(training_labels)\n])\nnn.compile(loss=\"categorical_crossentropy\", optimizer=\"adam\", metrics=[\"accuracy\"])\n# Es necesario preprocesar las etiquetas de salida para que sean reconocidas como categorías\ntraining_labels = tf.keras.utils.to_categorical(training_labels, 10)\ntest_labels = tf.keras.utils.to_categorical(test_labels, 10)\nnn.fit(training_images, training_labels, batch_size=64, epochs=10, validation_data=(test_images, test_labels))",
   "execution_count": 37,
   "outputs": [
    {
     "name": "stdout",
     "text": "Epoch 1/10\n938/938 [==============================] - 3s 3ms/step - loss: 0.5908 - accuracy: 0.8045 - val_loss: 0.4681 - val_accuracy: 0.8330\nEpoch 2/10\n938/938 [==============================] - 2s 3ms/step - loss: 0.4096 - accuracy: 0.8543 - val_loss: 0.4223 - val_accuracy: 0.8467\nEpoch 3/10\n938/938 [==============================] - 2s 3ms/step - loss: 0.3705 - accuracy: 0.8673 - val_loss: 0.3957 - val_accuracy: 0.8596\nEpoch 4/10\n938/938 [==============================] - 3s 3ms/step - loss: 0.3479 - accuracy: 0.8750 - val_loss: 0.3861 - val_accuracy: 0.8598\nEpoch 5/10\n938/938 [==============================] - 2s 3ms/step - loss: 0.3302 - accuracy: 0.8804 - val_loss: 0.3749 - val_accuracy: 0.8661\nEpoch 6/10\n938/938 [==============================] - 2s 3ms/step - loss: 0.3145 - accuracy: 0.8866 - val_loss: 0.3585 - val_accuracy: 0.8709\nEpoch 7/10\n938/938 [==============================] - 3s 3ms/step - loss: 0.3003 - accuracy: 0.8916 - val_loss: 0.3501 - val_accuracy: 0.8756\nEpoch 8/10\n938/938 [==============================] - 3s 3ms/step - loss: 0.2904 - accuracy: 0.8945 - val_loss: 0.3462 - val_accuracy: 0.8744\nEpoch 9/10\n938/938 [==============================] - 2s 3ms/step - loss: 0.2807 - accuracy: 0.8977 - val_loss: 0.3408 - val_accuracy: 0.8764\nEpoch 10/10\n938/938 [==============================] - 2s 3ms/step - loss: 0.2718 - accuracy: 0.8994 - val_loss: 0.3363 - val_accuracy: 0.8791\n",
     "output_type": "stream"
    },
    {
     "output_type": "execute_result",
     "execution_count": 37,
     "data": {
      "text/plain": "<keras.callbacks.History at 0x7fb7fe5d3070>"
     },
     "metadata": {}
    }
   ]
  },
  {
   "cell_type": "markdown",
   "source": "Para concluir el entrenamiento de la red neuronal, una buena practica es evaluar el modelo para ver si la precisión de entrenamiento es real\n\n**pregunta 2 (0.5 puntos)**: evalua el modelo con las imagenes y etiquetas test.",
   "metadata": {
    "id": "Bxr5hTKYOQnK",
    "cell_id": "00014-17fc699a-a8e6-4488-8186-3e00109f7164",
    "deepnote_cell_type": "markdown",
    "deepnote_cell_height": 119
   }
  },
  {
   "cell_type": "code",
   "metadata": {
    "id": "VNjQEtUUG4iI",
    "lines_to_next_cell": 1,
    "cell_id": "00015-9f1e67d2-c0ac-4abc-a6ce-e7781b603e31",
    "deepnote_to_be_reexecuted": false,
    "source_hash": "2d9efdb5",
    "execution_start": 1656379412981,
    "execution_millis": 700,
    "deepnote_cell_type": "code",
    "deepnote_cell_height": 202
   },
   "source": "### Tu código para la evaluación de la red neuronal de la pregunta 2 aquí ###\nscore = nn.evaluate(test_images, test_labels, verbose=0)\nprint(\"Test loss:\", score[0])\nprint(\"Test accuracy:\", score[1])",
   "execution_count": 39,
   "outputs": [
    {
     "name": "stdout",
     "text": "Test loss: 0.3363288938999176\nTest accuracy: 0.8791000247001648\n",
     "output_type": "stream"
    }
   ]
  },
  {
   "cell_type": "markdown",
   "source": "Ahora vamos a explorar el código con una serie de ejercicios para alcanzar un grado de comprensión mayor sobre las redes neuronales y su entrenamiento.\n\n# **Ejercicio 1: Funcionamiento de las predicción de la red neuronal**\n\nPara este primer ejercicio sigue los siguientes pasos: \n\n* Crea una variable llamada **classifications** para construir un clasificador para las imágenes de prueba, para ello puedes utilizar la función predict sobre el conjunto de test\n* Imprime con la función print la primera entrada en las clasificaciones. \n\n**pregunta 3.1 (0.25 puntos)**, el resultado al imprimirlo es un vector de números, \n* ¿Por qué crees que ocurre esto, y qué representa este vector de números?\n\n**pregunta 3.2 (0.25 puntos)**\n* ¿Cúal es la clase de la primera entrada#  de la variable **classifications**? La respuesta puede ser un número o su etiqueta/clase equivalente.",
   "metadata": {
    "id": "ygMVnmSYO83U",
    "cell_id": "00016-23ca49dd-89ac-4073-ae55-3fa1654d218d",
    "deepnote_cell_type": "markdown",
    "deepnote_cell_height": 526
   }
  },
  {
   "cell_type": "code",
   "metadata": {
    "id": "b-mL-h4xQhCm",
    "cell_id": "00017-90dd8bd8-49c7-4581-9209-d37b46425fc5",
    "deepnote_to_be_reexecuted": false,
    "source_hash": "a3ca8502",
    "execution_start": 1656379420838,
    "execution_millis": 539,
    "deepnote_cell_type": "code",
    "deepnote_cell_height": 374
   },
   "source": "### Tu código del clasificador de la pregunta 3 aquí ###\nclassifications = nn.predict(test_images)\nprint(classifications)\nprint(classifications[0])",
   "execution_count": 40,
   "outputs": [
    {
     "name": "stdout",
     "text": "313/313 [==============================] - 0s 1ms/step\n[[2.59505646e-06 2.88184822e-07 4.99722910e-06 ... 6.50984943e-02 6.89559442e-04 9.02116001e-01]\n [7.58965558e-04 2.27694429e-07 9.74715233e-01 ... 8.64365788e-08 1.32002640e-06 2.30775541e-07]\n [6.94320042e-05 9.99818087e-01 8.12134476e-06 ... 7.55315952e-08 5.79101561e-06 2.11998308e-09]\n ...\n [2.34326092e-03 6.56213558e-07 2.82285502e-04 ... 2.30867168e-04 9.88331378e-01 9.67861453e-08]\n [1.17277377e-05 9.98126805e-01 4.43507588e-06 ... 1.20239918e-07 2.61706145e-06 9.39879669e-07]\n [5.95443794e-07 9.98760967e-08 1.31577835e-05 ... 3.72249493e-03 3.90556699e-04 4.32323941e-06]]\n",
     "output_type": "stream"
    }
   ]
  },
  {
   "cell_type": "markdown",
   "source": "Tu respuesta a la pregunta 3.1 aquí:",
   "metadata": {
    "id": "pvbVC9gaQhMY",
    "cell_id": "00018-155cd98c-295e-4597-8db4-f778dcf895cf",
    "deepnote_cell_type": "markdown",
    "deepnote_cell_height": 55
   }
  },
  {
   "cell_type": "markdown",
   "source": "Tu respuesta a la pregunta 3.2 aquí:",
   "metadata": {
    "id": "oRWo-75tdgv0",
    "cell_id": "00019-09562af1-5380-4f6b-befe-a0eb19dd04ba",
    "deepnote_cell_type": "markdown",
    "deepnote_cell_height": 55
   }
  },
  {
   "cell_type": "markdown",
   "source": "# **Ejercicio 2: Impacto variar el número de neuronas en las capas ocultas**\n\nEn este ejercicio vamos a experimentar con nuestra red neuronal cambiando el numero de neuronas por 512 y por 1024. Para ello, utiliza la red neuronal de la pregunta 1, y su capa oculta cambia las 128 neuronas:\n\n* **pregunta 4.1 (0.25 puntos)**: 512 neuronas en la capa oculta\n* **pregunta 4.2 (0.25 puntos)**:1024 neuronas en la capa oculta\n\ny entrena la red en ambos casos.\n\n**pregunta 4.3 (0.5 puntos)**: ¿Cual es el impacto que tiene la red neuronal?",
   "metadata": {
    "id": "hiQ8qAzhRQ4L",
    "cell_id": "00020-8da69344-f04a-41d3-ae62-d710b63fc630",
    "deepnote_cell_type": "markdown",
    "deepnote_cell_height": 345
   }
  },
  {
   "cell_type": "code",
   "metadata": {
    "id": "cdP8ZwuaUV93",
    "cell_id": "00021-410d576a-10dd-47cf-bd32-90478c9fa4ea",
    "deepnote_to_be_reexecuted": false,
    "source_hash": "bf27e44a",
    "execution_start": 1656379635834,
    "execution_millis": 82529,
    "deepnote_cell_type": "code",
    "deepnote_cell_height": 840,
    "deepnote_output_heights": [
     null,
     27
    ]
   },
   "source": "### Tu código para 512 neuronas aquí ###\nnn = tf.keras.models.Sequential([\n      tf.keras.layers.Flatten(input_shape=[28,28]), # Según training_images.shape\n      tf.keras.layers.Dense(512, activation=\"sigmoid\"),\n      tf.keras.layers.Dense(10, activation=\"softmax\") # número de clases np.unique(training_labels)\n])\nnn.compile(loss=\"categorical_crossentropy\", optimizer=\"adam\", metrics=[\"accuracy\"])\nnn.fit(training_images, training_labels, batch_size=64, epochs=10, validation_data=(test_images, test_labels))",
   "execution_count": 41,
   "outputs": [
    {
     "name": "stdout",
     "text": "Epoch 1/10\n938/938 [==============================] - 4s 4ms/step - loss: 0.5317 - accuracy: 0.8145 - val_loss: 0.4602 - val_accuracy: 0.8356\nEpoch 2/10\n938/938 [==============================] - 4s 4ms/step - loss: 0.4016 - accuracy: 0.8561 - val_loss: 0.4025 - val_accuracy: 0.8534\nEpoch 3/10\n938/938 [==============================] - 4s 5ms/step - loss: 0.3648 - accuracy: 0.8674 - val_loss: 0.3863 - val_accuracy: 0.8625\nEpoch 4/10\n938/938 [==============================] - 4s 5ms/step - loss: 0.3359 - accuracy: 0.8766 - val_loss: 0.3755 - val_accuracy: 0.8657\nEpoch 5/10\n938/938 [==============================] - 4s 4ms/step - loss: 0.3173 - accuracy: 0.8832 - val_loss: 0.3530 - val_accuracy: 0.8727\nEpoch 6/10\n938/938 [==============================] - 4s 4ms/step - loss: 0.3008 - accuracy: 0.8895 - val_loss: 0.3520 - val_accuracy: 0.8715\nEpoch 7/10\n938/938 [==============================] - 4s 4ms/step - loss: 0.2839 - accuracy: 0.8952 - val_loss: 0.3562 - val_accuracy: 0.8750\nEpoch 8/10\n938/938 [==============================] - 4s 4ms/step - loss: 0.2697 - accuracy: 0.9005 - val_loss: 0.3410 - val_accuracy: 0.8724\nEpoch 9/10\n938/938 [==============================] - 4s 4ms/step - loss: 0.2589 - accuracy: 0.9043 - val_loss: 0.3434 - val_accuracy: 0.8756\nEpoch 10/10\n938/938 [==============================] - 4s 5ms/step - loss: 0.2455 - accuracy: 0.9083 - val_loss: 0.3236 - val_accuracy: 0.8837\n",
     "output_type": "stream"
    },
    {
     "output_type": "execute_result",
     "execution_count": 41,
     "data": {
      "text/plain": "<keras.callbacks.History at 0x7fb7fe5fbf70>"
     },
     "metadata": {}
    }
   ]
  },
  {
   "cell_type": "code",
   "metadata": {
    "id": "YXBlbbfuUaPa",
    "cell_id": "00022-9072124e-004f-47a3-9f66-b7cd9ea72f51",
    "deepnote_to_be_reexecuted": false,
    "source_hash": "86fc2da3",
    "execution_start": 1656379755678,
    "execution_millis": 74581,
    "deepnote_cell_type": "code",
    "deepnote_cell_height": 840,
    "deepnote_output_heights": [
     null,
     27
    ]
   },
   "source": "### Tu código para 1024 neuronas aquí ###\nnn = tf.keras.models.Sequential([\n     tf.keras.layers.Flatten(input_shape=[28,28]), # Según training_images.shape\n     tf.keras.layers.Dense(1024, activation=\"sigmoid\"),\n     tf.keras.layers.Dense(10, activation=\"softmax\") # número de clases np.unique(training_labels)\n])\nnn.compile(loss=\"categorical_crossentropy\", optimizer=\"adam\", metrics=[\"accuracy\"])\nnn.fit(training_images, training_labels, batch_size=64, epochs=10, validation_data=(test_images, test_labels))",
   "execution_count": 42,
   "outputs": [
    {
     "name": "stdout",
     "text": "Epoch 1/10\n938/938 [==============================] - 7s 7ms/step - loss: 0.5175 - accuracy: 0.8154 - val_loss: 0.4513 - val_accuracy: 0.8401\nEpoch 2/10\n938/938 [==============================] - 7s 7ms/step - loss: 0.3997 - accuracy: 0.8551 - val_loss: 0.4079 - val_accuracy: 0.8534\nEpoch 3/10\n938/938 [==============================] - 7s 7ms/step - loss: 0.3623 - accuracy: 0.8684 - val_loss: 0.4043 - val_accuracy: 0.8513\nEpoch 4/10\n938/938 [==============================] - 7s 7ms/step - loss: 0.3343 - accuracy: 0.8777 - val_loss: 0.3698 - val_accuracy: 0.8643\nEpoch 5/10\n938/938 [==============================] - 7s 7ms/step - loss: 0.3112 - accuracy: 0.8860 - val_loss: 0.3556 - val_accuracy: 0.8712\nEpoch 6/10\n938/938 [==============================] - 7s 7ms/step - loss: 0.2952 - accuracy: 0.8909 - val_loss: 0.3418 - val_accuracy: 0.8758\nEpoch 7/10\n938/938 [==============================] - 7s 8ms/step - loss: 0.2763 - accuracy: 0.8979 - val_loss: 0.3331 - val_accuracy: 0.8795\nEpoch 8/10\n938/938 [==============================] - 7s 7ms/step - loss: 0.2620 - accuracy: 0.9020 - val_loss: 0.3490 - val_accuracy: 0.8730\nEpoch 9/10\n938/938 [==============================] - 7s 7ms/step - loss: 0.2485 - accuracy: 0.9069 - val_loss: 0.3503 - val_accuracy: 0.8798\nEpoch 10/10\n938/938 [==============================] - 12s 13ms/step - loss: 0.2382 - accuracy: 0.9102 - val_loss: 0.3639 - val_accuracy: 0.8680\n",
     "output_type": "stream"
    },
    {
     "output_type": "execute_result",
     "execution_count": 42,
     "data": {
      "text/plain": "<keras.callbacks.History at 0x7fb7fd054bb0>"
     },
     "metadata": {}
    }
   ]
  },
  {
   "cell_type": "markdown",
   "source": "Tu respuesta a la pregunta 4.3 aquí:",
   "metadata": {
    "id": "wG0h2HL-Uj93",
    "cell_id": "00023-7e000ca5-0905-4d4e-8737-342abd0d4824",
    "deepnote_cell_type": "markdown",
    "deepnote_cell_height": 55
   }
  },
  {
   "cell_type": "markdown",
   "source": "Si ahora entrenais el modelo de esta forma (con 512 y 1024 neuronas en la capa oculta) y volveis a ejecutar el predictor guardado en la variable **classifications**, escribir el código del clasificador del ejercicio 1 de nuevo e imprimid el primer objeto guardado en la variable classifications.\n\n**pregunta 5.1 (0.25 puntos)**: \n\n* ¿En que clase esta clasificado ahora la primera prenda de vestir de la variable classifications?\n\n**pregunta 5.1 (0.25 puntos)**: \n\n* ¿Porque crees que ha ocurrido esto?",
   "metadata": {
    "id": "b-NpUI9EVkVz",
    "cell_id": "00024-7344d1a1-f49f-4bc9-81cd-be097c86b2e8",
    "deepnote_cell_type": "markdown",
    "deepnote_cell_height": 275
   }
  },
  {
   "cell_type": "code",
   "metadata": {
    "id": "RdJHl3V-G4iS",
    "cell_id": "00025-56bdd64b-7ba1-44fa-be37-c364fe72d79a",
    "deepnote_to_be_reexecuted": false,
    "source_hash": "a33d2dd",
    "execution_start": 1656380009092,
    "execution_millis": 1348,
    "deepnote_cell_type": "code",
    "deepnote_cell_height": 188
   },
   "source": "### Tu código del clasificador de la pregunta 5 aquí ###\nclassifications = nn.predict(test_images)\nprint(classifications[0])",
   "execution_count": 45,
   "outputs": [
    {
     "name": "stdout",
     "text": "313/313 [==============================] - 1s 3ms/step\n[2.2609764e-07 4.4970375e-07 5.2105389e-07 2.7822423e-07 7.8204835e-07 1.9002587e-02 2.5430070e-06 8.6569414e-03 3.9548486e-06 9.7233158e-01]\n",
     "output_type": "stream"
    }
   ]
  },
  {
   "cell_type": "markdown",
   "source": "Tu respuesta a la pregunta 5.1 aquí:",
   "metadata": {
    "id": "P3NfwdOGZcAa",
    "cell_id": "00026-d568ca65-cf8d-422f-ab53-a9bb62bcd52f",
    "deepnote_cell_type": "markdown",
    "deepnote_cell_height": 55
   }
  },
  {
   "cell_type": "markdown",
   "source": "Tu respuesta a la pregunta 5.2 aquí:",
   "metadata": {
    "id": "nFmfpxE1ZcJx",
    "cell_id": "00027-3c3779a7-4f98-4368-8417-1a3d801a3056",
    "deepnote_cell_type": "markdown",
    "deepnote_cell_height": 55
   }
  },
  {
   "cell_type": "markdown",
   "source": "# **Ejercicio 3: ¿por qué es tan importante la capa Flatten?**\n\nEn este ejercicio vamos a ver que ocurre cuando quitamos la capa flatten, para ello, escribe la red neuronal de la pregunta 1 y no pongas la capa Flatten.\n\n**pregunta 6 (0.5 puntos):** ¿puedes explicar porque da el error que da?\n\n",
   "metadata": {
    "id": "59eM76O1YekZ",
    "cell_id": "00028-f93d2208-534c-46fc-a7e3-cab6ae481a50",
    "deepnote_cell_type": "markdown",
    "deepnote_cell_height": 239
   }
  },
  {
   "cell_type": "code",
   "metadata": {
    "id": "ecfEVKEuG4iU",
    "cell_id": "00029-2330c8fd-7d3f-4f00-9d15-b55f0fe03add",
    "deepnote_to_be_reexecuted": false,
    "source_hash": "c3a4c537",
    "execution_start": 1656380113121,
    "execution_millis": 356,
    "deepnote_cell_type": "code",
    "deepnote_cell_height": 1157.765625
   },
   "source": "### Tu código de la red neuronal sin capa flatten de la pregunta 6 aquí ###\nnn = tf.keras.models.Sequential([\n     # tf.keras.layers.Flatten(input_shape=[28,28]), # Según training_images.shape\n     tf.keras.layers.Dense(1024, activation=\"sigmoid\"),\n     tf.keras.layers.Dense(10, activation=\"softmax\") # número de clases np.unique(training_labels)\n])\nnn.compile(loss=\"categorical_crossentropy\", optimizer=\"adam\", metrics=[\"accuracy\"])\nnn.fit(training_images, training_labels, batch_size=64, epochs=10, validation_data=(test_images, test_labels))",
   "execution_count": 46,
   "outputs": [
    {
     "name": "stdout",
     "text": "Epoch 1/10\n",
     "output_type": "stream"
    },
    {
     "output_type": "error",
     "ename": "ValueError",
     "evalue": "in user code:\n\n    File \"/shared-libs/python3.9/py/lib/python3.9/site-packages/keras/engine/training.py\", line 1051, in train_function  *\n        return step_function(self, iterator)\n    File \"/shared-libs/python3.9/py/lib/python3.9/site-packages/keras/engine/training.py\", line 1040, in step_function  **\n        outputs = model.distribute_strategy.run(run_step, args=(data,))\n    File \"/shared-libs/python3.9/py/lib/python3.9/site-packages/keras/engine/training.py\", line 1030, in run_step  **\n        outputs = model.train_step(data)\n    File \"/shared-libs/python3.9/py/lib/python3.9/site-packages/keras/engine/training.py\", line 890, in train_step\n        loss = self.compute_loss(x, y, y_pred, sample_weight)\n    File \"/shared-libs/python3.9/py/lib/python3.9/site-packages/keras/engine/training.py\", line 948, in compute_loss\n        return self.compiled_loss(\n    File \"/shared-libs/python3.9/py/lib/python3.9/site-packages/keras/engine/compile_utils.py\", line 201, in __call__\n        loss_value = loss_obj(y_t, y_p, sample_weight=sw)\n    File \"/shared-libs/python3.9/py/lib/python3.9/site-packages/keras/losses.py\", line 139, in __call__\n        losses = call_fn(y_true, y_pred)\n    File \"/shared-libs/python3.9/py/lib/python3.9/site-packages/keras/losses.py\", line 243, in call  **\n        return ag_fn(y_true, y_pred, **self._fn_kwargs)\n    File \"/shared-libs/python3.9/py/lib/python3.9/site-packages/keras/losses.py\", line 1787, in categorical_crossentropy\n        return backend.categorical_crossentropy(\n    File \"/shared-libs/python3.9/py/lib/python3.9/site-packages/keras/backend.py\", line 5119, in categorical_crossentropy\n        target.shape.assert_is_compatible_with(output.shape)\n\n    ValueError: Shapes (None, 10) and (None, 28, 10) are incompatible\n",
     "traceback": [
      "\u001b[0;31m---------------------------------------------------------------------------\u001b[0m",
      "\u001b[0;31mValueError\u001b[0m                                Traceback (most recent call last)",
      "\u001b[0;32m<ipython-input-46-ea42271f1b4a>\u001b[0m in \u001b[0;36m<cell line: 8>\u001b[0;34m()\u001b[0m\n\u001b[1;32m      6\u001b[0m ])\n\u001b[1;32m      7\u001b[0m \u001b[0mnn\u001b[0m\u001b[0;34m.\u001b[0m\u001b[0mcompile\u001b[0m\u001b[0;34m(\u001b[0m\u001b[0mloss\u001b[0m\u001b[0;34m=\u001b[0m\u001b[0;34m\"categorical_crossentropy\"\u001b[0m\u001b[0;34m,\u001b[0m \u001b[0moptimizer\u001b[0m\u001b[0;34m=\u001b[0m\u001b[0;34m\"adam\"\u001b[0m\u001b[0;34m,\u001b[0m \u001b[0mmetrics\u001b[0m\u001b[0;34m=\u001b[0m\u001b[0;34m[\u001b[0m\u001b[0;34m\"accuracy\"\u001b[0m\u001b[0;34m]\u001b[0m\u001b[0;34m)\u001b[0m\u001b[0;34m\u001b[0m\u001b[0;34m\u001b[0m\u001b[0m\n\u001b[0;32m----> 8\u001b[0;31m \u001b[0mnn\u001b[0m\u001b[0;34m.\u001b[0m\u001b[0mfit\u001b[0m\u001b[0;34m(\u001b[0m\u001b[0mtraining_images\u001b[0m\u001b[0;34m,\u001b[0m \u001b[0mtraining_labels\u001b[0m\u001b[0;34m,\u001b[0m \u001b[0mbatch_size\u001b[0m\u001b[0;34m=\u001b[0m\u001b[0;36m64\u001b[0m\u001b[0;34m,\u001b[0m \u001b[0mepochs\u001b[0m\u001b[0;34m=\u001b[0m\u001b[0;36m10\u001b[0m\u001b[0;34m,\u001b[0m \u001b[0mvalidation_data\u001b[0m\u001b[0;34m=\u001b[0m\u001b[0;34m(\u001b[0m\u001b[0mtest_images\u001b[0m\u001b[0;34m,\u001b[0m \u001b[0mtest_labels\u001b[0m\u001b[0;34m)\u001b[0m\u001b[0;34m)\u001b[0m\u001b[0;34m\u001b[0m\u001b[0;34m\u001b[0m\u001b[0m\n\u001b[0m",
      "\u001b[0;32m/shared-libs/python3.9/py/lib/python3.9/site-packages/keras/utils/traceback_utils.py\u001b[0m in \u001b[0;36merror_handler\u001b[0;34m(*args, **kwargs)\u001b[0m\n\u001b[1;32m     65\u001b[0m     \u001b[0;32mexcept\u001b[0m \u001b[0mException\u001b[0m \u001b[0;32mas\u001b[0m \u001b[0me\u001b[0m\u001b[0;34m:\u001b[0m  \u001b[0;31m# pylint: disable=broad-except\u001b[0m\u001b[0;34m\u001b[0m\u001b[0;34m\u001b[0m\u001b[0m\n\u001b[1;32m     66\u001b[0m       \u001b[0mfiltered_tb\u001b[0m \u001b[0;34m=\u001b[0m \u001b[0m_process_traceback_frames\u001b[0m\u001b[0;34m(\u001b[0m\u001b[0me\u001b[0m\u001b[0;34m.\u001b[0m\u001b[0m__traceback__\u001b[0m\u001b[0;34m)\u001b[0m\u001b[0;34m\u001b[0m\u001b[0;34m\u001b[0m\u001b[0m\n\u001b[0;32m---> 67\u001b[0;31m       \u001b[0;32mraise\u001b[0m \u001b[0me\u001b[0m\u001b[0;34m.\u001b[0m\u001b[0mwith_traceback\u001b[0m\u001b[0;34m(\u001b[0m\u001b[0mfiltered_tb\u001b[0m\u001b[0;34m)\u001b[0m \u001b[0;32mfrom\u001b[0m \u001b[0;32mNone\u001b[0m\u001b[0;34m\u001b[0m\u001b[0;34m\u001b[0m\u001b[0m\n\u001b[0m\u001b[1;32m     68\u001b[0m     \u001b[0;32mfinally\u001b[0m\u001b[0;34m:\u001b[0m\u001b[0;34m\u001b[0m\u001b[0;34m\u001b[0m\u001b[0m\n\u001b[1;32m     69\u001b[0m       \u001b[0;32mdel\u001b[0m \u001b[0mfiltered_tb\u001b[0m\u001b[0;34m\u001b[0m\u001b[0;34m\u001b[0m\u001b[0m\n",
      "\u001b[0;32m/shared-libs/python3.9/py/lib/python3.9/site-packages/keras/engine/training.py\u001b[0m in \u001b[0;36mtf__train_function\u001b[0;34m(iterator)\u001b[0m\n\u001b[1;32m     13\u001b[0m                 \u001b[0;32mtry\u001b[0m\u001b[0;34m:\u001b[0m\u001b[0;34m\u001b[0m\u001b[0;34m\u001b[0m\u001b[0m\n\u001b[1;32m     14\u001b[0m                     \u001b[0mdo_return\u001b[0m \u001b[0;34m=\u001b[0m \u001b[0;32mTrue\u001b[0m\u001b[0;34m\u001b[0m\u001b[0;34m\u001b[0m\u001b[0m\n\u001b[0;32m---> 15\u001b[0;31m                     \u001b[0mretval_\u001b[0m \u001b[0;34m=\u001b[0m \u001b[0mag__\u001b[0m\u001b[0;34m.\u001b[0m\u001b[0mconverted_call\u001b[0m\u001b[0;34m(\u001b[0m\u001b[0mag__\u001b[0m\u001b[0;34m.\u001b[0m\u001b[0mld\u001b[0m\u001b[0;34m(\u001b[0m\u001b[0mstep_function\u001b[0m\u001b[0;34m)\u001b[0m\u001b[0;34m,\u001b[0m \u001b[0;34m(\u001b[0m\u001b[0mag__\u001b[0m\u001b[0;34m.\u001b[0m\u001b[0mld\u001b[0m\u001b[0;34m(\u001b[0m\u001b[0mself\u001b[0m\u001b[0;34m)\u001b[0m\u001b[0;34m,\u001b[0m \u001b[0mag__\u001b[0m\u001b[0;34m.\u001b[0m\u001b[0mld\u001b[0m\u001b[0;34m(\u001b[0m\u001b[0miterator\u001b[0m\u001b[0;34m)\u001b[0m\u001b[0;34m)\u001b[0m\u001b[0;34m,\u001b[0m \u001b[0;32mNone\u001b[0m\u001b[0;34m,\u001b[0m \u001b[0mfscope\u001b[0m\u001b[0;34m)\u001b[0m\u001b[0;34m\u001b[0m\u001b[0;34m\u001b[0m\u001b[0m\n\u001b[0m\u001b[1;32m     16\u001b[0m                 \u001b[0;32mexcept\u001b[0m\u001b[0;34m:\u001b[0m\u001b[0;34m\u001b[0m\u001b[0;34m\u001b[0m\u001b[0m\n\u001b[1;32m     17\u001b[0m                     \u001b[0mdo_return\u001b[0m \u001b[0;34m=\u001b[0m \u001b[0;32mFalse\u001b[0m\u001b[0;34m\u001b[0m\u001b[0;34m\u001b[0m\u001b[0m\n",
      "\u001b[0;31mValueError\u001b[0m: in user code:\n\n    File \"/shared-libs/python3.9/py/lib/python3.9/site-packages/keras/engine/training.py\", line 1051, in train_function  *\n        return step_function(self, iterator)\n    File \"/shared-libs/python3.9/py/lib/python3.9/site-packages/keras/engine/training.py\", line 1040, in step_function  **\n        outputs = model.distribute_strategy.run(run_step, args=(data,))\n    File \"/shared-libs/python3.9/py/lib/python3.9/site-packages/keras/engine/training.py\", line 1030, in run_step  **\n        outputs = model.train_step(data)\n    File \"/shared-libs/python3.9/py/lib/python3.9/site-packages/keras/engine/training.py\", line 890, in train_step\n        loss = self.compute_loss(x, y, y_pred, sample_weight)\n    File \"/shared-libs/python3.9/py/lib/python3.9/site-packages/keras/engine/training.py\", line 948, in compute_loss\n        return self.compiled_loss(\n    File \"/shared-libs/python3.9/py/lib/python3.9/site-packages/keras/engine/compile_utils.py\", line 201, in __call__\n        loss_value = loss_obj(y_t, y_p, sample_weight=sw)\n    File \"/shared-libs/python3.9/py/lib/python3.9/site-packages/keras/losses.py\", line 139, in __call__\n        losses = call_fn(y_true, y_pred)\n    File \"/shared-libs/python3.9/py/lib/python3.9/site-packages/keras/losses.py\", line 243, in call  **\n        return ag_fn(y_true, y_pred, **self._fn_kwargs)\n    File \"/shared-libs/python3.9/py/lib/python3.9/site-packages/keras/losses.py\", line 1787, in categorical_crossentropy\n        return backend.categorical_crossentropy(\n    File \"/shared-libs/python3.9/py/lib/python3.9/site-packages/keras/backend.py\", line 5119, in categorical_crossentropy\n        target.shape.assert_is_compatible_with(output.shape)\n\n    ValueError: Shapes (None, 10) and (None, 28, 10) are incompatible\n"
     ]
    }
   ]
  },
  {
   "cell_type": "markdown",
   "source": "Tu respuesta a la pregunta 6 aquí:",
   "metadata": {
    "id": "-aNmrkkOZN6D",
    "cell_id": "00030-5e5921da-11d1-45cb-bc77-2823f514e685",
    "deepnote_cell_type": "markdown",
    "deepnote_cell_height": 55
   }
  },
  {
   "cell_type": "markdown",
   "source": "# **Ejercicio 4: Número de neuronas de la capa de salida**\nConsiderad la capa final, la de salida de la red neuronal de la pregunta 1.\n\n**pregunta 7.1 (0.25 puntos)**: ¿Por qué son 10 las neuronas de la última capa?\n\n**pregunta 7.2 (0.25 puntos)**: ¿Qué pasaría si tuvieras una cantidad diferente a 10? \n\nPor ejemplo, intenta entrenar la red con 5, para ello utiliza la red neuronal de la pregunta 1 y cambia a 5 el número de neuronas en la última capa.",
   "metadata": {
    "id": "f37cIr81ZYJj",
    "cell_id": "00031-07fc7ea9-c335-4cdf-b7b7-6f26355391d2",
    "deepnote_cell_type": "markdown",
    "deepnote_cell_height": 317
   }
  },
  {
   "cell_type": "code",
   "metadata": {
    "id": "FhbZkppYZOCS",
    "cell_id": "00032-245bd5ec-626c-417b-84bf-d9b7089363f2",
    "deepnote_to_be_reexecuted": false,
    "source_hash": "a12e321d",
    "execution_start": 1656380245302,
    "execution_millis": 280,
    "deepnote_cell_type": "code",
    "deepnote_cell_height": 1157.765625
   },
   "source": "### Tu código de la red neuronal con 5 neuronas en la capa de salida de la pregunta 7 aquí ###\nnn = tf.keras.models.Sequential([\n     tf.keras.layers.Flatten(input_shape=[28,28]), # Según training_images.shape\n     tf.keras.layers.Dense(1024, activation=\"sigmoid\"),\n     tf.keras.layers.Dense(5, activation=\"softmax\") # número de clases np.unique(training_labels)\n])\nnn.compile(loss=\"categorical_crossentropy\", optimizer=\"adam\", metrics=[\"accuracy\"])\nnn.fit(training_images, training_labels, batch_size=64, epochs=10, validation_data=(test_images, test_labels))",
   "execution_count": 47,
   "outputs": [
    {
     "name": "stdout",
     "text": "Epoch 1/10\n",
     "output_type": "stream"
    },
    {
     "output_type": "error",
     "ename": "ValueError",
     "evalue": "in user code:\n\n    File \"/shared-libs/python3.9/py/lib/python3.9/site-packages/keras/engine/training.py\", line 1051, in train_function  *\n        return step_function(self, iterator)\n    File \"/shared-libs/python3.9/py/lib/python3.9/site-packages/keras/engine/training.py\", line 1040, in step_function  **\n        outputs = model.distribute_strategy.run(run_step, args=(data,))\n    File \"/shared-libs/python3.9/py/lib/python3.9/site-packages/keras/engine/training.py\", line 1030, in run_step  **\n        outputs = model.train_step(data)\n    File \"/shared-libs/python3.9/py/lib/python3.9/site-packages/keras/engine/training.py\", line 890, in train_step\n        loss = self.compute_loss(x, y, y_pred, sample_weight)\n    File \"/shared-libs/python3.9/py/lib/python3.9/site-packages/keras/engine/training.py\", line 948, in compute_loss\n        return self.compiled_loss(\n    File \"/shared-libs/python3.9/py/lib/python3.9/site-packages/keras/engine/compile_utils.py\", line 201, in __call__\n        loss_value = loss_obj(y_t, y_p, sample_weight=sw)\n    File \"/shared-libs/python3.9/py/lib/python3.9/site-packages/keras/losses.py\", line 139, in __call__\n        losses = call_fn(y_true, y_pred)\n    File \"/shared-libs/python3.9/py/lib/python3.9/site-packages/keras/losses.py\", line 243, in call  **\n        return ag_fn(y_true, y_pred, **self._fn_kwargs)\n    File \"/shared-libs/python3.9/py/lib/python3.9/site-packages/keras/losses.py\", line 1787, in categorical_crossentropy\n        return backend.categorical_crossentropy(\n    File \"/shared-libs/python3.9/py/lib/python3.9/site-packages/keras/backend.py\", line 5119, in categorical_crossentropy\n        target.shape.assert_is_compatible_with(output.shape)\n\n    ValueError: Shapes (None, 10) and (None, 5) are incompatible\n",
     "traceback": [
      "\u001b[0;31m---------------------------------------------------------------------------\u001b[0m",
      "\u001b[0;31mValueError\u001b[0m                                Traceback (most recent call last)",
      "\u001b[0;32m<ipython-input-47-35af905be199>\u001b[0m in \u001b[0;36m<cell line: 8>\u001b[0;34m()\u001b[0m\n\u001b[1;32m      6\u001b[0m ])\n\u001b[1;32m      7\u001b[0m \u001b[0mnn\u001b[0m\u001b[0;34m.\u001b[0m\u001b[0mcompile\u001b[0m\u001b[0;34m(\u001b[0m\u001b[0mloss\u001b[0m\u001b[0;34m=\u001b[0m\u001b[0;34m\"categorical_crossentropy\"\u001b[0m\u001b[0;34m,\u001b[0m \u001b[0moptimizer\u001b[0m\u001b[0;34m=\u001b[0m\u001b[0;34m\"adam\"\u001b[0m\u001b[0;34m,\u001b[0m \u001b[0mmetrics\u001b[0m\u001b[0;34m=\u001b[0m\u001b[0;34m[\u001b[0m\u001b[0;34m\"accuracy\"\u001b[0m\u001b[0;34m]\u001b[0m\u001b[0;34m)\u001b[0m\u001b[0;34m\u001b[0m\u001b[0;34m\u001b[0m\u001b[0m\n\u001b[0;32m----> 8\u001b[0;31m \u001b[0mnn\u001b[0m\u001b[0;34m.\u001b[0m\u001b[0mfit\u001b[0m\u001b[0;34m(\u001b[0m\u001b[0mtraining_images\u001b[0m\u001b[0;34m,\u001b[0m \u001b[0mtraining_labels\u001b[0m\u001b[0;34m,\u001b[0m \u001b[0mbatch_size\u001b[0m\u001b[0;34m=\u001b[0m\u001b[0;36m64\u001b[0m\u001b[0;34m,\u001b[0m \u001b[0mepochs\u001b[0m\u001b[0;34m=\u001b[0m\u001b[0;36m10\u001b[0m\u001b[0;34m,\u001b[0m \u001b[0mvalidation_data\u001b[0m\u001b[0;34m=\u001b[0m\u001b[0;34m(\u001b[0m\u001b[0mtest_images\u001b[0m\u001b[0;34m,\u001b[0m \u001b[0mtest_labels\u001b[0m\u001b[0;34m)\u001b[0m\u001b[0;34m)\u001b[0m\u001b[0;34m\u001b[0m\u001b[0;34m\u001b[0m\u001b[0m\n\u001b[0m",
      "\u001b[0;32m/shared-libs/python3.9/py/lib/python3.9/site-packages/keras/utils/traceback_utils.py\u001b[0m in \u001b[0;36merror_handler\u001b[0;34m(*args, **kwargs)\u001b[0m\n\u001b[1;32m     65\u001b[0m     \u001b[0;32mexcept\u001b[0m \u001b[0mException\u001b[0m \u001b[0;32mas\u001b[0m \u001b[0me\u001b[0m\u001b[0;34m:\u001b[0m  \u001b[0;31m# pylint: disable=broad-except\u001b[0m\u001b[0;34m\u001b[0m\u001b[0;34m\u001b[0m\u001b[0m\n\u001b[1;32m     66\u001b[0m       \u001b[0mfiltered_tb\u001b[0m \u001b[0;34m=\u001b[0m \u001b[0m_process_traceback_frames\u001b[0m\u001b[0;34m(\u001b[0m\u001b[0me\u001b[0m\u001b[0;34m.\u001b[0m\u001b[0m__traceback__\u001b[0m\u001b[0;34m)\u001b[0m\u001b[0;34m\u001b[0m\u001b[0;34m\u001b[0m\u001b[0m\n\u001b[0;32m---> 67\u001b[0;31m       \u001b[0;32mraise\u001b[0m \u001b[0me\u001b[0m\u001b[0;34m.\u001b[0m\u001b[0mwith_traceback\u001b[0m\u001b[0;34m(\u001b[0m\u001b[0mfiltered_tb\u001b[0m\u001b[0;34m)\u001b[0m \u001b[0;32mfrom\u001b[0m \u001b[0;32mNone\u001b[0m\u001b[0;34m\u001b[0m\u001b[0;34m\u001b[0m\u001b[0m\n\u001b[0m\u001b[1;32m     68\u001b[0m     \u001b[0;32mfinally\u001b[0m\u001b[0;34m:\u001b[0m\u001b[0;34m\u001b[0m\u001b[0;34m\u001b[0m\u001b[0m\n\u001b[1;32m     69\u001b[0m       \u001b[0;32mdel\u001b[0m \u001b[0mfiltered_tb\u001b[0m\u001b[0;34m\u001b[0m\u001b[0;34m\u001b[0m\u001b[0m\n",
      "\u001b[0;32m/shared-libs/python3.9/py/lib/python3.9/site-packages/keras/engine/training.py\u001b[0m in \u001b[0;36mtf__train_function\u001b[0;34m(iterator)\u001b[0m\n\u001b[1;32m     13\u001b[0m                 \u001b[0;32mtry\u001b[0m\u001b[0;34m:\u001b[0m\u001b[0;34m\u001b[0m\u001b[0;34m\u001b[0m\u001b[0m\n\u001b[1;32m     14\u001b[0m                     \u001b[0mdo_return\u001b[0m \u001b[0;34m=\u001b[0m \u001b[0;32mTrue\u001b[0m\u001b[0;34m\u001b[0m\u001b[0;34m\u001b[0m\u001b[0m\n\u001b[0;32m---> 15\u001b[0;31m                     \u001b[0mretval_\u001b[0m \u001b[0;34m=\u001b[0m \u001b[0mag__\u001b[0m\u001b[0;34m.\u001b[0m\u001b[0mconverted_call\u001b[0m\u001b[0;34m(\u001b[0m\u001b[0mag__\u001b[0m\u001b[0;34m.\u001b[0m\u001b[0mld\u001b[0m\u001b[0;34m(\u001b[0m\u001b[0mstep_function\u001b[0m\u001b[0;34m)\u001b[0m\u001b[0;34m,\u001b[0m \u001b[0;34m(\u001b[0m\u001b[0mag__\u001b[0m\u001b[0;34m.\u001b[0m\u001b[0mld\u001b[0m\u001b[0;34m(\u001b[0m\u001b[0mself\u001b[0m\u001b[0;34m)\u001b[0m\u001b[0;34m,\u001b[0m \u001b[0mag__\u001b[0m\u001b[0;34m.\u001b[0m\u001b[0mld\u001b[0m\u001b[0;34m(\u001b[0m\u001b[0miterator\u001b[0m\u001b[0;34m)\u001b[0m\u001b[0;34m)\u001b[0m\u001b[0;34m,\u001b[0m \u001b[0;32mNone\u001b[0m\u001b[0;34m,\u001b[0m \u001b[0mfscope\u001b[0m\u001b[0;34m)\u001b[0m\u001b[0;34m\u001b[0m\u001b[0;34m\u001b[0m\u001b[0m\n\u001b[0m\u001b[1;32m     16\u001b[0m                 \u001b[0;32mexcept\u001b[0m\u001b[0;34m:\u001b[0m\u001b[0;34m\u001b[0m\u001b[0;34m\u001b[0m\u001b[0m\n\u001b[1;32m     17\u001b[0m                     \u001b[0mdo_return\u001b[0m \u001b[0;34m=\u001b[0m \u001b[0;32mFalse\u001b[0m\u001b[0;34m\u001b[0m\u001b[0;34m\u001b[0m\u001b[0m\n",
      "\u001b[0;31mValueError\u001b[0m: in user code:\n\n    File \"/shared-libs/python3.9/py/lib/python3.9/site-packages/keras/engine/training.py\", line 1051, in train_function  *\n        return step_function(self, iterator)\n    File \"/shared-libs/python3.9/py/lib/python3.9/site-packages/keras/engine/training.py\", line 1040, in step_function  **\n        outputs = model.distribute_strategy.run(run_step, args=(data,))\n    File \"/shared-libs/python3.9/py/lib/python3.9/site-packages/keras/engine/training.py\", line 1030, in run_step  **\n        outputs = model.train_step(data)\n    File \"/shared-libs/python3.9/py/lib/python3.9/site-packages/keras/engine/training.py\", line 890, in train_step\n        loss = self.compute_loss(x, y, y_pred, sample_weight)\n    File \"/shared-libs/python3.9/py/lib/python3.9/site-packages/keras/engine/training.py\", line 948, in compute_loss\n        return self.compiled_loss(\n    File \"/shared-libs/python3.9/py/lib/python3.9/site-packages/keras/engine/compile_utils.py\", line 201, in __call__\n        loss_value = loss_obj(y_t, y_p, sample_weight=sw)\n    File \"/shared-libs/python3.9/py/lib/python3.9/site-packages/keras/losses.py\", line 139, in __call__\n        losses = call_fn(y_true, y_pred)\n    File \"/shared-libs/python3.9/py/lib/python3.9/site-packages/keras/losses.py\", line 243, in call  **\n        return ag_fn(y_true, y_pred, **self._fn_kwargs)\n    File \"/shared-libs/python3.9/py/lib/python3.9/site-packages/keras/losses.py\", line 1787, in categorical_crossentropy\n        return backend.categorical_crossentropy(\n    File \"/shared-libs/python3.9/py/lib/python3.9/site-packages/keras/backend.py\", line 5119, in categorical_crossentropy\n        target.shape.assert_is_compatible_with(output.shape)\n\n    ValueError: Shapes (None, 10) and (None, 5) are incompatible\n"
     ]
    }
   ]
  },
  {
   "cell_type": "markdown",
   "source": "Tu respuestas a la pregunta 7.1 aquí:",
   "metadata": {
    "id": "SLsQcq-6aUoD",
    "cell_id": "00033-254afbeb-4880-47f0-a956-2e5d2d903737",
    "deepnote_cell_type": "markdown",
    "deepnote_cell_height": 55
   }
  },
  {
   "cell_type": "markdown",
   "source": "Tu respuestas a la pregunta 7.2 aquí:",
   "metadata": {
    "id": "J1f_7ZFeaUu6",
    "cell_id": "00034-e04de6c4-8fd0-421c-9d76-16d8b3197da5",
    "deepnote_cell_type": "markdown",
    "deepnote_cell_height": 55
   }
  },
  {
   "cell_type": "markdown",
   "source": "# Ejercicio 5: Aumento de epoch y su efecto en la red neuronal\nEn este ejercicio vamos a ver el impacto de aumentar los epoch en el entrenamiento. Usando la red neuronal de la pregunta 1:\n\n**pregunta 8.1 (0.20 puntos)**\n* Intentad 15 epoch para su entrenamiento, probablemente obtendras un modelo con una pérdida mucho mejor que el que tiene 5.\n\n**pregunta 8.2 (0.20 puntos)**\n* Intenta ahora con 30 epoch para su entrenamiento, podrás ver que el valor de la pérdida deja de disminuir, y a veces aumenta.\n\n**pregunta 8.3 (0.60 puntos)**\n* ¿Porque que piensas que ocurre esto? Explica tu respuesta y da el nombre de este efecto si lo conoces.",
   "metadata": {
    "id": "HNIBCkshaf2y",
    "cell_id": "00035-549d72c4-9515-4ac1-b5ad-43fa3a1ab9f5",
    "deepnote_cell_type": "markdown",
    "deepnote_cell_height": 498
   }
  },
  {
   "cell_type": "code",
   "metadata": {
    "id": "Cb5vk_imG4iZ",
    "cell_id": "00036-931428e2-7076-4f19-960e-4bfd897cfd5c",
    "deepnote_to_be_reexecuted": false,
    "source_hash": "d365ccc",
    "execution_start": 1656380419026,
    "execution_millis": 102041,
    "deepnote_cell_type": "code",
    "deepnote_cell_height": 885,
    "deepnote_output_heights": [
     null,
     27
    ]
   },
   "source": "### Tu código para 15 epoch aquí ###\nnn = tf.keras.models.Sequential([\n     tf.keras.layers.Flatten(input_shape=[28,28]), # Según training_images.shape\n     tf.keras.layers.Dense(1024, activation=\"sigmoid\"),\n     tf.keras.layers.Dense(10, activation=\"softmax\") # número de clases np.unique(training_labels)\n])\nnn.compile(loss=\"categorical_crossentropy\", optimizer=\"adam\", metrics=[\"accuracy\"])\nnn.fit(training_images, training_labels, batch_size=64, epochs=15, validation_data=(test_images, test_labels))",
   "execution_count": 48,
   "outputs": [
    {
     "name": "stdout",
     "text": "Epoch 1/15\n938/938 [==============================] - 7s 7ms/step - loss: 0.5238 - accuracy: 0.8135 - val_loss: 0.4605 - val_accuracy: 0.8333\nEpoch 2/15\n938/938 [==============================] - 7s 7ms/step - loss: 0.4016 - accuracy: 0.8540 - val_loss: 0.4211 - val_accuracy: 0.8460\nEpoch 3/15\n938/938 [==============================] - 7s 7ms/step - loss: 0.3632 - accuracy: 0.8669 - val_loss: 0.4117 - val_accuracy: 0.8499\nEpoch 4/15\n938/938 [==============================] - 7s 7ms/step - loss: 0.3344 - accuracy: 0.8780 - val_loss: 0.3824 - val_accuracy: 0.8624\nEpoch 5/15\n938/938 [==============================] - 7s 7ms/step - loss: 0.3135 - accuracy: 0.8846 - val_loss: 0.3549 - val_accuracy: 0.8743\nEpoch 6/15\n938/938 [==============================] - 7s 7ms/step - loss: 0.2959 - accuracy: 0.8898 - val_loss: 0.3442 - val_accuracy: 0.8788\nEpoch 7/15\n938/938 [==============================] - 7s 7ms/step - loss: 0.2780 - accuracy: 0.8961 - val_loss: 0.3363 - val_accuracy: 0.8794\nEpoch 8/15\n938/938 [==============================] - 7s 7ms/step - loss: 0.2640 - accuracy: 0.9013 - val_loss: 0.3573 - val_accuracy: 0.8712\nEpoch 9/15\n938/938 [==============================] - 7s 7ms/step - loss: 0.2476 - accuracy: 0.9069 - val_loss: 0.3220 - val_accuracy: 0.8854\nEpoch 10/15\n938/938 [==============================] - 7s 7ms/step - loss: 0.2375 - accuracy: 0.9108 - val_loss: 0.3265 - val_accuracy: 0.8845\nEpoch 11/15\n938/938 [==============================] - 7s 7ms/step - loss: 0.2258 - accuracy: 0.9152 - val_loss: 0.3202 - val_accuracy: 0.8851\nEpoch 12/15\n938/938 [==============================] - 7s 7ms/step - loss: 0.2165 - accuracy: 0.9182 - val_loss: 0.3189 - val_accuracy: 0.8894\nEpoch 13/15\n938/938 [==============================] - 7s 7ms/step - loss: 0.2063 - accuracy: 0.9226 - val_loss: 0.3258 - val_accuracy: 0.8874\nEpoch 14/15\n938/938 [==============================] - 7s 7ms/step - loss: 0.1961 - accuracy: 0.9275 - val_loss: 0.3232 - val_accuracy: 0.8853\nEpoch 15/15\n938/938 [==============================] - 7s 7ms/step - loss: 0.1877 - accuracy: 0.9297 - val_loss: 0.3275 - val_accuracy: 0.8895\n",
     "output_type": "stream"
    },
    {
     "output_type": "execute_result",
     "execution_count": 48,
     "data": {
      "text/plain": "<keras.callbacks.History at 0x7fb7fa87e520>"
     },
     "metadata": {}
    }
   ]
  },
  {
   "cell_type": "code",
   "metadata": {
    "id": "I9jQ26Gda5cv",
    "cell_id": "00037-730dac1a-7f00-40ae-9447-eef46799e7e3",
    "deepnote_to_be_reexecuted": false,
    "source_hash": "d17a7bc6",
    "execution_start": 1656380531591,
    "execution_millis": 262526,
    "deepnote_cell_type": "code",
    "deepnote_cell_height": 885,
    "deepnote_output_heights": [
     null,
     27
    ]
   },
   "source": "### Tu código para 30 epoch aquí ###\nnn = tf.keras.models.Sequential([\n     tf.keras.layers.Flatten(input_shape=[28,28]), # Según training_images.shape\n     tf.keras.layers.Dense(1024, activation=\"sigmoid\"),\n     tf.keras.layers.Dense(10, activation=\"softmax\") # número de clases np.unique(training_labels)\n])\nnn.compile(loss=\"categorical_crossentropy\", optimizer=\"adam\", metrics=[\"accuracy\"])\nnn.fit(training_images, training_labels, batch_size=64, epochs=30, validation_data=(test_images, test_labels))",
   "execution_count": 49,
   "outputs": [
    {
     "name": "stdout",
     "text": "Epoch 1/30\n938/938 [==============================] - 7s 7ms/step - loss: 0.5246 - accuracy: 0.8129 - val_loss: 0.4642 - val_accuracy: 0.8288\nEpoch 2/30\n938/938 [==============================] - 7s 7ms/step - loss: 0.4019 - accuracy: 0.8549 - val_loss: 0.4047 - val_accuracy: 0.8585\nEpoch 3/30\n938/938 [==============================] - 9s 10ms/step - loss: 0.3656 - accuracy: 0.8662 - val_loss: 0.4086 - val_accuracy: 0.8514\nEpoch 4/30\n938/938 [==============================] - 11s 12ms/step - loss: 0.3369 - accuracy: 0.8775 - val_loss: 0.3662 - val_accuracy: 0.8689\nEpoch 5/30\n938/938 [==============================] - 12s 13ms/step - loss: 0.3140 - accuracy: 0.8842 - val_loss: 0.3541 - val_accuracy: 0.8745\nEpoch 6/30\n938/938 [==============================] - 8s 9ms/step - loss: 0.2953 - accuracy: 0.8899 - val_loss: 0.3716 - val_accuracy: 0.8653\nEpoch 7/30\n938/938 [==============================] - 7s 7ms/step - loss: 0.2783 - accuracy: 0.8960 - val_loss: 0.3664 - val_accuracy: 0.8686\nEpoch 8/30\n938/938 [==============================] - 7s 7ms/step - loss: 0.2637 - accuracy: 0.9021 - val_loss: 0.3485 - val_accuracy: 0.8734\nEpoch 9/30\n938/938 [==============================] - 7s 7ms/step - loss: 0.2506 - accuracy: 0.9056 - val_loss: 0.3323 - val_accuracy: 0.8822\nEpoch 10/30\n938/938 [==============================] - 7s 7ms/step - loss: 0.2394 - accuracy: 0.9104 - val_loss: 0.3448 - val_accuracy: 0.8768\nEpoch 11/30\n938/938 [==============================] - 7s 7ms/step - loss: 0.2271 - accuracy: 0.9147 - val_loss: 0.3245 - val_accuracy: 0.8859\nEpoch 12/30\n938/938 [==============================] - 7s 7ms/step - loss: 0.2154 - accuracy: 0.9191 - val_loss: 0.3244 - val_accuracy: 0.8856\nEpoch 13/30\n938/938 [==============================] - 7s 7ms/step - loss: 0.2053 - accuracy: 0.9227 - val_loss: 0.3127 - val_accuracy: 0.8902\nEpoch 14/30\n938/938 [==============================] - 7s 7ms/step - loss: 0.1968 - accuracy: 0.9257 - val_loss: 0.3283 - val_accuracy: 0.8875\nEpoch 15/30\n938/938 [==============================] - 8s 8ms/step - loss: 0.1872 - accuracy: 0.9293 - val_loss: 0.3071 - val_accuracy: 0.8936\nEpoch 16/30\n938/938 [==============================] - 11s 11ms/step - loss: 0.1816 - accuracy: 0.9310 - val_loss: 0.3234 - val_accuracy: 0.8901\nEpoch 17/30\n938/938 [==============================] - 11s 12ms/step - loss: 0.1698 - accuracy: 0.9362 - val_loss: 0.3250 - val_accuracy: 0.8882\nEpoch 18/30\n938/938 [==============================] - 11s 11ms/step - loss: 0.1643 - accuracy: 0.9380 - val_loss: 0.3183 - val_accuracy: 0.8936\nEpoch 19/30\n938/938 [==============================] - 11s 12ms/step - loss: 0.1575 - accuracy: 0.9404 - val_loss: 0.3289 - val_accuracy: 0.8917\nEpoch 20/30\n938/938 [==============================] - 11s 12ms/step - loss: 0.1483 - accuracy: 0.9445 - val_loss: 0.3361 - val_accuracy: 0.8922\nEpoch 21/30\n938/938 [==============================] - 12s 12ms/step - loss: 0.1442 - accuracy: 0.9450 - val_loss: 0.3440 - val_accuracy: 0.8885\nEpoch 22/30\n938/938 [==============================] - 8s 8ms/step - loss: 0.1355 - accuracy: 0.9499 - val_loss: 0.3430 - val_accuracy: 0.8884\nEpoch 23/30\n938/938 [==============================] - 7s 7ms/step - loss: 0.1321 - accuracy: 0.9507 - val_loss: 0.3465 - val_accuracy: 0.8910\nEpoch 24/30\n938/938 [==============================] - 7s 7ms/step - loss: 0.1250 - accuracy: 0.9541 - val_loss: 0.3591 - val_accuracy: 0.8924\nEpoch 25/30\n938/938 [==============================] - 7s 7ms/step - loss: 0.1210 - accuracy: 0.9536 - val_loss: 0.3533 - val_accuracy: 0.8913\nEpoch 26/30\n938/938 [==============================] - 7s 7ms/step - loss: 0.1162 - accuracy: 0.9571 - val_loss: 0.3707 - val_accuracy: 0.8887\nEpoch 27/30\n938/938 [==============================] - 7s 7ms/step - loss: 0.1104 - accuracy: 0.9585 - val_loss: 0.3717 - val_accuracy: 0.8903\nEpoch 28/30\n938/938 [==============================] - 7s 8ms/step - loss: 0.1073 - accuracy: 0.9604 - val_loss: 0.3658 - val_accuracy: 0.8961\nEpoch 29/30\n938/938 [==============================] - 7s 7ms/step - loss: 0.1028 - accuracy: 0.9612 - val_loss: 0.3563 - val_accuracy: 0.8978\nEpoch 30/30\n938/938 [==============================] - 7s 7ms/step - loss: 0.0975 - accuracy: 0.9640 - val_loss: 0.3686 - val_accuracy: 0.8942\n",
     "output_type": "stream"
    },
    {
     "output_type": "execute_result",
     "execution_count": 49,
     "data": {
      "text/plain": "<keras.callbacks.History at 0x7fb7fa79a0d0>"
     },
     "metadata": {}
    }
   ]
  },
  {
   "cell_type": "markdown",
   "source": "Tu respuesta a la pregunta 8.3 aquí:",
   "metadata": {
    "id": "Fs0fjzH4bmSR",
    "cell_id": "00038-cd5f74ea-5496-47ae-be3c-7ee80a9a328e",
    "deepnote_cell_type": "markdown",
    "deepnote_cell_height": 55
   }
  },
  {
   "cell_type": "markdown",
   "source": "# Ejercicio 6: Early stop\nEn el ejercicio anterior, cuando entrenabas con epoch extras, tenías un problema en el que tu pérdida podía cambiar. Puede que te haya llevado un poco de tiempo esperar a que el entrenamiento lo hiciera,  y puede que hayas pensado \"¿no estaría bien si pudiera parar el entrenamiento cuando alcance un valor deseado?\", es decir, una precisión del 85% podría ser suficiente para ti, y si alcanzas eso después de 3 epoch, ¿por qué sentarte a esperar a que termine muchas más épocas? Como cualquier otro programa existen formas de parar la ejecución\n\nA partir del ejemplo de código que se da, hacer una nueva función que tenga en cuenta la perdida (loss) y que pueda parar el código para evitar que ocurra el efeto secundario que vimos en el ejercicio 5.",
   "metadata": {
    "id": "HlIgNG4Yb_N6",
    "cell_id": "00039-6f1c6c39-8b56-495b-b50e-51056f6931a7",
    "deepnote_cell_type": "markdown",
    "deepnote_cell_height": 287
   }
  },
  {
   "cell_type": "code",
   "metadata": {
    "id": "b5UwceFUG4ic",
    "cell_id": "00040-e0714efc-00c7-4c14-9eb1-2c407371e5eb",
    "deepnote_to_be_reexecuted": false,
    "source_hash": "b9ab19d5",
    "execution_start": 1656380794115,
    "execution_millis": 0,
    "deepnote_cell_type": "code",
    "deepnote_cell_height": 189
   },
   "source": "### Ejemplo de código\n\nclass myCallback(tf.keras.callbacks.Callback):\n      def on_epoch_end(self, epoch, logs={}):\n        if(logs.get('accuracy')> 0.85):\n              print(\"\\nAlcanzado el 85% de precisión, se cancela el entrenamiento!!\")\n              self.model.stop_training = True",
   "execution_count": 50,
   "outputs": []
  },
  {
   "cell_type": "markdown",
   "source": "**Pregunta 9 (2 puntos)**: Completa el siguiente código con una clase callback que una vez alcanzado el 40% de perdida detenga el entrenamiento.",
   "metadata": {
    "id": "0Bjd8wGKccrn",
    "cell_id": "00041-ffc251c6-192d-4949-b985-904cb4a88b32",
    "deepnote_cell_type": "markdown",
    "deepnote_cell_height": 80
   }
  },
  {
   "cell_type": "code",
   "metadata": {
    "id": "29LSfdOvc270",
    "cell_id": "00042-40232d7d-2db7-42e4-ba08-11bd816a505f",
    "deepnote_to_be_reexecuted": false,
    "source_hash": "5aaff402",
    "owner_user_id": "41b68b99-1317-46a8-8d9f-507b7d8fe1ab",
    "execution_start": 1656381132970,
    "execution_millis": 7081,
    "deepnote_cell_type": "code",
    "deepnote_cell_height": 626
   },
   "source": "import tensorflow as tf\nprint(tf.__version__)\n\n### Tu código de la función callback para parar el entrenamiento de la red neuronal al 40% de loss aqui: ###\nclass myCallback(tf.keras.callbacks.Callback):\n    def on_epoch_end(self, epoch, logs={}):\n        if(logs.get('loss')>0.4):\n            print(\"\\nPérdida del 40%. Fin del entrenamiento.\")\n            self.model.stop_training = True\n\ncallbacks = myCallback()\nmnist = tf.keras.datasets.fashion_mnist\n(training_images, training_labels) ,  (test_images, test_labels) = mnist.load_data()\n\ntraining_images = training_images/255.0\ntest_images = test_images/255.0\n\nmodel = tf.keras.models.Sequential([tf.keras.layers.Flatten(),\n                                    tf.keras.layers.Dense(512, activation=tf.nn.relu),\n                                    tf.keras.layers.Dense(10, activation=tf.nn.softmax)])\n\nmodel.compile(optimizer = 'adam',\n              loss = 'sparse_categorical_crossentropy',\n              metrics=['accuracy']) \n\nmodel.fit(training_images, training_labels, epochs=50, callbacks=[callbacks])",
   "execution_count": 51,
   "outputs": [
    {
     "name": "stdout",
     "text": "2.9.1\nEpoch 1/50\n1865/1875 [============================>.] - ETA: 0s - loss: 0.4731 - accuracy: 0.8301\nPérdida del 40%. Fin del entrenamiento.\n1875/1875 [==============================] - 6s 3ms/step - loss: 0.4728 - accuracy: 0.8302\n",
     "output_type": "stream"
    },
    {
     "output_type": "execute_result",
     "execution_count": 51,
     "data": {
      "text/plain": "<keras.callbacks.History at 0x7fb7ffb52ee0>"
     },
     "metadata": {}
    }
   ]
  },
  {
   "cell_type": "markdown",
   "source": "<a style='text-decoration:none;line-height:16px;display:flex;color:#5B5B62;padding:10px;justify-content:end;' href='https://deepnote.com?utm_source=created-in-deepnote-cell&projectId=02dbd28d-1aa5-4382-b37e-2cb978469c9c' target=\"_blank\">\n<img alt='Created in deepnote.com' style='display:inline;max-height:16px;margin:0px;margin-right:7.5px;' src='data:image/svg+xml;base64,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' > </img>\nCreated in <span style='font-weight:600;margin-left:4px;'>Deepnote</span></a>",
   "metadata": {
    "tags": [],
    "created_in_deepnote_cell": true,
    "deepnote_cell_type": "markdown"
   }
  }
 ],
 "nbformat": 4,
 "nbformat_minor": 5,
 "metadata": {
  "kernelspec": {
   "display_name": "Python 3",
   "language": "python",
   "name": "python3"
  },
  "deepnote_notebook_id": "42e97da4-8251-47b7-9753-7dbd34eba9e4",
  "deepnote": {},
  "deepnote_execution_queue": []
 }
}