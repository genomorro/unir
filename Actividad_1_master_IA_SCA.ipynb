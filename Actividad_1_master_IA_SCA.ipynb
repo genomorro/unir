{
 "cells": [
  {
   "cell_type": "markdown",
   "source": "# Actividad 1: Conceptos generales de redes neuronales\nEn esta actividad vamos a revisar algunos de los conceptos basicos de las redes neuronales, pero no por ello menos importantes.\n\nEl dataset a utilizar es Fashion MNIST, un problema sencillo con imágenes pequeñas de ropa, pero más interesante que el dataset de MNIST. Puedes consultar más información sobre el dataset en este enlace.\n\nEl código utilizado para contestar tiene que quedar claramente reflejado en el Notebook. Puedes crear nuevas cells si así lo deseas para estructurar tu código y sus salidas. A la hora de entregar el notebook, asegúrate de que los resultados de ejecutar tu código han quedado guardados (por ejemplo, a la hora de entrenar una red neuronal tiene que verse claramente un log de los resultados de cada epoch).",
   "metadata": {
    "cell_id": "cc216d10-f0cb-4c69-8cf6-04cfb04b9f93",
    "id": "4VFT5_VnJl19",
    "deepnote_cell_type": "markdown",
    "deepnote_cell_height": 378
   }
  },
  {
   "cell_type": "code",
   "metadata": {
    "cell_id": "00001-e1cd1d48-596f-425f-a347-ef3565e25454",
    "colab": {
     "base_uri": "https://localhost:8080/",
     "height": 34
    },
    "deepnote_to_be_reexecuted": false,
    "execution_millis": 4033,
    "execution_start": 1656398874987,
    "id": "VU8gdrsVG4h0",
    "outputId": "97ce2b9c-047a-4c25-c030-77a6a63b61e1",
    "source_hash": "b91dbd17",
    "deepnote_cell_type": "code",
    "deepnote_cell_height": 171
   },
   "source": "import tensorflow as tf\nprint(tf.__version__)",
   "execution_count": 1,
   "outputs": [
    {
     "name": "stdout",
     "text": "2.9.1\n",
     "output_type": "stream"
    }
   ]
  },
  {
   "cell_type": "markdown",
   "source": "En primer lugar vamos a importar el dataset Fashion MNIST (recordad que este es uno de los dataset de entranamiento que estan guardados en keras) que es el que vamos a utilizar en esta actividad:",
   "metadata": {
    "cell_id": "00002-710a6cf3-f885-4136-a149-ad8846b3f1aa",
    "id": "zScMKU2OKSPD",
    "deepnote_cell_type": "markdown",
    "deepnote_cell_height": 80
   }
  },
  {
   "cell_type": "code",
   "metadata": {
    "cell_id": "00003-517c400d-0e4a-41ff-807c-047345f4badc",
    "deepnote_to_be_reexecuted": false,
    "execution_millis": 3,
    "execution_start": 1656398879023,
    "id": "4voG2hxxG4h3",
    "source_hash": "71d2622e",
    "deepnote_cell_type": "code",
    "deepnote_cell_height": 81
   },
   "source": "mnist = tf.keras.datasets.fashion_mnist",
   "execution_count": 2,
   "outputs": []
  },
  {
   "cell_type": "markdown",
   "source": "Llamar a **load_data** en este dataset nos dará dos conjuntos de dos listas, estos serán los valores de entrenamiento y prueba para los gráficos que contienen las prendas de vestir y sus etiquetas.\n\nNota: Aunque en esta actividad lo veis de esta forma, también lo vais a poder encontrar como 4 variables de esta forma: training_images, training_labels, test_images, test_labels = mnist.load_data()",
   "metadata": {
    "cell_id": "00004-9c16fda0-e127-409f-9a40-4c6e7a5b0e89",
    "id": "JphLsCvgKrzb",
    "deepnote_cell_type": "markdown",
    "deepnote_cell_height": 144
   }
  },
  {
   "cell_type": "code",
   "metadata": {
    "cell_id": "00005-7a57d9d7-e8af-4a18-a687-f21d06ef1f3f",
    "deepnote_to_be_reexecuted": false,
    "execution_millis": 438,
    "execution_start": 1656398879032,
    "id": "1muD4PHEG4h6",
    "source_hash": "799c24df",
    "deepnote_cell_type": "code",
    "deepnote_cell_height": 81
   },
   "source": "(training_images, training_labels), (test_images, test_labels) = mnist.load_data()",
   "execution_count": 3,
   "outputs": []
  },
  {
   "cell_type": "markdown",
   "source": "Antes de continuar vamos a dar un vistazo a nuestro dataset, para ello vamos a ver una imagen de entrenamiento y su etiqueta o clase.",
   "metadata": {
    "cell_id": "00006-c30e11d1-f482-4c3e-be54-5d504c6e1a09",
    "id": "ZWGpJqVVLT3Y",
    "deepnote_cell_type": "markdown",
    "deepnote_cell_height": 80
   }
  },
  {
   "cell_type": "code",
   "metadata": {
    "cell_id": "00007-1c67173f-ba42-4a5b-a7b0-947585688317",
    "deepnote_to_be_reexecuted": false,
    "execution_millis": 965,
    "execution_start": 1656398879477,
    "id": "t5a5PlswG4h8",
    "source_hash": "70acd57a",
    "deepnote_cell_type": "code",
    "deepnote_cell_height": 1090,
    "deepnote_output_heights": [
     null,
     250
    ]
   },
   "source": "import numpy as np\nnp.set_printoptions(linewidth=200)\nimport matplotlib.pyplot as plt\nplt.imshow(training_images[0], cmap=\"gray\") # recordad que siempre es preferible trabajar en blanco y negro\n#\nprint(training_labels[0])\nprint(training_images[0])",
   "execution_count": 4,
   "outputs": [
    {
     "name": "stdout",
     "text": "9\n[[  0   0   0   0   0   0   0   0   0   0   0   0   0   0   0   0   0   0   0   0   0   0   0   0   0   0   0   0]\n [  0   0   0   0   0   0   0   0   0   0   0   0   0   0   0   0   0   0   0   0   0   0   0   0   0   0   0   0]\n [  0   0   0   0   0   0   0   0   0   0   0   0   0   0   0   0   0   0   0   0   0   0   0   0   0   0   0   0]\n [  0   0   0   0   0   0   0   0   0   0   0   0   1   0   0  13  73   0   0   1   4   0   0   0   0   1   1   0]\n [  0   0   0   0   0   0   0   0   0   0   0   0   3   0  36 136 127  62  54   0   0   0   1   3   4   0   0   3]\n [  0   0   0   0   0   0   0   0   0   0   0   0   6   0 102 204 176 134 144 123  23   0   0   0   0  12  10   0]\n [  0   0   0   0   0   0   0   0   0   0   0   0   0   0 155 236 207 178 107 156 161 109  64  23  77 130  72  15]\n [  0   0   0   0   0   0   0   0   0   0   0   1   0  69 207 223 218 216 216 163 127 121 122 146 141  88 172  66]\n [  0   0   0   0   0   0   0   0   0   1   1   1   0 200 232 232 233 229 223 223 215 213 164 127 123 196 229   0]\n [  0   0   0   0   0   0   0   0   0   0   0   0   0 183 225 216 223 228 235 227 224 222 224 221 223 245 173   0]\n [  0   0   0   0   0   0   0   0   0   0   0   0   0 193 228 218 213 198 180 212 210 211 213 223 220 243 202   0]\n [  0   0   0   0   0   0   0   0   0   1   3   0  12 219 220 212 218 192 169 227 208 218 224 212 226 197 209  52]\n [  0   0   0   0   0   0   0   0   0   0   6   0  99 244 222 220 218 203 198 221 215 213 222 220 245 119 167  56]\n [  0   0   0   0   0   0   0   0   0   4   0   0  55 236 228 230 228 240 232 213 218 223 234 217 217 209  92   0]\n [  0   0   1   4   6   7   2   0   0   0   0   0 237 226 217 223 222 219 222 221 216 223 229 215 218 255  77   0]\n [  0   3   0   0   0   0   0   0   0  62 145 204 228 207 213 221 218 208 211 218 224 223 219 215 224 244 159   0]\n [  0   0   0   0  18  44  82 107 189 228 220 222 217 226 200 205 211 230 224 234 176 188 250 248 233 238 215   0]\n [  0  57 187 208 224 221 224 208 204 214 208 209 200 159 245 193 206 223 255 255 221 234 221 211 220 232 246   0]\n [  3 202 228 224 221 211 211 214 205 205 205 220 240  80 150 255 229 221 188 154 191 210 204 209 222 228 225   0]\n [ 98 233 198 210 222 229 229 234 249 220 194 215 217 241  65  73 106 117 168 219 221 215 217 223 223 224 229  29]\n [ 75 204 212 204 193 205 211 225 216 185 197 206 198 213 240 195 227 245 239 223 218 212 209 222 220 221 230  67]\n [ 48 203 183 194 213 197 185 190 194 192 202 214 219 221 220 236 225 216 199 206 186 181 177 172 181 205 206 115]\n [  0 122 219 193 179 171 183 196 204 210 213 207 211 210 200 196 194 191 195 191 198 192 176 156 167 177 210  92]\n [  0   0  74 189 212 191 175 172 175 181 185 188 189 188 193 198 204 209 210 210 211 188 188 194 192 216 170   0]\n [  2   0   0   0  66 200 222 237 239 242 246 243 244 221 220 193 191 179 182 182 181 176 166 168  99  58   0   0]\n [  0   0   0   0   0   0   0  40  61  44  72  41  35   0   0   0   0   0   0   0   0   0   0   0   0   0   0   0]\n [  0   0   0   0   0   0   0   0   0   0   0   0   0   0   0   0   0   0   0   0   0   0   0   0   0   0   0   0]\n [  0   0   0   0   0   0   0   0   0   0   0   0   0   0   0   0   0   0   0   0   0   0   0   0   0   0   0   0]]\n",
     "output_type": "stream"
    },
    {
     "data": {
      "text/plain": "<Figure size 432x288 with 1 Axes>",
      "image/png": "[encoded data removed]"
     },
     "metadata": {
      "needs_background": "light",
      "image/png": {
       "width": 251,
       "height": 248
      }
     },
     "output_type": "display_data"
    }
   ]
  },
  {
   "cell_type": "markdown",
   "source": "Habreis notado que todos los valores numericos están entre 0 y 255. Si estamos entrenando una red neuronal, una buena practica es transformar todos los valores entre 0 y 1, un proceso llamado \"normalización\" y afortunadamente en Python es fácil normalizar una lista. Lo puedes hacer de esta manera:",
   "metadata": {
    "cell_id": "00008-2fd2dfdd-9a80-48b0-9f4c-fd75104242f8",
    "id": "WCJvZx3MLucY",
    "deepnote_cell_type": "markdown",
    "deepnote_cell_height": 105
   }
  },
  {
   "cell_type": "markdown",
   "source": "",
   "metadata": {
    "cell_id": "00009-f226d013-418e-416a-abf1-35d1b91f8a0a",
    "id": "OLpAvdVcRlyx",
    "deepnote_cell_type": "markdown",
    "deepnote_cell_height": 46
   }
  },
  {
   "cell_type": "code",
   "metadata": {
    "cell_id": "00010-477ddebd-7641-4990-8670-187f739c2029",
    "deepnote_to_be_reexecuted": false,
    "execution_millis": 174,
    "execution_start": 1656398880446,
    "id": "tojL1BmjG4h_",
    "lines_to_next_cell": 2,
    "source_hash": "7609eab4",
    "deepnote_cell_type": "code",
    "deepnote_cell_height": 99
   },
   "source": "training_images  = training_images / 255.0\ntest_images = test_images / 255.0",
   "execution_count": 5,
   "outputs": []
  },
  {
   "cell_type": "markdown",
   "source": " Se agrega preprocesamiento sobre las etiquetas, será útil para hacer legible la clasificación hecha con la red neuronal.",
   "metadata": {
    "cell_id": "5085aad4506b45ea9c65cc8600c4ad08",
    "tags": [],
    "deepnote_to_be_reexecuted": false,
    "source_hash": "861094f6",
    "execution_start": 1656395875146,
    "execution_millis": 1,
    "deepnote_cell_type": "markdown",
    "deepnote_cell_height": 80
   },
   "outputs": [],
   "execution_count": 6
  },
  {
   "cell_type": "code",
   "source": "# Es necesario preprocesar las etiquetas de salida para que sean reconocidas como categorías\ntraining_labels = tf.keras.utils.to_categorical(training_labels, 10)\ntest_labels = tf.keras.utils.to_categorical(test_labels, 10)\n# Esta lista servirá para poner nombres a las categorias\nlabel_names = ['Playera', 'Pantalón', 'Suéter', 'Vestido', 'Chamarra',\n                'Zapatillas', 'Camisa', 'tenis', 'Bolsa', 'Botas']\n                                                                ",
   "metadata": {
    "cell_id": "fa2e35067e344bf9b86b9a94a911afd5",
    "tags": [],
    "deepnote_to_be_reexecuted": false,
    "source_hash": "bc8cff36",
    "execution_start": 1656398880625,
    "execution_millis": 5,
    "deepnote_cell_type": "code",
    "deepnote_cell_height": 189
   },
   "outputs": [],
   "execution_count": 6
  },
  {
   "cell_type": "markdown",
   "source": "Ahora vamos a definir el modelo, pero antes vamos a repasar algunos comandos y conceptos muy utiles:\n* **Sequential**: Eso define una SECUENCIA de capas en la red neuronal\n* **Dense**: Añade una capa de neuronas\n* **Flatten**: ¿Recuerdas que las imágenes cómo eran las imagenes cuando las imprimiste para poder verlas? Un cuadrado, Flatten sólo toma ese cuadrado y lo convierte en un vector de una dimensión.\n\nCada capa de neuronas necesita una función de activación. Normalmente se usa la función relu en las capas intermedias y softmax en la ultima capa\n* **Relu** significa que \"Si X>0 devuelve X, si no, devuelve 0\", así que lo que hace es pasar sólo valores 0 o mayores a la siguiente capa de la red.\n* **Softmax** toma un conjunto de valores, y escoge el más grande.",
   "metadata": {
    "cell_id": "00011-2e487eb8-d511-441f-a33b-12b424072f17",
    "id": "yYUWWsszMAKt",
    "deepnote_cell_type": "markdown",
    "deepnote_cell_height": 345
   }
  },
  {
   "cell_type": "markdown",
   "source": " **Pregunta 1 (3.5 puntos)**. Utilizando Keras, y preparando los datos de X e y como fuera necesario, define y entrena una red neuronal que sea capaz de clasificar imágenes de Fashion MNIST con las siguientes características:\n\n* Una hidden layer de tamaños 128, utilizando unidades sigmoid\nOptimizador Adam.\n* Durante el entrenamiento, la red tiene que mostrar resultados de loss y accuracy por cada epoch.\n* La red debe entrenar durante 10 epochs y batch size de 64.\n* La última capa debe de ser una capa softmax.\n* Tu red tendría que ser capaz de superar fácilmente 80% de accuracy.",
   "metadata": {
    "cell_id": "00012-a65b5097-c3c9-48b1-bd2a-a4d0a3eb129d",
    "id": "QgBW1yE2MwPp",
    "deepnote_cell_type": "markdown",
    "deepnote_cell_height": 320
   }
  },
  {
   "cell_type": "code",
   "metadata": {
    "cell_id": "00013-5a03fd28-b1cd-405c-bf7b-d19062449254",
    "deepnote_to_be_reexecuted": false,
    "execution_millis": 41773,
    "execution_start": 1656398880633,
    "id": "aTaD2QXIORwu",
    "lines_to_next_cell": 2,
    "source_hash": "c57d27df",
    "deepnote_cell_type": "code",
    "deepnote_cell_height": 840,
    "deepnote_output_heights": [
     null,
     27
    ]
   },
   "source": "### Tu código para la red neuronal de la pregunta 1 aquí ###\nnn = tf.keras.models.Sequential([\n      tf.keras.layers.Flatten(input_shape=[28,28]), # Según training_images.shape\n      tf.keras.layers.Dense(128, activation=\"sigmoid\"),\n      tf.keras.layers.Dense(10, activation=\"softmax\") # número de clases np.unique(training_labels)\n])\nnn.compile(loss=\"categorical_crossentropy\", optimizer=\"adam\", metrics=[\"accuracy\"])\nnn.fit(training_images, training_labels, batch_size=64, epochs=10, validation_data=(test_images, test_labels))",
   "execution_count": 7,
   "outputs": [
    {
     "name": "stdout",
     "text": "Epoch 1/10\n938/938 [==============================] - 4s 3ms/step - loss: 0.5885 - accuracy: 0.8033 - val_loss: 0.4718 - val_accuracy: 0.8301\nEpoch 2/10\n938/938 [==============================] - 3s 3ms/step - loss: 0.4112 - accuracy: 0.8537 - val_loss: 0.4254 - val_accuracy: 0.8458\nEpoch 3/10\n938/938 [==============================] - 3s 3ms/step - loss: 0.3724 - accuracy: 0.8660 - val_loss: 0.4011 - val_accuracy: 0.8538\nEpoch 4/10\n938/938 [==============================] - 3s 3ms/step - loss: 0.3498 - accuracy: 0.8741 - val_loss: 0.3816 - val_accuracy: 0.8634\nEpoch 5/10\n938/938 [==============================] - 3s 3ms/step - loss: 0.3322 - accuracy: 0.8791 - val_loss: 0.3688 - val_accuracy: 0.8683\nEpoch 6/10\n938/938 [==============================] - 3s 3ms/step - loss: 0.3151 - accuracy: 0.8859 - val_loss: 0.3602 - val_accuracy: 0.8695\nEpoch 7/10\n938/938 [==============================] - 3s 3ms/step - loss: 0.3040 - accuracy: 0.8894 - val_loss: 0.3576 - val_accuracy: 0.8713\nEpoch 8/10\n938/938 [==============================] - 3s 3ms/step - loss: 0.2920 - accuracy: 0.8935 - val_loss: 0.3503 - val_accuracy: 0.8735\nEpoch 9/10\n938/938 [==============================] - 3s 3ms/step - loss: 0.2826 - accuracy: 0.8971 - val_loss: 0.3675 - val_accuracy: 0.8670\nEpoch 10/10\n938/938 [==============================] - 3s 3ms/step - loss: 0.2733 - accuracy: 0.9007 - val_loss: 0.3328 - val_accuracy: 0.8796\n",
     "output_type": "stream"
    },
    {
     "output_type": "execute_result",
     "execution_count": 7,
     "data": {
      "text/plain": "<keras.callbacks.History at 0x7f3eeec545e0>"
     },
     "metadata": {}
    }
   ]
  },
  {
   "cell_type": "markdown",
   "source": "Para concluir el entrenamiento de la red neuronal, una buena practica es evaluar el modelo para ver si la precisión de entrenamiento es real\n\n**pregunta 2 (0.5 puntos)**: evalua el modelo con las imagenes y etiquetas test.",
   "metadata": {
    "cell_id": "00014-17fc699a-a8e6-4488-8186-3e00109f7164",
    "id": "Bxr5hTKYOQnK",
    "deepnote_cell_type": "markdown",
    "deepnote_cell_height": 119
   }
  },
  {
   "cell_type": "code",
   "metadata": {
    "cell_id": "00015-9f1e67d2-c0ac-4abc-a6ce-e7781b603e31",
    "deepnote_to_be_reexecuted": false,
    "execution_millis": 704,
    "execution_start": 1656398922412,
    "id": "VNjQEtUUG4iI",
    "lines_to_next_cell": 1,
    "source_hash": "a7f6725b",
    "deepnote_cell_type": "code",
    "deepnote_cell_height": 202
   },
   "source": "### Tu código para la evaluación de la red neuronal de la pregunta 2 aquí ###\nscore = nn.evaluate(test_images, test_labels, verbose=0)\nprint(\"Loss:\", score[0])\nprint(\"Accuracy:\", score[1])",
   "execution_count": 8,
   "outputs": [
    {
     "name": "stdout",
     "text": "Loss: 0.33283138275146484\nAccuracy: 0.8795999884605408\n",
     "output_type": "stream"
    }
   ]
  },
  {
   "cell_type": "markdown",
   "source": "Ahora vamos a explorar el código con una serie de ejercicios para alcanzar un grado de comprensión mayor sobre las redes neuronales y su entrenamiento.\n\n# **Ejercicio 1: Funcionamiento de las predicción de la red neuronal**\n\nPara este primer ejercicio sigue los siguientes pasos: \n\n* Crea una variable llamada **classifications** para construir un clasificador para las imágenes de prueba, para ello puedes utilizar la función predict sobre el conjunto de test\n* Imprime con la función print la primera entrada en las clasificaciones. \n\n**pregunta 3.1 (0.25 puntos)**, el resultado al imprimirlo es un vector de números, \n* ¿Por qué crees que ocurre esto, y qué representa este vector de números?\n\n**pregunta 3.2 (0.25 puntos)**\n* ¿Cúal es la clase de la primera entrada#  de la variable **classifications**? La respuesta puede ser un número o su etiqueta/clase equivalente.",
   "metadata": {
    "cell_id": "00016-23ca49dd-89ac-4073-ae55-3fa1654d218d",
    "id": "ygMVnmSYO83U",
    "deepnote_cell_type": "markdown",
    "deepnote_cell_height": 526
   }
  },
  {
   "cell_type": "code",
   "metadata": {
    "cell_id": "00017-90dd8bd8-49c7-4581-9209-d37b46425fc5",
    "deepnote_to_be_reexecuted": false,
    "execution_millis": 836,
    "execution_start": 1656398923129,
    "id": "b-mL-h4xQhCm",
    "source_hash": "d7fdefa0",
    "deepnote_cell_type": "code",
    "deepnote_cell_height": 546,
    "deepnote_output_heights": [
     252,
     52
    ]
   },
   "source": "### Tu código del clasificador de la pregunta 3 aquí ###\nclassifications = nn.predict(test_images)\nprint(classifications)\n# Convertir las predicciones a sus respectivas etiquetas\ndef pred_to_label(predictions):\n    pred = list()\n    for i in range(len(predictions)):\n        pred.append(np.argmax(predictions[i]))\n    return pred\nclassifications_redable = pred_to_label(classifications)\ntest_labels_redable = pred_to_label(test_labels)\nprint(\"El valor predicho es:\", classifications_redable[0],\"y el valor esperado es:\", test_labels_redable[0])",
   "execution_count": 9,
   "outputs": [
    {
     "name": "stdout",
     "text": "313/313 [==============================] - 1s 2ms/step\n[[7.3371707e-06 1.4866303e-06 3.2740397e-06 ... 3.1633120e-02 3.5787412e-04 9.2278737e-01]\n [5.4346077e-04 2.2477032e-06 9.8574805e-01 ... 2.3169948e-08 4.2920310e-05 2.8060889e-08]\n [1.0727226e-04 9.9985695e-01 5.6793633e-06 ... 3.6579518e-08 7.3560619e-07 6.7752315e-10]\n ...\n [1.2386599e-02 3.5606201e-06 9.0077473e-04 ... 5.4999645e-04 9.4869828e-01 6.7506835e-07]\n [6.0433076e-06 9.9974775e-01 1.8614385e-06 ... 2.1761994e-07 1.2891306e-07 3.9656040e-08]\n [1.9599308e-06 7.9316919e-07 4.7793555e-06 ... 2.4486687e-03 2.3460120e-04 3.3251622e-06]]\nEl valor predicho es: 9 y el valor esperado es: 9\n",
     "output_type": "stream"
    }
   ]
  },
  {
   "cell_type": "markdown",
   "source": "Tu respuesta a la pregunta 3.1 aquí:",
   "metadata": {
    "cell_id": "00018-155cd98c-295e-4597-8db4-f778dcf895cf",
    "id": "pvbVC9gaQhMY",
    "deepnote_cell_type": "markdown",
    "deepnote_cell_height": 55
   }
  },
  {
   "cell_type": "markdown",
   "source": "Tu respuesta a la pregunta 3.2 aquí:",
   "metadata": {
    "cell_id": "00019-09562af1-5380-4f6b-befe-a0eb19dd04ba",
    "id": "oRWo-75tdgv0",
    "deepnote_cell_type": "markdown",
    "deepnote_cell_height": 55
   }
  },
  {
   "cell_type": "markdown",
   "source": "# **Ejercicio 2: Impacto variar el número de neuronas en las capas ocultas**\n\nEn este ejercicio vamos a experimentar con nuestra red neuronal cambiando el numero de neuronas por 512 y por 1024. Para ello, utiliza la red neuronal de la pregunta 1, y su capa oculta cambia las 128 neuronas:\n\n* **pregunta 4.1 (0.25 puntos)**: 512 neuronas en la capa oculta\n* **pregunta 4.2 (0.25 puntos)**:1024 neuronas en la capa oculta\n\ny entrena la red en ambos casos.\n\n**pregunta 4.3 (0.5 puntos)**: ¿Cual es el impacto que tiene la red neuronal?",
   "metadata": {
    "cell_id": "00020-8da69344-f04a-41d3-ae62-d710b63fc630",
    "id": "hiQ8qAzhRQ4L",
    "deepnote_cell_type": "markdown",
    "deepnote_cell_height": 345
   }
  },
  {
   "cell_type": "code",
   "metadata": {
    "cell_id": "00021-410d576a-10dd-47cf-bd32-90478c9fa4ea",
    "deepnote_to_be_reexecuted": false,
    "execution_millis": 46176,
    "execution_start": 1656398923898,
    "id": "cdP8ZwuaUV93",
    "source_hash": "bf27e44a",
    "deepnote_cell_type": "code",
    "deepnote_cell_height": 840,
    "deepnote_output_heights": [
     null,
     27
    ]
   },
   "source": "### Tu código para 512 neuronas aquí ###\nnn = tf.keras.models.Sequential([\n      tf.keras.layers.Flatten(input_shape=[28,28]), # Según training_images.shape\n      tf.keras.layers.Dense(512, activation=\"sigmoid\"),\n      tf.keras.layers.Dense(10, activation=\"softmax\") # número de clases np.unique(training_labels)\n])\nnn.compile(loss=\"categorical_crossentropy\", optimizer=\"adam\", metrics=[\"accuracy\"])\nnn.fit(training_images, training_labels, batch_size=64, epochs=10, validation_data=(test_images, test_labels))",
   "execution_count": 10,
   "outputs": [
    {
     "name": "stdout",
     "text": "Epoch 1/10\n938/938 [==============================] - 5s 5ms/step - loss: 0.5369 - accuracy: 0.8111 - val_loss: 0.4625 - val_accuracy: 0.8327\nEpoch 2/10\n938/938 [==============================] - 5s 5ms/step - loss: 0.4001 - accuracy: 0.8565 - val_loss: 0.4299 - val_accuracy: 0.8404\nEpoch 3/10\n938/938 [==============================] - 5s 5ms/step - loss: 0.3631 - accuracy: 0.8687 - val_loss: 0.3828 - val_accuracy: 0.8630\nEpoch 4/10\n938/938 [==============================] - 5s 5ms/step - loss: 0.3365 - accuracy: 0.8761 - val_loss: 0.3748 - val_accuracy: 0.8671\nEpoch 5/10\n938/938 [==============================] - 5s 5ms/step - loss: 0.3136 - accuracy: 0.8847 - val_loss: 0.3683 - val_accuracy: 0.8658\nEpoch 6/10\n938/938 [==============================] - 4s 5ms/step - loss: 0.2972 - accuracy: 0.8899 - val_loss: 0.3456 - val_accuracy: 0.8739\nEpoch 7/10\n938/938 [==============================] - 4s 5ms/step - loss: 0.2830 - accuracy: 0.8951 - val_loss: 0.3491 - val_accuracy: 0.8729\nEpoch 8/10\n938/938 [==============================] - 5s 5ms/step - loss: 0.2686 - accuracy: 0.9003 - val_loss: 0.3605 - val_accuracy: 0.8678\nEpoch 9/10\n938/938 [==============================] - 4s 5ms/step - loss: 0.2558 - accuracy: 0.9052 - val_loss: 0.3259 - val_accuracy: 0.8835\nEpoch 10/10\n938/938 [==============================] - 4s 5ms/step - loss: 0.2448 - accuracy: 0.9079 - val_loss: 0.3209 - val_accuracy: 0.8847\n",
     "output_type": "stream"
    },
    {
     "output_type": "execute_result",
     "execution_count": 10,
     "data": {
      "text/plain": "<keras.callbacks.History at 0x7f3ed0d7b0a0>"
     },
     "metadata": {}
    }
   ]
  },
  {
   "cell_type": "code",
   "metadata": {
    "cell_id": "00022-9072124e-004f-47a3-9f66-b7cd9ea72f51",
    "deepnote_to_be_reexecuted": false,
    "execution_millis": 82613,
    "execution_start": 1656398970085,
    "id": "YXBlbbfuUaPa",
    "source_hash": "86fc2da3",
    "deepnote_cell_type": "code",
    "deepnote_cell_height": 840,
    "deepnote_output_heights": [
     null,
     27
    ]
   },
   "source": "### Tu código para 1024 neuronas aquí ###\nnn = tf.keras.models.Sequential([\n     tf.keras.layers.Flatten(input_shape=[28,28]), # Según training_images.shape\n     tf.keras.layers.Dense(1024, activation=\"sigmoid\"),\n     tf.keras.layers.Dense(10, activation=\"softmax\") # número de clases np.unique(training_labels)\n])\nnn.compile(loss=\"categorical_crossentropy\", optimizer=\"adam\", metrics=[\"accuracy\"])\nnn.fit(training_images, training_labels, batch_size=64, epochs=10, validation_data=(test_images, test_labels))",
   "execution_count": 11,
   "outputs": [
    {
     "name": "stdout",
     "text": "Epoch 1/10\n938/938 [==============================] - 8s 8ms/step - loss: 0.5213 - accuracy: 0.8143 - val_loss: 0.4656 - val_accuracy: 0.8279\nEpoch 2/10\n938/938 [==============================] - 7s 8ms/step - loss: 0.4000 - accuracy: 0.8557 - val_loss: 0.4417 - val_accuracy: 0.8441\nEpoch 3/10\n938/938 [==============================] - 7s 8ms/step - loss: 0.3642 - accuracy: 0.8674 - val_loss: 0.3876 - val_accuracy: 0.8614\nEpoch 4/10\n938/938 [==============================] - 8s 8ms/step - loss: 0.3378 - accuracy: 0.8780 - val_loss: 0.3718 - val_accuracy: 0.8650\nEpoch 5/10\n938/938 [==============================] - 8s 8ms/step - loss: 0.3128 - accuracy: 0.8848 - val_loss: 0.3593 - val_accuracy: 0.8734\nEpoch 6/10\n938/938 [==============================] - 7s 8ms/step - loss: 0.2943 - accuracy: 0.8911 - val_loss: 0.3476 - val_accuracy: 0.8715\nEpoch 7/10\n938/938 [==============================] - 8s 8ms/step - loss: 0.2785 - accuracy: 0.8968 - val_loss: 0.3315 - val_accuracy: 0.8799\nEpoch 8/10\n938/938 [==============================] - 7s 8ms/step - loss: 0.2623 - accuracy: 0.9022 - val_loss: 0.3307 - val_accuracy: 0.8806\nEpoch 9/10\n938/938 [==============================] - 7s 8ms/step - loss: 0.2518 - accuracy: 0.9053 - val_loss: 0.3445 - val_accuracy: 0.8791\nEpoch 10/10\n938/938 [==============================] - 8s 8ms/step - loss: 0.2388 - accuracy: 0.9103 - val_loss: 0.3293 - val_accuracy: 0.8820\n",
     "output_type": "stream"
    },
    {
     "output_type": "execute_result",
     "execution_count": 11,
     "data": {
      "text/plain": "<keras.callbacks.History at 0x7f3ed0c2aaf0>"
     },
     "metadata": {}
    }
   ]
  },
  {
   "cell_type": "markdown",
   "source": "Tu respuesta a la pregunta 4.3 aquí:",
   "metadata": {
    "cell_id": "00023-7e000ca5-0905-4d4e-8737-342abd0d4824",
    "id": "wG0h2HL-Uj93",
    "deepnote_cell_type": "markdown",
    "deepnote_cell_height": 55
   }
  },
  {
   "cell_type": "markdown",
   "source": "Si ahora entrenais el modelo de esta forma (con 512 y 1024 neuronas en la capa oculta) y volveis a ejecutar el predictor guardado en la variable **classifications**, escribir el código del clasificador del ejercicio 1 de nuevo e imprimid el primer objeto guardado en la variable classifications.\n\n**pregunta 5.1 (0.25 puntos)**: \n\n* ¿En que clase esta clasificado ahora la primera prenda de vestir de la variable classifications?\n\n**pregunta 5.1 (0.25 puntos)**: \n\n* ¿Porque crees que ha ocurrido esto?",
   "metadata": {
    "cell_id": "00024-7344d1a1-f49f-4bc9-81cd-be097c86b2e8",
    "id": "b-NpUI9EVkVz",
    "deepnote_cell_type": "markdown",
    "deepnote_cell_height": 275
   }
  },
  {
   "cell_type": "code",
   "metadata": {
    "cell_id": "00025-e74e0267-9497-4efa-bedd-e032f8b5ca55",
    "deepnote_to_be_reexecuted": false,
    "execution_millis": 2150,
    "execution_start": 1656399089513,
    "id": "b-mL-h4xQhCm",
    "source_hash": "263bf7ae",
    "deepnote_cell_type": "code",
    "deepnote_cell_height": 248
   },
   "source": "### Tu código del clasificador de la pregunta 5 aquí ###\nclassifications = nn.predict(test_images)\nprint(\"Clase de la primer imagen:\", np.argmax(test_labels[0]))\nclassifications = tf.keras.utils.to_categorical(classifications, 10)\nprint(\"Clase predicha por la red\", np.argmax(classifications[0]))",
   "execution_count": 16,
   "outputs": [
    {
     "name": "stdout",
     "text": "313/313 [==============================] - 2s 6ms/step\nClase de la primer imagen: 9\nClase predicha por la red 0\n",
     "output_type": "stream"
    }
   ]
  },
  {
   "cell_type": "markdown",
   "source": "Tu respuesta a la pregunta 5.1 aquí:",
   "metadata": {
    "cell_id": "00026-d568ca65-cf8d-422f-ab53-a9bb62bcd52f",
    "id": "P3NfwdOGZcAa",
    "deepnote_cell_type": "markdown",
    "deepnote_cell_height": 55
   }
  },
  {
   "cell_type": "markdown",
   "source": "Tu respuesta a la pregunta 5.2 aquí:",
   "metadata": {
    "cell_id": "00027-3c3779a7-4f98-4368-8417-1a3d801a3056",
    "id": "nFmfpxE1ZcJx",
    "deepnote_cell_type": "markdown",
    "deepnote_cell_height": 55
   }
  },
  {
   "cell_type": "markdown",
   "source": "# **Ejercicio 3: ¿por qué es tan importante la capa Flatten?**\n\nEn este ejercicio vamos a ver que ocurre cuando quitamos la capa flatten, para ello, escribe la red neuronal de la pregunta 1 y no pongas la capa Flatten.\n\n**pregunta 6 (0.5 puntos):** ¿puedes explicar porque da el error que da?\n\n",
   "metadata": {
    "cell_id": "00028-f93d2208-534c-46fc-a7e3-cab6ae481a50",
    "id": "59eM76O1YekZ",
    "deepnote_cell_type": "markdown",
    "deepnote_cell_height": 239
   }
  },
  {
   "cell_type": "code",
   "metadata": {
    "cell_id": "00029-2330c8fd-7d3f-4f00-9d15-b55f0fe03add",
    "deepnote_to_be_reexecuted": false,
    "execution_millis": 1549,
    "execution_start": 1656399054111,
    "id": "ecfEVKEuG4iU",
    "source_hash": "c3a4c537",
    "deepnote_cell_type": "code",
    "deepnote_cell_height": 1158
   },
   "source": "### Tu código de la red neuronal sin capa flatten de la pregunta 6 aquí ###\nnn = tf.keras.models.Sequential([\n     # tf.keras.layers.Flatten(input_shape=[28,28]), # Según training_images.shape\n     tf.keras.layers.Dense(1024, activation=\"sigmoid\"),\n     tf.keras.layers.Dense(10, activation=\"softmax\") # número de clases np.unique(training_labels)\n])\nnn.compile(loss=\"categorical_crossentropy\", optimizer=\"adam\", metrics=[\"accuracy\"])\nnn.fit(training_images, training_labels, batch_size=64, epochs=10, validation_data=(test_images, test_labels))",
   "execution_count": 13,
   "outputs": [
    {
     "name": "stdout",
     "text": "Epoch 1/10\n",
     "output_type": "stream"
    },
    {
     "output_type": "error",
     "ename": "ValueError",
     "evalue": "in user code:\n\n    File \"/shared-libs/python3.9/py/lib/python3.9/site-packages/keras/engine/training.py\", line 1051, in train_function  *\n        return step_function(self, iterator)\n    File \"/shared-libs/python3.9/py/lib/python3.9/site-packages/keras/engine/training.py\", line 1040, in step_function  **\n        outputs = model.distribute_strategy.run(run_step, args=(data,))\n    File \"/shared-libs/python3.9/py/lib/python3.9/site-packages/keras/engine/training.py\", line 1030, in run_step  **\n        outputs = model.train_step(data)\n    File \"/shared-libs/python3.9/py/lib/python3.9/site-packages/keras/engine/training.py\", line 890, in train_step\n        loss = self.compute_loss(x, y, y_pred, sample_weight)\n    File \"/shared-libs/python3.9/py/lib/python3.9/site-packages/keras/engine/training.py\", line 948, in compute_loss\n        return self.compiled_loss(\n    File \"/shared-libs/python3.9/py/lib/python3.9/site-packages/keras/engine/compile_utils.py\", line 201, in __call__\n        loss_value = loss_obj(y_t, y_p, sample_weight=sw)\n    File \"/shared-libs/python3.9/py/lib/python3.9/site-packages/keras/losses.py\", line 139, in __call__\n        losses = call_fn(y_true, y_pred)\n    File \"/shared-libs/python3.9/py/lib/python3.9/site-packages/keras/losses.py\", line 243, in call  **\n        return ag_fn(y_true, y_pred, **self._fn_kwargs)\n    File \"/shared-libs/python3.9/py/lib/python3.9/site-packages/keras/losses.py\", line 1787, in categorical_crossentropy\n        return backend.categorical_crossentropy(\n    File \"/shared-libs/python3.9/py/lib/python3.9/site-packages/keras/backend.py\", line 5119, in categorical_crossentropy\n        target.shape.assert_is_compatible_with(output.shape)\n\n    ValueError: Shapes (None, 10) and (None, 28, 10) are incompatible\n",
     "traceback": [
      "\u001b[0;31m---------------------------------------------------------------------------\u001b[0m",
      "\u001b[0;31mValueError\u001b[0m                                Traceback (most recent call last)",
      "\u001b[0;32m<ipython-input-13-ea42271f1b4a>\u001b[0m in \u001b[0;36m<cell line: 8>\u001b[0;34m()\u001b[0m\n\u001b[1;32m      6\u001b[0m ])\n\u001b[1;32m      7\u001b[0m \u001b[0mnn\u001b[0m\u001b[0;34m.\u001b[0m\u001b[0mcompile\u001b[0m\u001b[0;34m(\u001b[0m\u001b[0mloss\u001b[0m\u001b[0;34m=\u001b[0m\u001b[0;34m\"categorical_crossentropy\"\u001b[0m\u001b[0;34m,\u001b[0m \u001b[0moptimizer\u001b[0m\u001b[0;34m=\u001b[0m\u001b[0;34m\"adam\"\u001b[0m\u001b[0;34m,\u001b[0m \u001b[0mmetrics\u001b[0m\u001b[0;34m=\u001b[0m\u001b[0;34m[\u001b[0m\u001b[0;34m\"accuracy\"\u001b[0m\u001b[0;34m]\u001b[0m\u001b[0;34m)\u001b[0m\u001b[0;34m\u001b[0m\u001b[0;34m\u001b[0m\u001b[0m\n\u001b[0;32m----> 8\u001b[0;31m \u001b[0mnn\u001b[0m\u001b[0;34m.\u001b[0m\u001b[0mfit\u001b[0m\u001b[0;34m(\u001b[0m\u001b[0mtraining_images\u001b[0m\u001b[0;34m,\u001b[0m \u001b[0mtraining_labels\u001b[0m\u001b[0;34m,\u001b[0m \u001b[0mbatch_size\u001b[0m\u001b[0;34m=\u001b[0m\u001b[0;36m64\u001b[0m\u001b[0;34m,\u001b[0m \u001b[0mepochs\u001b[0m\u001b[0;34m=\u001b[0m\u001b[0;36m10\u001b[0m\u001b[0;34m,\u001b[0m \u001b[0mvalidation_data\u001b[0m\u001b[0;34m=\u001b[0m\u001b[0;34m(\u001b[0m\u001b[0mtest_images\u001b[0m\u001b[0;34m,\u001b[0m \u001b[0mtest_labels\u001b[0m\u001b[0;34m)\u001b[0m\u001b[0;34m)\u001b[0m\u001b[0;34m\u001b[0m\u001b[0;34m\u001b[0m\u001b[0m\n\u001b[0m",
      "\u001b[0;32m/shared-libs/python3.9/py/lib/python3.9/site-packages/keras/utils/traceback_utils.py\u001b[0m in \u001b[0;36merror_handler\u001b[0;34m(*args, **kwargs)\u001b[0m\n\u001b[1;32m     65\u001b[0m     \u001b[0;32mexcept\u001b[0m \u001b[0mException\u001b[0m \u001b[0;32mas\u001b[0m \u001b[0me\u001b[0m\u001b[0;34m:\u001b[0m  \u001b[0;31m# pylint: disable=broad-except\u001b[0m\u001b[0;34m\u001b[0m\u001b[0;34m\u001b[0m\u001b[0m\n\u001b[1;32m     66\u001b[0m       \u001b[0mfiltered_tb\u001b[0m \u001b[0;34m=\u001b[0m \u001b[0m_process_traceback_frames\u001b[0m\u001b[0;34m(\u001b[0m\u001b[0me\u001b[0m\u001b[0;34m.\u001b[0m\u001b[0m__traceback__\u001b[0m\u001b[0;34m)\u001b[0m\u001b[0;34m\u001b[0m\u001b[0;34m\u001b[0m\u001b[0m\n\u001b[0;32m---> 67\u001b[0;31m       \u001b[0;32mraise\u001b[0m \u001b[0me\u001b[0m\u001b[0;34m.\u001b[0m\u001b[0mwith_traceback\u001b[0m\u001b[0;34m(\u001b[0m\u001b[0mfiltered_tb\u001b[0m\u001b[0;34m)\u001b[0m \u001b[0;32mfrom\u001b[0m \u001b[0;32mNone\u001b[0m\u001b[0;34m\u001b[0m\u001b[0;34m\u001b[0m\u001b[0m\n\u001b[0m\u001b[1;32m     68\u001b[0m     \u001b[0;32mfinally\u001b[0m\u001b[0;34m:\u001b[0m\u001b[0;34m\u001b[0m\u001b[0;34m\u001b[0m\u001b[0m\n\u001b[1;32m     69\u001b[0m       \u001b[0;32mdel\u001b[0m \u001b[0mfiltered_tb\u001b[0m\u001b[0;34m\u001b[0m\u001b[0;34m\u001b[0m\u001b[0m\n",
      "\u001b[0;32m/shared-libs/python3.9/py/lib/python3.9/site-packages/keras/engine/training.py\u001b[0m in \u001b[0;36mtf__train_function\u001b[0;34m(iterator)\u001b[0m\n\u001b[1;32m     13\u001b[0m                 \u001b[0;32mtry\u001b[0m\u001b[0;34m:\u001b[0m\u001b[0;34m\u001b[0m\u001b[0;34m\u001b[0m\u001b[0m\n\u001b[1;32m     14\u001b[0m                     \u001b[0mdo_return\u001b[0m \u001b[0;34m=\u001b[0m \u001b[0;32mTrue\u001b[0m\u001b[0;34m\u001b[0m\u001b[0;34m\u001b[0m\u001b[0m\n\u001b[0;32m---> 15\u001b[0;31m                     \u001b[0mretval_\u001b[0m \u001b[0;34m=\u001b[0m \u001b[0mag__\u001b[0m\u001b[0;34m.\u001b[0m\u001b[0mconverted_call\u001b[0m\u001b[0;34m(\u001b[0m\u001b[0mag__\u001b[0m\u001b[0;34m.\u001b[0m\u001b[0mld\u001b[0m\u001b[0;34m(\u001b[0m\u001b[0mstep_function\u001b[0m\u001b[0;34m)\u001b[0m\u001b[0;34m,\u001b[0m \u001b[0;34m(\u001b[0m\u001b[0mag__\u001b[0m\u001b[0;34m.\u001b[0m\u001b[0mld\u001b[0m\u001b[0;34m(\u001b[0m\u001b[0mself\u001b[0m\u001b[0;34m)\u001b[0m\u001b[0;34m,\u001b[0m \u001b[0mag__\u001b[0m\u001b[0;34m.\u001b[0m\u001b[0mld\u001b[0m\u001b[0;34m(\u001b[0m\u001b[0miterator\u001b[0m\u001b[0;34m)\u001b[0m\u001b[0;34m)\u001b[0m\u001b[0;34m,\u001b[0m \u001b[0;32mNone\u001b[0m\u001b[0;34m,\u001b[0m \u001b[0mfscope\u001b[0m\u001b[0;34m)\u001b[0m\u001b[0;34m\u001b[0m\u001b[0;34m\u001b[0m\u001b[0m\n\u001b[0m\u001b[1;32m     16\u001b[0m                 \u001b[0;32mexcept\u001b[0m\u001b[0;34m:\u001b[0m\u001b[0;34m\u001b[0m\u001b[0;34m\u001b[0m\u001b[0m\n\u001b[1;32m     17\u001b[0m                     \u001b[0mdo_return\u001b[0m \u001b[0;34m=\u001b[0m \u001b[0;32mFalse\u001b[0m\u001b[0;34m\u001b[0m\u001b[0;34m\u001b[0m\u001b[0m\n",
      "\u001b[0;31mValueError\u001b[0m: in user code:\n\n    File \"/shared-libs/python3.9/py/lib/python3.9/site-packages/keras/engine/training.py\", line 1051, in train_function  *\n        return step_function(self, iterator)\n    File \"/shared-libs/python3.9/py/lib/python3.9/site-packages/keras/engine/training.py\", line 1040, in step_function  **\n        outputs = model.distribute_strategy.run(run_step, args=(data,))\n    File \"/shared-libs/python3.9/py/lib/python3.9/site-packages/keras/engine/training.py\", line 1030, in run_step  **\n        outputs = model.train_step(data)\n    File \"/shared-libs/python3.9/py/lib/python3.9/site-packages/keras/engine/training.py\", line 890, in train_step\n        loss = self.compute_loss(x, y, y_pred, sample_weight)\n    File \"/shared-libs/python3.9/py/lib/python3.9/site-packages/keras/engine/training.py\", line 948, in compute_loss\n        return self.compiled_loss(\n    File \"/shared-libs/python3.9/py/lib/python3.9/site-packages/keras/engine/compile_utils.py\", line 201, in __call__\n        loss_value = loss_obj(y_t, y_p, sample_weight=sw)\n    File \"/shared-libs/python3.9/py/lib/python3.9/site-packages/keras/losses.py\", line 139, in __call__\n        losses = call_fn(y_true, y_pred)\n    File \"/shared-libs/python3.9/py/lib/python3.9/site-packages/keras/losses.py\", line 243, in call  **\n        return ag_fn(y_true, y_pred, **self._fn_kwargs)\n    File \"/shared-libs/python3.9/py/lib/python3.9/site-packages/keras/losses.py\", line 1787, in categorical_crossentropy\n        return backend.categorical_crossentropy(\n    File \"/shared-libs/python3.9/py/lib/python3.9/site-packages/keras/backend.py\", line 5119, in categorical_crossentropy\n        target.shape.assert_is_compatible_with(output.shape)\n\n    ValueError: Shapes (None, 10) and (None, 28, 10) are incompatible\n"
     ]
    }
   ]
  },
  {
   "cell_type": "markdown",
   "source": "Tu respuesta a la pregunta 6 aquí:",
   "metadata": {
    "cell_id": "00030-5e5921da-11d1-45cb-bc77-2823f514e685",
    "id": "-aNmrkkOZN6D",
    "deepnote_cell_type": "markdown",
    "deepnote_cell_height": 55
   }
  },
  {
   "cell_type": "markdown",
   "source": "# **Ejercicio 4: Número de neuronas de la capa de salida**\nConsiderad la capa final, la de salida de la red neuronal de la pregunta 1.\n\n**pregunta 7.1 (0.25 puntos)**: ¿Por qué son 10 las neuronas de la última capa?\n\n**pregunta 7.2 (0.25 puntos)**: ¿Qué pasaría si tuvieras una cantidad diferente a 10? \n\nPor ejemplo, intenta entrenar la red con 5, para ello utiliza la red neuronal de la pregunta 1 y cambia a 5 el número de neuronas en la última capa.",
   "metadata": {
    "cell_id": "00031-07fc7ea9-c335-4cdf-b7b7-6f26355391d2",
    "id": "f37cIr81ZYJj",
    "deepnote_cell_type": "markdown",
    "deepnote_cell_height": 317
   }
  },
  {
   "cell_type": "code",
   "metadata": {
    "cell_id": "00032-245bd5ec-626c-417b-84bf-d9b7089363f2",
    "deepnote_to_be_reexecuted": true,
    "execution_millis": 280,
    "execution_start": 1656380245302,
    "id": "FhbZkppYZOCS",
    "source_hash": "a12e321d",
    "deepnote_cell_type": "code",
    "deepnote_cell_height": 1157.765625
   },
   "source": "### Tu código de la red neuronal con 5 neuronas en la capa de salida de la pregunta 7 aquí ###\nnn = tf.keras.models.Sequential([\n     tf.keras.layers.Flatten(input_shape=[28,28]), # Según training_images.shape\n     tf.keras.layers.Dense(1024, activation=\"sigmoid\"),\n     tf.keras.layers.Dense(5, activation=\"softmax\") # número de clases np.unique(training_labels)\n])\nnn.compile(loss=\"categorical_crossentropy\", optimizer=\"adam\", metrics=[\"accuracy\"])\nnn.fit(training_images, training_labels, batch_size=64, epochs=10, validation_data=(test_images, test_labels))",
   "outputs": [
    {
     "name": "stdout",
     "text": "Epoch 1/10\n",
     "output_type": "stream"
    },
    {
     "output_type": "error",
     "ename": "ValueError",
     "evalue": "in user code:\n\n    File \"/shared-libs/python3.9/py/lib/python3.9/site-packages/keras/engine/training.py\", line 1051, in train_function  *\n        return step_function(self, iterator)\n    File \"/shared-libs/python3.9/py/lib/python3.9/site-packages/keras/engine/training.py\", line 1040, in step_function  **\n        outputs = model.distribute_strategy.run(run_step, args=(data,))\n    File \"/shared-libs/python3.9/py/lib/python3.9/site-packages/keras/engine/training.py\", line 1030, in run_step  **\n        outputs = model.train_step(data)\n    File \"/shared-libs/python3.9/py/lib/python3.9/site-packages/keras/engine/training.py\", line 890, in train_step\n        loss = self.compute_loss(x, y, y_pred, sample_weight)\n    File \"/shared-libs/python3.9/py/lib/python3.9/site-packages/keras/engine/training.py\", line 948, in compute_loss\n        return self.compiled_loss(\n    File \"/shared-libs/python3.9/py/lib/python3.9/site-packages/keras/engine/compile_utils.py\", line 201, in __call__\n        loss_value = loss_obj(y_t, y_p, sample_weight=sw)\n    File \"/shared-libs/python3.9/py/lib/python3.9/site-packages/keras/losses.py\", line 139, in __call__\n        losses = call_fn(y_true, y_pred)\n    File \"/shared-libs/python3.9/py/lib/python3.9/site-packages/keras/losses.py\", line 243, in call  **\n        return ag_fn(y_true, y_pred, **self._fn_kwargs)\n    File \"/shared-libs/python3.9/py/lib/python3.9/site-packages/keras/losses.py\", line 1787, in categorical_crossentropy\n        return backend.categorical_crossentropy(\n    File \"/shared-libs/python3.9/py/lib/python3.9/site-packages/keras/backend.py\", line 5119, in categorical_crossentropy\n        target.shape.assert_is_compatible_with(output.shape)\n\n    ValueError: Shapes (None, 10) and (None, 5) are incompatible\n",
     "traceback": [
      "\u001b[0;31m---------------------------------------------------------------------------\u001b[0m",
      "\u001b[0;31mValueError\u001b[0m                                Traceback (most recent call last)",
      "\u001b[0;32m<ipython-input-47-35af905be199>\u001b[0m in \u001b[0;36m<cell line: 8>\u001b[0;34m()\u001b[0m\n\u001b[1;32m      6\u001b[0m ])\n\u001b[1;32m      7\u001b[0m \u001b[0mnn\u001b[0m\u001b[0;34m.\u001b[0m\u001b[0mcompile\u001b[0m\u001b[0;34m(\u001b[0m\u001b[0mloss\u001b[0m\u001b[0;34m=\u001b[0m\u001b[0;34m\"categorical_crossentropy\"\u001b[0m\u001b[0;34m,\u001b[0m \u001b[0moptimizer\u001b[0m\u001b[0;34m=\u001b[0m\u001b[0;34m\"adam\"\u001b[0m\u001b[0;34m,\u001b[0m \u001b[0mmetrics\u001b[0m\u001b[0;34m=\u001b[0m\u001b[0;34m[\u001b[0m\u001b[0;34m\"accuracy\"\u001b[0m\u001b[0;34m]\u001b[0m\u001b[0;34m)\u001b[0m\u001b[0;34m\u001b[0m\u001b[0;34m\u001b[0m\u001b[0m\n\u001b[0;32m----> 8\u001b[0;31m \u001b[0mnn\u001b[0m\u001b[0;34m.\u001b[0m\u001b[0mfit\u001b[0m\u001b[0;34m(\u001b[0m\u001b[0mtraining_images\u001b[0m\u001b[0;34m,\u001b[0m \u001b[0mtraining_labels\u001b[0m\u001b[0;34m,\u001b[0m \u001b[0mbatch_size\u001b[0m\u001b[0;34m=\u001b[0m\u001b[0;36m64\u001b[0m\u001b[0;34m,\u001b[0m \u001b[0mepochs\u001b[0m\u001b[0;34m=\u001b[0m\u001b[0;36m10\u001b[0m\u001b[0;34m,\u001b[0m \u001b[0mvalidation_data\u001b[0m\u001b[0;34m=\u001b[0m\u001b[0;34m(\u001b[0m\u001b[0mtest_images\u001b[0m\u001b[0;34m,\u001b[0m \u001b[0mtest_labels\u001b[0m\u001b[0;34m)\u001b[0m\u001b[0;34m)\u001b[0m\u001b[0;34m\u001b[0m\u001b[0;34m\u001b[0m\u001b[0m\n\u001b[0m",
      "\u001b[0;32m/shared-libs/python3.9/py/lib/python3.9/site-packages/keras/utils/traceback_utils.py\u001b[0m in \u001b[0;36merror_handler\u001b[0;34m(*args, **kwargs)\u001b[0m\n\u001b[1;32m     65\u001b[0m     \u001b[0;32mexcept\u001b[0m \u001b[0mException\u001b[0m \u001b[0;32mas\u001b[0m \u001b[0me\u001b[0m\u001b[0;34m:\u001b[0m  \u001b[0;31m# pylint: disable=broad-except\u001b[0m\u001b[0;34m\u001b[0m\u001b[0;34m\u001b[0m\u001b[0m\n\u001b[1;32m     66\u001b[0m       \u001b[0mfiltered_tb\u001b[0m \u001b[0;34m=\u001b[0m \u001b[0m_process_traceback_frames\u001b[0m\u001b[0;34m(\u001b[0m\u001b[0me\u001b[0m\u001b[0;34m.\u001b[0m\u001b[0m__traceback__\u001b[0m\u001b[0;34m)\u001b[0m\u001b[0;34m\u001b[0m\u001b[0;34m\u001b[0m\u001b[0m\n\u001b[0;32m---> 67\u001b[0;31m       \u001b[0;32mraise\u001b[0m \u001b[0me\u001b[0m\u001b[0;34m.\u001b[0m\u001b[0mwith_traceback\u001b[0m\u001b[0;34m(\u001b[0m\u001b[0mfiltered_tb\u001b[0m\u001b[0;34m)\u001b[0m \u001b[0;32mfrom\u001b[0m \u001b[0;32mNone\u001b[0m\u001b[0;34m\u001b[0m\u001b[0;34m\u001b[0m\u001b[0m\n\u001b[0m\u001b[1;32m     68\u001b[0m     \u001b[0;32mfinally\u001b[0m\u001b[0;34m:\u001b[0m\u001b[0;34m\u001b[0m\u001b[0;34m\u001b[0m\u001b[0m\n\u001b[1;32m     69\u001b[0m       \u001b[0;32mdel\u001b[0m \u001b[0mfiltered_tb\u001b[0m\u001b[0;34m\u001b[0m\u001b[0;34m\u001b[0m\u001b[0m\n",
      "\u001b[0;32m/shared-libs/python3.9/py/lib/python3.9/site-packages/keras/engine/training.py\u001b[0m in \u001b[0;36mtf__train_function\u001b[0;34m(iterator)\u001b[0m\n\u001b[1;32m     13\u001b[0m                 \u001b[0;32mtry\u001b[0m\u001b[0;34m:\u001b[0m\u001b[0;34m\u001b[0m\u001b[0;34m\u001b[0m\u001b[0m\n\u001b[1;32m     14\u001b[0m                     \u001b[0mdo_return\u001b[0m \u001b[0;34m=\u001b[0m \u001b[0;32mTrue\u001b[0m\u001b[0;34m\u001b[0m\u001b[0;34m\u001b[0m\u001b[0m\n\u001b[0;32m---> 15\u001b[0;31m                     \u001b[0mretval_\u001b[0m \u001b[0;34m=\u001b[0m \u001b[0mag__\u001b[0m\u001b[0;34m.\u001b[0m\u001b[0mconverted_call\u001b[0m\u001b[0;34m(\u001b[0m\u001b[0mag__\u001b[0m\u001b[0;34m.\u001b[0m\u001b[0mld\u001b[0m\u001b[0;34m(\u001b[0m\u001b[0mstep_function\u001b[0m\u001b[0;34m)\u001b[0m\u001b[0;34m,\u001b[0m \u001b[0;34m(\u001b[0m\u001b[0mag__\u001b[0m\u001b[0;34m.\u001b[0m\u001b[0mld\u001b[0m\u001b[0;34m(\u001b[0m\u001b[0mself\u001b[0m\u001b[0;34m)\u001b[0m\u001b[0;34m,\u001b[0m \u001b[0mag__\u001b[0m\u001b[0;34m.\u001b[0m\u001b[0mld\u001b[0m\u001b[0;34m(\u001b[0m\u001b[0miterator\u001b[0m\u001b[0;34m)\u001b[0m\u001b[0;34m)\u001b[0m\u001b[0;34m,\u001b[0m \u001b[0;32mNone\u001b[0m\u001b[0;34m,\u001b[0m \u001b[0mfscope\u001b[0m\u001b[0;34m)\u001b[0m\u001b[0;34m\u001b[0m\u001b[0;34m\u001b[0m\u001b[0m\n\u001b[0m\u001b[1;32m     16\u001b[0m                 \u001b[0;32mexcept\u001b[0m\u001b[0;34m:\u001b[0m\u001b[0;34m\u001b[0m\u001b[0;34m\u001b[0m\u001b[0m\n\u001b[1;32m     17\u001b[0m                     \u001b[0mdo_return\u001b[0m \u001b[0;34m=\u001b[0m \u001b[0;32mFalse\u001b[0m\u001b[0;34m\u001b[0m\u001b[0;34m\u001b[0m\u001b[0m\n",
      "\u001b[0;31mValueError\u001b[0m: in user code:\n\n    File \"/shared-libs/python3.9/py/lib/python3.9/site-packages/keras/engine/training.py\", line 1051, in train_function  *\n        return step_function(self, iterator)\n    File \"/shared-libs/python3.9/py/lib/python3.9/site-packages/keras/engine/training.py\", line 1040, in step_function  **\n        outputs = model.distribute_strategy.run(run_step, args=(data,))\n    File \"/shared-libs/python3.9/py/lib/python3.9/site-packages/keras/engine/training.py\", line 1030, in run_step  **\n        outputs = model.train_step(data)\n    File \"/shared-libs/python3.9/py/lib/python3.9/site-packages/keras/engine/training.py\", line 890, in train_step\n        loss = self.compute_loss(x, y, y_pred, sample_weight)\n    File \"/shared-libs/python3.9/py/lib/python3.9/site-packages/keras/engine/training.py\", line 948, in compute_loss\n        return self.compiled_loss(\n    File \"/shared-libs/python3.9/py/lib/python3.9/site-packages/keras/engine/compile_utils.py\", line 201, in __call__\n        loss_value = loss_obj(y_t, y_p, sample_weight=sw)\n    File \"/shared-libs/python3.9/py/lib/python3.9/site-packages/keras/losses.py\", line 139, in __call__\n        losses = call_fn(y_true, y_pred)\n    File \"/shared-libs/python3.9/py/lib/python3.9/site-packages/keras/losses.py\", line 243, in call  **\n        return ag_fn(y_true, y_pred, **self._fn_kwargs)\n    File \"/shared-libs/python3.9/py/lib/python3.9/site-packages/keras/losses.py\", line 1787, in categorical_crossentropy\n        return backend.categorical_crossentropy(\n    File \"/shared-libs/python3.9/py/lib/python3.9/site-packages/keras/backend.py\", line 5119, in categorical_crossentropy\n        target.shape.assert_is_compatible_with(output.shape)\n\n    ValueError: Shapes (None, 10) and (None, 5) are incompatible\n"
     ]
    }
   ],
   "execution_count": null
  },
  {
   "cell_type": "markdown",
   "source": "Tu respuestas a la pregunta 7.1 aquí:",
   "metadata": {
    "cell_id": "00033-254afbeb-4880-47f0-a956-2e5d2d903737",
    "id": "SLsQcq-6aUoD",
    "deepnote_cell_type": "markdown",
    "deepnote_cell_height": 55
   }
  },
  {
   "cell_type": "markdown",
   "source": "Tu respuestas a la pregunta 7.2 aquí:",
   "metadata": {
    "cell_id": "00034-e04de6c4-8fd0-421c-9d76-16d8b3197da5",
    "id": "J1f_7ZFeaUu6",
    "deepnote_cell_type": "markdown",
    "deepnote_cell_height": 55
   }
  },
  {
   "cell_type": "markdown",
   "source": "# Ejercicio 5: Aumento de epoch y su efecto en la red neuronal\nEn este ejercicio vamos a ver el impacto de aumentar los epoch en el entrenamiento. Usando la red neuronal de la pregunta 1:\n\n**pregunta 8.1 (0.20 puntos)**\n* Intentad 15 epoch para su entrenamiento, probablemente obtendras un modelo con una pérdida mucho mejor que el que tiene 5.\n\n**pregunta 8.2 (0.20 puntos)**\n* Intenta ahora con 30 epoch para su entrenamiento, podrás ver que el valor de la pérdida deja de disminuir, y a veces aumenta.\n\n**pregunta 8.3 (0.60 puntos)**\n* ¿Porque que piensas que ocurre esto? Explica tu respuesta y da el nombre de este efecto si lo conoces.",
   "metadata": {
    "cell_id": "00035-549d72c4-9515-4ac1-b5ad-43fa3a1ab9f5",
    "id": "HNIBCkshaf2y",
    "deepnote_cell_type": "markdown",
    "deepnote_cell_height": 498
   }
  },
  {
   "cell_type": "code",
   "metadata": {
    "cell_id": "00036-931428e2-7076-4f19-960e-4bfd897cfd5c",
    "deepnote_to_be_reexecuted": false,
    "execution_millis": 116907,
    "execution_start": 1656399105202,
    "id": "Cb5vk_imG4iZ",
    "source_hash": "d365ccc",
    "deepnote_cell_type": "code",
    "deepnote_cell_height": 885,
    "deepnote_output_heights": [
     null,
     27
    ]
   },
   "source": "### Tu código para 15 epoch aquí ###\nnn = tf.keras.models.Sequential([\n     tf.keras.layers.Flatten(input_shape=[28,28]), # Según training_images.shape\n     tf.keras.layers.Dense(1024, activation=\"sigmoid\"),\n     tf.keras.layers.Dense(10, activation=\"softmax\") # número de clases np.unique(training_labels)\n])\nnn.compile(loss=\"categorical_crossentropy\", optimizer=\"adam\", metrics=[\"accuracy\"])\nnn.fit(training_images, training_labels, batch_size=64, epochs=15, validation_data=(test_images, test_labels))",
   "execution_count": 17,
   "outputs": [
    {
     "name": "stdout",
     "text": "Epoch 1/15\n938/938 [==============================] - 8s 8ms/step - loss: 0.5263 - accuracy: 0.8115 - val_loss: 0.4581 - val_accuracy: 0.8335\nEpoch 2/15\n938/938 [==============================] - 8s 8ms/step - loss: 0.4034 - accuracy: 0.8551 - val_loss: 0.4042 - val_accuracy: 0.8550\nEpoch 3/15\n938/938 [==============================] - 8s 8ms/step - loss: 0.3634 - accuracy: 0.8691 - val_loss: 0.3809 - val_accuracy: 0.8641\nEpoch 4/15\n938/938 [==============================] - 8s 8ms/step - loss: 0.3360 - accuracy: 0.8773 - val_loss: 0.3679 - val_accuracy: 0.8690\nEpoch 5/15\n938/938 [==============================] - 8s 8ms/step - loss: 0.3160 - accuracy: 0.8838 - val_loss: 0.3608 - val_accuracy: 0.8678\nEpoch 6/15\n938/938 [==============================] - 8s 8ms/step - loss: 0.2954 - accuracy: 0.8903 - val_loss: 0.3570 - val_accuracy: 0.8745\nEpoch 7/15\n938/938 [==============================] - 8s 9ms/step - loss: 0.2772 - accuracy: 0.8978 - val_loss: 0.3346 - val_accuracy: 0.8820\nEpoch 8/15\n938/938 [==============================] - 8s 8ms/step - loss: 0.2616 - accuracy: 0.9028 - val_loss: 0.3251 - val_accuracy: 0.8822\nEpoch 9/15\n938/938 [==============================] - 8s 8ms/step - loss: 0.2493 - accuracy: 0.9066 - val_loss: 0.3536 - val_accuracy: 0.8778\nEpoch 10/15\n938/938 [==============================] - 8s 8ms/step - loss: 0.2370 - accuracy: 0.9109 - val_loss: 0.3232 - val_accuracy: 0.8864\nEpoch 11/15\n938/938 [==============================] - 8s 8ms/step - loss: 0.2248 - accuracy: 0.9155 - val_loss: 0.3243 - val_accuracy: 0.8862\nEpoch 12/15\n938/938 [==============================] - 8s 8ms/step - loss: 0.2145 - accuracy: 0.9193 - val_loss: 0.3153 - val_accuracy: 0.8891\nEpoch 13/15\n938/938 [==============================] - 8s 8ms/step - loss: 0.2057 - accuracy: 0.9226 - val_loss: 0.3182 - val_accuracy: 0.8881\nEpoch 14/15\n938/938 [==============================] - 8s 8ms/step - loss: 0.1956 - accuracy: 0.9265 - val_loss: 0.3167 - val_accuracy: 0.8887\nEpoch 15/15\n938/938 [==============================] - 8s 8ms/step - loss: 0.1876 - accuracy: 0.9289 - val_loss: 0.3083 - val_accuracy: 0.8938\n",
     "output_type": "stream"
    },
    {
     "output_type": "execute_result",
     "execution_count": 17,
     "data": {
      "text/plain": "<keras.callbacks.History at 0x7f3ed07d31f0>"
     },
     "metadata": {}
    }
   ]
  },
  {
   "cell_type": "code",
   "metadata": {
    "cell_id": "00037-730dac1a-7f00-40ae-9447-eef46799e7e3",
    "deepnote_to_be_reexecuted": false,
    "execution_millis": 262590,
    "execution_start": 1656399222107,
    "id": "I9jQ26Gda5cv",
    "source_hash": "d17a7bc6",
    "deepnote_cell_type": "code",
    "deepnote_cell_height": 885,
    "deepnote_output_heights": [
     null,
     27
    ]
   },
   "source": "### Tu código para 30 epoch aquí ###\nnn = tf.keras.models.Sequential([\n     tf.keras.layers.Flatten(input_shape=[28,28]), # Según training_images.shape\n     tf.keras.layers.Dense(1024, activation=\"sigmoid\"),\n     tf.keras.layers.Dense(10, activation=\"softmax\") # número de clases np.unique(training_labels)\n])\nnn.compile(loss=\"categorical_crossentropy\", optimizer=\"adam\", metrics=[\"accuracy\"])\nnn.fit(training_images, training_labels, batch_size=64, epochs=30, validation_data=(test_images, test_labels))",
   "execution_count": 18,
   "outputs": [
    {
     "name": "stdout",
     "text": "Epoch 1/30\n938/938 [==============================] - 8s 8ms/step - loss: 0.5217 - accuracy: 0.8139 - val_loss: 0.4502 - val_accuracy: 0.8339\nEpoch 2/30\n938/938 [==============================] - 8s 8ms/step - loss: 0.4030 - accuracy: 0.8544 - val_loss: 0.4118 - val_accuracy: 0.8529\nEpoch 3/30\n938/938 [==============================] - 8s 8ms/step - loss: 0.3615 - accuracy: 0.8692 - val_loss: 0.4067 - val_accuracy: 0.8545\nEpoch 4/30\n938/938 [==============================] - 7s 8ms/step - loss: 0.3360 - accuracy: 0.8782 - val_loss: 0.3765 - val_accuracy: 0.8643\nEpoch 5/30\n938/938 [==============================] - 8s 8ms/step - loss: 0.3140 - accuracy: 0.8842 - val_loss: 0.3635 - val_accuracy: 0.8704\nEpoch 6/30\n938/938 [==============================] - 8s 8ms/step - loss: 0.2953 - accuracy: 0.8901 - val_loss: 0.3622 - val_accuracy: 0.8663\nEpoch 7/30\n938/938 [==============================] - 8s 8ms/step - loss: 0.2779 - accuracy: 0.8971 - val_loss: 0.3552 - val_accuracy: 0.8727\nEpoch 8/30\n938/938 [==============================] - 8s 8ms/step - loss: 0.2628 - accuracy: 0.9030 - val_loss: 0.3604 - val_accuracy: 0.8732\nEpoch 9/30\n938/938 [==============================] - 8s 8ms/step - loss: 0.2498 - accuracy: 0.9068 - val_loss: 0.3248 - val_accuracy: 0.8831\nEpoch 10/30\n938/938 [==============================] - 8s 8ms/step - loss: 0.2388 - accuracy: 0.9116 - val_loss: 0.3451 - val_accuracy: 0.8734\nEpoch 11/30\n938/938 [==============================] - 8s 8ms/step - loss: 0.2254 - accuracy: 0.9162 - val_loss: 0.3207 - val_accuracy: 0.8849\nEpoch 12/30\n938/938 [==============================] - 8s 8ms/step - loss: 0.2144 - accuracy: 0.9192 - val_loss: 0.3173 - val_accuracy: 0.8905\nEpoch 13/30\n938/938 [==============================] - 7s 8ms/step - loss: 0.2048 - accuracy: 0.9226 - val_loss: 0.3370 - val_accuracy: 0.8867\nEpoch 14/30\n938/938 [==============================] - 8s 8ms/step - loss: 0.1974 - accuracy: 0.9261 - val_loss: 0.3430 - val_accuracy: 0.8833\nEpoch 15/30\n938/938 [==============================] - 8s 8ms/step - loss: 0.1857 - accuracy: 0.9308 - val_loss: 0.3188 - val_accuracy: 0.8914\nEpoch 16/30\n938/938 [==============================] - 7s 8ms/step - loss: 0.1768 - accuracy: 0.9339 - val_loss: 0.3260 - val_accuracy: 0.8877\nEpoch 17/30\n938/938 [==============================] - 8s 8ms/step - loss: 0.1723 - accuracy: 0.9358 - val_loss: 0.3356 - val_accuracy: 0.8873\nEpoch 18/30\n938/938 [==============================] - 8s 8ms/step - loss: 0.1637 - accuracy: 0.9381 - val_loss: 0.3284 - val_accuracy: 0.8900\nEpoch 19/30\n938/938 [==============================] - 8s 8ms/step - loss: 0.1561 - accuracy: 0.9418 - val_loss: 0.3263 - val_accuracy: 0.8951\nEpoch 20/30\n938/938 [==============================] - 7s 8ms/step - loss: 0.1502 - accuracy: 0.9433 - val_loss: 0.3310 - val_accuracy: 0.8895\nEpoch 21/30\n938/938 [==============================] - 8s 8ms/step - loss: 0.1430 - accuracy: 0.9460 - val_loss: 0.3412 - val_accuracy: 0.8938\nEpoch 22/30\n938/938 [==============================] - 8s 8ms/step - loss: 0.1374 - accuracy: 0.9478 - val_loss: 0.3347 - val_accuracy: 0.8930\nEpoch 23/30\n938/938 [==============================] - 8s 8ms/step - loss: 0.1322 - accuracy: 0.9503 - val_loss: 0.3282 - val_accuracy: 0.8971\nEpoch 24/30\n938/938 [==============================] - 8s 8ms/step - loss: 0.1247 - accuracy: 0.9531 - val_loss: 0.3327 - val_accuracy: 0.8967\nEpoch 25/30\n938/938 [==============================] - 8s 8ms/step - loss: 0.1202 - accuracy: 0.9555 - val_loss: 0.3588 - val_accuracy: 0.8917\nEpoch 26/30\n938/938 [==============================] - 8s 8ms/step - loss: 0.1161 - accuracy: 0.9561 - val_loss: 0.3566 - val_accuracy: 0.8987\nEpoch 27/30\n938/938 [==============================] - 8s 8ms/step - loss: 0.1104 - accuracy: 0.9583 - val_loss: 0.3468 - val_accuracy: 0.8985\nEpoch 28/30\n938/938 [==============================] - 8s 8ms/step - loss: 0.1048 - accuracy: 0.9617 - val_loss: 0.3634 - val_accuracy: 0.8974\nEpoch 29/30\n938/938 [==============================] - 8s 8ms/step - loss: 0.1018 - accuracy: 0.9619 - val_loss: 0.3595 - val_accuracy: 0.8953\nEpoch 30/30\n938/938 [==============================] - 8s 8ms/step - loss: 0.0992 - accuracy: 0.9632 - val_loss: 0.3707 - val_accuracy: 0.8940\n",
     "output_type": "stream"
    },
    {
     "output_type": "execute_result",
     "execution_count": 18,
     "data": {
      "text/plain": "<keras.callbacks.History at 0x7f3f46168e20>"
     },
     "metadata": {}
    }
   ]
  },
  {
   "cell_type": "code",
   "metadata": {
    "cell_id": "00038-01d463d8-676d-469f-9576-65db10ed7d06",
    "deepnote_to_be_reexecuted": false,
    "execution_millis": 1031,
    "execution_start": 1656399484717,
    "id": "b-mL-h4xQhCm",
    "source_hash": "da9c4a6e",
    "deepnote_cell_type": "code",
    "deepnote_cell_height": 466
   },
   "source": "### Tu código del clasificador de la pregunta 3 aquí ###\nclassifications = nn.predict(test_images)\nprint(classifications)\nprint(\"Clase de la primer imagen:\", np.argmax(test_labels[0]))\nclassifications = tf.keras.utils.to_categorical(classifications, 10)\nprint(\"Clase predicha por la red\", np.argmax(classifications[0]))",
   "execution_count": 19,
   "outputs": [
    {
     "name": "stdout",
     "text": "313/313 [==============================] - 1s 3ms/step\n[[1.1323006e-11 1.4546154e-11 2.8182812e-09 ... 5.6492287e-04 6.8926087e-11 9.9942315e-01]\n [2.6092411e-04 1.7502680e-12 9.9931234e-01 ... 2.0669960e-14 1.1264980e-13 9.0202978e-14]\n [6.9835797e-11 9.9999994e-01 1.2318721e-13 ... 7.7280110e-18 1.2005974e-15 1.2069503e-19]\n ...\n [7.3527427e-11 2.1684766e-15 5.8139886e-12 ... 5.4835973e-11 9.9999994e-01 2.0879535e-20]\n [2.8182489e-11 9.9999994e-01 2.3239722e-13 ... 3.1238213e-15 2.0967589e-11 1.5705300e-13]\n [7.6196590e-14 1.3435607e-13 6.1083971e-10 ... 4.6699164e-08 7.3416162e-11 1.0202450e-14]]\nClase de la primer imagen: 9\nClase predicha por la red 0\n",
     "output_type": "stream"
    }
   ]
  },
  {
   "cell_type": "markdown",
   "source": "Tu respuesta a la pregunta 8.3 aquí:",
   "metadata": {
    "cell_id": "00038-cd5f74ea-5496-47ae-be3c-7ee80a9a328e",
    "id": "Fs0fjzH4bmSR",
    "deepnote_cell_type": "markdown",
    "deepnote_cell_height": 55
   }
  },
  {
   "cell_type": "markdown",
   "source": "# Ejercicio 6: Early stop\nEn el ejercicio anterior, cuando entrenabas con epoch extras, tenías un problema en el que tu pérdida podía cambiar. Puede que te haya llevado un poco de tiempo esperar a que el entrenamiento lo hiciera,  y puede que hayas pensado \"¿no estaría bien si pudiera parar el entrenamiento cuando alcance un valor deseado?\", es decir, una precisión del 85% podría ser suficiente para ti, y si alcanzas eso después de 3 epoch, ¿por qué sentarte a esperar a que termine muchas más épocas? Como cualquier otro programa existen formas de parar la ejecución\n\nA partir del ejemplo de código que se da, hacer una nueva función que tenga en cuenta la perdida (loss) y que pueda parar el código para evitar que ocurra el efeto secundario que vimos en el ejercicio 5.",
   "metadata": {
    "cell_id": "00039-6f1c6c39-8b56-495b-b50e-51056f6931a7",
    "id": "HlIgNG4Yb_N6",
    "deepnote_cell_type": "markdown",
    "deepnote_cell_height": 287
   }
  },
  {
   "cell_type": "code",
   "metadata": {
    "cell_id": "00040-e0714efc-00c7-4c14-9eb1-2c407371e5eb",
    "deepnote_to_be_reexecuted": false,
    "execution_millis": 1,
    "execution_start": 1656399485743,
    "id": "b5UwceFUG4ic",
    "source_hash": "b9ab19d5",
    "deepnote_cell_type": "code",
    "deepnote_cell_height": 189
   },
   "source": "### Ejemplo de código\n\nclass myCallback(tf.keras.callbacks.Callback):\n      def on_epoch_end(self, epoch, logs={}):\n        if(logs.get('accuracy')> 0.85):\n              print(\"\\nAlcanzado el 85% de precisión, se cancela el entrenamiento!!\")\n              self.model.stop_training = True",
   "execution_count": 20,
   "outputs": []
  },
  {
   "cell_type": "markdown",
   "source": "**Pregunta 9 (2 puntos)**: Completa el siguiente código con una clase callback que una vez alcanzado el 40% de perdida detenga el entrenamiento.",
   "metadata": {
    "cell_id": "00041-ffc251c6-192d-4949-b985-904cb4a88b32",
    "id": "0Bjd8wGKccrn",
    "deepnote_cell_type": "markdown",
    "deepnote_cell_height": 80
   }
  },
  {
   "cell_type": "code",
   "metadata": {
    "cell_id": "00042-40232d7d-2db7-42e4-ba08-11bd816a505f",
    "deepnote_to_be_reexecuted": false,
    "execution_millis": 8048,
    "execution_start": 1656399485744,
    "id": "29LSfdOvc270",
    "source_hash": "5aaff402",
    "owner_user_id": "41b68b99-1317-46a8-8d9f-507b7d8fe1ab",
    "deepnote_cell_type": "code",
    "deepnote_cell_height": 740,
    "deepnote_output_heights": [
     null,
     27
    ]
   },
   "source": "import tensorflow as tf\nprint(tf.__version__)\n\n### Tu código de la función callback para parar el entrenamiento de la red neuronal al 40% de loss aqui: ###\nclass myCallback(tf.keras.callbacks.Callback):\n    def on_epoch_end(self, epoch, logs={}):\n        if(logs.get('loss')>0.4):\n            print(\"\\nPérdida del 40%. Fin del entrenamiento.\")\n            self.model.stop_training = True\n\ncallbacks = myCallback()\nmnist = tf.keras.datasets.fashion_mnist\n(training_images, training_labels) ,  (test_images, test_labels) = mnist.load_data()\n\ntraining_images = training_images/255.0\ntest_images = test_images/255.0\n\nmodel = tf.keras.models.Sequential([tf.keras.layers.Flatten(),\n                                    tf.keras.layers.Dense(512, activation=tf.nn.relu),\n                                    tf.keras.layers.Dense(10, activation=tf.nn.softmax)])\n\nmodel.compile(optimizer = 'adam',\n              loss = 'sparse_categorical_crossentropy',\n              metrics=['accuracy']) \n\nmodel.fit(training_images, training_labels, epochs=50, callbacks=[callbacks])",
   "execution_count": 21,
   "outputs": [
    {
     "name": "stdout",
     "text": "2.9.1\nEpoch 1/50\n1875/1875 [==============================] - ETA: 0s - loss: 0.4752 - accuracy: 0.8306\nPérdida del 40%. Fin del entrenamiento.\n1875/1875 [==============================] - 7s 4ms/step - loss: 0.4752 - accuracy: 0.8306\n",
     "output_type": "stream"
    },
    {
     "output_type": "execute_result",
     "execution_count": 21,
     "data": {
      "text/plain": "<keras.callbacks.History at 0x7f3f45f5a250>"
     },
     "metadata": {}
    }
   ]
  },
  {
   "cell_type": "markdown",
   "source": "<a style='text-decoration:none;line-height:16px;display:flex;color:#5B5B62;padding:10px;justify-content:end;' href='https://deepnote.com?utm_source=created-in-deepnote-cell&projectId=02dbd28d-1aa5-4382-b37e-2cb978469c9c' target=\"_blank\">\n<img alt='Created in deepnote.com' style='display:inline;max-height:16px;margin:0px;margin-right:7.5px;' src='data:image/svg+xml;base64,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' > </img>\nCreated in <span style='font-weight:600;margin-left:4px;'>Deepnote</span></a>",
   "metadata": {
    "tags": [],
    "created_in_deepnote_cell": true,
    "deepnote_cell_type": "markdown"
   }
  }
 ],
 "nbformat": 4,
 "nbformat_minor": 5,
 "metadata": {
  "deepnote": {},
  "deepnote_execution_queue": [],
  "deepnote_notebook_id": "42e97da4-8251-47b7-9753-7dbd34eba9e4",
  "kernelspec": {
   "display_name": "Python 3 (ipykernel)",
   "language": "python",
   "name": "python3"
  },
  "language_info": {
   "codemirror_mode": {
    "name": "ipython",
    "version": 3
   },
   "file_extension": ".py",
   "mimetype": "text/x-python",
   "name": "python",
   "nbconvert_exporter": "python",
   "pygments_lexer": "ipython3",
   "version": "3.7.12"
  }
 }
}