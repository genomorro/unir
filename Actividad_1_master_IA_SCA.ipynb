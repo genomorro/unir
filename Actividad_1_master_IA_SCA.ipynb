{
 "cells": [
  {
   "cell_type": "markdown",
   "id": "bc59042a",
   "metadata": {
    "cell_id": "cc216d10-f0cb-4c69-8cf6-04cfb04b9f93",
    "deepnote_cell_height": 378,
    "deepnote_cell_type": "markdown",
    "id": "4VFT5_VnJl19"
   },
   "source": [
    "# Actividad 1: Conceptos generales de redes neuronales\n",
    "En esta actividad vamos a revisar algunos de los conceptos basicos de las redes neuronales, pero no por ello menos importantes.\n",
    "\n",
    "El dataset a utilizar es Fashion MNIST, un problema sencillo con imágenes pequeñas de ropa, pero más interesante que el dataset de MNIST. Puedes consultar más información sobre el dataset en este enlace.\n",
    "\n",
    "El código utilizado para contestar tiene que quedar claramente reflejado en el Notebook. Puedes crear nuevas cells si así lo deseas para estructurar tu código y sus salidas. A la hora de entregar el notebook, asegúrate de que los resultados de ejecutar tu código han quedado guardados (por ejemplo, a la hora de entrenar una red neuronal tiene que verse claramente un log de los resultados de cada epoch)."
   ]
  },
  {
   "cell_type": "code",
   "execution_count": 2,
   "id": "f74f9248",
   "metadata": {
    "cell_id": "00001-e1cd1d48-596f-425f-a347-ef3565e25454",
    "colab": {
     "base_uri": "https://localhost:8080/",
     "height": 34
    },
    "deepnote_cell_height": 138,
    "deepnote_cell_type": "code",
    "deepnote_to_be_reexecuted": false,
    "execution_millis": 244,
    "execution_start": 1656379346904,
    "id": "VU8gdrsVG4h0",
    "outputId": "97ce2b9c-047a-4c25-c030-77a6a63b61e1",
    "source_hash": "b91dbd17"
   },
   "outputs": [
    {
     "name": "stderr",
     "output_type": "stream",
     "text": [
      "2022-06-28 02:56:31.251478: W tensorflow/stream_executor/platform/default/dso_loader.cc:64] Could not load dynamic library 'libcudart.so.11.0'; dlerror: libcudart.so.11.0: cannot open shared object file: No such file or directory\n",
      "2022-06-28 02:56:31.251557: I tensorflow/stream_executor/cuda/cudart_stub.cc:29] Ignore above cudart dlerror if you do not have a GPU set up on your machine.\n"
     ]
    },
    {
     "name": "stdout",
     "output_type": "stream",
     "text": [
      "2.9.1\n"
     ]
    }
   ],
   "source": [
    "import tensorflow as tf\n",
    "print(tf.__version__)"
   ]
  },
  {
   "cell_type": "markdown",
   "id": "1eb2b91b",
   "metadata": {
    "cell_id": "00002-710a6cf3-f885-4136-a149-ad8846b3f1aa",
    "deepnote_cell_height": 80,
    "deepnote_cell_type": "markdown",
    "id": "zScMKU2OKSPD"
   },
   "source": [
    "En primer lugar vamos a importar el dataset Fashion MNIST (recordad que este es uno de los dataset de entranamiento que estan guardados en keras) que es el que vamos a utilizar en esta actividad:"
   ]
  },
  {
   "cell_type": "code",
   "execution_count": 3,
   "id": "3ff7c27f",
   "metadata": {
    "cell_id": "00003-517c400d-0e4a-41ff-807c-047345f4badc",
    "deepnote_cell_height": 81,
    "deepnote_cell_type": "code",
    "deepnote_to_be_reexecuted": false,
    "execution_millis": 3,
    "execution_start": 1656379351635,
    "id": "4voG2hxxG4h3",
    "source_hash": "71d2622e"
   },
   "outputs": [],
   "source": [
    "mnist = tf.keras.datasets.fashion_mnist"
   ]
  },
  {
   "cell_type": "markdown",
   "id": "467d8a82",
   "metadata": {
    "cell_id": "00004-9c16fda0-e127-409f-9a40-4c6e7a5b0e89",
    "deepnote_cell_height": 144,
    "deepnote_cell_type": "markdown",
    "id": "JphLsCvgKrzb"
   },
   "source": [
    "Llamar a **load_data** en este dataset nos dará dos conjuntos de dos listas, estos serán los valores de entrenamiento y prueba para los gráficos que contienen las prendas de vestir y sus etiquetas.\n",
    "\n",
    "Nota: Aunque en esta actividad lo veis de esta forma, también lo vais a poder encontrar como 4 variables de esta forma: training_images, training_labels, test_images, test_labels = mnist.load_data()"
   ]
  },
  {
   "cell_type": "code",
   "execution_count": 4,
   "id": "19dd36c7",
   "metadata": {
    "cell_id": "00005-7a57d9d7-e8af-4a18-a687-f21d06ef1f3f",
    "deepnote_cell_height": 81,
    "deepnote_cell_type": "code",
    "deepnote_to_be_reexecuted": false,
    "execution_millis": 401,
    "execution_start": 1656379356059,
    "id": "1muD4PHEG4h6",
    "source_hash": "799c24df"
   },
   "outputs": [],
   "source": [
    "(training_images, training_labels), (test_images, test_labels) = mnist.load_data()"
   ]
  },
  {
   "cell_type": "markdown",
   "id": "85450b45",
   "metadata": {
    "cell_id": "00006-c30e11d1-f482-4c3e-be54-5d504c6e1a09",
    "deepnote_cell_height": 80,
    "deepnote_cell_type": "markdown",
    "id": "ZWGpJqVVLT3Y"
   },
   "source": [
    "Antes de continuar vamos a dar un vistazo a nuestro dataset, para ello vamos a ver una imagen de entrenamiento y su etiqueta o clase."
   ]
  },
  {
   "cell_type": "code",
   "execution_count": 5,
   "id": "7018b3b4",
   "metadata": {
    "cell_id": "00007-1c67173f-ba42-4a5b-a7b0-947585688317",
    "deepnote_cell_height": 1090,
    "deepnote_cell_type": "code",
    "deepnote_output_heights": [
     null,
     250
    ],
    "deepnote_to_be_reexecuted": false,
    "execution_millis": 220,
    "execution_start": 1656379361479,
    "id": "t5a5PlswG4h8",
    "source_hash": "70acd57a"
   },
   "outputs": [
    {
     "name": "stdout",
     "output_type": "stream",
     "text": [
      "0\n",
      "[[  0   0   0   0   0   0   0   0   0   0   0   0   0   0   0   0   0  26   0   0   0   0   0   0   0   0   0   0]\n",
      " [  0   0   0   0   0   0   0   0 189 206 187  32   0   0   0  26 217 226 196  11   0   0   0   0   0   0   0   0]\n",
      " [  0   0   0   0   0   0   0   0 192 227 234 243 230 147 239 242 234 218 209   0   0   0   0   0   0   0   0   0]\n",
      " [  0   0   0   0   0   0   0   0 173 225 215 233 254   0 194 240 217 221 190   0   0   0   0   0   0   0   0   0]\n",
      " [  0   0   0   0   0   0   0   0 139 229 212 226 255   0 162 255 213 226 200   0   0   0   0   0   0   0   0   0]\n",
      " [  0   0   0   0   0   0   0   0  98 232 211 215 249  46 162 246 214 230 186   0   0   0   0   0   0   0   0   0]\n",
      " [  0   0   0   0   0   0   0   0  70 228 213 220 224 252 239 219 217 231 171   0   0   0   0   0   0   0   0   0]\n",
      " [  0   0   0   0   0   0   0   0  45 222 214 218 216 210 215 217 202 224 172   0   0   0   0   0   0   0   0   0]\n",
      " [  0   0   0   0   0   0   0   0  24 254 214 210 211 214 215 212 203 221 167   0   0   0   0   0   0   0   0   0]\n",
      " [  0   0   0   0   0   0   0   0   0 254 216 215 217 217 216 216 206 225 150   0   0   0   0   0   0   0   0   0]\n",
      " [  0   0   0   0   0   0   0   0   0 247 216 214 217 216 214 212 203 226 136   0   0   0   0   0   0   0   0   0]\n",
      " [  0   0   0   0   0   0   0   0   0 245 216 214 216 217 215 211 204 225 125   0   0   0   0   0   0   0   0   0]\n",
      " [  0   0   0   0   0   0   0   0   0 247 216 214 217 220 217 213 203 222 147   0   0   0   0   0   0   0   0   0]\n",
      " [  0   0   0   0   0   0   0   0   0 248 216 215 218 222 216 214 207 218 179   0   0   0   0   0   0   0   0   0]\n",
      " [  0   0   0   0   0   0   0   0   0 249 216 217 219 222 217 214 210 215 211   0   0   0   0   0   0   0   0   0]\n",
      " [  0   0   0   0   0   0   0   0  38 255 214 218 219 224 218 215 211 211 231   0   0   0   0   0   0   0   0   0]\n",
      " [  0   0   0   0   0   0   0   0  79 227 209 219 219 227 219 215 213 206 254  58   0   0   0   0   0   0   0   0]\n",
      " [  0   0   0   0   0   0   0   0 146 226 211 220 219 228 218 215 216 205 219 163   0   0   0   0   0   0   0   0]\n",
      " [  0   0   0   0   0   0   0   0 202 221 214 221 219 231 218 215 218 213 212 220   0   0   0   0   0   0   0   0]\n",
      " [  0   0   0   0   0   0   0   0 234 217 216 220 219 234 217 215 218 216 223 247   7   0   0   0   0   0   0   0]\n",
      " [  0   0   0   0   0   0   0  17 254 212 219 219 220 233 214 216 219 222 153 238  58   0   0   0   0   0   0   0]\n",
      " [  0   0   0   0   0   0   0  66 255 208 220 219 222 241 220 218 218 218 192 242  99   0   0   0   0   0   0   0]\n",
      " [  0   0   0   0   0   0   0 142 235 203 218 216 231 242 225 233 219 214 216 238 144   0   0   0   0   0   0   0]\n",
      " [  0   0   0   0   0   0   0 177 248 227 229 211 255  76   0 247 243 230 230 249 187   0   0   0   0   0   0   0]\n",
      " [  0   0   0   0   0   0   0 101 241 228 228 220 255  64   0 243 237 230 227 241 142   0   0   0   0   0   0   0]\n",
      " [  0   0   0   0   0   0   0   0 255 242 222 218 255  62   0 223 238 225 238 255  31   0   0   0   0   0   0   0]\n",
      " [  0   0   0   0   0   0   0   0  45 255 242 235 255  84   0 246 255 242 255  70   0   0   0   0   0   0   0   0]\n",
      " [  0   0   0   0   0   0   0   0   0   0  61 102 168  25   0 139 161  74   0   0   0   0   0   0   0   0   0   0]]\n"
     ]
    },
    {
     "data": {
      "image/png": "[encoded data removed]",
      "text/plain": [
       "<Figure size 432x288 with 1 Axes>"
      ]
     },
     "metadata": {
      "needs_background": "light"
     },
     "output_type": "display_data"
    }
   ],
   "source": [
    "import numpy as np\n",
    "np.set_printoptions(linewidth=200)\n",
    "import matplotlib.pyplot as plt\n",
    "plt.imshow(training_images[4], cmap=\"gray\") # recordad que siempre es preferible trabajar en blanco y negro\n",
    "#\n",
    "print(training_labels[4])\n",
    "print(training_images[4])"
   ]
  },
  {
   "cell_type": "markdown",
   "id": "c59bd84a",
   "metadata": {
    "cell_id": "00008-2fd2dfdd-9a80-48b0-9f4c-fd75104242f8",
    "deepnote_cell_height": 105,
    "deepnote_cell_type": "markdown",
    "id": "WCJvZx3MLucY"
   },
   "source": [
    "Habreis notado que todos los valores numericos están entre 0 y 255. Si estamos entrenando una red neuronal, una buena practica es transformar todos los valores entre 0 y 1, un proceso llamado \"normalización\" y afortunadamente en Python es fácil normalizar una lista. Lo puedes hacer de esta manera:"
   ]
  },
  {
   "cell_type": "markdown",
   "id": "000ca491",
   "metadata": {
    "cell_id": "00009-f226d013-418e-416a-abf1-35d1b91f8a0a",
    "deepnote_cell_height": 46,
    "deepnote_cell_type": "markdown",
    "id": "OLpAvdVcRlyx"
   },
   "source": []
  },
  {
   "cell_type": "code",
   "execution_count": 6,
   "id": "a8a233a8",
   "metadata": {
    "cell_id": "00010-477ddebd-7641-4990-8670-187f739c2029",
    "deepnote_cell_height": 99,
    "deepnote_cell_type": "code",
    "deepnote_to_be_reexecuted": false,
    "execution_millis": 367,
    "execution_start": 1656379368273,
    "id": "tojL1BmjG4h_",
    "lines_to_next_cell": 2,
    "source_hash": "7609eab4"
   },
   "outputs": [],
   "source": [
    "training_images  = training_images / 255.0\n",
    "test_images = test_images / 255.0"
   ]
  },
  {
   "cell_type": "markdown",
   "id": "f3f2ad1e",
   "metadata": {
    "cell_id": "00011-2e487eb8-d511-441f-a33b-12b424072f17",
    "deepnote_cell_height": 345,
    "deepnote_cell_type": "markdown",
    "id": "yYUWWsszMAKt"
   },
   "source": [
    "Ahora vamos a definir el modelo, pero antes vamos a repasar algunos comandos y conceptos muy utiles:\n",
    "* **Sequential**: Eso define una SECUENCIA de capas en la red neuronal\n",
    "* **Dense**: Añade una capa de neuronas\n",
    "* **Flatten**: ¿Recuerdas que las imágenes cómo eran las imagenes cuando las imprimiste para poder verlas? Un cuadrado, Flatten sólo toma ese cuadrado y lo convierte en un vector de una dimensión.\n",
    "\n",
    "Cada capa de neuronas necesita una función de activación. Normalmente se usa la función relu en las capas intermedias y softmax en la ultima capa\n",
    "* **Relu** significa que \"Si X>0 devuelve X, si no, devuelve 0\", así que lo que hace es pasar sólo valores 0 o mayores a la siguiente capa de la red.\n",
    "* **Softmax** toma un conjunto de valores, y escoge el más grande."
   ]
  },
  {
   "cell_type": "markdown",
   "id": "e4e1595c",
   "metadata": {
    "cell_id": "00012-a65b5097-c3c9-48b1-bd2a-a4d0a3eb129d",
    "deepnote_cell_height": 320,
    "deepnote_cell_type": "markdown",
    "id": "QgBW1yE2MwPp"
   },
   "source": [
    " **Pregunta 1 (3.5 puntos)**. Utilizando Keras, y preparando los datos de X e y como fuera necesario, define y entrena una red neuronal que sea capaz de clasificar imágenes de Fashion MNIST con las siguientes características:\n",
    "\n",
    "* Una hidden layer de tamaños 128, utilizando unidades sigmoid\n",
    "Optimizador Adam.\n",
    "* Durante el entrenamiento, la red tiene que mostrar resultados de loss y accuracy por cada epoch.\n",
    "* La red debe entrenar durante 10 epochs y batch size de 64.\n",
    "* La última capa debe de ser una capa softmax.\n",
    "* Tu red tendría que ser capaz de superar fácilmente 80% de accuracy."
   ]
  },
  {
   "cell_type": "code",
   "execution_count": 7,
   "id": "d4fc464b",
   "metadata": {
    "cell_id": "00013-5a03fd28-b1cd-405c-bf7b-d19062449254",
    "deepnote_cell_height": 894,
    "deepnote_cell_type": "code",
    "deepnote_output_heights": [
     null,
     27
    ],
    "deepnote_to_be_reexecuted": false,
    "execution_millis": 25595,
    "execution_start": 1656379373361,
    "id": "aTaD2QXIORwu",
    "lines_to_next_cell": 2,
    "source_hash": "9334e3bc"
   },
   "outputs": [
    {
     "name": "stderr",
     "output_type": "stream",
     "text": [
      "2022-06-28 02:56:51.154136: W tensorflow/stream_executor/platform/default/dso_loader.cc:64] Could not load dynamic library 'libcuda.so.1'; dlerror: libcuda.so.1: cannot open shared object file: No such file or directory\n",
      "2022-06-28 02:56:51.154201: W tensorflow/stream_executor/cuda/cuda_driver.cc:269] failed call to cuInit: UNKNOWN ERROR (303)\n",
      "2022-06-28 02:56:51.154232: I tensorflow/stream_executor/cuda/cuda_diagnostics.cc:156] kernel driver does not appear to be running on this host (jupyter-genomorro-2dunir-2do6r3wdvs): /proc/driver/nvidia/version does not exist\n",
      "2022-06-28 02:56:51.154646: I tensorflow/core/platform/cpu_feature_guard.cc:193] This TensorFlow binary is optimized with oneAPI Deep Neural Network Library (oneDNN) to use the following CPU instructions in performance-critical operations:  AVX2 FMA\n",
      "To enable them in other operations, rebuild TensorFlow with the appropriate compiler flags.\n"
     ]
    },
    {
     "name": "stdout",
     "output_type": "stream",
     "text": [
      "Epoch 1/10\n",
      "938/938 [==============================] - 8s 8ms/step - loss: 0.5954 - accuracy: 0.8034 - val_loss: 0.4629 - val_accuracy: 0.8374\n",
      "Epoch 2/10\n",
      "938/938 [==============================] - 7s 7ms/step - loss: 0.4128 - accuracy: 0.8529 - val_loss: 0.4175 - val_accuracy: 0.8510\n",
      "Epoch 3/10\n",
      "938/938 [==============================] - 7s 7ms/step - loss: 0.3744 - accuracy: 0.8665 - val_loss: 0.3957 - val_accuracy: 0.8600\n",
      "Epoch 4/10\n",
      "938/938 [==============================] - 8s 8ms/step - loss: 0.3509 - accuracy: 0.8739 - val_loss: 0.3859 - val_accuracy: 0.8606\n",
      "Epoch 5/10\n",
      "938/938 [==============================] - 7s 7ms/step - loss: 0.3309 - accuracy: 0.8799 - val_loss: 0.3821 - val_accuracy: 0.8593\n",
      "Epoch 6/10\n",
      "938/938 [==============================] - 7s 7ms/step - loss: 0.3166 - accuracy: 0.8854 - val_loss: 0.3680 - val_accuracy: 0.8658\n",
      "Epoch 7/10\n",
      "938/938 [==============================] - 7s 7ms/step - loss: 0.3039 - accuracy: 0.8902 - val_loss: 0.3496 - val_accuracy: 0.8738\n",
      "Epoch 8/10\n",
      "938/938 [==============================] - 7s 7ms/step - loss: 0.2919 - accuracy: 0.8936 - val_loss: 0.3434 - val_accuracy: 0.8746\n",
      "Epoch 9/10\n",
      "938/938 [==============================] - 7s 7ms/step - loss: 0.2818 - accuracy: 0.8978 - val_loss: 0.3355 - val_accuracy: 0.8786\n",
      "Epoch 10/10\n",
      "938/938 [==============================] - 7s 7ms/step - loss: 0.2738 - accuracy: 0.8993 - val_loss: 0.3345 - val_accuracy: 0.8793\n"
     ]
    },
    {
     "data": {
      "text/plain": [
       "<keras.callbacks.History at 0x7f4dbd262950>"
      ]
     },
     "execution_count": 7,
     "metadata": {},
     "output_type": "execute_result"
    }
   ],
   "source": [
    "### Tu código para la red neuronal de la pregunta 1 aquí ###\n",
    "nn = tf.keras.models.Sequential([\n",
    "      tf.keras.layers.Flatten(input_shape=[28,28]), # Según training_images.shape\n",
    "      tf.keras.layers.Dense(128, activation=\"sigmoid\"),\n",
    "      tf.keras.layers.Dense(10, activation=\"softmax\") # número de clases np.unique(training_labels)\n",
    "])\n",
    "nn.compile(loss=\"categorical_crossentropy\", optimizer=\"adam\", metrics=[\"accuracy\"])\n",
    "# Es necesario preprocesar las etiquetas de salida para que sean reconocidas como categorías\n",
    "training_labels = tf.keras.utils.to_categorical(training_labels, 10)\n",
    "test_labels = tf.keras.utils.to_categorical(test_labels, 10)\n",
    "nn.fit(training_images, training_labels, batch_size=64, epochs=10, validation_data=(test_images, test_labels))"
   ]
  },
  {
   "cell_type": "markdown",
   "id": "8f1094cf",
   "metadata": {
    "cell_id": "00014-17fc699a-a8e6-4488-8186-3e00109f7164",
    "deepnote_cell_height": 119,
    "deepnote_cell_type": "markdown",
    "id": "Bxr5hTKYOQnK"
   },
   "source": [
    "Para concluir el entrenamiento de la red neuronal, una buena practica es evaluar el modelo para ver si la precisión de entrenamiento es real\n",
    "\n",
    "**pregunta 2 (0.5 puntos)**: evalua el modelo con las imagenes y etiquetas test."
   ]
  },
  {
   "cell_type": "code",
   "execution_count": 7,
   "id": "1cd6a598",
   "metadata": {
    "cell_id": "00015-9f1e67d2-c0ac-4abc-a6ce-e7781b603e31",
    "deepnote_cell_height": 202,
    "deepnote_cell_type": "code",
    "deepnote_to_be_reexecuted": false,
    "execution_millis": 700,
    "execution_start": 1656379412981,
    "id": "VNjQEtUUG4iI",
    "lines_to_next_cell": 1,
    "source_hash": "2d9efdb5"
   },
   "outputs": [
    {
     "name": "stdout",
     "output_type": "stream",
     "text": [
      "Test loss: 0.3526904881000519\n",
      "Test accuracy: 0.8722000122070312\n"
     ]
    }
   ],
   "source": [
    "### Tu código para la evaluación de la red neuronal de la pregunta 2 aquí ###\n",
    "score = nn.evaluate(test_images, test_labels, verbose=0)\n",
    "print(\"Test loss:\", score[0])\n",
    "print(\"Test accuracy:\", score[1])"
   ]
  },
  {
   "cell_type": "markdown",
   "id": "88abfb31",
   "metadata": {
    "cell_id": "00016-23ca49dd-89ac-4073-ae55-3fa1654d218d",
    "deepnote_cell_height": 526,
    "deepnote_cell_type": "markdown",
    "id": "ygMVnmSYO83U"
   },
   "source": [
    "Ahora vamos a explorar el código con una serie de ejercicios para alcanzar un grado de comprensión mayor sobre las redes neuronales y su entrenamiento.\n",
    "\n",
    "# **Ejercicio 1: Funcionamiento de las predicción de la red neuronal**\n",
    "\n",
    "Para este primer ejercicio sigue los siguientes pasos: \n",
    "\n",
    "* Crea una variable llamada **classifications** para construir un clasificador para las imágenes de prueba, para ello puedes utilizar la función predict sobre el conjunto de test\n",
    "* Imprime con la función print la primera entrada en las clasificaciones. \n",
    "\n",
    "**pregunta 3.1 (0.25 puntos)**, el resultado al imprimirlo es un vector de números, \n",
    "* ¿Por qué crees que ocurre esto, y qué representa este vector de números?\n",
    "\n",
    "**pregunta 3.2 (0.25 puntos)**\n",
    "* ¿Cúal es la clase de la primera entrada#  de la variable **classifications**? La respuesta puede ser un número o su etiqueta/clase equivalente."
   ]
  },
  {
   "cell_type": "code",
   "execution_count": 8,
   "id": "b97ed1a5",
   "metadata": {
    "cell_id": "00017-90dd8bd8-49c7-4581-9209-d37b46425fc5",
    "deepnote_cell_height": 374,
    "deepnote_cell_type": "code",
    "deepnote_to_be_reexecuted": false,
    "execution_millis": 539,
    "execution_start": 1656379420838,
    "id": "b-mL-h4xQhCm",
    "source_hash": "a3ca8502"
   },
   "outputs": [
    {
     "name": "stdout",
     "output_type": "stream",
     "text": [
      "313/313 [==============================] - 1s 4ms/step\n",
      "[[9.31016893e-06 5.48087257e-07 4.50472362e-06 ... 4.49470580e-02 4.84394637e-04 9.40993547e-01]\n",
      " [1.43234001e-03 4.06759000e-06 9.66576993e-01 ... 2.28735047e-07 1.25923780e-05 1.50756733e-07]\n",
      " [8.85278278e-05 9.99871016e-01 6.97272890e-06 ... 1.63232983e-07 1.19934509e-06 7.16868831e-09]\n",
      " ...\n",
      " [2.78551131e-03 7.90027343e-07 2.44527851e-04 ... 4.74867556e-04 9.88201439e-01 6.71919508e-07]\n",
      " [1.35186601e-05 9.99785900e-01 1.03072343e-05 ... 2.94250299e-07 1.68736938e-06 4.70290928e-07]\n",
      " [1.35550056e-06 5.59429907e-07 1.47306055e-05 ... 9.73829068e-03 9.77750169e-04 1.51788536e-05]]\n",
      "Clase de la primer imagen: 9\n",
      "Clase predicha por la red 0\n"
     ]
    }
   ],
   "source": [
    "### Tu código del clasificador de la pregunta 3 aquí ###\n",
    "classifications = nn.predict(test_images)\n",
    "print(classifications)\n",
    "print(\"Clase de la primer imagen:\", np.argmax(test_labels[0]))\n",
    "classifications = tf.keras.utils.to_categorical(classifications, 10)\n",
    "print(\"Clase predicha por la red\", np.argmax(classifications[0]))"
   ]
  },
  {
   "cell_type": "markdown",
   "id": "56b5162d",
   "metadata": {
    "cell_id": "00018-155cd98c-295e-4597-8db4-f778dcf895cf",
    "deepnote_cell_height": 55,
    "deepnote_cell_type": "markdown",
    "id": "pvbVC9gaQhMY"
   },
   "source": [
    "Tu respuesta a la pregunta 3.1 aquí:"
   ]
  },
  {
   "cell_type": "markdown",
   "id": "8b72ca47",
   "metadata": {
    "cell_id": "00019-09562af1-5380-4f6b-befe-a0eb19dd04ba",
    "deepnote_cell_height": 55,
    "deepnote_cell_type": "markdown",
    "id": "oRWo-75tdgv0"
   },
   "source": [
    "Tu respuesta a la pregunta 3.2 aquí:"
   ]
  },
  {
   "cell_type": "markdown",
   "id": "f9ff63b5",
   "metadata": {
    "cell_id": "00020-8da69344-f04a-41d3-ae62-d710b63fc630",
    "deepnote_cell_height": 345,
    "deepnote_cell_type": "markdown",
    "id": "hiQ8qAzhRQ4L"
   },
   "source": [
    "# **Ejercicio 2: Impacto variar el número de neuronas en las capas ocultas**\n",
    "\n",
    "En este ejercicio vamos a experimentar con nuestra red neuronal cambiando el numero de neuronas por 512 y por 1024. Para ello, utiliza la red neuronal de la pregunta 1, y su capa oculta cambia las 128 neuronas:\n",
    "\n",
    "* **pregunta 4.1 (0.25 puntos)**: 512 neuronas en la capa oculta\n",
    "* **pregunta 4.2 (0.25 puntos)**:1024 neuronas en la capa oculta\n",
    "\n",
    "y entrena la red en ambos casos.\n",
    "\n",
    "**pregunta 4.3 (0.5 puntos)**: ¿Cual es el impacto que tiene la red neuronal?"
   ]
  },
  {
   "cell_type": "code",
   "execution_count": 9,
   "id": "1299a24a",
   "metadata": {
    "cell_id": "00021-410d576a-10dd-47cf-bd32-90478c9fa4ea",
    "deepnote_cell_height": 840,
    "deepnote_cell_type": "code",
    "deepnote_output_heights": [
     null,
     27
    ],
    "deepnote_to_be_reexecuted": false,
    "execution_millis": 82529,
    "execution_start": 1656379635834,
    "id": "cdP8ZwuaUV93",
    "source_hash": "bf27e44a"
   },
   "outputs": [
    {
     "name": "stdout",
     "output_type": "stream",
     "text": [
      "Epoch 1/10\n",
      "938/938 [==============================] - 13s 13ms/step - loss: 0.5292 - accuracy: 0.8138 - val_loss: 0.4662 - val_accuracy: 0.8334\n",
      "Epoch 2/10\n",
      "938/938 [==============================] - 12s 13ms/step - loss: 0.4011 - accuracy: 0.8554 - val_loss: 0.4132 - val_accuracy: 0.8496\n",
      "Epoch 3/10\n",
      "938/938 [==============================] - 12s 13ms/step - loss: 0.3657 - accuracy: 0.8673 - val_loss: 0.3852 - val_accuracy: 0.8620\n",
      "Epoch 4/10\n",
      "938/938 [==============================] - 12s 13ms/step - loss: 0.3364 - accuracy: 0.8770 - val_loss: 0.3748 - val_accuracy: 0.8671\n",
      "Epoch 5/10\n",
      "938/938 [==============================] - 13s 14ms/step - loss: 0.3167 - accuracy: 0.8846 - val_loss: 0.3668 - val_accuracy: 0.8664\n",
      "Epoch 6/10\n",
      "938/938 [==============================] - 12s 13ms/step - loss: 0.2980 - accuracy: 0.8898 - val_loss: 0.3468 - val_accuracy: 0.8746\n",
      "Epoch 7/10\n",
      "938/938 [==============================] - 12s 13ms/step - loss: 0.2821 - accuracy: 0.8956 - val_loss: 0.3414 - val_accuracy: 0.8750\n",
      "Epoch 8/10\n",
      "938/938 [==============================] - 12s 13ms/step - loss: 0.2693 - accuracy: 0.8996 - val_loss: 0.3394 - val_accuracy: 0.8748\n",
      "Epoch 9/10\n",
      "938/938 [==============================] - 12s 13ms/step - loss: 0.2552 - accuracy: 0.9056 - val_loss: 0.3311 - val_accuracy: 0.8805\n",
      "Epoch 10/10\n",
      "938/938 [==============================] - 13s 14ms/step - loss: 0.2468 - accuracy: 0.9072 - val_loss: 0.3295 - val_accuracy: 0.8826\n"
     ]
    },
    {
     "data": {
      "text/plain": [
       "<keras.callbacks.History at 0x7f9b4aaf1950>"
      ]
     },
     "execution_count": 9,
     "metadata": {},
     "output_type": "execute_result"
    }
   ],
   "source": [
    "### Tu código para 512 neuronas aquí ###\n",
    "nn = tf.keras.models.Sequential([\n",
    "      tf.keras.layers.Flatten(input_shape=[28,28]), # Según training_images.shape\n",
    "      tf.keras.layers.Dense(512, activation=\"sigmoid\"),\n",
    "      tf.keras.layers.Dense(10, activation=\"softmax\") # número de clases np.unique(training_labels)\n",
    "])\n",
    "nn.compile(loss=\"categorical_crossentropy\", optimizer=\"adam\", metrics=[\"accuracy\"])\n",
    "nn.fit(training_images, training_labels, batch_size=64, epochs=10, validation_data=(test_images, test_labels))"
   ]
  },
  {
   "cell_type": "code",
   "execution_count": 10,
   "id": "23b1acc0",
   "metadata": {
    "cell_id": "00022-9072124e-004f-47a3-9f66-b7cd9ea72f51",
    "deepnote_cell_height": 840,
    "deepnote_cell_type": "code",
    "deepnote_output_heights": [
     null,
     27
    ],
    "deepnote_to_be_reexecuted": false,
    "execution_millis": 74581,
    "execution_start": 1656379755678,
    "id": "YXBlbbfuUaPa",
    "source_hash": "86fc2da3"
   },
   "outputs": [
    {
     "name": "stdout",
     "output_type": "stream",
     "text": [
      "Epoch 1/10\n",
      "938/938 [==============================] - 20s 20ms/step - loss: 0.5229 - accuracy: 0.8135 - val_loss: 0.4528 - val_accuracy: 0.8382\n",
      "Epoch 2/10\n",
      "938/938 [==============================] - 19s 20ms/step - loss: 0.4006 - accuracy: 0.8550 - val_loss: 0.4287 - val_accuracy: 0.8475\n",
      "Epoch 3/10\n",
      "938/938 [==============================] - 20s 21ms/step - loss: 0.3610 - accuracy: 0.8697 - val_loss: 0.3795 - val_accuracy: 0.8662\n",
      "Epoch 4/10\n",
      "938/938 [==============================] - 19s 20ms/step - loss: 0.3338 - accuracy: 0.8774 - val_loss: 0.4008 - val_accuracy: 0.8561\n",
      "Epoch 5/10\n",
      "938/938 [==============================] - 19s 20ms/step - loss: 0.3136 - accuracy: 0.8843 - val_loss: 0.3718 - val_accuracy: 0.8627\n",
      "Epoch 6/10\n",
      "938/938 [==============================] - 19s 21ms/step - loss: 0.2920 - accuracy: 0.8916 - val_loss: 0.3578 - val_accuracy: 0.8671\n",
      "Epoch 7/10\n",
      "938/938 [==============================] - 19s 21ms/step - loss: 0.2776 - accuracy: 0.8979 - val_loss: 0.3635 - val_accuracy: 0.8669\n",
      "Epoch 8/10\n",
      "938/938 [==============================] - 19s 20ms/step - loss: 0.2627 - accuracy: 0.9019 - val_loss: 0.3223 - val_accuracy: 0.8848\n",
      "Epoch 9/10\n",
      "938/938 [==============================] - 19s 20ms/step - loss: 0.2482 - accuracy: 0.9073 - val_loss: 0.3221 - val_accuracy: 0.8866\n",
      "Epoch 10/10\n",
      "938/938 [==============================] - 20s 21ms/step - loss: 0.2377 - accuracy: 0.9102 - val_loss: 0.3245 - val_accuracy: 0.8852\n"
     ]
    },
    {
     "data": {
      "text/plain": [
       "<keras.callbacks.History at 0x7f9b143bf2d0>"
      ]
     },
     "execution_count": 10,
     "metadata": {},
     "output_type": "execute_result"
    }
   ],
   "source": [
    "### Tu código para 1024 neuronas aquí ###\n",
    "nn = tf.keras.models.Sequential([\n",
    "     tf.keras.layers.Flatten(input_shape=[28,28]), # Según training_images.shape\n",
    "     tf.keras.layers.Dense(1024, activation=\"sigmoid\"),\n",
    "     tf.keras.layers.Dense(10, activation=\"softmax\") # número de clases np.unique(training_labels)\n",
    "])\n",
    "nn.compile(loss=\"categorical_crossentropy\", optimizer=\"adam\", metrics=[\"accuracy\"])\n",
    "nn.fit(training_images, training_labels, batch_size=64, epochs=10, validation_data=(test_images, test_labels))"
   ]
  },
  {
   "cell_type": "markdown",
   "id": "ad9e3a95",
   "metadata": {
    "cell_id": "00023-7e000ca5-0905-4d4e-8737-342abd0d4824",
    "deepnote_cell_height": 55,
    "deepnote_cell_type": "markdown",
    "id": "wG0h2HL-Uj93"
   },
   "source": [
    "Tu respuesta a la pregunta 4.3 aquí:"
   ]
  },
  {
   "cell_type": "markdown",
   "id": "a75c8bd0",
   "metadata": {
    "cell_id": "00024-7344d1a1-f49f-4bc9-81cd-be097c86b2e8",
    "deepnote_cell_height": 275,
    "deepnote_cell_type": "markdown",
    "id": "b-NpUI9EVkVz"
   },
   "source": [
    "Si ahora entrenais el modelo de esta forma (con 512 y 1024 neuronas en la capa oculta) y volveis a ejecutar el predictor guardado en la variable **classifications**, escribir el código del clasificador del ejercicio 1 de nuevo e imprimid el primer objeto guardado en la variable classifications.\n",
    "\n",
    "**pregunta 5.1 (0.25 puntos)**: \n",
    "\n",
    "* ¿En que clase esta clasificado ahora la primera prenda de vestir de la variable classifications?\n",
    "\n",
    "**pregunta 5.1 (0.25 puntos)**: \n",
    "\n",
    "* ¿Porque crees que ha ocurrido esto?"
   ]
  },
  {
   "cell_type": "code",
   "execution_count": 11,
   "id": "4548efa6-b8f7-469d-aa31-dbd7e1088b4b",
   "metadata": {
    "cell_id": "00017-90dd8bd8-49c7-4581-9209-d37b46425fc5",
    "deepnote_cell_height": 374,
    "deepnote_cell_type": "code",
    "deepnote_to_be_reexecuted": false,
    "execution_millis": 539,
    "execution_start": 1656379420838,
    "id": "b-mL-h4xQhCm",
    "source_hash": "a3ca8502"
   },
   "outputs": [
    {
     "name": "stdout",
     "output_type": "stream",
     "text": [
      "313/313 [==============================] - 2s 6ms/step\n",
      "Clase de la primer imagen: 0\n",
      "Clase predicha por la red 0\n"
     ]
    }
   ],
   "source": [
    "### Tu código del clasificador de la pregunta 5 aquí ###\n",
    "classifications = nn.predict(test_images)\n",
    "print(\"Clase de la primer imagen:\", np.argmax(test_labels[201]))\n",
    "classifications = tf.keras.utils.to_categorical(classifications, 10)\n",
    "print(\"Clase predicha por la red\", np.argmax(classifications[201]))"
   ]
  },
  {
   "cell_type": "markdown",
   "id": "5a2ed808",
   "metadata": {
    "cell_id": "00026-d568ca65-cf8d-422f-ab53-a9bb62bcd52f",
    "deepnote_cell_height": 55,
    "deepnote_cell_type": "markdown",
    "id": "P3NfwdOGZcAa"
   },
   "source": [
    "Tu respuesta a la pregunta 5.1 aquí:"
   ]
  },
  {
   "cell_type": "markdown",
   "id": "f4fe637d",
   "metadata": {
    "cell_id": "00027-3c3779a7-4f98-4368-8417-1a3d801a3056",
    "deepnote_cell_height": 55,
    "deepnote_cell_type": "markdown",
    "id": "nFmfpxE1ZcJx"
   },
   "source": [
    "Tu respuesta a la pregunta 5.2 aquí:"
   ]
  },
  {
   "cell_type": "markdown",
   "id": "fe47afe1",
   "metadata": {
    "cell_id": "00028-f93d2208-534c-46fc-a7e3-cab6ae481a50",
    "deepnote_cell_height": 239,
    "deepnote_cell_type": "markdown",
    "id": "59eM76O1YekZ"
   },
   "source": [
    "# **Ejercicio 3: ¿por qué es tan importante la capa Flatten?**\n",
    "\n",
    "En este ejercicio vamos a ver que ocurre cuando quitamos la capa flatten, para ello, escribe la red neuronal de la pregunta 1 y no pongas la capa Flatten.\n",
    "\n",
    "**pregunta 6 (0.5 puntos):** ¿puedes explicar porque da el error que da?\n",
    "\n"
   ]
  },
  {
   "cell_type": "code",
   "execution_count": 12,
   "id": "f4af6d71",
   "metadata": {
    "cell_id": "00029-2330c8fd-7d3f-4f00-9d15-b55f0fe03add",
    "deepnote_cell_height": 1157.765625,
    "deepnote_cell_type": "code",
    "deepnote_to_be_reexecuted": false,
    "execution_millis": 356,
    "execution_start": 1656380113121,
    "id": "ecfEVKEuG4iU",
    "source_hash": "c3a4c537"
   },
   "outputs": [
    {
     "name": "stdout",
     "output_type": "stream",
     "text": [
      "Epoch 1/10\n"
     ]
    },
    {
     "ename": "ValueError",
     "evalue": "in user code:\n\n    File \"/srv/conda/envs/notebook/lib/python3.7/site-packages/keras/engine/training.py\", line 1051, in train_function  *\n        return step_function(self, iterator)\n    File \"/srv/conda/envs/notebook/lib/python3.7/site-packages/keras/engine/training.py\", line 1040, in step_function  **\n        outputs = model.distribute_strategy.run(run_step, args=(data,))\n    File \"/srv/conda/envs/notebook/lib/python3.7/site-packages/keras/engine/training.py\", line 1030, in run_step  **\n        outputs = model.train_step(data)\n    File \"/srv/conda/envs/notebook/lib/python3.7/site-packages/keras/engine/training.py\", line 890, in train_step\n        loss = self.compute_loss(x, y, y_pred, sample_weight)\n    File \"/srv/conda/envs/notebook/lib/python3.7/site-packages/keras/engine/training.py\", line 949, in compute_loss\n        y, y_pred, sample_weight, regularization_losses=self.losses)\n    File \"/srv/conda/envs/notebook/lib/python3.7/site-packages/keras/engine/compile_utils.py\", line 201, in __call__\n        loss_value = loss_obj(y_t, y_p, sample_weight=sw)\n    File \"/srv/conda/envs/notebook/lib/python3.7/site-packages/keras/losses.py\", line 139, in __call__\n        losses = call_fn(y_true, y_pred)\n    File \"/srv/conda/envs/notebook/lib/python3.7/site-packages/keras/losses.py\", line 243, in call  **\n        return ag_fn(y_true, y_pred, **self._fn_kwargs)\n    File \"/srv/conda/envs/notebook/lib/python3.7/site-packages/keras/losses.py\", line 1788, in categorical_crossentropy\n        y_true, y_pred, from_logits=from_logits, axis=axis)\n    File \"/srv/conda/envs/notebook/lib/python3.7/site-packages/keras/backend.py\", line 5119, in categorical_crossentropy\n        target.shape.assert_is_compatible_with(output.shape)\n\n    ValueError: Shapes (None, 10) and (None, 28, 10) are incompatible\n",
     "output_type": "error",
     "traceback": [
      "\u001b[0;31m---------------------------------------------------------------------------\u001b[0m",
      "\u001b[0;31mValueError\u001b[0m                                Traceback (most recent call last)",
      "\u001b[0;32m/tmp/ipykernel_1259/1543705280.py\u001b[0m in \u001b[0;36m<module>\u001b[0;34m\u001b[0m\n\u001b[1;32m      6\u001b[0m ])\n\u001b[1;32m      7\u001b[0m \u001b[0mnn\u001b[0m\u001b[0;34m.\u001b[0m\u001b[0mcompile\u001b[0m\u001b[0;34m(\u001b[0m\u001b[0mloss\u001b[0m\u001b[0;34m=\u001b[0m\u001b[0;34m\"categorical_crossentropy\"\u001b[0m\u001b[0;34m,\u001b[0m \u001b[0moptimizer\u001b[0m\u001b[0;34m=\u001b[0m\u001b[0;34m\"adam\"\u001b[0m\u001b[0;34m,\u001b[0m \u001b[0mmetrics\u001b[0m\u001b[0;34m=\u001b[0m\u001b[0;34m[\u001b[0m\u001b[0;34m\"accuracy\"\u001b[0m\u001b[0;34m]\u001b[0m\u001b[0;34m)\u001b[0m\u001b[0;34m\u001b[0m\u001b[0;34m\u001b[0m\u001b[0m\n\u001b[0;32m----> 8\u001b[0;31m \u001b[0mnn\u001b[0m\u001b[0;34m.\u001b[0m\u001b[0mfit\u001b[0m\u001b[0;34m(\u001b[0m\u001b[0mtraining_images\u001b[0m\u001b[0;34m,\u001b[0m \u001b[0mtraining_labels\u001b[0m\u001b[0;34m,\u001b[0m \u001b[0mbatch_size\u001b[0m\u001b[0;34m=\u001b[0m\u001b[0;36m64\u001b[0m\u001b[0;34m,\u001b[0m \u001b[0mepochs\u001b[0m\u001b[0;34m=\u001b[0m\u001b[0;36m10\u001b[0m\u001b[0;34m,\u001b[0m \u001b[0mvalidation_data\u001b[0m\u001b[0;34m=\u001b[0m\u001b[0;34m(\u001b[0m\u001b[0mtest_images\u001b[0m\u001b[0;34m,\u001b[0m \u001b[0mtest_labels\u001b[0m\u001b[0;34m)\u001b[0m\u001b[0;34m)\u001b[0m\u001b[0;34m\u001b[0m\u001b[0;34m\u001b[0m\u001b[0m\n\u001b[0m",
      "\u001b[0;32m/srv/conda/envs/notebook/lib/python3.7/site-packages/keras/utils/traceback_utils.py\u001b[0m in \u001b[0;36merror_handler\u001b[0;34m(*args, **kwargs)\u001b[0m\n\u001b[1;32m     65\u001b[0m     \u001b[0;32mexcept\u001b[0m \u001b[0mException\u001b[0m \u001b[0;32mas\u001b[0m \u001b[0me\u001b[0m\u001b[0;34m:\u001b[0m  \u001b[0;31m# pylint: disable=broad-except\u001b[0m\u001b[0;34m\u001b[0m\u001b[0;34m\u001b[0m\u001b[0m\n\u001b[1;32m     66\u001b[0m       \u001b[0mfiltered_tb\u001b[0m \u001b[0;34m=\u001b[0m \u001b[0m_process_traceback_frames\u001b[0m\u001b[0;34m(\u001b[0m\u001b[0me\u001b[0m\u001b[0;34m.\u001b[0m\u001b[0m__traceback__\u001b[0m\u001b[0;34m)\u001b[0m\u001b[0;34m\u001b[0m\u001b[0;34m\u001b[0m\u001b[0m\n\u001b[0;32m---> 67\u001b[0;31m       \u001b[0;32mraise\u001b[0m \u001b[0me\u001b[0m\u001b[0;34m.\u001b[0m\u001b[0mwith_traceback\u001b[0m\u001b[0;34m(\u001b[0m\u001b[0mfiltered_tb\u001b[0m\u001b[0;34m)\u001b[0m \u001b[0;32mfrom\u001b[0m \u001b[0;32mNone\u001b[0m\u001b[0;34m\u001b[0m\u001b[0;34m\u001b[0m\u001b[0m\n\u001b[0m\u001b[1;32m     68\u001b[0m     \u001b[0;32mfinally\u001b[0m\u001b[0;34m:\u001b[0m\u001b[0;34m\u001b[0m\u001b[0;34m\u001b[0m\u001b[0m\n\u001b[1;32m     69\u001b[0m       \u001b[0;32mdel\u001b[0m \u001b[0mfiltered_tb\u001b[0m\u001b[0;34m\u001b[0m\u001b[0;34m\u001b[0m\u001b[0m\n",
      "\u001b[0;32m/srv/conda/envs/notebook/lib/python3.7/site-packages/keras/engine/training.py\u001b[0m in \u001b[0;36mtf__train_function\u001b[0;34m(iterator)\u001b[0m\n\u001b[1;32m     13\u001b[0m                 \u001b[0;32mtry\u001b[0m\u001b[0;34m:\u001b[0m\u001b[0;34m\u001b[0m\u001b[0;34m\u001b[0m\u001b[0m\n\u001b[1;32m     14\u001b[0m                     \u001b[0mdo_return\u001b[0m \u001b[0;34m=\u001b[0m \u001b[0;32mTrue\u001b[0m\u001b[0;34m\u001b[0m\u001b[0;34m\u001b[0m\u001b[0m\n\u001b[0;32m---> 15\u001b[0;31m                     \u001b[0mretval_\u001b[0m \u001b[0;34m=\u001b[0m \u001b[0mag__\u001b[0m\u001b[0;34m.\u001b[0m\u001b[0mconverted_call\u001b[0m\u001b[0;34m(\u001b[0m\u001b[0mag__\u001b[0m\u001b[0;34m.\u001b[0m\u001b[0mld\u001b[0m\u001b[0;34m(\u001b[0m\u001b[0mstep_function\u001b[0m\u001b[0;34m)\u001b[0m\u001b[0;34m,\u001b[0m \u001b[0;34m(\u001b[0m\u001b[0mag__\u001b[0m\u001b[0;34m.\u001b[0m\u001b[0mld\u001b[0m\u001b[0;34m(\u001b[0m\u001b[0mself\u001b[0m\u001b[0;34m)\u001b[0m\u001b[0;34m,\u001b[0m \u001b[0mag__\u001b[0m\u001b[0;34m.\u001b[0m\u001b[0mld\u001b[0m\u001b[0;34m(\u001b[0m\u001b[0miterator\u001b[0m\u001b[0;34m)\u001b[0m\u001b[0;34m)\u001b[0m\u001b[0;34m,\u001b[0m \u001b[0;32mNone\u001b[0m\u001b[0;34m,\u001b[0m \u001b[0mfscope\u001b[0m\u001b[0;34m)\u001b[0m\u001b[0;34m\u001b[0m\u001b[0;34m\u001b[0m\u001b[0m\n\u001b[0m\u001b[1;32m     16\u001b[0m                 \u001b[0;32mexcept\u001b[0m\u001b[0;34m:\u001b[0m\u001b[0;34m\u001b[0m\u001b[0;34m\u001b[0m\u001b[0m\n\u001b[1;32m     17\u001b[0m                     \u001b[0mdo_return\u001b[0m \u001b[0;34m=\u001b[0m \u001b[0;32mFalse\u001b[0m\u001b[0;34m\u001b[0m\u001b[0;34m\u001b[0m\u001b[0m\n",
      "\u001b[0;31mValueError\u001b[0m: in user code:\n\n    File \"/srv/conda/envs/notebook/lib/python3.7/site-packages/keras/engine/training.py\", line 1051, in train_function  *\n        return step_function(self, iterator)\n    File \"/srv/conda/envs/notebook/lib/python3.7/site-packages/keras/engine/training.py\", line 1040, in step_function  **\n        outputs = model.distribute_strategy.run(run_step, args=(data,))\n    File \"/srv/conda/envs/notebook/lib/python3.7/site-packages/keras/engine/training.py\", line 1030, in run_step  **\n        outputs = model.train_step(data)\n    File \"/srv/conda/envs/notebook/lib/python3.7/site-packages/keras/engine/training.py\", line 890, in train_step\n        loss = self.compute_loss(x, y, y_pred, sample_weight)\n    File \"/srv/conda/envs/notebook/lib/python3.7/site-packages/keras/engine/training.py\", line 949, in compute_loss\n        y, y_pred, sample_weight, regularization_losses=self.losses)\n    File \"/srv/conda/envs/notebook/lib/python3.7/site-packages/keras/engine/compile_utils.py\", line 201, in __call__\n        loss_value = loss_obj(y_t, y_p, sample_weight=sw)\n    File \"/srv/conda/envs/notebook/lib/python3.7/site-packages/keras/losses.py\", line 139, in __call__\n        losses = call_fn(y_true, y_pred)\n    File \"/srv/conda/envs/notebook/lib/python3.7/site-packages/keras/losses.py\", line 243, in call  **\n        return ag_fn(y_true, y_pred, **self._fn_kwargs)\n    File \"/srv/conda/envs/notebook/lib/python3.7/site-packages/keras/losses.py\", line 1788, in categorical_crossentropy\n        y_true, y_pred, from_logits=from_logits, axis=axis)\n    File \"/srv/conda/envs/notebook/lib/python3.7/site-packages/keras/backend.py\", line 5119, in categorical_crossentropy\n        target.shape.assert_is_compatible_with(output.shape)\n\n    ValueError: Shapes (None, 10) and (None, 28, 10) are incompatible\n"
     ]
    }
   ],
   "source": [
    "### Tu código de la red neuronal sin capa flatten de la pregunta 6 aquí ###\n",
    "nn = tf.keras.models.Sequential([\n",
    "     # tf.keras.layers.Flatten(input_shape=[28,28]), # Según training_images.shape\n",
    "     tf.keras.layers.Dense(1024, activation=\"sigmoid\"),\n",
    "     tf.keras.layers.Dense(10, activation=\"softmax\") # número de clases np.unique(training_labels)\n",
    "])\n",
    "nn.compile(loss=\"categorical_crossentropy\", optimizer=\"adam\", metrics=[\"accuracy\"])\n",
    "nn.fit(training_images, training_labels, batch_size=64, epochs=10, validation_data=(test_images, test_labels))"
   ]
  },
  {
   "cell_type": "markdown",
   "id": "c3998666",
   "metadata": {
    "cell_id": "00030-5e5921da-11d1-45cb-bc77-2823f514e685",
    "deepnote_cell_height": 55,
    "deepnote_cell_type": "markdown",
    "id": "-aNmrkkOZN6D"
   },
   "source": [
    "Tu respuesta a la pregunta 6 aquí:"
   ]
  },
  {
   "cell_type": "markdown",
   "id": "d9f17ea2",
   "metadata": {
    "cell_id": "00031-07fc7ea9-c335-4cdf-b7b7-6f26355391d2",
    "deepnote_cell_height": 317,
    "deepnote_cell_type": "markdown",
    "id": "f37cIr81ZYJj"
   },
   "source": [
    "# **Ejercicio 4: Número de neuronas de la capa de salida**\n",
    "Considerad la capa final, la de salida de la red neuronal de la pregunta 1.\n",
    "\n",
    "**pregunta 7.1 (0.25 puntos)**: ¿Por qué son 10 las neuronas de la última capa?\n",
    "\n",
    "**pregunta 7.2 (0.25 puntos)**: ¿Qué pasaría si tuvieras una cantidad diferente a 10? \n",
    "\n",
    "Por ejemplo, intenta entrenar la red con 5, para ello utiliza la red neuronal de la pregunta 1 y cambia a 5 el número de neuronas en la última capa."
   ]
  },
  {
   "cell_type": "code",
   "execution_count": 13,
   "id": "7d836ed2",
   "metadata": {
    "cell_id": "00032-245bd5ec-626c-417b-84bf-d9b7089363f2",
    "deepnote_cell_height": 1157.765625,
    "deepnote_cell_type": "code",
    "deepnote_to_be_reexecuted": false,
    "execution_millis": 280,
    "execution_start": 1656380245302,
    "id": "FhbZkppYZOCS",
    "source_hash": "a12e321d"
   },
   "outputs": [
    {
     "name": "stdout",
     "output_type": "stream",
     "text": [
      "Epoch 1/10\n"
     ]
    },
    {
     "ename": "ValueError",
     "evalue": "in user code:\n\n    File \"/srv/conda/envs/notebook/lib/python3.7/site-packages/keras/engine/training.py\", line 1051, in train_function  *\n        return step_function(self, iterator)\n    File \"/srv/conda/envs/notebook/lib/python3.7/site-packages/keras/engine/training.py\", line 1040, in step_function  **\n        outputs = model.distribute_strategy.run(run_step, args=(data,))\n    File \"/srv/conda/envs/notebook/lib/python3.7/site-packages/keras/engine/training.py\", line 1030, in run_step  **\n        outputs = model.train_step(data)\n    File \"/srv/conda/envs/notebook/lib/python3.7/site-packages/keras/engine/training.py\", line 890, in train_step\n        loss = self.compute_loss(x, y, y_pred, sample_weight)\n    File \"/srv/conda/envs/notebook/lib/python3.7/site-packages/keras/engine/training.py\", line 949, in compute_loss\n        y, y_pred, sample_weight, regularization_losses=self.losses)\n    File \"/srv/conda/envs/notebook/lib/python3.7/site-packages/keras/engine/compile_utils.py\", line 201, in __call__\n        loss_value = loss_obj(y_t, y_p, sample_weight=sw)\n    File \"/srv/conda/envs/notebook/lib/python3.7/site-packages/keras/losses.py\", line 139, in __call__\n        losses = call_fn(y_true, y_pred)\n    File \"/srv/conda/envs/notebook/lib/python3.7/site-packages/keras/losses.py\", line 243, in call  **\n        return ag_fn(y_true, y_pred, **self._fn_kwargs)\n    File \"/srv/conda/envs/notebook/lib/python3.7/site-packages/keras/losses.py\", line 1788, in categorical_crossentropy\n        y_true, y_pred, from_logits=from_logits, axis=axis)\n    File \"/srv/conda/envs/notebook/lib/python3.7/site-packages/keras/backend.py\", line 5119, in categorical_crossentropy\n        target.shape.assert_is_compatible_with(output.shape)\n\n    ValueError: Shapes (None, 10) and (None, 5) are incompatible\n",
     "output_type": "error",
     "traceback": [
      "\u001b[0;31m---------------------------------------------------------------------------\u001b[0m",
      "\u001b[0;31mValueError\u001b[0m                                Traceback (most recent call last)",
      "\u001b[0;32m/tmp/ipykernel_1259/3828868626.py\u001b[0m in \u001b[0;36m<module>\u001b[0;34m\u001b[0m\n\u001b[1;32m      6\u001b[0m ])\n\u001b[1;32m      7\u001b[0m \u001b[0mnn\u001b[0m\u001b[0;34m.\u001b[0m\u001b[0mcompile\u001b[0m\u001b[0;34m(\u001b[0m\u001b[0mloss\u001b[0m\u001b[0;34m=\u001b[0m\u001b[0;34m\"categorical_crossentropy\"\u001b[0m\u001b[0;34m,\u001b[0m \u001b[0moptimizer\u001b[0m\u001b[0;34m=\u001b[0m\u001b[0;34m\"adam\"\u001b[0m\u001b[0;34m,\u001b[0m \u001b[0mmetrics\u001b[0m\u001b[0;34m=\u001b[0m\u001b[0;34m[\u001b[0m\u001b[0;34m\"accuracy\"\u001b[0m\u001b[0;34m]\u001b[0m\u001b[0;34m)\u001b[0m\u001b[0;34m\u001b[0m\u001b[0;34m\u001b[0m\u001b[0m\n\u001b[0;32m----> 8\u001b[0;31m \u001b[0mnn\u001b[0m\u001b[0;34m.\u001b[0m\u001b[0mfit\u001b[0m\u001b[0;34m(\u001b[0m\u001b[0mtraining_images\u001b[0m\u001b[0;34m,\u001b[0m \u001b[0mtraining_labels\u001b[0m\u001b[0;34m,\u001b[0m \u001b[0mbatch_size\u001b[0m\u001b[0;34m=\u001b[0m\u001b[0;36m64\u001b[0m\u001b[0;34m,\u001b[0m \u001b[0mepochs\u001b[0m\u001b[0;34m=\u001b[0m\u001b[0;36m10\u001b[0m\u001b[0;34m,\u001b[0m \u001b[0mvalidation_data\u001b[0m\u001b[0;34m=\u001b[0m\u001b[0;34m(\u001b[0m\u001b[0mtest_images\u001b[0m\u001b[0;34m,\u001b[0m \u001b[0mtest_labels\u001b[0m\u001b[0;34m)\u001b[0m\u001b[0;34m)\u001b[0m\u001b[0;34m\u001b[0m\u001b[0;34m\u001b[0m\u001b[0m\n\u001b[0m",
      "\u001b[0;32m/srv/conda/envs/notebook/lib/python3.7/site-packages/keras/utils/traceback_utils.py\u001b[0m in \u001b[0;36merror_handler\u001b[0;34m(*args, **kwargs)\u001b[0m\n\u001b[1;32m     65\u001b[0m     \u001b[0;32mexcept\u001b[0m \u001b[0mException\u001b[0m \u001b[0;32mas\u001b[0m \u001b[0me\u001b[0m\u001b[0;34m:\u001b[0m  \u001b[0;31m# pylint: disable=broad-except\u001b[0m\u001b[0;34m\u001b[0m\u001b[0;34m\u001b[0m\u001b[0m\n\u001b[1;32m     66\u001b[0m       \u001b[0mfiltered_tb\u001b[0m \u001b[0;34m=\u001b[0m \u001b[0m_process_traceback_frames\u001b[0m\u001b[0;34m(\u001b[0m\u001b[0me\u001b[0m\u001b[0;34m.\u001b[0m\u001b[0m__traceback__\u001b[0m\u001b[0;34m)\u001b[0m\u001b[0;34m\u001b[0m\u001b[0;34m\u001b[0m\u001b[0m\n\u001b[0;32m---> 67\u001b[0;31m       \u001b[0;32mraise\u001b[0m \u001b[0me\u001b[0m\u001b[0;34m.\u001b[0m\u001b[0mwith_traceback\u001b[0m\u001b[0;34m(\u001b[0m\u001b[0mfiltered_tb\u001b[0m\u001b[0;34m)\u001b[0m \u001b[0;32mfrom\u001b[0m \u001b[0;32mNone\u001b[0m\u001b[0;34m\u001b[0m\u001b[0;34m\u001b[0m\u001b[0m\n\u001b[0m\u001b[1;32m     68\u001b[0m     \u001b[0;32mfinally\u001b[0m\u001b[0;34m:\u001b[0m\u001b[0;34m\u001b[0m\u001b[0;34m\u001b[0m\u001b[0m\n\u001b[1;32m     69\u001b[0m       \u001b[0;32mdel\u001b[0m \u001b[0mfiltered_tb\u001b[0m\u001b[0;34m\u001b[0m\u001b[0;34m\u001b[0m\u001b[0m\n",
      "\u001b[0;32m/srv/conda/envs/notebook/lib/python3.7/site-packages/keras/engine/training.py\u001b[0m in \u001b[0;36mtf__train_function\u001b[0;34m(iterator)\u001b[0m\n\u001b[1;32m     13\u001b[0m                 \u001b[0;32mtry\u001b[0m\u001b[0;34m:\u001b[0m\u001b[0;34m\u001b[0m\u001b[0;34m\u001b[0m\u001b[0m\n\u001b[1;32m     14\u001b[0m                     \u001b[0mdo_return\u001b[0m \u001b[0;34m=\u001b[0m \u001b[0;32mTrue\u001b[0m\u001b[0;34m\u001b[0m\u001b[0;34m\u001b[0m\u001b[0m\n\u001b[0;32m---> 15\u001b[0;31m                     \u001b[0mretval_\u001b[0m \u001b[0;34m=\u001b[0m \u001b[0mag__\u001b[0m\u001b[0;34m.\u001b[0m\u001b[0mconverted_call\u001b[0m\u001b[0;34m(\u001b[0m\u001b[0mag__\u001b[0m\u001b[0;34m.\u001b[0m\u001b[0mld\u001b[0m\u001b[0;34m(\u001b[0m\u001b[0mstep_function\u001b[0m\u001b[0;34m)\u001b[0m\u001b[0;34m,\u001b[0m \u001b[0;34m(\u001b[0m\u001b[0mag__\u001b[0m\u001b[0;34m.\u001b[0m\u001b[0mld\u001b[0m\u001b[0;34m(\u001b[0m\u001b[0mself\u001b[0m\u001b[0;34m)\u001b[0m\u001b[0;34m,\u001b[0m \u001b[0mag__\u001b[0m\u001b[0;34m.\u001b[0m\u001b[0mld\u001b[0m\u001b[0;34m(\u001b[0m\u001b[0miterator\u001b[0m\u001b[0;34m)\u001b[0m\u001b[0;34m)\u001b[0m\u001b[0;34m,\u001b[0m \u001b[0;32mNone\u001b[0m\u001b[0;34m,\u001b[0m \u001b[0mfscope\u001b[0m\u001b[0;34m)\u001b[0m\u001b[0;34m\u001b[0m\u001b[0;34m\u001b[0m\u001b[0m\n\u001b[0m\u001b[1;32m     16\u001b[0m                 \u001b[0;32mexcept\u001b[0m\u001b[0;34m:\u001b[0m\u001b[0;34m\u001b[0m\u001b[0;34m\u001b[0m\u001b[0m\n\u001b[1;32m     17\u001b[0m                     \u001b[0mdo_return\u001b[0m \u001b[0;34m=\u001b[0m \u001b[0;32mFalse\u001b[0m\u001b[0;34m\u001b[0m\u001b[0;34m\u001b[0m\u001b[0m\n",
      "\u001b[0;31mValueError\u001b[0m: in user code:\n\n    File \"/srv/conda/envs/notebook/lib/python3.7/site-packages/keras/engine/training.py\", line 1051, in train_function  *\n        return step_function(self, iterator)\n    File \"/srv/conda/envs/notebook/lib/python3.7/site-packages/keras/engine/training.py\", line 1040, in step_function  **\n        outputs = model.distribute_strategy.run(run_step, args=(data,))\n    File \"/srv/conda/envs/notebook/lib/python3.7/site-packages/keras/engine/training.py\", line 1030, in run_step  **\n        outputs = model.train_step(data)\n    File \"/srv/conda/envs/notebook/lib/python3.7/site-packages/keras/engine/training.py\", line 890, in train_step\n        loss = self.compute_loss(x, y, y_pred, sample_weight)\n    File \"/srv/conda/envs/notebook/lib/python3.7/site-packages/keras/engine/training.py\", line 949, in compute_loss\n        y, y_pred, sample_weight, regularization_losses=self.losses)\n    File \"/srv/conda/envs/notebook/lib/python3.7/site-packages/keras/engine/compile_utils.py\", line 201, in __call__\n        loss_value = loss_obj(y_t, y_p, sample_weight=sw)\n    File \"/srv/conda/envs/notebook/lib/python3.7/site-packages/keras/losses.py\", line 139, in __call__\n        losses = call_fn(y_true, y_pred)\n    File \"/srv/conda/envs/notebook/lib/python3.7/site-packages/keras/losses.py\", line 243, in call  **\n        return ag_fn(y_true, y_pred, **self._fn_kwargs)\n    File \"/srv/conda/envs/notebook/lib/python3.7/site-packages/keras/losses.py\", line 1788, in categorical_crossentropy\n        y_true, y_pred, from_logits=from_logits, axis=axis)\n    File \"/srv/conda/envs/notebook/lib/python3.7/site-packages/keras/backend.py\", line 5119, in categorical_crossentropy\n        target.shape.assert_is_compatible_with(output.shape)\n\n    ValueError: Shapes (None, 10) and (None, 5) are incompatible\n"
     ]
    }
   ],
   "source": [
    "### Tu código de la red neuronal con 5 neuronas en la capa de salida de la pregunta 7 aquí ###\n",
    "nn = tf.keras.models.Sequential([\n",
    "     tf.keras.layers.Flatten(input_shape=[28,28]), # Según training_images.shape\n",
    "     tf.keras.layers.Dense(1024, activation=\"sigmoid\"),\n",
    "     tf.keras.layers.Dense(5, activation=\"softmax\") # número de clases np.unique(training_labels)\n",
    "])\n",
    "nn.compile(loss=\"categorical_crossentropy\", optimizer=\"adam\", metrics=[\"accuracy\"])\n",
    "nn.fit(training_images, training_labels, batch_size=64, epochs=10, validation_data=(test_images, test_labels))"
   ]
  },
  {
   "cell_type": "markdown",
   "id": "a5245760",
   "metadata": {
    "cell_id": "00033-254afbeb-4880-47f0-a956-2e5d2d903737",
    "deepnote_cell_height": 55,
    "deepnote_cell_type": "markdown",
    "id": "SLsQcq-6aUoD"
   },
   "source": [
    "Tu respuestas a la pregunta 7.1 aquí:"
   ]
  },
  {
   "cell_type": "markdown",
   "id": "edf686ac",
   "metadata": {
    "cell_id": "00034-e04de6c4-8fd0-421c-9d76-16d8b3197da5",
    "deepnote_cell_height": 55,
    "deepnote_cell_type": "markdown",
    "id": "J1f_7ZFeaUu6"
   },
   "source": [
    "Tu respuestas a la pregunta 7.2 aquí:"
   ]
  },
  {
   "cell_type": "markdown",
   "id": "f84262c2",
   "metadata": {
    "cell_id": "00035-549d72c4-9515-4ac1-b5ad-43fa3a1ab9f5",
    "deepnote_cell_height": 498,
    "deepnote_cell_type": "markdown",
    "id": "HNIBCkshaf2y"
   },
   "source": [
    "# Ejercicio 5: Aumento de epoch y su efecto en la red neuronal\n",
    "En este ejercicio vamos a ver el impacto de aumentar los epoch en el entrenamiento. Usando la red neuronal de la pregunta 1:\n",
    "\n",
    "**pregunta 8.1 (0.20 puntos)**\n",
    "* Intentad 15 epoch para su entrenamiento, probablemente obtendras un modelo con una pérdida mucho mejor que el que tiene 5.\n",
    "\n",
    "**pregunta 8.2 (0.20 puntos)**\n",
    "* Intenta ahora con 30 epoch para su entrenamiento, podrás ver que el valor de la pérdida deja de disminuir, y a veces aumenta.\n",
    "\n",
    "**pregunta 8.3 (0.60 puntos)**\n",
    "* ¿Porque que piensas que ocurre esto? Explica tu respuesta y da el nombre de este efecto si lo conoces."
   ]
  },
  {
   "cell_type": "code",
   "execution_count": 8,
   "id": "11c6c181",
   "metadata": {
    "cell_id": "00036-931428e2-7076-4f19-960e-4bfd897cfd5c",
    "deepnote_cell_height": 885,
    "deepnote_cell_type": "code",
    "deepnote_output_heights": [
     null,
     27
    ],
    "deepnote_to_be_reexecuted": false,
    "execution_millis": 102041,
    "execution_start": 1656380419026,
    "id": "Cb5vk_imG4iZ",
    "source_hash": "d365ccc"
   },
   "outputs": [
    {
     "name": "stdout",
     "output_type": "stream",
     "text": [
      "Epoch 1/15\n",
      "938/938 [==============================] - 21s 22ms/step - loss: 0.5287 - accuracy: 0.8100 - val_loss: 0.4439 - val_accuracy: 0.8406\n",
      "Epoch 2/15\n",
      "938/938 [==============================] - 19s 20ms/step - loss: 0.4031 - accuracy: 0.8539 - val_loss: 0.4079 - val_accuracy: 0.8562\n",
      "Epoch 3/15\n",
      "938/938 [==============================] - 19s 20ms/step - loss: 0.3622 - accuracy: 0.8683 - val_loss: 0.3726 - val_accuracy: 0.8696\n",
      "Epoch 4/15\n",
      "938/938 [==============================] - 20s 22ms/step - loss: 0.3357 - accuracy: 0.8785 - val_loss: 0.3898 - val_accuracy: 0.8585\n",
      "Epoch 5/15\n",
      "938/938 [==============================] - 19s 20ms/step - loss: 0.3147 - accuracy: 0.8845 - val_loss: 0.3691 - val_accuracy: 0.8643\n",
      "Epoch 6/15\n",
      "938/938 [==============================] - 19s 20ms/step - loss: 0.2944 - accuracy: 0.8906 - val_loss: 0.3522 - val_accuracy: 0.8677\n",
      "Epoch 7/15\n",
      "938/938 [==============================] - 20s 22ms/step - loss: 0.2787 - accuracy: 0.8962 - val_loss: 0.3780 - val_accuracy: 0.8657\n",
      "Epoch 8/15\n",
      "938/938 [==============================] - 19s 20ms/step - loss: 0.2650 - accuracy: 0.9021 - val_loss: 0.3242 - val_accuracy: 0.8835\n",
      "Epoch 9/15\n",
      "938/938 [==============================] - 19s 20ms/step - loss: 0.2513 - accuracy: 0.9059 - val_loss: 0.3221 - val_accuracy: 0.8858\n",
      "Epoch 10/15\n",
      "938/938 [==============================] - 20s 22ms/step - loss: 0.2380 - accuracy: 0.9115 - val_loss: 0.3386 - val_accuracy: 0.8767\n",
      "Epoch 11/15\n",
      "938/938 [==============================] - 19s 20ms/step - loss: 0.2279 - accuracy: 0.9138 - val_loss: 0.3393 - val_accuracy: 0.8782\n",
      "Epoch 12/15\n",
      "938/938 [==============================] - 19s 20ms/step - loss: 0.2161 - accuracy: 0.9187 - val_loss: 0.3228 - val_accuracy: 0.8843\n",
      "Epoch 13/15\n",
      "938/938 [==============================] - 21s 22ms/step - loss: 0.2066 - accuracy: 0.9233 - val_loss: 0.3349 - val_accuracy: 0.8845\n",
      "Epoch 14/15\n",
      "938/938 [==============================] - 19s 20ms/step - loss: 0.1964 - accuracy: 0.9260 - val_loss: 0.3219 - val_accuracy: 0.8892\n",
      "Epoch 15/15\n",
      "938/938 [==============================] - 19s 20ms/step - loss: 0.1899 - accuracy: 0.9285 - val_loss: 0.3198 - val_accuracy: 0.8891\n"
     ]
    },
    {
     "data": {
      "text/plain": [
       "<keras.callbacks.History at 0x7f4d8856e650>"
      ]
     },
     "execution_count": 8,
     "metadata": {},
     "output_type": "execute_result"
    }
   ],
   "source": [
    "### Tu código para 15 epoch aquí ###\n",
    "nn = tf.keras.models.Sequential([\n",
    "     tf.keras.layers.Flatten(input_shape=[28,28]), # Según training_images.shape\n",
    "     tf.keras.layers.Dense(1024, activation=\"sigmoid\"),\n",
    "     tf.keras.layers.Dense(10, activation=\"softmax\") # número de clases np.unique(training_labels)\n",
    "])\n",
    "nn.compile(loss=\"categorical_crossentropy\", optimizer=\"adam\", metrics=[\"accuracy\"])\n",
    "nn.fit(training_images, training_labels, batch_size=64, epochs=15, validation_data=(test_images, test_labels))"
   ]
  },
  {
   "cell_type": "code",
   "execution_count": 9,
   "id": "d7bdac61",
   "metadata": {
    "cell_id": "00037-730dac1a-7f00-40ae-9447-eef46799e7e3",
    "deepnote_cell_height": 885,
    "deepnote_cell_type": "code",
    "deepnote_output_heights": [
     null,
     27
    ],
    "deepnote_to_be_reexecuted": false,
    "execution_millis": 262526,
    "execution_start": 1656380531591,
    "id": "I9jQ26Gda5cv",
    "source_hash": "d17a7bc6"
   },
   "outputs": [
    {
     "name": "stdout",
     "output_type": "stream",
     "text": [
      "Epoch 1/30\n",
      "938/938 [==============================] - 20s 21ms/step - loss: 0.5255 - accuracy: 0.8119 - val_loss: 0.4433 - val_accuracy: 0.8438\n",
      "Epoch 2/30\n",
      "938/938 [==============================] - 19s 20ms/step - loss: 0.4047 - accuracy: 0.8534 - val_loss: 0.4230 - val_accuracy: 0.8432\n",
      "Epoch 3/30\n",
      "938/938 [==============================] - 19s 20ms/step - loss: 0.3656 - accuracy: 0.8691 - val_loss: 0.4042 - val_accuracy: 0.8527\n",
      "Epoch 4/30\n",
      "938/938 [==============================] - 19s 20ms/step - loss: 0.3380 - accuracy: 0.8776 - val_loss: 0.3652 - val_accuracy: 0.8690\n",
      "Epoch 5/30\n",
      "938/938 [==============================] - 20s 21ms/step - loss: 0.3146 - accuracy: 0.8844 - val_loss: 0.3555 - val_accuracy: 0.8692\n",
      "Epoch 6/30\n",
      "938/938 [==============================] - 19s 20ms/step - loss: 0.2955 - accuracy: 0.8905 - val_loss: 0.3605 - val_accuracy: 0.8710\n",
      "Epoch 7/30\n",
      "938/938 [==============================] - 19s 20ms/step - loss: 0.2793 - accuracy: 0.8957 - val_loss: 0.3643 - val_accuracy: 0.8682\n",
      "Epoch 8/30\n",
      "938/938 [==============================] - 20s 21ms/step - loss: 0.2634 - accuracy: 0.9029 - val_loss: 0.3431 - val_accuracy: 0.8756\n",
      "Epoch 9/30\n",
      "938/938 [==============================] - 19s 20ms/step - loss: 0.2526 - accuracy: 0.9054 - val_loss: 0.3338 - val_accuracy: 0.8820\n",
      "Epoch 10/30\n",
      "938/938 [==============================] - 18s 20ms/step - loss: 0.2389 - accuracy: 0.9113 - val_loss: 0.3408 - val_accuracy: 0.8772\n",
      "Epoch 11/30\n",
      "938/938 [==============================] - 20s 21ms/step - loss: 0.2269 - accuracy: 0.9149 - val_loss: 0.3272 - val_accuracy: 0.8817\n",
      "Epoch 12/30\n",
      "938/938 [==============================] - 19s 20ms/step - loss: 0.2154 - accuracy: 0.9191 - val_loss: 0.3611 - val_accuracy: 0.8719\n",
      "Epoch 13/30\n",
      "938/938 [==============================] - 19s 20ms/step - loss: 0.2055 - accuracy: 0.9227 - val_loss: 0.3235 - val_accuracy: 0.8870\n",
      "Epoch 14/30\n",
      "938/938 [==============================] - 20s 21ms/step - loss: 0.1955 - accuracy: 0.9272 - val_loss: 0.3251 - val_accuracy: 0.8871\n",
      "Epoch 15/30\n",
      "938/938 [==============================] - 19s 20ms/step - loss: 0.1883 - accuracy: 0.9293 - val_loss: 0.3118 - val_accuracy: 0.8955\n",
      "Epoch 16/30\n",
      "938/938 [==============================] - 19s 20ms/step - loss: 0.1785 - accuracy: 0.9328 - val_loss: 0.3105 - val_accuracy: 0.8952\n",
      "Epoch 17/30\n",
      "938/938 [==============================] - 20s 21ms/step - loss: 0.1709 - accuracy: 0.9351 - val_loss: 0.3194 - val_accuracy: 0.8922\n",
      "Epoch 18/30\n",
      "938/938 [==============================] - 19s 20ms/step - loss: 0.1624 - accuracy: 0.9394 - val_loss: 0.3278 - val_accuracy: 0.8897\n",
      "Epoch 19/30\n",
      "938/938 [==============================] - 19s 20ms/step - loss: 0.1584 - accuracy: 0.9406 - val_loss: 0.3245 - val_accuracy: 0.8931\n",
      "Epoch 20/30\n",
      "938/938 [==============================] - 20s 21ms/step - loss: 0.1500 - accuracy: 0.9438 - val_loss: 0.3351 - val_accuracy: 0.8951\n",
      "Epoch 21/30\n",
      "938/938 [==============================] - 19s 20ms/step - loss: 0.1430 - accuracy: 0.9466 - val_loss: 0.3509 - val_accuracy: 0.8863\n",
      "Epoch 22/30\n",
      "938/938 [==============================] - 19s 20ms/step - loss: 0.1377 - accuracy: 0.9483 - val_loss: 0.3347 - val_accuracy: 0.8958\n",
      "Epoch 23/30\n",
      "938/938 [==============================] - 20s 21ms/step - loss: 0.1301 - accuracy: 0.9511 - val_loss: 0.3581 - val_accuracy: 0.8920\n",
      "Epoch 24/30\n",
      "938/938 [==============================] - 19s 20ms/step - loss: 0.1265 - accuracy: 0.9524 - val_loss: 0.3635 - val_accuracy: 0.8912\n",
      "Epoch 25/30\n",
      "938/938 [==============================] - 19s 20ms/step - loss: 0.1207 - accuracy: 0.9545 - val_loss: 0.3541 - val_accuracy: 0.8932\n",
      "Epoch 26/30\n",
      "938/938 [==============================] - 19s 20ms/step - loss: 0.1147 - accuracy: 0.9580 - val_loss: 0.3445 - val_accuracy: 0.8973\n",
      "Epoch 27/30\n",
      "938/938 [==============================] - 20s 21ms/step - loss: 0.1105 - accuracy: 0.9588 - val_loss: 0.3582 - val_accuracy: 0.8937\n",
      "Epoch 28/30\n",
      "938/938 [==============================] - 19s 20ms/step - loss: 0.1071 - accuracy: 0.9596 - val_loss: 0.3535 - val_accuracy: 0.8975\n",
      "Epoch 29/30\n",
      "938/938 [==============================] - 19s 20ms/step - loss: 0.1019 - accuracy: 0.9625 - val_loss: 0.3594 - val_accuracy: 0.8989\n",
      "Epoch 30/30\n",
      "938/938 [==============================] - 20s 21ms/step - loss: 0.0959 - accuracy: 0.9652 - val_loss: 0.3761 - val_accuracy: 0.8962\n"
     ]
    },
    {
     "data": {
      "text/plain": [
       "<keras.callbacks.History at 0x7f4dbce8fc50>"
      ]
     },
     "execution_count": 9,
     "metadata": {},
     "output_type": "execute_result"
    }
   ],
   "source": [
    "### Tu código para 30 epoch aquí ###\n",
    "nn = tf.keras.models.Sequential([\n",
    "     tf.keras.layers.Flatten(input_shape=[28,28]), # Según training_images.shape\n",
    "     tf.keras.layers.Dense(1024, activation=\"sigmoid\"),\n",
    "     tf.keras.layers.Dense(10, activation=\"softmax\") # número de clases np.unique(training_labels)\n",
    "])\n",
    "nn.compile(loss=\"categorical_crossentropy\", optimizer=\"adam\", metrics=[\"accuracy\"])\n",
    "nn.fit(training_images, training_labels, batch_size=64, epochs=30, validation_data=(test_images, test_labels))"
   ]
  },
  {
   "cell_type": "code",
   "execution_count": 10,
   "id": "c98ecbd5-502b-4eb9-b394-05180062590e",
   "metadata": {
    "cell_id": "00017-90dd8bd8-49c7-4581-9209-d37b46425fc5",
    "deepnote_cell_height": 374,
    "deepnote_cell_type": "code",
    "deepnote_to_be_reexecuted": false,
    "execution_millis": 539,
    "execution_start": 1656379420838,
    "id": "b-mL-h4xQhCm",
    "source_hash": "a3ca8502"
   },
   "outputs": [
    {
     "name": "stdout",
     "output_type": "stream",
     "text": [
      "313/313 [==============================] - 2s 6ms/step\n",
      "[[1.9520149e-12 4.0906471e-13 6.3205127e-12 ... 9.6906369e-06 2.2791686e-13 9.9998778e-01]\n",
      " [1.1415884e-03 4.3226693e-14 9.9864072e-01 ... 1.1707627e-15 7.6719670e-14 7.8937872e-15]\n",
      " [1.6109740e-11 9.9999994e-01 3.2153455e-14 ... 7.2044221e-19 2.1444877e-16 4.5530022e-19]\n",
      " ...\n",
      " [5.9734090e-10 3.6252526e-18 2.0376986e-10 ... 2.8658598e-10 9.9999982e-01 3.9670978e-18]\n",
      " [5.4219653e-11 9.9999994e-01 7.6164118e-12 ... 1.3274665e-14 3.0544851e-12 2.4358781e-13]\n",
      " [1.8710470e-13 5.5031924e-14 2.0540557e-11 ... 4.5737345e-08 4.2672685e-10 6.4719639e-14]]\n",
      "Clase de la primer imagen: 9\n",
      "Clase predicha por la red 0\n"
     ]
    }
   ],
   "source": [
    "### Tu código del clasificador de la pregunta 3 aquí ###\n",
    "classifications = nn.predict(test_images)\n",
    "print(classifications)\n",
    "print(\"Clase de la primer imagen:\", np.argmax(test_labels[0]))\n",
    "classifications = tf.keras.utils.to_categorical(classifications, 10)\n",
    "print(\"Clase predicha por la red\", np.argmax(classifications[0]))"
   ]
  },
  {
   "cell_type": "markdown",
   "id": "807011c6",
   "metadata": {
    "cell_id": "00038-cd5f74ea-5496-47ae-be3c-7ee80a9a328e",
    "deepnote_cell_height": 55,
    "deepnote_cell_type": "markdown",
    "id": "Fs0fjzH4bmSR"
   },
   "source": [
    "Tu respuesta a la pregunta 8.3 aquí:"
   ]
  },
  {
   "cell_type": "markdown",
   "id": "7fccc692",
   "metadata": {
    "cell_id": "00039-6f1c6c39-8b56-495b-b50e-51056f6931a7",
    "deepnote_cell_height": 287,
    "deepnote_cell_type": "markdown",
    "id": "HlIgNG4Yb_N6"
   },
   "source": [
    "# Ejercicio 6: Early stop\n",
    "En el ejercicio anterior, cuando entrenabas con epoch extras, tenías un problema en el que tu pérdida podía cambiar. Puede que te haya llevado un poco de tiempo esperar a que el entrenamiento lo hiciera,  y puede que hayas pensado \"¿no estaría bien si pudiera parar el entrenamiento cuando alcance un valor deseado?\", es decir, una precisión del 85% podría ser suficiente para ti, y si alcanzas eso después de 3 epoch, ¿por qué sentarte a esperar a que termine muchas más épocas? Como cualquier otro programa existen formas de parar la ejecución\n",
    "\n",
    "A partir del ejemplo de código que se da, hacer una nueva función que tenga en cuenta la perdida (loss) y que pueda parar el código para evitar que ocurra el efeto secundario que vimos en el ejercicio 5."
   ]
  },
  {
   "cell_type": "code",
   "execution_count": 11,
   "id": "303bb969",
   "metadata": {
    "cell_id": "00040-e0714efc-00c7-4c14-9eb1-2c407371e5eb",
    "deepnote_cell_height": 189,
    "deepnote_cell_type": "code",
    "deepnote_to_be_reexecuted": false,
    "execution_millis": 0,
    "execution_start": 1656380794115,
    "id": "b5UwceFUG4ic",
    "source_hash": "b9ab19d5"
   },
   "outputs": [],
   "source": [
    "### Ejemplo de código\n",
    "\n",
    "class myCallback(tf.keras.callbacks.Callback):\n",
    "      def on_epoch_end(self, epoch, logs={}):\n",
    "        if(logs.get('accuracy')> 0.85):\n",
    "              print(\"\\nAlcanzado el 85% de precisión, se cancela el entrenamiento!!\")\n",
    "              self.model.stop_training = True"
   ]
  },
  {
   "cell_type": "markdown",
   "id": "41f6f766",
   "metadata": {
    "cell_id": "00041-ffc251c6-192d-4949-b985-904cb4a88b32",
    "deepnote_cell_height": 80,
    "deepnote_cell_type": "markdown",
    "id": "0Bjd8wGKccrn"
   },
   "source": [
    "**Pregunta 9 (2 puntos)**: Completa el siguiente código con una clase callback que una vez alcanzado el 40% de perdida detenga el entrenamiento."
   ]
  },
  {
   "cell_type": "code",
   "execution_count": 12,
   "id": "8a000b85",
   "metadata": {
    "cell_id": "00042-40232d7d-2db7-42e4-ba08-11bd816a505f",
    "deepnote_cell_height": 626,
    "deepnote_cell_type": "code",
    "deepnote_to_be_reexecuted": false,
    "execution_millis": 7081,
    "execution_start": 1656381132970,
    "id": "29LSfdOvc270",
    "owner_user_id": "41b68b99-1317-46a8-8d9f-507b7d8fe1ab",
    "source_hash": "5aaff402"
   },
   "outputs": [
    {
     "name": "stdout",
     "output_type": "stream",
     "text": [
      "2.9.1\n",
      "Epoch 1/50\n",
      "1868/1875 [============================>.] - ETA: 0s - loss: 0.4748 - accuracy: 0.8303\n",
      "Pérdida del 40%. Fin del entrenamiento.\n",
      "1875/1875 [==============================] - 18s 9ms/step - loss: 0.4746 - accuracy: 0.8303\n"
     ]
    },
    {
     "data": {
      "text/plain": [
       "<keras.callbacks.History at 0x7f4dbd78ddd0>"
      ]
     },
     "execution_count": 12,
     "metadata": {},
     "output_type": "execute_result"
    }
   ],
   "source": [
    "import tensorflow as tf\n",
    "print(tf.__version__)\n",
    "\n",
    "### Tu código de la función callback para parar el entrenamiento de la red neuronal al 40% de loss aqui: ###\n",
    "class myCallback(tf.keras.callbacks.Callback):\n",
    "    def on_epoch_end(self, epoch, logs={}):\n",
    "        if(logs.get('loss')>0.4):\n",
    "            print(\"\\nPérdida del 40%. Fin del entrenamiento.\")\n",
    "            self.model.stop_training = True\n",
    "\n",
    "callbacks = myCallback()\n",
    "mnist = tf.keras.datasets.fashion_mnist\n",
    "(training_images, training_labels) ,  (test_images, test_labels) = mnist.load_data()\n",
    "\n",
    "training_images = training_images/255.0\n",
    "test_images = test_images/255.0\n",
    "\n",
    "model = tf.keras.models.Sequential([tf.keras.layers.Flatten(),\n",
    "                                    tf.keras.layers.Dense(512, activation=tf.nn.relu),\n",
    "                                    tf.keras.layers.Dense(10, activation=tf.nn.softmax)])\n",
    "\n",
    "model.compile(optimizer = 'adam',\n",
    "              loss = 'sparse_categorical_crossentropy',\n",
    "              metrics=['accuracy']) \n",
    "\n",
    "model.fit(training_images, training_labels, epochs=50, callbacks=[callbacks])"
   ]
  },
  {
   "cell_type": "markdown",
   "id": "f5bcfc35",
   "metadata": {
    "created_in_deepnote_cell": true,
    "deepnote_cell_type": "markdown",
    "tags": []
   },
   "source": [
    "<a style='text-decoration:none;line-height:16px;display:flex;color:#5B5B62;padding:10px;justify-content:end;' href='https://deepnote.com?utm_source=created-in-deepnote-cell&projectId=02dbd28d-1aa5-4382-b37e-2cb978469c9c' target=\"_blank\">\n",
    "<img alt='Created in deepnote.com' style='display:inline;max-height:16px;margin:0px;margin-right:7.5px;' src='data:image/svg+xml;base64,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' > </img>\n",
    "Created in <span style='font-weight:600;margin-left:4px;'>Deepnote</span></a>"
   ]
  }
 ],
 "metadata": {
  "deepnote": {},
  "deepnote_execution_queue": [],
  "deepnote_notebook_id": "42e97da4-8251-47b7-9753-7dbd34eba9e4",
  "kernelspec": {
   "display_name": "Python 3 (ipykernel)",
   "language": "python",
   "name": "python3"
  },
  "language_info": {
   "codemirror_mode": {
    "name": "ipython",
    "version": 3
   },
   "file_extension": ".py",
   "mimetype": "text/x-python",
   "name": "python",
   "nbconvert_exporter": "python",
   "pygments_lexer": "ipython3",
   "version": "3.7.12"
  }
 },
 "nbformat": 4,
 "nbformat_minor": 5
}
