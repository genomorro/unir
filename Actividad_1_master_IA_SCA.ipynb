{
 "cells": [
  {
   "cell_type": "markdown",
   "source": "# Actividad 1: Conceptos generales de redes neuronales\nEn esta actividad vamos a revisar algunos de los conceptos basicos de las redes neuronales, pero no por ello menos importantes.\n\nEl dataset a utilizar es Fashion MNIST, un problema sencillo con imágenes pequeñas de ropa, pero más interesante que el dataset de MNIST. Puedes consultar más información sobre el dataset en este enlace.\n\nEl código utilizado para contestar tiene que quedar claramente reflejado en el Notebook. Puedes crear nuevas cells si así lo deseas para estructurar tu código y sus salidas. A la hora de entregar el notebook, asegúrate de que los resultados de ejecutar tu código han quedado guardados (por ejemplo, a la hora de entrenar una red neuronal tiene que verse claramente un log de los resultados de cada epoch).",
   "metadata": {
    "cell_id": "cc216d10-f0cb-4c69-8cf6-04cfb04b9f93",
    "id": "4VFT5_VnJl19",
    "deepnote_cell_type": "markdown",
    "deepnote_cell_height": 378
   }
  },
  {
   "cell_type": "code",
   "metadata": {
    "cell_id": "00001-e1cd1d48-596f-425f-a347-ef3565e25454",
    "colab": {
     "base_uri": "https://localhost:8080/",
     "height": 34
    },
    "deepnote_to_be_reexecuted": false,
    "execution_millis": 5050,
    "execution_start": 1656400201983,
    "id": "VU8gdrsVG4h0",
    "outputId": "97ce2b9c-047a-4c25-c030-77a6a63b61e1",
    "source_hash": "b91dbd17",
    "deepnote_cell_type": "code",
    "deepnote_cell_height": 138
   },
   "source": "import tensorflow as tf\nprint(tf.__version__)",
   "execution_count": 1,
   "outputs": [
    {
     "name": "stdout",
     "text": "2.9.1\n",
     "output_type": "stream"
    }
   ]
  },
  {
   "cell_type": "markdown",
   "source": "En primer lugar vamos a importar el dataset Fashion MNIST (recordad que este es uno de los dataset de entranamiento que estan guardados en keras) que es el que vamos a utilizar en esta actividad:",
   "metadata": {
    "cell_id": "00002-710a6cf3-f885-4136-a149-ad8846b3f1aa",
    "id": "zScMKU2OKSPD",
    "deepnote_cell_type": "markdown",
    "deepnote_cell_height": 80
   }
  },
  {
   "cell_type": "code",
   "metadata": {
    "cell_id": "00003-517c400d-0e4a-41ff-807c-047345f4badc",
    "deepnote_to_be_reexecuted": false,
    "execution_millis": 4,
    "execution_start": 1656400207034,
    "id": "4voG2hxxG4h3",
    "source_hash": "71d2622e",
    "deepnote_cell_type": "code",
    "deepnote_cell_height": 81
   },
   "source": "mnist = tf.keras.datasets.fashion_mnist",
   "execution_count": 2,
   "outputs": []
  },
  {
   "cell_type": "markdown",
   "source": "Llamar a **load_data** en este dataset nos dará dos conjuntos de dos listas, estos serán los valores de entrenamiento y prueba para los gráficos que contienen las prendas de vestir y sus etiquetas.\n\nNota: Aunque en esta actividad lo veis de esta forma, también lo vais a poder encontrar como 4 variables de esta forma: training_images, training_labels, test_images, test_labels = mnist.load_data()",
   "metadata": {
    "cell_id": "00004-9c16fda0-e127-409f-9a40-4c6e7a5b0e89",
    "id": "JphLsCvgKrzb",
    "deepnote_cell_type": "markdown",
    "deepnote_cell_height": 144
   }
  },
  {
   "cell_type": "code",
   "metadata": {
    "cell_id": "00005-7a57d9d7-e8af-4a18-a687-f21d06ef1f3f",
    "deepnote_to_be_reexecuted": false,
    "execution_millis": 446,
    "execution_start": 1656400207043,
    "id": "1muD4PHEG4h6",
    "source_hash": "799c24df",
    "deepnote_cell_type": "code",
    "deepnote_cell_height": 81
   },
   "source": "(training_images, training_labels), (test_images, test_labels) = mnist.load_data()",
   "execution_count": 3,
   "outputs": []
  },
  {
   "cell_type": "markdown",
   "source": "Antes de continuar vamos a dar un vistazo a nuestro dataset, para ello vamos a ver una imagen de entrenamiento y su etiqueta o clase.",
   "metadata": {
    "cell_id": "00006-c30e11d1-f482-4c3e-be54-5d504c6e1a09",
    "id": "ZWGpJqVVLT3Y",
    "deepnote_cell_type": "markdown",
    "deepnote_cell_height": 80
   }
  },
  {
   "cell_type": "code",
   "metadata": {
    "cell_id": "00007-1c67173f-ba42-4a5b-a7b0-947585688317",
    "deepnote_to_be_reexecuted": false,
    "execution_millis": 1038,
    "execution_start": 1656400207494,
    "id": "t5a5PlswG4h8",
    "source_hash": "70acd57a",
    "deepnote_cell_type": "code",
    "deepnote_cell_height": 1090,
    "deepnote_output_heights": [
     null,
     250
    ]
   },
   "source": "import numpy as np\nnp.set_printoptions(linewidth=200)\nimport matplotlib.pyplot as plt\nplt.imshow(training_images[0], cmap=\"gray\") # recordad que siempre es preferible trabajar en blanco y negro\n#\nprint(training_labels[0])\nprint(training_images[0])",
   "execution_count": 4,
   "outputs": [
    {
     "name": "stdout",
     "text": "9\n[[  0   0   0   0   0   0   0   0   0   0   0   0   0   0   0   0   0   0   0   0   0   0   0   0   0   0   0   0]\n [  0   0   0   0   0   0   0   0   0   0   0   0   0   0   0   0   0   0   0   0   0   0   0   0   0   0   0   0]\n [  0   0   0   0   0   0   0   0   0   0   0   0   0   0   0   0   0   0   0   0   0   0   0   0   0   0   0   0]\n [  0   0   0   0   0   0   0   0   0   0   0   0   1   0   0  13  73   0   0   1   4   0   0   0   0   1   1   0]\n [  0   0   0   0   0   0   0   0   0   0   0   0   3   0  36 136 127  62  54   0   0   0   1   3   4   0   0   3]\n [  0   0   0   0   0   0   0   0   0   0   0   0   6   0 102 204 176 134 144 123  23   0   0   0   0  12  10   0]\n [  0   0   0   0   0   0   0   0   0   0   0   0   0   0 155 236 207 178 107 156 161 109  64  23  77 130  72  15]\n [  0   0   0   0   0   0   0   0   0   0   0   1   0  69 207 223 218 216 216 163 127 121 122 146 141  88 172  66]\n [  0   0   0   0   0   0   0   0   0   1   1   1   0 200 232 232 233 229 223 223 215 213 164 127 123 196 229   0]\n [  0   0   0   0   0   0   0   0   0   0   0   0   0 183 225 216 223 228 235 227 224 222 224 221 223 245 173   0]\n [  0   0   0   0   0   0   0   0   0   0   0   0   0 193 228 218 213 198 180 212 210 211 213 223 220 243 202   0]\n [  0   0   0   0   0   0   0   0   0   1   3   0  12 219 220 212 218 192 169 227 208 218 224 212 226 197 209  52]\n [  0   0   0   0   0   0   0   0   0   0   6   0  99 244 222 220 218 203 198 221 215 213 222 220 245 119 167  56]\n [  0   0   0   0   0   0   0   0   0   4   0   0  55 236 228 230 228 240 232 213 218 223 234 217 217 209  92   0]\n [  0   0   1   4   6   7   2   0   0   0   0   0 237 226 217 223 222 219 222 221 216 223 229 215 218 255  77   0]\n [  0   3   0   0   0   0   0   0   0  62 145 204 228 207 213 221 218 208 211 218 224 223 219 215 224 244 159   0]\n [  0   0   0   0  18  44  82 107 189 228 220 222 217 226 200 205 211 230 224 234 176 188 250 248 233 238 215   0]\n [  0  57 187 208 224 221 224 208 204 214 208 209 200 159 245 193 206 223 255 255 221 234 221 211 220 232 246   0]\n [  3 202 228 224 221 211 211 214 205 205 205 220 240  80 150 255 229 221 188 154 191 210 204 209 222 228 225   0]\n [ 98 233 198 210 222 229 229 234 249 220 194 215 217 241  65  73 106 117 168 219 221 215 217 223 223 224 229  29]\n [ 75 204 212 204 193 205 211 225 216 185 197 206 198 213 240 195 227 245 239 223 218 212 209 222 220 221 230  67]\n [ 48 203 183 194 213 197 185 190 194 192 202 214 219 221 220 236 225 216 199 206 186 181 177 172 181 205 206 115]\n [  0 122 219 193 179 171 183 196 204 210 213 207 211 210 200 196 194 191 195 191 198 192 176 156 167 177 210  92]\n [  0   0  74 189 212 191 175 172 175 181 185 188 189 188 193 198 204 209 210 210 211 188 188 194 192 216 170   0]\n [  2   0   0   0  66 200 222 237 239 242 246 243 244 221 220 193 191 179 182 182 181 176 166 168  99  58   0   0]\n [  0   0   0   0   0   0   0  40  61  44  72  41  35   0   0   0   0   0   0   0   0   0   0   0   0   0   0   0]\n [  0   0   0   0   0   0   0   0   0   0   0   0   0   0   0   0   0   0   0   0   0   0   0   0   0   0   0   0]\n [  0   0   0   0   0   0   0   0   0   0   0   0   0   0   0   0   0   0   0   0   0   0   0   0   0   0   0   0]]\n",
     "output_type": "stream"
    },
    {
     "data": {
      "text/plain": "<Figure size 432x288 with 1 Axes>",
      "image/png": "[encoded data removed]"
     },
     "metadata": {
      "needs_background": "light",
      "image/png": {
       "width": 251,
       "height": 248
      }
     },
     "output_type": "display_data"
    }
   ]
  },
  {
   "cell_type": "markdown",
   "source": "Habreis notado que todos los valores numericos están entre 0 y 255. Si estamos entrenando una red neuronal, una buena practica es transformar todos los valores entre 0 y 1, un proceso llamado \"normalización\" y afortunadamente en Python es fácil normalizar una lista. Lo puedes hacer de esta manera:",
   "metadata": {
    "cell_id": "00008-2fd2dfdd-9a80-48b0-9f4c-fd75104242f8",
    "id": "WCJvZx3MLucY",
    "deepnote_cell_type": "markdown",
    "deepnote_cell_height": 105
   }
  },
  {
   "cell_type": "markdown",
   "source": "",
   "metadata": {
    "cell_id": "00009-f226d013-418e-416a-abf1-35d1b91f8a0a",
    "id": "OLpAvdVcRlyx",
    "deepnote_cell_type": "markdown",
    "deepnote_cell_height": 46
   }
  },
  {
   "cell_type": "code",
   "metadata": {
    "cell_id": "00010-477ddebd-7641-4990-8670-187f739c2029",
    "deepnote_to_be_reexecuted": false,
    "execution_millis": 153,
    "execution_start": 1656400208537,
    "id": "tojL1BmjG4h_",
    "lines_to_next_cell": 2,
    "source_hash": "7609eab4",
    "deepnote_cell_type": "code",
    "deepnote_cell_height": 99
   },
   "source": "training_images  = training_images / 255.0\ntest_images = test_images / 255.0",
   "execution_count": 5,
   "outputs": []
  },
  {
   "cell_type": "markdown",
   "source": " Se agrega preprocesamiento sobre las etiquetas, será útil para hacer legible la clasificación hecha con la red neuronal.",
   "metadata": {
    "cell_id": "5085aad4506b45ea9c65cc8600c4ad08",
    "tags": [],
    "deepnote_to_be_reexecuted": false,
    "source_hash": "861094f6",
    "execution_start": 1656395875146,
    "execution_millis": 1,
    "deepnote_cell_type": "markdown",
    "deepnote_cell_height": 80
   },
   "outputs": [],
   "execution_count": 6
  },
  {
   "cell_type": "code",
   "source": "# Es necesario preprocesar las etiquetas de salida para que sean reconocidas como categorías\ntraining_labels = tf.keras.utils.to_categorical(training_labels, 10)\ntest_labels = tf.keras.utils.to_categorical(test_labels, 10)\n# Esta lista servirá para poner nombres a las categorias\nlabel_names = ['Playera', 'Pantalón', 'Suéter', 'Vestido', 'Chamarra',\n                'Zapatillas', 'Camisa', 'tenis', 'Bolsa', 'Botas']\n                                                                ",
   "metadata": {
    "cell_id": "fa2e35067e344bf9b86b9a94a911afd5",
    "tags": [],
    "deepnote_to_be_reexecuted": false,
    "source_hash": "bc8cff36",
    "execution_start": 1656400208738,
    "execution_millis": 1,
    "deepnote_cell_type": "code",
    "deepnote_cell_height": 189
   },
   "outputs": [],
   "execution_count": 6
  },
  {
   "cell_type": "markdown",
   "source": "Ahora vamos a definir el modelo, pero antes vamos a repasar algunos comandos y conceptos muy utiles:\n* **Sequential**: Eso define una SECUENCIA de capas en la red neuronal\n* **Dense**: Añade una capa de neuronas\n* **Flatten**: ¿Recuerdas que las imágenes cómo eran las imagenes cuando las imprimiste para poder verlas? Un cuadrado, Flatten sólo toma ese cuadrado y lo convierte en un vector de una dimensión.\n\nCada capa de neuronas necesita una función de activación. Normalmente se usa la función relu en las capas intermedias y softmax en la ultima capa\n* **Relu** significa que \"Si X>0 devuelve X, si no, devuelve 0\", así que lo que hace es pasar sólo valores 0 o mayores a la siguiente capa de la red.\n* **Softmax** toma un conjunto de valores, y escoge el más grande.",
   "metadata": {
    "cell_id": "00011-2e487eb8-d511-441f-a33b-12b424072f17",
    "id": "yYUWWsszMAKt",
    "deepnote_cell_type": "markdown",
    "deepnote_cell_height": 345
   }
  },
  {
   "cell_type": "markdown",
   "source": " **Pregunta 1 (3.5 puntos)**. Utilizando Keras, y preparando los datos de X e y como fuera necesario, define y entrena una red neuronal que sea capaz de clasificar imágenes de Fashion MNIST con las siguientes características:\n\n* Una hidden layer de tamaños 128, utilizando unidades sigmoid\nOptimizador Adam.\n* Durante el entrenamiento, la red tiene que mostrar resultados de loss y accuracy por cada epoch.\n* La red debe entrenar durante 10 epochs y batch size de 64.\n* La última capa debe de ser una capa softmax.\n* Tu red tendría que ser capaz de superar fácilmente 80% de accuracy.",
   "metadata": {
    "cell_id": "00012-a65b5097-c3c9-48b1-bd2a-a4d0a3eb129d",
    "id": "QgBW1yE2MwPp",
    "deepnote_cell_type": "markdown",
    "deepnote_cell_height": 320
   }
  },
  {
   "cell_type": "code",
   "metadata": {
    "cell_id": "00013-5a03fd28-b1cd-405c-bf7b-d19062449254",
    "deepnote_to_be_reexecuted": false,
    "execution_millis": 30817,
    "execution_start": 1656400208739,
    "id": "aTaD2QXIORwu",
    "lines_to_next_cell": 2,
    "source_hash": "c57d27df",
    "deepnote_cell_type": "code",
    "deepnote_cell_height": 840,
    "deepnote_output_heights": [
     null,
     27
    ]
   },
   "source": "### Tu código para la red neuronal de la pregunta 1 aquí ###\nnn = tf.keras.models.Sequential([\n      tf.keras.layers.Flatten(input_shape=[28,28]), # Según training_images.shape\n      tf.keras.layers.Dense(128, activation=\"sigmoid\"),\n      tf.keras.layers.Dense(10, activation=\"softmax\") # número de clases np.unique(training_labels)\n])\nnn.compile(loss=\"categorical_crossentropy\", optimizer=\"adam\", metrics=[\"accuracy\"])\nnn.fit(training_images, training_labels, batch_size=64, epochs=10, validation_data=(test_images, test_labels))",
   "execution_count": 7,
   "outputs": [
    {
     "name": "stdout",
     "text": "Epoch 1/10\n938/938 [==============================] - 4s 3ms/step - loss: 0.6016 - accuracy: 0.7971 - val_loss: 0.4874 - val_accuracy: 0.8221\nEpoch 2/10\n938/938 [==============================] - 3s 3ms/step - loss: 0.4128 - accuracy: 0.8534 - val_loss: 0.4241 - val_accuracy: 0.8478\nEpoch 3/10\n938/938 [==============================] - 3s 3ms/step - loss: 0.3733 - accuracy: 0.8662 - val_loss: 0.3966 - val_accuracy: 0.8586\nEpoch 4/10\n938/938 [==============================] - 3s 3ms/step - loss: 0.3478 - accuracy: 0.8743 - val_loss: 0.3805 - val_accuracy: 0.8647\nEpoch 5/10\n938/938 [==============================] - 3s 3ms/step - loss: 0.3297 - accuracy: 0.8797 - val_loss: 0.3777 - val_accuracy: 0.8622\nEpoch 6/10\n938/938 [==============================] - 3s 4ms/step - loss: 0.3159 - accuracy: 0.8856 - val_loss: 0.3599 - val_accuracy: 0.8685\nEpoch 7/10\n938/938 [==============================] - 3s 3ms/step - loss: 0.3027 - accuracy: 0.8895 - val_loss: 0.3573 - val_accuracy: 0.8687\nEpoch 8/10\n938/938 [==============================] - 3s 3ms/step - loss: 0.2920 - accuracy: 0.8943 - val_loss: 0.3454 - val_accuracy: 0.8761\nEpoch 9/10\n938/938 [==============================] - 3s 3ms/step - loss: 0.2813 - accuracy: 0.8978 - val_loss: 0.3428 - val_accuracy: 0.8772\nEpoch 10/10\n938/938 [==============================] - 3s 3ms/step - loss: 0.2721 - accuracy: 0.9013 - val_loss: 0.3428 - val_accuracy: 0.8764\n",
     "output_type": "stream"
    },
    {
     "output_type": "execute_result",
     "execution_count": 7,
     "data": {
      "text/plain": "<keras.callbacks.History at 0x7f99050345b0>"
     },
     "metadata": {}
    }
   ]
  },
  {
   "cell_type": "markdown",
   "source": "Para concluir el entrenamiento de la red neuronal, una buena practica es evaluar el modelo para ver si la precisión de entrenamiento es real\n\n**pregunta 2 (0.5 puntos)**: evalua el modelo con las imagenes y etiquetas test.",
   "metadata": {
    "cell_id": "00014-17fc699a-a8e6-4488-8186-3e00109f7164",
    "id": "Bxr5hTKYOQnK",
    "deepnote_cell_type": "markdown",
    "deepnote_cell_height": 119
   }
  },
  {
   "cell_type": "code",
   "metadata": {
    "cell_id": "00015-9f1e67d2-c0ac-4abc-a6ce-e7781b603e31",
    "deepnote_to_be_reexecuted": false,
    "execution_millis": 1276,
    "execution_start": 1656400239554,
    "id": "VNjQEtUUG4iI",
    "lines_to_next_cell": 1,
    "source_hash": "a7f6725b",
    "deepnote_cell_type": "code",
    "deepnote_cell_height": 202
   },
   "source": "### Tu código para la evaluación de la red neuronal de la pregunta 2 aquí ###\nscore = nn.evaluate(test_images, test_labels, verbose=0)\nprint(\"Loss:\", score[0])\nprint(\"Accuracy:\", score[1])",
   "execution_count": 8,
   "outputs": [
    {
     "name": "stdout",
     "text": "Loss: 0.34275028109550476\nAccuracy: 0.8763999938964844\n",
     "output_type": "stream"
    }
   ]
  },
  {
   "cell_type": "markdown",
   "source": "Ahora vamos a explorar el código con una serie de ejercicios para alcanzar un grado de comprensión mayor sobre las redes neuronales y su entrenamiento.\n\n# **Ejercicio 1: Funcionamiento de las predicción de la red neuronal**\n\nPara este primer ejercicio sigue los siguientes pasos: \n\n* Crea una variable llamada **classifications** para construir un clasificador para las imágenes de prueba, para ello puedes utilizar la función predict sobre el conjunto de test\n* Imprime con la función print la primera entrada en las clasificaciones. \n\n**pregunta 3.1 (0.25 puntos)**, el resultado al imprimirlo es un vector de números, \n* ¿Por qué crees que ocurre esto, y qué representa este vector de números?\n\n**pregunta 3.2 (0.25 puntos)**\n* ¿Cúal es la clase de la primera entrada#  de la variable **classifications**? La respuesta puede ser un número o su etiqueta/clase equivalente.",
   "metadata": {
    "cell_id": "00016-23ca49dd-89ac-4073-ae55-3fa1654d218d",
    "id": "ygMVnmSYO83U",
    "deepnote_cell_type": "markdown",
    "deepnote_cell_height": 526
   }
  },
  {
   "cell_type": "code",
   "metadata": {
    "cell_id": "00017-90dd8bd8-49c7-4581-9209-d37b46425fc5",
    "deepnote_to_be_reexecuted": false,
    "execution_millis": 820,
    "execution_start": 1656400240257,
    "id": "b-mL-h4xQhCm",
    "source_hash": "d7fdefa0",
    "deepnote_cell_type": "code",
    "deepnote_cell_height": 546,
    "deepnote_output_heights": [
     252,
     52
    ]
   },
   "source": "### Tu código del clasificador de la pregunta 3 aquí ###\nclassifications = nn.predict(test_images)\nprint(classifications)\n# Convertir las predicciones a sus respectivas etiquetas\ndef pred_to_label(predictions):\n    pred = list()\n    for i in range(len(predictions)):\n        pred.append(np.argmax(predictions[i]))\n    return pred\nclassifications_redable = pred_to_label(classifications)\ntest_labels_redable = pred_to_label(test_labels)\nprint(\"El valor predicho es:\", classifications_redable[0],\"y el valor esperado es:\", test_labels_redable[0])",
   "execution_count": 9,
   "outputs": [
    {
     "name": "stdout",
     "text": "313/313 [==============================] - 1s 1ms/step\n[[3.0433905e-06 2.0235414e-06 3.6615820e-06 ... 9.6495608e-03 2.8982328e-04 9.7915280e-01]\n [4.9558509e-04 2.0661630e-06 9.9070853e-01 ... 1.4265962e-07 1.7438746e-05 1.1411053e-08]\n [4.6764708e-05 9.9992651e-01 5.5577830e-06 ... 1.3537166e-07 5.8002081e-07 1.9057818e-08]\n ...\n [2.2799512e-03 2.5153849e-06 6.2035490e-04 ... 1.8414238e-04 9.9000877e-01 5.3328728e-07]\n [2.9672151e-06 9.9972010e-01 5.3496328e-06 ... 8.0558713e-08 3.9219586e-07 6.0854887e-07]\n [2.0112418e-06 1.5264168e-06 2.7174274e-05 ... 3.2936663e-03 8.7440334e-04 2.1884760e-05]]\nEl valor predicho es: 9 y el valor esperado es: 9\n",
     "output_type": "stream"
    }
   ]
  },
  {
   "cell_type": "markdown",
   "source": "Tu respuesta a la pregunta 3.1 aquí:",
   "metadata": {
    "cell_id": "00018-155cd98c-295e-4597-8db4-f778dcf895cf",
    "id": "pvbVC9gaQhMY",
    "deepnote_cell_type": "markdown",
    "deepnote_cell_height": 55
   }
  },
  {
   "cell_type": "markdown",
   "source": "Tu respuesta a la pregunta 3.2 aquí:",
   "metadata": {
    "cell_id": "00019-09562af1-5380-4f6b-befe-a0eb19dd04ba",
    "id": "oRWo-75tdgv0",
    "deepnote_cell_type": "markdown",
    "deepnote_cell_height": 55
   }
  },
  {
   "cell_type": "markdown",
   "source": "# **Ejercicio 2: Impacto variar el número de neuronas en las capas ocultas**\n\nEn este ejercicio vamos a experimentar con nuestra red neuronal cambiando el numero de neuronas por 512 y por 1024. Para ello, utiliza la red neuronal de la pregunta 1, y su capa oculta cambia las 128 neuronas:\n\n* **pregunta 4.1 (0.25 puntos)**: 512 neuronas en la capa oculta\n* **pregunta 4.2 (0.25 puntos)**:1024 neuronas en la capa oculta\n\ny entrena la red en ambos casos.\n\n**pregunta 4.3 (0.5 puntos)**: ¿Cual es el impacto que tiene la red neuronal?",
   "metadata": {
    "cell_id": "00020-8da69344-f04a-41d3-ae62-d710b63fc630",
    "id": "hiQ8qAzhRQ4L",
    "deepnote_cell_type": "markdown",
    "deepnote_cell_height": 345
   }
  },
  {
   "cell_type": "code",
   "metadata": {
    "cell_id": "00021-410d576a-10dd-47cf-bd32-90478c9fa4ea",
    "deepnote_to_be_reexecuted": false,
    "execution_millis": 48953,
    "execution_start": 1656400241138,
    "id": "cdP8ZwuaUV93",
    "source_hash": "bf27e44a",
    "deepnote_cell_type": "code",
    "deepnote_cell_height": 840,
    "deepnote_output_heights": [
     null,
     27
    ]
   },
   "source": "### Tu código para 512 neuronas aquí ###\nnn = tf.keras.models.Sequential([\n      tf.keras.layers.Flatten(input_shape=[28,28]), # Según training_images.shape\n      tf.keras.layers.Dense(512, activation=\"sigmoid\"),\n      tf.keras.layers.Dense(10, activation=\"softmax\") # número de clases np.unique(training_labels)\n])\nnn.compile(loss=\"categorical_crossentropy\", optimizer=\"adam\", metrics=[\"accuracy\"])\nnn.fit(training_images, training_labels, batch_size=64, epochs=10, validation_data=(test_images, test_labels))",
   "execution_count": 10,
   "outputs": [
    {
     "name": "stdout",
     "text": "Epoch 1/10\n938/938 [==============================] - 5s 5ms/step - loss: 0.5317 - accuracy: 0.8133 - val_loss: 0.4414 - val_accuracy: 0.8403\nEpoch 2/10\n938/938 [==============================] - 5s 5ms/step - loss: 0.4015 - accuracy: 0.8542 - val_loss: 0.4427 - val_accuracy: 0.8356\nEpoch 3/10\n938/938 [==============================] - 5s 5ms/step - loss: 0.3641 - accuracy: 0.8684 - val_loss: 0.3896 - val_accuracy: 0.8613\nEpoch 4/10\n938/938 [==============================] - 5s 5ms/step - loss: 0.3367 - accuracy: 0.8764 - val_loss: 0.3622 - val_accuracy: 0.8702\nEpoch 5/10\n938/938 [==============================] - 5s 5ms/step - loss: 0.3158 - accuracy: 0.8844 - val_loss: 0.3619 - val_accuracy: 0.8688\nEpoch 6/10\n938/938 [==============================] - 5s 5ms/step - loss: 0.2981 - accuracy: 0.8915 - val_loss: 0.3483 - val_accuracy: 0.8754\nEpoch 7/10\n938/938 [==============================] - 5s 5ms/step - loss: 0.2832 - accuracy: 0.8955 - val_loss: 0.3538 - val_accuracy: 0.8696\nEpoch 8/10\n938/938 [==============================] - 5s 5ms/step - loss: 0.2696 - accuracy: 0.8996 - val_loss: 0.3534 - val_accuracy: 0.8716\nEpoch 9/10\n938/938 [==============================] - 5s 5ms/step - loss: 0.2574 - accuracy: 0.9051 - val_loss: 0.3342 - val_accuracy: 0.8791\nEpoch 10/10\n938/938 [==============================] - 5s 5ms/step - loss: 0.2471 - accuracy: 0.9083 - val_loss: 0.3249 - val_accuracy: 0.8838\n",
     "output_type": "stream"
    },
    {
     "output_type": "execute_result",
     "execution_count": 10,
     "data": {
      "text/plain": "<keras.callbacks.History at 0x7f98e43b9f70>"
     },
     "metadata": {}
    }
   ]
  },
  {
   "cell_type": "code",
   "metadata": {
    "cell_id": "b9e936c6d6c848e48d3781b9ddda5c96",
    "deepnote_to_be_reexecuted": false,
    "id": "b-mL-h4xQhCm",
    "source_hash": "29f96a42",
    "allow_embed": false,
    "execution_start": 1656400290096,
    "execution_millis": 1897,
    "deepnote_cell_type": "code",
    "deepnote_cell_height": 220
   },
   "source": "classifications = nn.predict(test_images)\n# Convertir las predicciones a sus respectivas etiquetas\nclassifications_redable = pred_to_label(classifications)\ntest_labels_redable = pred_to_label(test_labels)\nprint(\"El valor predicho es:\", classifications_redable[0],\"y el valor esperado es:\", test_labels_redable[0])",
   "execution_count": 11,
   "outputs": [
    {
     "name": "stdout",
     "text": "313/313 [==============================] - 1s 2ms/step\nEl valor predicho es: 9 y el valor esperado es: 9\n",
     "output_type": "stream"
    }
   ]
  },
  {
   "cell_type": "code",
   "metadata": {
    "cell_id": "00022-9072124e-004f-47a3-9f66-b7cd9ea72f51",
    "deepnote_to_be_reexecuted": false,
    "execution_millis": 82556,
    "execution_start": 1656400291543,
    "id": "YXBlbbfuUaPa",
    "source_hash": "86fc2da3",
    "deepnote_cell_type": "code",
    "deepnote_cell_height": 1158,
    "deepnote_output_heights": [
     null,
     27
    ]
   },
   "source": "### Tu código para 1024 neuronas aquí ###\nnn = tf.keras.models.Sequential([\n     tf.keras.layers.Flatten(input_shape=[28,28]), # Según training_images.shape\n     tf.keras.layers.Dense(1024, activation=\"sigmoid\"),\n     tf.keras.layers.Dense(10, activation=\"softmax\") # número de clases np.unique(training_labels)\n])\nnn.compile(loss=\"categorical_crossentropy\", optimizer=\"adam\", metrics=[\"accuracy\"])\nnn.fit(training_images, training_labels, batch_size=64, epochs=10, validation_data=(test_images, test_labels))",
   "execution_count": 12,
   "outputs": [
    {
     "name": "stdout",
     "text": "Epoch 1/10\n938/938 [==============================] - 9s 9ms/step - loss: 0.5249 - accuracy: 0.8124 - val_loss: 0.4442 - val_accuracy: 0.8402\nEpoch 2/10\n938/938 [==============================] - 8s 8ms/step - loss: 0.4031 - accuracy: 0.8539 - val_loss: 0.4194 - val_accuracy: 0.8480\nEpoch 3/10\n938/938 [==============================] - 8s 9ms/step - loss: 0.3633 - accuracy: 0.8678 - val_loss: 0.4356 - val_accuracy: 0.8443\nEpoch 4/10\n938/938 [==============================] - 8s 9ms/step - loss: 0.3348 - accuracy: 0.8773 - val_loss: 0.3896 - val_accuracy: 0.8619\nEpoch 5/10\n938/938 [==============================] - 8s 9ms/step - loss: 0.3125 - accuracy: 0.8855 - val_loss: 0.3563 - val_accuracy: 0.8722\nEpoch 6/10\n938/938 [==============================] - 8s 8ms/step - loss: 0.2932 - accuracy: 0.8915 - val_loss: 0.3518 - val_accuracy: 0.8733\nEpoch 7/10\n938/938 [==============================] - 8s 8ms/step - loss: 0.2771 - accuracy: 0.8966 - val_loss: 0.3320 - val_accuracy: 0.8789\nEpoch 8/10\n938/938 [==============================] - 8s 9ms/step - loss: 0.2627 - accuracy: 0.9010 - val_loss: 0.3423 - val_accuracy: 0.8746\nEpoch 9/10\n938/938 [==============================] - 8s 8ms/step - loss: 0.2515 - accuracy: 0.9052 - val_loss: 0.3326 - val_accuracy: 0.8823\nEpoch 10/10\n938/938 [==============================] - 8s 8ms/step - loss: 0.2389 - accuracy: 0.9109 - val_loss: 0.3209 - val_accuracy: 0.8856\n",
     "output_type": "stream"
    },
    {
     "output_type": "execute_result",
     "execution_count": 12,
     "data": {
      "text/plain": "<keras.callbacks.History at 0x7f98e715d4f0>"
     },
     "metadata": {}
    }
   ]
  },
  {
   "cell_type": "code",
   "metadata": {
    "cell_id": "37d03f44180a416c9b1fd119006f4d20",
    "deepnote_to_be_reexecuted": false,
    "id": "b-mL-h4xQhCm",
    "source_hash": "29f96a42",
    "allow_embed": false,
    "execution_start": 1656400374106,
    "execution_millis": 1641,
    "deepnote_cell_type": "code",
    "deepnote_cell_height": 220
   },
   "source": "classifications = nn.predict(test_images)\n# Convertir las predicciones a sus respectivas etiquetas\nclassifications_redable = pred_to_label(classifications)\ntest_labels_redable = pred_to_label(test_labels)\nprint(\"El valor predicho es:\", classifications_redable[0],\"y el valor esperado es:\", test_labels_redable[0])",
   "execution_count": 13,
   "outputs": [
    {
     "name": "stdout",
     "text": "313/313 [==============================] - 1s 2ms/step\nEl valor predicho es: 9 y el valor esperado es: 9\n",
     "output_type": "stream"
    }
   ]
  },
  {
   "cell_type": "markdown",
   "source": "Tu respuesta a la pregunta 4.3 aquí:",
   "metadata": {
    "cell_id": "00023-7e000ca5-0905-4d4e-8737-342abd0d4824",
    "id": "wG0h2HL-Uj93",
    "deepnote_cell_type": "markdown",
    "deepnote_cell_height": 55
   }
  },
  {
   "cell_type": "markdown",
   "source": "Si ahora entrenais el modelo de esta forma (con 512 y 1024 neuronas en la capa oculta) y volveis a ejecutar el predictor guardado en la variable **classifications**, escribir el código del clasificador del ejercicio 1 de nuevo e imprimid el primer objeto guardado en la variable classifications.\n\n**pregunta 5.1 (0.25 puntos)**: \n\n* ¿En que clase esta clasificado ahora la primera prenda de vestir de la variable classifications?\n\n**pregunta 5.1 (0.25 puntos)**: \n\n* ¿Porque crees que ha ocurrido esto?",
   "metadata": {
    "cell_id": "00024-7344d1a1-f49f-4bc9-81cd-be097c86b2e8",
    "id": "b-NpUI9EVkVz",
    "deepnote_cell_type": "markdown",
    "deepnote_cell_height": 275
   }
  },
  {
   "cell_type": "code",
   "metadata": {
    "cell_id": "00025-e74e0267-9497-4efa-bedd-e032f8b5ca55",
    "deepnote_to_be_reexecuted": false,
    "execution_millis": 1335,
    "execution_start": 1656400375190,
    "id": "b-mL-h4xQhCm",
    "source_hash": "263bf7ae",
    "deepnote_cell_type": "code",
    "deepnote_cell_height": 248
   },
   "source": "### Tu código del clasificador de la pregunta 5 aquí ###\nclassifications = nn.predict(test_images)\nprint(\"Clase de la primer imagen:\", np.argmax(test_labels[0]))\nclassifications = tf.keras.utils.to_categorical(classifications, 10)\nprint(\"Clase predicha por la red\", np.argmax(classifications[0]))",
   "execution_count": 14,
   "outputs": [
    {
     "name": "stdout",
     "text": "313/313 [==============================] - 1s 3ms/step\nClase de la primer imagen: 9\nClase predicha por la red 0\n",
     "output_type": "stream"
    }
   ]
  },
  {
   "cell_type": "markdown",
   "source": "Tu respuesta a la pregunta 5.1 aquí:",
   "metadata": {
    "cell_id": "00026-d568ca65-cf8d-422f-ab53-a9bb62bcd52f",
    "id": "P3NfwdOGZcAa",
    "deepnote_cell_type": "markdown",
    "deepnote_cell_height": 55
   }
  },
  {
   "cell_type": "markdown",
   "source": "Tu respuesta a la pregunta 5.2 aquí:",
   "metadata": {
    "cell_id": "00027-3c3779a7-4f98-4368-8417-1a3d801a3056",
    "id": "nFmfpxE1ZcJx",
    "deepnote_cell_type": "markdown",
    "deepnote_cell_height": 55
   }
  },
  {
   "cell_type": "markdown",
   "source": "# **Ejercicio 3: ¿por qué es tan importante la capa Flatten?**\n\nEn este ejercicio vamos a ver que ocurre cuando quitamos la capa flatten, para ello, escribe la red neuronal de la pregunta 1 y no pongas la capa Flatten.\n\n**pregunta 6 (0.5 puntos):** ¿puedes explicar porque da el error que da?\n\n",
   "metadata": {
    "cell_id": "00028-f93d2208-534c-46fc-a7e3-cab6ae481a50",
    "id": "59eM76O1YekZ",
    "deepnote_cell_type": "markdown",
    "deepnote_cell_height": 239
   }
  },
  {
   "cell_type": "code",
   "metadata": {
    "cell_id": "00029-2330c8fd-7d3f-4f00-9d15-b55f0fe03add",
    "deepnote_to_be_reexecuted": false,
    "execution_millis": 2119,
    "execution_start": 1656400376530,
    "id": "ecfEVKEuG4iU",
    "source_hash": "c3a4c537",
    "deepnote_cell_type": "code",
    "deepnote_cell_height": 1158
   },
   "source": "### Tu código de la red neuronal sin capa flatten de la pregunta 6 aquí ###\nnn = tf.keras.models.Sequential([\n     # tf.keras.layers.Flatten(input_shape=[28,28]), # Según training_images.shape\n     tf.keras.layers.Dense(1024, activation=\"sigmoid\"),\n     tf.keras.layers.Dense(10, activation=\"softmax\") # número de clases np.unique(training_labels)\n])\nnn.compile(loss=\"categorical_crossentropy\", optimizer=\"adam\", metrics=[\"accuracy\"])\nnn.fit(training_images, training_labels, batch_size=64, epochs=10, validation_data=(test_images, test_labels))",
   "execution_count": 15,
   "outputs": [
    {
     "name": "stdout",
     "text": "Epoch 1/10\n",
     "output_type": "stream"
    },
    {
     "output_type": "error",
     "ename": "ValueError",
     "evalue": "in user code:\n\n    File \"/shared-libs/python3.9/py/lib/python3.9/site-packages/keras/engine/training.py\", line 1051, in train_function  *\n        return step_function(self, iterator)\n    File \"/shared-libs/python3.9/py/lib/python3.9/site-packages/keras/engine/training.py\", line 1040, in step_function  **\n        outputs = model.distribute_strategy.run(run_step, args=(data,))\n    File \"/shared-libs/python3.9/py/lib/python3.9/site-packages/keras/engine/training.py\", line 1030, in run_step  **\n        outputs = model.train_step(data)\n    File \"/shared-libs/python3.9/py/lib/python3.9/site-packages/keras/engine/training.py\", line 890, in train_step\n        loss = self.compute_loss(x, y, y_pred, sample_weight)\n    File \"/shared-libs/python3.9/py/lib/python3.9/site-packages/keras/engine/training.py\", line 948, in compute_loss\n        return self.compiled_loss(\n    File \"/shared-libs/python3.9/py/lib/python3.9/site-packages/keras/engine/compile_utils.py\", line 201, in __call__\n        loss_value = loss_obj(y_t, y_p, sample_weight=sw)\n    File \"/shared-libs/python3.9/py/lib/python3.9/site-packages/keras/losses.py\", line 139, in __call__\n        losses = call_fn(y_true, y_pred)\n    File \"/shared-libs/python3.9/py/lib/python3.9/site-packages/keras/losses.py\", line 243, in call  **\n        return ag_fn(y_true, y_pred, **self._fn_kwargs)\n    File \"/shared-libs/python3.9/py/lib/python3.9/site-packages/keras/losses.py\", line 1787, in categorical_crossentropy\n        return backend.categorical_crossentropy(\n    File \"/shared-libs/python3.9/py/lib/python3.9/site-packages/keras/backend.py\", line 5119, in categorical_crossentropy\n        target.shape.assert_is_compatible_with(output.shape)\n\n    ValueError: Shapes (None, 10) and (None, 28, 10) are incompatible\n",
     "traceback": [
      "\u001b[0;31m---------------------------------------------------------------------------\u001b[0m",
      "\u001b[0;31mValueError\u001b[0m                                Traceback (most recent call last)",
      "\u001b[0;32m<ipython-input-15-ea42271f1b4a>\u001b[0m in \u001b[0;36m<cell line: 8>\u001b[0;34m()\u001b[0m\n\u001b[1;32m      6\u001b[0m ])\n\u001b[1;32m      7\u001b[0m \u001b[0mnn\u001b[0m\u001b[0;34m.\u001b[0m\u001b[0mcompile\u001b[0m\u001b[0;34m(\u001b[0m\u001b[0mloss\u001b[0m\u001b[0;34m=\u001b[0m\u001b[0;34m\"categorical_crossentropy\"\u001b[0m\u001b[0;34m,\u001b[0m \u001b[0moptimizer\u001b[0m\u001b[0;34m=\u001b[0m\u001b[0;34m\"adam\"\u001b[0m\u001b[0;34m,\u001b[0m \u001b[0mmetrics\u001b[0m\u001b[0;34m=\u001b[0m\u001b[0;34m[\u001b[0m\u001b[0;34m\"accuracy\"\u001b[0m\u001b[0;34m]\u001b[0m\u001b[0;34m)\u001b[0m\u001b[0;34m\u001b[0m\u001b[0;34m\u001b[0m\u001b[0m\n\u001b[0;32m----> 8\u001b[0;31m \u001b[0mnn\u001b[0m\u001b[0;34m.\u001b[0m\u001b[0mfit\u001b[0m\u001b[0;34m(\u001b[0m\u001b[0mtraining_images\u001b[0m\u001b[0;34m,\u001b[0m \u001b[0mtraining_labels\u001b[0m\u001b[0;34m,\u001b[0m \u001b[0mbatch_size\u001b[0m\u001b[0;34m=\u001b[0m\u001b[0;36m64\u001b[0m\u001b[0;34m,\u001b[0m \u001b[0mepochs\u001b[0m\u001b[0;34m=\u001b[0m\u001b[0;36m10\u001b[0m\u001b[0;34m,\u001b[0m \u001b[0mvalidation_data\u001b[0m\u001b[0;34m=\u001b[0m\u001b[0;34m(\u001b[0m\u001b[0mtest_images\u001b[0m\u001b[0;34m,\u001b[0m \u001b[0mtest_labels\u001b[0m\u001b[0;34m)\u001b[0m\u001b[0;34m)\u001b[0m\u001b[0;34m\u001b[0m\u001b[0;34m\u001b[0m\u001b[0m\n\u001b[0m",
      "\u001b[0;32m/shared-libs/python3.9/py/lib/python3.9/site-packages/keras/utils/traceback_utils.py\u001b[0m in \u001b[0;36merror_handler\u001b[0;34m(*args, **kwargs)\u001b[0m\n\u001b[1;32m     65\u001b[0m     \u001b[0;32mexcept\u001b[0m \u001b[0mException\u001b[0m \u001b[0;32mas\u001b[0m \u001b[0me\u001b[0m\u001b[0;34m:\u001b[0m  \u001b[0;31m# pylint: disable=broad-except\u001b[0m\u001b[0;34m\u001b[0m\u001b[0;34m\u001b[0m\u001b[0m\n\u001b[1;32m     66\u001b[0m       \u001b[0mfiltered_tb\u001b[0m \u001b[0;34m=\u001b[0m \u001b[0m_process_traceback_frames\u001b[0m\u001b[0;34m(\u001b[0m\u001b[0me\u001b[0m\u001b[0;34m.\u001b[0m\u001b[0m__traceback__\u001b[0m\u001b[0;34m)\u001b[0m\u001b[0;34m\u001b[0m\u001b[0;34m\u001b[0m\u001b[0m\n\u001b[0;32m---> 67\u001b[0;31m       \u001b[0;32mraise\u001b[0m \u001b[0me\u001b[0m\u001b[0;34m.\u001b[0m\u001b[0mwith_traceback\u001b[0m\u001b[0;34m(\u001b[0m\u001b[0mfiltered_tb\u001b[0m\u001b[0;34m)\u001b[0m \u001b[0;32mfrom\u001b[0m \u001b[0;32mNone\u001b[0m\u001b[0;34m\u001b[0m\u001b[0;34m\u001b[0m\u001b[0m\n\u001b[0m\u001b[1;32m     68\u001b[0m     \u001b[0;32mfinally\u001b[0m\u001b[0;34m:\u001b[0m\u001b[0;34m\u001b[0m\u001b[0;34m\u001b[0m\u001b[0m\n\u001b[1;32m     69\u001b[0m       \u001b[0;32mdel\u001b[0m \u001b[0mfiltered_tb\u001b[0m\u001b[0;34m\u001b[0m\u001b[0;34m\u001b[0m\u001b[0m\n",
      "\u001b[0;32m/shared-libs/python3.9/py/lib/python3.9/site-packages/keras/engine/training.py\u001b[0m in \u001b[0;36mtf__train_function\u001b[0;34m(iterator)\u001b[0m\n\u001b[1;32m     13\u001b[0m                 \u001b[0;32mtry\u001b[0m\u001b[0;34m:\u001b[0m\u001b[0;34m\u001b[0m\u001b[0;34m\u001b[0m\u001b[0m\n\u001b[1;32m     14\u001b[0m                     \u001b[0mdo_return\u001b[0m \u001b[0;34m=\u001b[0m \u001b[0;32mTrue\u001b[0m\u001b[0;34m\u001b[0m\u001b[0;34m\u001b[0m\u001b[0m\n\u001b[0;32m---> 15\u001b[0;31m                     \u001b[0mretval_\u001b[0m \u001b[0;34m=\u001b[0m \u001b[0mag__\u001b[0m\u001b[0;34m.\u001b[0m\u001b[0mconverted_call\u001b[0m\u001b[0;34m(\u001b[0m\u001b[0mag__\u001b[0m\u001b[0;34m.\u001b[0m\u001b[0mld\u001b[0m\u001b[0;34m(\u001b[0m\u001b[0mstep_function\u001b[0m\u001b[0;34m)\u001b[0m\u001b[0;34m,\u001b[0m \u001b[0;34m(\u001b[0m\u001b[0mag__\u001b[0m\u001b[0;34m.\u001b[0m\u001b[0mld\u001b[0m\u001b[0;34m(\u001b[0m\u001b[0mself\u001b[0m\u001b[0;34m)\u001b[0m\u001b[0;34m,\u001b[0m \u001b[0mag__\u001b[0m\u001b[0;34m.\u001b[0m\u001b[0mld\u001b[0m\u001b[0;34m(\u001b[0m\u001b[0miterator\u001b[0m\u001b[0;34m)\u001b[0m\u001b[0;34m)\u001b[0m\u001b[0;34m,\u001b[0m \u001b[0;32mNone\u001b[0m\u001b[0;34m,\u001b[0m \u001b[0mfscope\u001b[0m\u001b[0;34m)\u001b[0m\u001b[0;34m\u001b[0m\u001b[0;34m\u001b[0m\u001b[0m\n\u001b[0m\u001b[1;32m     16\u001b[0m                 \u001b[0;32mexcept\u001b[0m\u001b[0;34m:\u001b[0m\u001b[0;34m\u001b[0m\u001b[0;34m\u001b[0m\u001b[0m\n\u001b[1;32m     17\u001b[0m                     \u001b[0mdo_return\u001b[0m \u001b[0;34m=\u001b[0m \u001b[0;32mFalse\u001b[0m\u001b[0;34m\u001b[0m\u001b[0;34m\u001b[0m\u001b[0m\n",
      "\u001b[0;31mValueError\u001b[0m: in user code:\n\n    File \"/shared-libs/python3.9/py/lib/python3.9/site-packages/keras/engine/training.py\", line 1051, in train_function  *\n        return step_function(self, iterator)\n    File \"/shared-libs/python3.9/py/lib/python3.9/site-packages/keras/engine/training.py\", line 1040, in step_function  **\n        outputs = model.distribute_strategy.run(run_step, args=(data,))\n    File \"/shared-libs/python3.9/py/lib/python3.9/site-packages/keras/engine/training.py\", line 1030, in run_step  **\n        outputs = model.train_step(data)\n    File \"/shared-libs/python3.9/py/lib/python3.9/site-packages/keras/engine/training.py\", line 890, in train_step\n        loss = self.compute_loss(x, y, y_pred, sample_weight)\n    File \"/shared-libs/python3.9/py/lib/python3.9/site-packages/keras/engine/training.py\", line 948, in compute_loss\n        return self.compiled_loss(\n    File \"/shared-libs/python3.9/py/lib/python3.9/site-packages/keras/engine/compile_utils.py\", line 201, in __call__\n        loss_value = loss_obj(y_t, y_p, sample_weight=sw)\n    File \"/shared-libs/python3.9/py/lib/python3.9/site-packages/keras/losses.py\", line 139, in __call__\n        losses = call_fn(y_true, y_pred)\n    File \"/shared-libs/python3.9/py/lib/python3.9/site-packages/keras/losses.py\", line 243, in call  **\n        return ag_fn(y_true, y_pred, **self._fn_kwargs)\n    File \"/shared-libs/python3.9/py/lib/python3.9/site-packages/keras/losses.py\", line 1787, in categorical_crossentropy\n        return backend.categorical_crossentropy(\n    File \"/shared-libs/python3.9/py/lib/python3.9/site-packages/keras/backend.py\", line 5119, in categorical_crossentropy\n        target.shape.assert_is_compatible_with(output.shape)\n\n    ValueError: Shapes (None, 10) and (None, 28, 10) are incompatible\n"
     ]
    }
   ]
  },
  {
   "cell_type": "markdown",
   "source": "Tu respuesta a la pregunta 6 aquí:",
   "metadata": {
    "cell_id": "00030-5e5921da-11d1-45cb-bc77-2823f514e685",
    "id": "-aNmrkkOZN6D",
    "deepnote_cell_type": "markdown",
    "deepnote_cell_height": 55
   }
  },
  {
   "cell_type": "markdown",
   "source": "# **Ejercicio 4: Número de neuronas de la capa de salida**\nConsiderad la capa final, la de salida de la red neuronal de la pregunta 1.\n\n**pregunta 7.1 (0.25 puntos)**: ¿Por qué son 10 las neuronas de la última capa?\n\n**pregunta 7.2 (0.25 puntos)**: ¿Qué pasaría si tuvieras una cantidad diferente a 10? \n\nPor ejemplo, intenta entrenar la red con 5, para ello utiliza la red neuronal de la pregunta 1 y cambia a 5 el número de neuronas en la última capa.",
   "metadata": {
    "cell_id": "00031-07fc7ea9-c335-4cdf-b7b7-6f26355391d2",
    "id": "f37cIr81ZYJj",
    "deepnote_cell_type": "markdown",
    "deepnote_cell_height": 317
   }
  },
  {
   "cell_type": "code",
   "metadata": {
    "cell_id": "00032-245bd5ec-626c-417b-84bf-d9b7089363f2",
    "deepnote_to_be_reexecuted": true,
    "execution_millis": 280,
    "execution_start": 1656380245302,
    "id": "FhbZkppYZOCS",
    "source_hash": "a12e321d",
    "deepnote_cell_type": "code",
    "deepnote_cell_height": 1157.765625
   },
   "source": "### Tu código de la red neuronal con 5 neuronas en la capa de salida de la pregunta 7 aquí ###\nnn = tf.keras.models.Sequential([\n     tf.keras.layers.Flatten(input_shape=[28,28]), # Según training_images.shape\n     tf.keras.layers.Dense(1024, activation=\"sigmoid\"),\n     tf.keras.layers.Dense(5, activation=\"softmax\") # número de clases np.unique(training_labels)\n])\nnn.compile(loss=\"categorical_crossentropy\", optimizer=\"adam\", metrics=[\"accuracy\"])\nnn.fit(training_images, training_labels, batch_size=64, epochs=10, validation_data=(test_images, test_labels))",
   "outputs": [
    {
     "name": "stdout",
     "text": "Epoch 1/10\n",
     "output_type": "stream"
    },
    {
     "output_type": "error",
     "ename": "ValueError",
     "evalue": "in user code:\n\n    File \"/shared-libs/python3.9/py/lib/python3.9/site-packages/keras/engine/training.py\", line 1051, in train_function  *\n        return step_function(self, iterator)\n    File \"/shared-libs/python3.9/py/lib/python3.9/site-packages/keras/engine/training.py\", line 1040, in step_function  **\n        outputs = model.distribute_strategy.run(run_step, args=(data,))\n    File \"/shared-libs/python3.9/py/lib/python3.9/site-packages/keras/engine/training.py\", line 1030, in run_step  **\n        outputs = model.train_step(data)\n    File \"/shared-libs/python3.9/py/lib/python3.9/site-packages/keras/engine/training.py\", line 890, in train_step\n        loss = self.compute_loss(x, y, y_pred, sample_weight)\n    File \"/shared-libs/python3.9/py/lib/python3.9/site-packages/keras/engine/training.py\", line 948, in compute_loss\n        return self.compiled_loss(\n    File \"/shared-libs/python3.9/py/lib/python3.9/site-packages/keras/engine/compile_utils.py\", line 201, in __call__\n        loss_value = loss_obj(y_t, y_p, sample_weight=sw)\n    File \"/shared-libs/python3.9/py/lib/python3.9/site-packages/keras/losses.py\", line 139, in __call__\n        losses = call_fn(y_true, y_pred)\n    File \"/shared-libs/python3.9/py/lib/python3.9/site-packages/keras/losses.py\", line 243, in call  **\n        return ag_fn(y_true, y_pred, **self._fn_kwargs)\n    File \"/shared-libs/python3.9/py/lib/python3.9/site-packages/keras/losses.py\", line 1787, in categorical_crossentropy\n        return backend.categorical_crossentropy(\n    File \"/shared-libs/python3.9/py/lib/python3.9/site-packages/keras/backend.py\", line 5119, in categorical_crossentropy\n        target.shape.assert_is_compatible_with(output.shape)\n\n    ValueError: Shapes (None, 10) and (None, 5) are incompatible\n",
     "traceback": [
      "\u001b[0;31m---------------------------------------------------------------------------\u001b[0m",
      "\u001b[0;31mValueError\u001b[0m                                Traceback (most recent call last)",
      "\u001b[0;32m<ipython-input-47-35af905be199>\u001b[0m in \u001b[0;36m<cell line: 8>\u001b[0;34m()\u001b[0m\n\u001b[1;32m      6\u001b[0m ])\n\u001b[1;32m      7\u001b[0m \u001b[0mnn\u001b[0m\u001b[0;34m.\u001b[0m\u001b[0mcompile\u001b[0m\u001b[0;34m(\u001b[0m\u001b[0mloss\u001b[0m\u001b[0;34m=\u001b[0m\u001b[0;34m\"categorical_crossentropy\"\u001b[0m\u001b[0;34m,\u001b[0m \u001b[0moptimizer\u001b[0m\u001b[0;34m=\u001b[0m\u001b[0;34m\"adam\"\u001b[0m\u001b[0;34m,\u001b[0m \u001b[0mmetrics\u001b[0m\u001b[0;34m=\u001b[0m\u001b[0;34m[\u001b[0m\u001b[0;34m\"accuracy\"\u001b[0m\u001b[0;34m]\u001b[0m\u001b[0;34m)\u001b[0m\u001b[0;34m\u001b[0m\u001b[0;34m\u001b[0m\u001b[0m\n\u001b[0;32m----> 8\u001b[0;31m \u001b[0mnn\u001b[0m\u001b[0;34m.\u001b[0m\u001b[0mfit\u001b[0m\u001b[0;34m(\u001b[0m\u001b[0mtraining_images\u001b[0m\u001b[0;34m,\u001b[0m \u001b[0mtraining_labels\u001b[0m\u001b[0;34m,\u001b[0m \u001b[0mbatch_size\u001b[0m\u001b[0;34m=\u001b[0m\u001b[0;36m64\u001b[0m\u001b[0;34m,\u001b[0m \u001b[0mepochs\u001b[0m\u001b[0;34m=\u001b[0m\u001b[0;36m10\u001b[0m\u001b[0;34m,\u001b[0m \u001b[0mvalidation_data\u001b[0m\u001b[0;34m=\u001b[0m\u001b[0;34m(\u001b[0m\u001b[0mtest_images\u001b[0m\u001b[0;34m,\u001b[0m \u001b[0mtest_labels\u001b[0m\u001b[0;34m)\u001b[0m\u001b[0;34m)\u001b[0m\u001b[0;34m\u001b[0m\u001b[0;34m\u001b[0m\u001b[0m\n\u001b[0m",
      "\u001b[0;32m/shared-libs/python3.9/py/lib/python3.9/site-packages/keras/utils/traceback_utils.py\u001b[0m in \u001b[0;36merror_handler\u001b[0;34m(*args, **kwargs)\u001b[0m\n\u001b[1;32m     65\u001b[0m     \u001b[0;32mexcept\u001b[0m \u001b[0mException\u001b[0m \u001b[0;32mas\u001b[0m \u001b[0me\u001b[0m\u001b[0;34m:\u001b[0m  \u001b[0;31m# pylint: disable=broad-except\u001b[0m\u001b[0;34m\u001b[0m\u001b[0;34m\u001b[0m\u001b[0m\n\u001b[1;32m     66\u001b[0m       \u001b[0mfiltered_tb\u001b[0m \u001b[0;34m=\u001b[0m \u001b[0m_process_traceback_frames\u001b[0m\u001b[0;34m(\u001b[0m\u001b[0me\u001b[0m\u001b[0;34m.\u001b[0m\u001b[0m__traceback__\u001b[0m\u001b[0;34m)\u001b[0m\u001b[0;34m\u001b[0m\u001b[0;34m\u001b[0m\u001b[0m\n\u001b[0;32m---> 67\u001b[0;31m       \u001b[0;32mraise\u001b[0m \u001b[0me\u001b[0m\u001b[0;34m.\u001b[0m\u001b[0mwith_traceback\u001b[0m\u001b[0;34m(\u001b[0m\u001b[0mfiltered_tb\u001b[0m\u001b[0;34m)\u001b[0m \u001b[0;32mfrom\u001b[0m \u001b[0;32mNone\u001b[0m\u001b[0;34m\u001b[0m\u001b[0;34m\u001b[0m\u001b[0m\n\u001b[0m\u001b[1;32m     68\u001b[0m     \u001b[0;32mfinally\u001b[0m\u001b[0;34m:\u001b[0m\u001b[0;34m\u001b[0m\u001b[0;34m\u001b[0m\u001b[0m\n\u001b[1;32m     69\u001b[0m       \u001b[0;32mdel\u001b[0m \u001b[0mfiltered_tb\u001b[0m\u001b[0;34m\u001b[0m\u001b[0;34m\u001b[0m\u001b[0m\n",
      "\u001b[0;32m/shared-libs/python3.9/py/lib/python3.9/site-packages/keras/engine/training.py\u001b[0m in \u001b[0;36mtf__train_function\u001b[0;34m(iterator)\u001b[0m\n\u001b[1;32m     13\u001b[0m                 \u001b[0;32mtry\u001b[0m\u001b[0;34m:\u001b[0m\u001b[0;34m\u001b[0m\u001b[0;34m\u001b[0m\u001b[0m\n\u001b[1;32m     14\u001b[0m                     \u001b[0mdo_return\u001b[0m \u001b[0;34m=\u001b[0m \u001b[0;32mTrue\u001b[0m\u001b[0;34m\u001b[0m\u001b[0;34m\u001b[0m\u001b[0m\n\u001b[0;32m---> 15\u001b[0;31m                     \u001b[0mretval_\u001b[0m \u001b[0;34m=\u001b[0m \u001b[0mag__\u001b[0m\u001b[0;34m.\u001b[0m\u001b[0mconverted_call\u001b[0m\u001b[0;34m(\u001b[0m\u001b[0mag__\u001b[0m\u001b[0;34m.\u001b[0m\u001b[0mld\u001b[0m\u001b[0;34m(\u001b[0m\u001b[0mstep_function\u001b[0m\u001b[0;34m)\u001b[0m\u001b[0;34m,\u001b[0m \u001b[0;34m(\u001b[0m\u001b[0mag__\u001b[0m\u001b[0;34m.\u001b[0m\u001b[0mld\u001b[0m\u001b[0;34m(\u001b[0m\u001b[0mself\u001b[0m\u001b[0;34m)\u001b[0m\u001b[0;34m,\u001b[0m \u001b[0mag__\u001b[0m\u001b[0;34m.\u001b[0m\u001b[0mld\u001b[0m\u001b[0;34m(\u001b[0m\u001b[0miterator\u001b[0m\u001b[0;34m)\u001b[0m\u001b[0;34m)\u001b[0m\u001b[0;34m,\u001b[0m \u001b[0;32mNone\u001b[0m\u001b[0;34m,\u001b[0m \u001b[0mfscope\u001b[0m\u001b[0;34m)\u001b[0m\u001b[0;34m\u001b[0m\u001b[0;34m\u001b[0m\u001b[0m\n\u001b[0m\u001b[1;32m     16\u001b[0m                 \u001b[0;32mexcept\u001b[0m\u001b[0;34m:\u001b[0m\u001b[0;34m\u001b[0m\u001b[0;34m\u001b[0m\u001b[0m\n\u001b[1;32m     17\u001b[0m                     \u001b[0mdo_return\u001b[0m \u001b[0;34m=\u001b[0m \u001b[0;32mFalse\u001b[0m\u001b[0;34m\u001b[0m\u001b[0;34m\u001b[0m\u001b[0m\n",
      "\u001b[0;31mValueError\u001b[0m: in user code:\n\n    File \"/shared-libs/python3.9/py/lib/python3.9/site-packages/keras/engine/training.py\", line 1051, in train_function  *\n        return step_function(self, iterator)\n    File \"/shared-libs/python3.9/py/lib/python3.9/site-packages/keras/engine/training.py\", line 1040, in step_function  **\n        outputs = model.distribute_strategy.run(run_step, args=(data,))\n    File \"/shared-libs/python3.9/py/lib/python3.9/site-packages/keras/engine/training.py\", line 1030, in run_step  **\n        outputs = model.train_step(data)\n    File \"/shared-libs/python3.9/py/lib/python3.9/site-packages/keras/engine/training.py\", line 890, in train_step\n        loss = self.compute_loss(x, y, y_pred, sample_weight)\n    File \"/shared-libs/python3.9/py/lib/python3.9/site-packages/keras/engine/training.py\", line 948, in compute_loss\n        return self.compiled_loss(\n    File \"/shared-libs/python3.9/py/lib/python3.9/site-packages/keras/engine/compile_utils.py\", line 201, in __call__\n        loss_value = loss_obj(y_t, y_p, sample_weight=sw)\n    File \"/shared-libs/python3.9/py/lib/python3.9/site-packages/keras/losses.py\", line 139, in __call__\n        losses = call_fn(y_true, y_pred)\n    File \"/shared-libs/python3.9/py/lib/python3.9/site-packages/keras/losses.py\", line 243, in call  **\n        return ag_fn(y_true, y_pred, **self._fn_kwargs)\n    File \"/shared-libs/python3.9/py/lib/python3.9/site-packages/keras/losses.py\", line 1787, in categorical_crossentropy\n        return backend.categorical_crossentropy(\n    File \"/shared-libs/python3.9/py/lib/python3.9/site-packages/keras/backend.py\", line 5119, in categorical_crossentropy\n        target.shape.assert_is_compatible_with(output.shape)\n\n    ValueError: Shapes (None, 10) and (None, 5) are incompatible\n"
     ]
    }
   ],
   "execution_count": null
  },
  {
   "cell_type": "markdown",
   "source": "Tu respuestas a la pregunta 7.1 aquí:",
   "metadata": {
    "cell_id": "00033-254afbeb-4880-47f0-a956-2e5d2d903737",
    "id": "SLsQcq-6aUoD",
    "deepnote_cell_type": "markdown",
    "deepnote_cell_height": 55
   }
  },
  {
   "cell_type": "markdown",
   "source": "Tu respuestas a la pregunta 7.2 aquí:",
   "metadata": {
    "cell_id": "00034-e04de6c4-8fd0-421c-9d76-16d8b3197da5",
    "id": "J1f_7ZFeaUu6",
    "deepnote_cell_type": "markdown",
    "deepnote_cell_height": 55
   }
  },
  {
   "cell_type": "markdown",
   "source": "# Ejercicio 5: Aumento de epoch y su efecto en la red neuronal\nEn este ejercicio vamos a ver el impacto de aumentar los epoch en el entrenamiento. Usando la red neuronal de la pregunta 1:\n\n**pregunta 8.1 (0.20 puntos)**\n* Intentad 15 epoch para su entrenamiento, probablemente obtendras un modelo con una pérdida mucho mejor que el que tiene 5.\n\n**pregunta 8.2 (0.20 puntos)**\n* Intenta ahora con 30 epoch para su entrenamiento, podrás ver que el valor de la pérdida deja de disminuir, y a veces aumenta.\n\n**pregunta 8.3 (0.60 puntos)**\n* ¿Porque que piensas que ocurre esto? Explica tu respuesta y da el nombre de este efecto si lo conoces.",
   "metadata": {
    "cell_id": "00035-549d72c4-9515-4ac1-b5ad-43fa3a1ab9f5",
    "id": "HNIBCkshaf2y",
    "deepnote_cell_type": "markdown",
    "deepnote_cell_height": 498
   }
  },
  {
   "cell_type": "code",
   "metadata": {
    "cell_id": "00036-931428e2-7076-4f19-960e-4bfd897cfd5c",
    "deepnote_to_be_reexecuted": false,
    "execution_millis": 121287,
    "execution_start": 1656400404598,
    "id": "Cb5vk_imG4iZ",
    "source_hash": "d365ccc",
    "deepnote_cell_type": "code",
    "deepnote_cell_height": 885,
    "deepnote_output_heights": [
     null,
     27
    ]
   },
   "source": "### Tu código para 15 epoch aquí ###\nnn = tf.keras.models.Sequential([\n     tf.keras.layers.Flatten(input_shape=[28,28]), # Según training_images.shape\n     tf.keras.layers.Dense(1024, activation=\"sigmoid\"),\n     tf.keras.layers.Dense(10, activation=\"softmax\") # número de clases np.unique(training_labels)\n])\nnn.compile(loss=\"categorical_crossentropy\", optimizer=\"adam\", metrics=[\"accuracy\"])\nnn.fit(training_images, training_labels, batch_size=64, epochs=15, validation_data=(test_images, test_labels))",
   "execution_count": 16,
   "outputs": [
    {
     "name": "stdout",
     "text": "Epoch 1/15\n938/938 [==============================] - 9s 9ms/step - loss: 0.5230 - accuracy: 0.8140 - val_loss: 0.4735 - val_accuracy: 0.8241\nEpoch 2/15\n938/938 [==============================] - 8s 8ms/step - loss: 0.4018 - accuracy: 0.8554 - val_loss: 0.4403 - val_accuracy: 0.8402\nEpoch 3/15\n938/938 [==============================] - 8s 9ms/step - loss: 0.3644 - accuracy: 0.8670 - val_loss: 0.3756 - val_accuracy: 0.8660\nEpoch 4/15\n938/938 [==============================] - 8s 9ms/step - loss: 0.3360 - accuracy: 0.8759 - val_loss: 0.3745 - val_accuracy: 0.8633\nEpoch 5/15\n938/938 [==============================] - 8s 8ms/step - loss: 0.3143 - accuracy: 0.8832 - val_loss: 0.3985 - val_accuracy: 0.8575\nEpoch 6/15\n938/938 [==============================] - 8s 8ms/step - loss: 0.2953 - accuracy: 0.8902 - val_loss: 0.3463 - val_accuracy: 0.8750\nEpoch 7/15\n938/938 [==============================] - 8s 9ms/step - loss: 0.2782 - accuracy: 0.8970 - val_loss: 0.3399 - val_accuracy: 0.8781\nEpoch 8/15\n938/938 [==============================] - 8s 9ms/step - loss: 0.2622 - accuracy: 0.9021 - val_loss: 0.3388 - val_accuracy: 0.8767\nEpoch 9/15\n938/938 [==============================] - 8s 8ms/step - loss: 0.2498 - accuracy: 0.9070 - val_loss: 0.3279 - val_accuracy: 0.8811\nEpoch 10/15\n938/938 [==============================] - 8s 9ms/step - loss: 0.2396 - accuracy: 0.9093 - val_loss: 0.3241 - val_accuracy: 0.8866\nEpoch 11/15\n938/938 [==============================] - 8s 9ms/step - loss: 0.2263 - accuracy: 0.9162 - val_loss: 0.3323 - val_accuracy: 0.8793\nEpoch 12/15\n938/938 [==============================] - 8s 8ms/step - loss: 0.2156 - accuracy: 0.9184 - val_loss: 0.3130 - val_accuracy: 0.8885\nEpoch 13/15\n938/938 [==============================] - 8s 8ms/step - loss: 0.2060 - accuracy: 0.9229 - val_loss: 0.3219 - val_accuracy: 0.8844\nEpoch 14/15\n938/938 [==============================] - 8s 9ms/step - loss: 0.1951 - accuracy: 0.9285 - val_loss: 0.3164 - val_accuracy: 0.8912\nEpoch 15/15\n938/938 [==============================] - 8s 9ms/step - loss: 0.1880 - accuracy: 0.9301 - val_loss: 0.3254 - val_accuracy: 0.8850\n",
     "output_type": "stream"
    },
    {
     "output_type": "execute_result",
     "execution_count": 16,
     "data": {
      "text/plain": "<keras.callbacks.History at 0x7f98e6f12730>"
     },
     "metadata": {}
    }
   ]
  },
  {
   "cell_type": "code",
   "metadata": {
    "cell_id": "00037-730dac1a-7f00-40ae-9447-eef46799e7e3",
    "deepnote_to_be_reexecuted": false,
    "execution_millis": 262570,
    "execution_start": 1656400632014,
    "id": "I9jQ26Gda5cv",
    "source_hash": "d17a7bc6",
    "deepnote_cell_type": "code",
    "deepnote_cell_height": 885,
    "deepnote_output_heights": [
     null,
     27
    ]
   },
   "source": "### Tu código para 30 epoch aquí ###\nnn = tf.keras.models.Sequential([\n     tf.keras.layers.Flatten(input_shape=[28,28]), # Según training_images.shape\n     tf.keras.layers.Dense(1024, activation=\"sigmoid\"),\n     tf.keras.layers.Dense(10, activation=\"softmax\") # número de clases np.unique(training_labels)\n])\nnn.compile(loss=\"categorical_crossentropy\", optimizer=\"adam\", metrics=[\"accuracy\"])\nnn.fit(training_images, training_labels, batch_size=64, epochs=30, validation_data=(test_images, test_labels))",
   "execution_count": 17,
   "outputs": [
    {
     "name": "stdout",
     "text": "Epoch 1/30\n938/938 [==============================] - 8s 9ms/step - loss: 0.5238 - accuracy: 0.8141 - val_loss: 0.4722 - val_accuracy: 0.8345\nEpoch 2/30\n938/938 [==============================] - 8s 8ms/step - loss: 0.4040 - accuracy: 0.8543 - val_loss: 0.4203 - val_accuracy: 0.8486\nEpoch 3/30\n938/938 [==============================] - 8s 8ms/step - loss: 0.3630 - accuracy: 0.8682 - val_loss: 0.3946 - val_accuracy: 0.8607\nEpoch 4/30\n938/938 [==============================] - 8s 9ms/step - loss: 0.3369 - accuracy: 0.8770 - val_loss: 0.3573 - val_accuracy: 0.8747\nEpoch 5/30\n938/938 [==============================] - 8s 9ms/step - loss: 0.3132 - accuracy: 0.8847 - val_loss: 0.3642 - val_accuracy: 0.8679\nEpoch 6/30\n938/938 [==============================] - 8s 8ms/step - loss: 0.2950 - accuracy: 0.8908 - val_loss: 0.3442 - val_accuracy: 0.8778\nEpoch 7/30\n938/938 [==============================] - 8s 8ms/step - loss: 0.2790 - accuracy: 0.8972 - val_loss: 0.3485 - val_accuracy: 0.8745\nEpoch 8/30\n938/938 [==============================] - 8s 9ms/step - loss: 0.2628 - accuracy: 0.9019 - val_loss: 0.3299 - val_accuracy: 0.8830\nEpoch 9/30\n938/938 [==============================] - 8s 8ms/step - loss: 0.2512 - accuracy: 0.9062 - val_loss: 0.3276 - val_accuracy: 0.8820\nEpoch 10/30\n938/938 [==============================] - 8s 8ms/step - loss: 0.2366 - accuracy: 0.9106 - val_loss: 0.3308 - val_accuracy: 0.8842\nEpoch 11/30\n938/938 [==============================] - 8s 8ms/step - loss: 0.2263 - accuracy: 0.9146 - val_loss: 0.3348 - val_accuracy: 0.8839\nEpoch 12/30\n938/938 [==============================] - 8s 8ms/step - loss: 0.2175 - accuracy: 0.9175 - val_loss: 0.3364 - val_accuracy: 0.8839\nEpoch 13/30\n938/938 [==============================] - 8s 8ms/step - loss: 0.2064 - accuracy: 0.9223 - val_loss: 0.3350 - val_accuracy: 0.8842\nEpoch 14/30\n938/938 [==============================] - 8s 9ms/step - loss: 0.1969 - accuracy: 0.9259 - val_loss: 0.3291 - val_accuracy: 0.8875\nEpoch 15/30\n938/938 [==============================] - 8s 9ms/step - loss: 0.1881 - accuracy: 0.9304 - val_loss: 0.3274 - val_accuracy: 0.8880\nEpoch 16/30\n938/938 [==============================] - 8s 9ms/step - loss: 0.1774 - accuracy: 0.9340 - val_loss: 0.3347 - val_accuracy: 0.8880\nEpoch 17/30\n938/938 [==============================] - 8s 8ms/step - loss: 0.1729 - accuracy: 0.9347 - val_loss: 0.3349 - val_accuracy: 0.8871\nEpoch 18/30\n938/938 [==============================] - 8s 8ms/step - loss: 0.1622 - accuracy: 0.9388 - val_loss: 0.3260 - val_accuracy: 0.8921\nEpoch 19/30\n938/938 [==============================] - 8s 8ms/step - loss: 0.1561 - accuracy: 0.9413 - val_loss: 0.3342 - val_accuracy: 0.8889\nEpoch 20/30\n938/938 [==============================] - 8s 9ms/step - loss: 0.1509 - accuracy: 0.9441 - val_loss: 0.3317 - val_accuracy: 0.8962\nEpoch 21/30\n938/938 [==============================] - 8s 8ms/step - loss: 0.1430 - accuracy: 0.9461 - val_loss: 0.3236 - val_accuracy: 0.8968\nEpoch 22/30\n938/938 [==============================] - 8s 9ms/step - loss: 0.1384 - accuracy: 0.9473 - val_loss: 0.3281 - val_accuracy: 0.8998\nEpoch 23/30\n938/938 [==============================] - 8s 9ms/step - loss: 0.1313 - accuracy: 0.9513 - val_loss: 0.3277 - val_accuracy: 0.8988\nEpoch 24/30\n938/938 [==============================] - 8s 9ms/step - loss: 0.1269 - accuracy: 0.9531 - val_loss: 0.3320 - val_accuracy: 0.8987\nEpoch 25/30\n938/938 [==============================] - 8s 9ms/step - loss: 0.1205 - accuracy: 0.9548 - val_loss: 0.3455 - val_accuracy: 0.8974\nEpoch 26/30\n938/938 [==============================] - 8s 8ms/step - loss: 0.1165 - accuracy: 0.9566 - val_loss: 0.3585 - val_accuracy: 0.8935\nEpoch 27/30\n938/938 [==============================] - 8s 9ms/step - loss: 0.1097 - accuracy: 0.9591 - val_loss: 0.3432 - val_accuracy: 0.8970\nEpoch 28/30\n938/938 [==============================] - 8s 9ms/step - loss: 0.1055 - accuracy: 0.9607 - val_loss: 0.3589 - val_accuracy: 0.8961\nEpoch 29/30\n938/938 [==============================] - 8s 8ms/step - loss: 0.1010 - accuracy: 0.9628 - val_loss: 0.3783 - val_accuracy: 0.8941\nEpoch 30/30\n938/938 [==============================] - 8s 8ms/step - loss: 0.0970 - accuracy: 0.9643 - val_loss: 0.3813 - val_accuracy: 0.8931\n",
     "output_type": "stream"
    },
    {
     "output_type": "execute_result",
     "execution_count": 17,
     "data": {
      "text/plain": "<keras.callbacks.History at 0x7f995bfcac70>"
     },
     "metadata": {}
    }
   ]
  },
  {
   "cell_type": "code",
   "metadata": {
    "cell_id": "00038-01d463d8-676d-469f-9576-65db10ed7d06",
    "deepnote_to_be_reexecuted": false,
    "execution_millis": 1275,
    "execution_start": 1656400974848,
    "id": "b-mL-h4xQhCm",
    "source_hash": "da9c4a6e",
    "deepnote_cell_type": "code",
    "deepnote_cell_height": 466
   },
   "source": "### Tu código del clasificador de la pregunta 3 aquí ###\nclassifications = nn.predict(test_images)\nprint(classifications)\nprint(\"Clase de la primer imagen:\", np.argmax(test_labels[0]))\nclassifications = tf.keras.utils.to_categorical(classifications, 10)\nprint(\"Clase predicha por la red\", np.argmax(classifications[0]))",
   "execution_count": 18,
   "outputs": [
    {
     "name": "stdout",
     "text": "313/313 [==============================] - 1s 3ms/step\n[[7.44789647e-13 3.89100210e-12 6.14020607e-13 ... 7.64247488e-06 2.88080567e-13 9.99992192e-01]\n [1.07589651e-04 4.80286904e-12 9.99563277e-01 ... 1.34668244e-14 1.14653079e-13 1.46997486e-13]\n [3.62251514e-11 9.99999940e-01 4.84724972e-14 ... 1.22897375e-17 5.31308669e-16 8.44186089e-20]\n ...\n [6.43440023e-10 8.76557736e-17 3.63727048e-10 ... 1.43662360e-10 9.99999821e-01 1.32102853e-17]\n [6.44150358e-12 9.99999940e-01 2.71474005e-13 ... 1.16700744e-13 1.05462626e-11 4.26904551e-13]\n [3.19634076e-13 6.54133757e-13 5.89638269e-11 ... 2.29527146e-07 1.27131194e-10 1.18927505e-13]]\nClase de la primer imagen: 9\nClase predicha por la red 0\n",
     "output_type": "stream"
    }
   ]
  },
  {
   "cell_type": "markdown",
   "source": "Tu respuesta a la pregunta 8.3 aquí:",
   "metadata": {
    "cell_id": "00038-cd5f74ea-5496-47ae-be3c-7ee80a9a328e",
    "id": "Fs0fjzH4bmSR",
    "deepnote_cell_type": "markdown",
    "deepnote_cell_height": 55
   }
  },
  {
   "cell_type": "markdown",
   "source": "# Ejercicio 6: Early stop\nEn el ejercicio anterior, cuando entrenabas con epoch extras, tenías un problema en el que tu pérdida podía cambiar. Puede que te haya llevado un poco de tiempo esperar a que el entrenamiento lo hiciera,  y puede que hayas pensado \"¿no estaría bien si pudiera parar el entrenamiento cuando alcance un valor deseado?\", es decir, una precisión del 85% podría ser suficiente para ti, y si alcanzas eso después de 3 epoch, ¿por qué sentarte a esperar a que termine muchas más épocas? Como cualquier otro programa existen formas de parar la ejecución\n\nA partir del ejemplo de código que se da, hacer una nueva función que tenga en cuenta la perdida (loss) y que pueda parar el código para evitar que ocurra el efeto secundario que vimos en el ejercicio 5.",
   "metadata": {
    "cell_id": "00039-6f1c6c39-8b56-495b-b50e-51056f6931a7",
    "id": "HlIgNG4Yb_N6",
    "deepnote_cell_type": "markdown",
    "deepnote_cell_height": 287
   }
  },
  {
   "cell_type": "code",
   "metadata": {
    "cell_id": "00040-e0714efc-00c7-4c14-9eb1-2c407371e5eb",
    "deepnote_to_be_reexecuted": true,
    "execution_millis": 1,
    "execution_start": 1656399485743,
    "id": "b5UwceFUG4ic",
    "source_hash": "b9ab19d5",
    "deepnote_cell_type": "code",
    "deepnote_cell_height": 189
   },
   "source": "### Ejemplo de código\n\nclass myCallback(tf.keras.callbacks.Callback):\n      def on_epoch_end(self, epoch, logs={}):\n        if(logs.get('accuracy')> 0.85):\n              print(\"\\nAlcanzado el 85% de precisión, se cancela el entrenamiento!!\")\n              self.model.stop_training = True",
   "outputs": [],
   "execution_count": null
  },
  {
   "cell_type": "markdown",
   "source": "**Pregunta 9 (2 puntos)**: Completa el siguiente código con una clase callback que una vez alcanzado el 40% de perdida detenga el entrenamiento.",
   "metadata": {
    "cell_id": "00041-ffc251c6-192d-4949-b985-904cb4a88b32",
    "id": "0Bjd8wGKccrn",
    "deepnote_cell_type": "markdown",
    "deepnote_cell_height": 80
   }
  },
  {
   "cell_type": "code",
   "metadata": {
    "cell_id": "00042-40232d7d-2db7-42e4-ba08-11bd816a505f",
    "deepnote_to_be_reexecuted": false,
    "execution_millis": 8372,
    "execution_start": 1656400985548,
    "id": "29LSfdOvc270",
    "source_hash": "5aaff402",
    "owner_user_id": "41b68b99-1317-46a8-8d9f-507b7d8fe1ab",
    "deepnote_cell_type": "code",
    "deepnote_cell_height": 740,
    "deepnote_output_heights": [
     null,
     27
    ]
   },
   "source": "import tensorflow as tf\nprint(tf.__version__)\n\n### Tu código de la función callback para parar el entrenamiento de la red neuronal al 40% de loss aqui: ###\nclass myCallback(tf.keras.callbacks.Callback):\n    def on_epoch_end(self, epoch, logs={}):\n        if(logs.get('loss')>0.4):\n            print(\"\\nPérdida del 40%. Fin del entrenamiento.\")\n            self.model.stop_training = True\n\ncallbacks = myCallback()\nmnist = tf.keras.datasets.fashion_mnist\n(training_images, training_labels) ,  (test_images, test_labels) = mnist.load_data()\n\ntraining_images = training_images/255.0\ntest_images = test_images/255.0\n\nmodel = tf.keras.models.Sequential([tf.keras.layers.Flatten(),\n                                    tf.keras.layers.Dense(512, activation=tf.nn.relu),\n                                    tf.keras.layers.Dense(10, activation=tf.nn.softmax)])\n\nmodel.compile(optimizer = 'adam',\n              loss = 'sparse_categorical_crossentropy',\n              metrics=['accuracy']) \n\nmodel.fit(training_images, training_labels, epochs=50, callbacks=[callbacks])",
   "execution_count": 19,
   "outputs": [
    {
     "name": "stdout",
     "text": "2.9.1\nEpoch 1/50\n1858/1875 [============================>.] - ETA: 0s - loss: 0.4771 - accuracy: 0.8292\nPérdida del 40%. Fin del entrenamiento.\n1875/1875 [==============================] - 7s 4ms/step - loss: 0.4759 - accuracy: 0.8297\n",
     "output_type": "stream"
    },
    {
     "output_type": "execute_result",
     "execution_count": 19,
     "data": {
      "text/plain": "<keras.callbacks.History at 0x7f995be8fdc0>"
     },
     "metadata": {}
    }
   ]
  },
  {
   "cell_type": "markdown",
   "source": "<a style='text-decoration:none;line-height:16px;display:flex;color:#5B5B62;padding:10px;justify-content:end;' href='https://deepnote.com?utm_source=created-in-deepnote-cell&projectId=02dbd28d-1aa5-4382-b37e-2cb978469c9c' target=\"_blank\">\n<img alt='Created in deepnote.com' style='display:inline;max-height:16px;margin:0px;margin-right:7.5px;' src='data:image/svg+xml;base64,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' > </img>\nCreated in <span style='font-weight:600;margin-left:4px;'>Deepnote</span></a>",
   "metadata": {
    "tags": [],
    "created_in_deepnote_cell": true,
    "deepnote_cell_type": "markdown"
   }
  }
 ],
 "nbformat": 4,
 "nbformat_minor": 5,
 "metadata": {
  "deepnote": {},
  "deepnote_execution_queue": [],
  "deepnote_notebook_id": "42e97da4-8251-47b7-9753-7dbd34eba9e4",
  "kernelspec": {
   "display_name": "Python 3 (ipykernel)",
   "language": "python",
   "name": "python3"
  },
  "language_info": {
   "codemirror_mode": {
    "name": "ipython",
    "version": 3
   },
   "file_extension": ".py",
   "mimetype": "text/x-python",
   "name": "python",
   "nbconvert_exporter": "python",
   "pygments_lexer": "ipython3",
   "version": "3.7.12"
  }
 }
}