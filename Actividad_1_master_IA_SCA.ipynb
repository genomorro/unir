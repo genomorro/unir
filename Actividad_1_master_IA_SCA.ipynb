{
 "cells": [
  {
   "cell_type": "markdown",
   "id": "7611bb0e",
   "metadata": {
    "cell_id": "cc216d10-f0cb-4c69-8cf6-04cfb04b9f93",
    "deepnote_cell_height": 378,
    "deepnote_cell_type": "markdown",
    "id": "4VFT5_VnJl19"
   },
   "source": [
    "# Actividad 1: Conceptos generales de redes neuronales\n",
    "En esta actividad vamos a revisar algunos de los conceptos basicos de las redes neuronales, pero no por ello menos importantes.\n",
    "\n",
    "El dataset a utilizar es Fashion MNIST, un problema sencillo con imágenes pequeñas de ropa, pero más interesante que el dataset de MNIST. Puedes consultar más información sobre el dataset en este enlace.\n",
    "\n",
    "El código utilizado para contestar tiene que quedar claramente reflejado en el Notebook. Puedes crear nuevas cells si así lo deseas para estructurar tu código y sus salidas. A la hora de entregar el notebook, asegúrate de que los resultados de ejecutar tu código han quedado guardados (por ejemplo, a la hora de entrenar una red neuronal tiene que verse claramente un log de los resultados de cada epoch)."
   ]
  },
  {
   "cell_type": "code",
   "execution_count": 1,
   "id": "10d15c13",
   "metadata": {
    "cell_id": "00001-e1cd1d48-596f-425f-a347-ef3565e25454",
    "colab": {
     "base_uri": "https://localhost:8080/",
     "height": 34
    },
    "deepnote_cell_height": 138,
    "deepnote_cell_type": "code",
    "deepnote_to_be_reexecuted": false,
    "execution_millis": 5886,
    "execution_start": 1658264393795,
    "id": "VU8gdrsVG4h0",
    "outputId": "97ce2b9c-047a-4c25-c030-77a6a63b61e1",
    "source_hash": "b91dbd17"
   },
   "outputs": [
    {
     "name": "stdout",
     "output_type": "stream",
     "text": [
      "2.9.1\n"
     ]
    }
   ],
   "source": [
    "import tensorflow as tf\n",
    "print(tf.__version__)"
   ]
  },
  {
   "cell_type": "markdown",
   "id": "30ea0323",
   "metadata": {
    "cell_id": "00002-710a6cf3-f885-4136-a149-ad8846b3f1aa",
    "deepnote_cell_height": 80,
    "deepnote_cell_type": "markdown",
    "id": "zScMKU2OKSPD"
   },
   "source": [
    "En primer lugar vamos a importar el dataset Fashion MNIST (recordad que este es uno de los dataset de entranamiento que estan guardados en keras) que es el que vamos a utilizar en esta actividad:"
   ]
  },
  {
   "cell_type": "code",
   "execution_count": 2,
   "id": "e94fb1e8",
   "metadata": {
    "cell_id": "00003-517c400d-0e4a-41ff-807c-047345f4badc",
    "deepnote_cell_height": 81,
    "deepnote_cell_type": "code",
    "deepnote_to_be_reexecuted": false,
    "execution_millis": 4,
    "execution_start": 1658264399685,
    "id": "4voG2hxxG4h3",
    "source_hash": "71d2622e"
   },
   "outputs": [],
   "source": [
    "mnist = tf.keras.datasets.fashion_mnist"
   ]
  },
  {
   "cell_type": "markdown",
   "id": "a7cd1e26",
   "metadata": {
    "cell_id": "00004-9c16fda0-e127-409f-9a40-4c6e7a5b0e89",
    "deepnote_cell_height": 144,
    "deepnote_cell_type": "markdown",
    "id": "JphLsCvgKrzb"
   },
   "source": [
    "Llamar a **load_data** en este dataset nos dará dos conjuntos de dos listas, estos serán los valores de entrenamiento y prueba para los gráficos que contienen las prendas de vestir y sus etiquetas.\n",
    "\n",
    "Nota: Aunque en esta actividad lo veis de esta forma, también lo vais a poder encontrar como 4 variables de esta forma: training_images, training_labels, test_images, test_labels = mnist.load_data()"
   ]
  },
  {
   "cell_type": "code",
   "execution_count": 3,
   "id": "5b944ba6",
   "metadata": {
    "cell_id": "00005-7a57d9d7-e8af-4a18-a687-f21d06ef1f3f",
    "deepnote_cell_height": 81,
    "deepnote_cell_type": "code",
    "deepnote_to_be_reexecuted": false,
    "execution_millis": 443,
    "execution_start": 1658264399694,
    "id": "1muD4PHEG4h6",
    "source_hash": "799c24df"
   },
   "outputs": [],
   "source": [
    "(training_images, training_labels), (test_images, test_labels) = mnist.load_data()"
   ]
  },
  {
   "cell_type": "markdown",
   "id": "29a67235",
   "metadata": {
    "cell_id": "00006-c30e11d1-f482-4c3e-be54-5d504c6e1a09",
    "deepnote_cell_height": 80,
    "deepnote_cell_type": "markdown",
    "id": "ZWGpJqVVLT3Y"
   },
   "source": [
    "Antes de continuar vamos a dar un vistazo a nuestro dataset, para ello vamos a ver una imagen de entrenamiento y su etiqueta o clase."
   ]
  },
  {
   "cell_type": "code",
   "execution_count": 4,
   "id": "d01a1bbd",
   "metadata": {
    "cell_id": "00007-1c67173f-ba42-4a5b-a7b0-947585688317",
    "deepnote_cell_height": 1090,
    "deepnote_cell_type": "code",
    "deepnote_output_heights": [
     null,
     250
    ],
    "deepnote_to_be_reexecuted": false,
    "execution_millis": 1146,
    "execution_start": 1658264400145,
    "id": "t5a5PlswG4h8",
    "source_hash": "70acd57a"
   },
   "outputs": [
    {
     "name": "stdout",
     "output_type": "stream",
     "text": [
      "9\n",
      "[[  0   0   0   0   0   0   0   0   0   0   0   0   0   0   0   0   0   0   0   0   0   0   0   0   0   0   0   0]\n",
      " [  0   0   0   0   0   0   0   0   0   0   0   0   0   0   0   0   0   0   0   0   0   0   0   0   0   0   0   0]\n",
      " [  0   0   0   0   0   0   0   0   0   0   0   0   0   0   0   0   0   0   0   0   0   0   0   0   0   0   0   0]\n",
      " [  0   0   0   0   0   0   0   0   0   0   0   0   1   0   0  13  73   0   0   1   4   0   0   0   0   1   1   0]\n",
      " [  0   0   0   0   0   0   0   0   0   0   0   0   3   0  36 136 127  62  54   0   0   0   1   3   4   0   0   3]\n",
      " [  0   0   0   0   0   0   0   0   0   0   0   0   6   0 102 204 176 134 144 123  23   0   0   0   0  12  10   0]\n",
      " [  0   0   0   0   0   0   0   0   0   0   0   0   0   0 155 236 207 178 107 156 161 109  64  23  77 130  72  15]\n",
      " [  0   0   0   0   0   0   0   0   0   0   0   1   0  69 207 223 218 216 216 163 127 121 122 146 141  88 172  66]\n",
      " [  0   0   0   0   0   0   0   0   0   1   1   1   0 200 232 232 233 229 223 223 215 213 164 127 123 196 229   0]\n",
      " [  0   0   0   0   0   0   0   0   0   0   0   0   0 183 225 216 223 228 235 227 224 222 224 221 223 245 173   0]\n",
      " [  0   0   0   0   0   0   0   0   0   0   0   0   0 193 228 218 213 198 180 212 210 211 213 223 220 243 202   0]\n",
      " [  0   0   0   0   0   0   0   0   0   1   3   0  12 219 220 212 218 192 169 227 208 218 224 212 226 197 209  52]\n",
      " [  0   0   0   0   0   0   0   0   0   0   6   0  99 244 222 220 218 203 198 221 215 213 222 220 245 119 167  56]\n",
      " [  0   0   0   0   0   0   0   0   0   4   0   0  55 236 228 230 228 240 232 213 218 223 234 217 217 209  92   0]\n",
      " [  0   0   1   4   6   7   2   0   0   0   0   0 237 226 217 223 222 219 222 221 216 223 229 215 218 255  77   0]\n",
      " [  0   3   0   0   0   0   0   0   0  62 145 204 228 207 213 221 218 208 211 218 224 223 219 215 224 244 159   0]\n",
      " [  0   0   0   0  18  44  82 107 189 228 220 222 217 226 200 205 211 230 224 234 176 188 250 248 233 238 215   0]\n",
      " [  0  57 187 208 224 221 224 208 204 214 208 209 200 159 245 193 206 223 255 255 221 234 221 211 220 232 246   0]\n",
      " [  3 202 228 224 221 211 211 214 205 205 205 220 240  80 150 255 229 221 188 154 191 210 204 209 222 228 225   0]\n",
      " [ 98 233 198 210 222 229 229 234 249 220 194 215 217 241  65  73 106 117 168 219 221 215 217 223 223 224 229  29]\n",
      " [ 75 204 212 204 193 205 211 225 216 185 197 206 198 213 240 195 227 245 239 223 218 212 209 222 220 221 230  67]\n",
      " [ 48 203 183 194 213 197 185 190 194 192 202 214 219 221 220 236 225 216 199 206 186 181 177 172 181 205 206 115]\n",
      " [  0 122 219 193 179 171 183 196 204 210 213 207 211 210 200 196 194 191 195 191 198 192 176 156 167 177 210  92]\n",
      " [  0   0  74 189 212 191 175 172 175 181 185 188 189 188 193 198 204 209 210 210 211 188 188 194 192 216 170   0]\n",
      " [  2   0   0   0  66 200 222 237 239 242 246 243 244 221 220 193 191 179 182 182 181 176 166 168  99  58   0   0]\n",
      " [  0   0   0   0   0   0   0  40  61  44  72  41  35   0   0   0   0   0   0   0   0   0   0   0   0   0   0   0]\n",
      " [  0   0   0   0   0   0   0   0   0   0   0   0   0   0   0   0   0   0   0   0   0   0   0   0   0   0   0   0]\n",
      " [  0   0   0   0   0   0   0   0   0   0   0   0   0   0   0   0   0   0   0   0   0   0   0   0   0   0   0   0]]\n"
     ]
    },
    {
     "data": {
      "image/png": "[encoded data removed]",
      "text/plain": [
       "<Figure size 432x288 with 1 Axes>"
      ]
     },
     "metadata": {
      "image/png": {
       "height": 248,
       "width": 251
      },
      "needs_background": "light"
     },
     "output_type": "display_data"
    }
   ],
   "source": [
    "import numpy as np\n",
    "np.set_printoptions(linewidth=200)\n",
    "import matplotlib.pyplot as plt\n",
    "plt.imshow(training_images[0], cmap=\"gray\") # recordad que siempre es preferible trabajar en blanco y negro\n",
    "#\n",
    "print(training_labels[0])\n",
    "print(training_images[0])"
   ]
  },
  {
   "cell_type": "markdown",
   "id": "0c88d10e",
   "metadata": {
    "cell_id": "00008-2fd2dfdd-9a80-48b0-9f4c-fd75104242f8",
    "deepnote_cell_height": 105,
    "deepnote_cell_type": "markdown",
    "id": "WCJvZx3MLucY"
   },
   "source": [
    "Habreis notado que todos los valores numericos están entre 0 y 255. Si estamos entrenando una red neuronal, una buena practica es transformar todos los valores entre 0 y 1, un proceso llamado \"normalización\" y afortunadamente en Python es fácil normalizar una lista. Lo puedes hacer de esta manera:"
   ]
  },
  {
   "cell_type": "markdown",
   "id": "0fefdbcf",
   "metadata": {
    "cell_id": "00009-f226d013-418e-416a-abf1-35d1b91f8a0a",
    "deepnote_cell_height": 46,
    "deepnote_cell_type": "markdown",
    "id": "OLpAvdVcRlyx"
   },
   "source": []
  },
  {
   "cell_type": "code",
   "execution_count": 5,
   "id": "a7c5f29b",
   "metadata": {
    "cell_id": "00010-477ddebd-7641-4990-8670-187f739c2029",
    "deepnote_cell_height": 99,
    "deepnote_cell_type": "code",
    "deepnote_to_be_reexecuted": false,
    "execution_millis": 175,
    "execution_start": 1658264401293,
    "id": "tojL1BmjG4h_",
    "lines_to_next_cell": 2,
    "source_hash": "7609eab4"
   },
   "outputs": [],
   "source": [
    "training_images  = training_images / 255.0\n",
    "test_images = test_images / 255.0"
   ]
  },
  {
   "cell_type": "markdown",
   "id": "c0acc424",
   "metadata": {
    "cell_id": "5085aad4506b45ea9c65cc8600c4ad08",
    "deepnote_cell_height": 80,
    "deepnote_cell_type": "markdown",
    "deepnote_to_be_reexecuted": false,
    "execution_millis": 1,
    "execution_start": 1656395875146,
    "source_hash": "861094f6",
    "tags": []
   },
   "source": [
    " Se agrega preprocesamiento sobre las etiquetas, será útil para hacer legible la clasificación hecha con la red neuronal."
   ]
  },
  {
   "cell_type": "code",
   "execution_count": 6,
   "id": "f539039c",
   "metadata": {
    "cell_id": "fa2e35067e344bf9b86b9a94a911afd5",
    "deepnote_cell_height": 117,
    "deepnote_cell_type": "code",
    "deepnote_to_be_reexecuted": false,
    "execution_millis": 14,
    "execution_start": 1658264401473,
    "source_hash": "32cffe26",
    "tags": []
   },
   "outputs": [],
   "source": [
    "# Es necesario preprocesar las etiquetas de salida para que sean reconocidas como categorías\n",
    "training_labels = tf.keras.utils.to_categorical(training_labels, 10)\n",
    "test_labels = tf.keras.utils.to_categorical(test_labels, 10)"
   ]
  },
  {
   "cell_type": "markdown",
   "id": "3cb2fe5b",
   "metadata": {
    "cell_id": "2ba4089605b541c3bc98ec4d4fa153bb",
    "deepnote_cell_height": 80,
    "deepnote_cell_type": "markdown",
    "tags": []
   },
   "source": [
    "También se procesarán los resultados finales del modelo, así las predicciones del clasificador serán fácilmente interpretables. Para ello se usará una función."
   ]
  },
  {
   "cell_type": "code",
   "execution_count": 7,
   "id": "c148463b",
   "metadata": {
    "cell_id": "d519b0fc37f8438ea5f400012d91cc24",
    "deepnote_cell_height": 171,
    "deepnote_cell_type": "code",
    "deepnote_to_be_reexecuted": false,
    "execution_millis": 0,
    "execution_start": 1658264401495,
    "source_hash": "bbe14008",
    "tags": []
   },
   "outputs": [],
   "source": [
    "# Convertir las predicciones a sus respectivas etiquetas\n",
    "def pred_to_label(predictions):\n",
    "    pred = list()\n",
    "    for i in range(len(predictions)):\n",
    "        pred.append(np.argmax(predictions[i]))\n",
    "    return pred"
   ]
  },
  {
   "cell_type": "markdown",
   "id": "24e72760",
   "metadata": {
    "cell_id": "dc7ec53baa18427dac7d01161e5fec60",
    "deepnote_cell_height": 80,
    "deepnote_cell_type": "markdown",
    "tags": []
   },
   "source": [
    "Por ejemplo, en seguida se muestra el primer valor de la variable `test_labels`, luego se pasa por la función antes creada y se muestra de nuevo, así se puede ver la diferencia"
   ]
  },
  {
   "cell_type": "code",
   "execution_count": 8,
   "id": "99ba1bf4",
   "metadata": {
    "cell_id": "c08b13804cb347bb928604ad290cc52e",
    "deepnote_cell_height": 276,
    "deepnote_cell_type": "code",
    "deepnote_to_be_reexecuted": false,
    "execution_millis": 729,
    "execution_start": 1658264401507,
    "source_hash": "3cc84704",
    "tags": []
   },
   "outputs": [
    {
     "name": "stdout",
     "output_type": "stream",
     "text": [
      "El valor de test_labels[0]:\n",
      "[0. 0. 0. 0. 0. 0. 0. 0. 0. 1.]\n",
      "El valor de la etiqueta test_labels[0]:\n",
      "9\n"
     ]
    }
   ],
   "source": [
    "print(\"El valor de test_labels[0]:\")\n",
    "print(test_labels[0])\n",
    "print(\"El valor de la etiqueta test_labels[0]:\")\n",
    "test_labels_redable = pred_to_label(test_labels)\n",
    "print(test_labels_redable[0])"
   ]
  },
  {
   "cell_type": "markdown",
   "id": "90094fdb",
   "metadata": {
    "cell_id": "00011-2e487eb8-d511-441f-a33b-12b424072f17",
    "deepnote_cell_height": 345,
    "deepnote_cell_type": "markdown",
    "id": "yYUWWsszMAKt"
   },
   "source": [
    "Ahora vamos a definir el modelo, pero antes vamos a repasar algunos comandos y conceptos muy utiles:\n",
    "* **Sequential**: Eso define una SECUENCIA de capas en la red neuronal\n",
    "* **Dense**: Añade una capa de neuronas\n",
    "* **Flatten**: ¿Recuerdas que las imágenes cómo eran las imagenes cuando las imprimiste para poder verlas? Un cuadrado, Flatten sólo toma ese cuadrado y lo convierte en un vector de una dimensión.\n",
    "\n",
    "Cada capa de neuronas necesita una función de activación. Normalmente se usa la función relu en las capas intermedias y softmax en la ultima capa\n",
    "* **Relu** significa que \"Si X>0 devuelve X, si no, devuelve 0\", así que lo que hace es pasar sólo valores 0 o mayores a la siguiente capa de la red.\n",
    "* **Softmax** toma un conjunto de valores, y escoge el más grande."
   ]
  },
  {
   "cell_type": "markdown",
   "id": "e855567e",
   "metadata": {
    "cell_id": "00012-a65b5097-c3c9-48b1-bd2a-a4d0a3eb129d",
    "deepnote_cell_height": 320,
    "deepnote_cell_type": "markdown",
    "id": "QgBW1yE2MwPp"
   },
   "source": [
    " **Pregunta 1 (3.5 puntos)**. Utilizando Keras, y preparando los datos de X e y como fuera necesario, define y entrena una red neuronal que sea capaz de clasificar imágenes de Fashion MNIST con las siguientes características:\n",
    "\n",
    "* Una hidden layer de tamaños 128, utilizando unidades sigmoid\n",
    "Optimizador Adam.\n",
    "* Durante el entrenamiento, la red tiene que mostrar resultados de loss y accuracy por cada epoch.\n",
    "* La red debe entrenar durante 10 epochs y batch size de 64.\n",
    "* La última capa debe de ser una capa softmax.\n",
    "* Tu red tendría que ser capaz de superar fácilmente 80% de accuracy."
   ]
  },
  {
   "cell_type": "code",
   "execution_count": 9,
   "id": "469e51c3",
   "metadata": {
    "cell_id": "00013-5a03fd28-b1cd-405c-bf7b-d19062449254",
    "deepnote_cell_height": 836,
    "deepnote_cell_type": "code",
    "deepnote_output_heights": [
     null,
     27
    ],
    "deepnote_to_be_reexecuted": false,
    "execution_millis": 83479,
    "execution_start": 1658264401541,
    "id": "aTaD2QXIORwu",
    "lines_to_next_cell": 2,
    "source_hash": "e9074588"
   },
   "outputs": [
    {
     "name": "stdout",
     "output_type": "stream",
     "text": [
      "Epoch 1/10\n",
      "938/938 [==============================] - 3s 3ms/step - loss: 0.5957 - accuracy: 0.8008\n",
      "Epoch 2/10\n",
      "938/938 [==============================] - 3s 3ms/step - loss: 0.4117 - accuracy: 0.8537\n",
      "Epoch 3/10\n",
      "938/938 [==============================] - 3s 3ms/step - loss: 0.3740 - accuracy: 0.8673\n",
      "Epoch 4/10\n",
      "938/938 [==============================] - 3s 3ms/step - loss: 0.3502 - accuracy: 0.8743\n",
      "Epoch 5/10\n",
      "938/938 [==============================] - 5s 5ms/step - loss: 0.3311 - accuracy: 0.8807\n",
      "Epoch 6/10\n",
      "938/938 [==============================] - 6s 6ms/step - loss: 0.3164 - accuracy: 0.8845\n",
      "Epoch 7/10\n",
      "938/938 [==============================] - 4s 4ms/step - loss: 0.3029 - accuracy: 0.8903\n",
      "Epoch 8/10\n",
      "938/938 [==============================] - 6s 6ms/step - loss: 0.2920 - accuracy: 0.8924\n",
      "Epoch 9/10\n",
      "938/938 [==============================] - 8s 8ms/step - loss: 0.2821 - accuracy: 0.8973\n",
      "Epoch 10/10\n",
      "938/938 [==============================] - 7s 7ms/step - loss: 0.2721 - accuracy: 0.9005\n"
     ]
    },
    {
     "data": {
      "text/plain": [
       "<keras.callbacks.History at 0x7f4362640af0>"
      ]
     },
     "execution_count": 9,
     "metadata": {},
     "output_type": "execute_result"
    }
   ],
   "source": [
    "### Tu código para la red neuronal de la pregunta 1 aquí ###\n",
    "nn = tf.keras.models.Sequential([\n",
    "      tf.keras.layers.Flatten(input_shape=[28,28]), # Según training_images.shape\n",
    "      tf.keras.layers.Dense(128, activation=\"sigmoid\"),\n",
    "      tf.keras.layers.Dense(10, activation=\"softmax\") # número de clases np.unique(training_labels)\n",
    "])\n",
    "nn.compile(loss=\"categorical_crossentropy\", optimizer=\"adam\", metrics=[\"accuracy\"])\n",
    "nn.fit(training_images, training_labels, batch_size=64, epochs=10)"
   ]
  },
  {
   "cell_type": "markdown",
   "id": "21d2f64c",
   "metadata": {
    "cell_id": "00014-17fc699a-a8e6-4488-8186-3e00109f7164",
    "deepnote_cell_height": 119,
    "deepnote_cell_type": "markdown",
    "id": "Bxr5hTKYOQnK"
   },
   "source": [
    "Para concluir el entrenamiento de la red neuronal, una buena practica es evaluar el modelo para ver si la precisión de entrenamiento es real\n",
    "\n",
    "**pregunta 2 (0.5 puntos)**: evalua el modelo con las imagenes y etiquetas test."
   ]
  },
  {
   "cell_type": "code",
   "execution_count": 10,
   "id": "831713b5",
   "metadata": {
    "cell_id": "00015-9f1e67d2-c0ac-4abc-a6ce-e7781b603e31",
    "deepnote_cell_height": 138,
    "deepnote_cell_type": "code",
    "deepnote_to_be_reexecuted": false,
    "execution_millis": 677,
    "execution_start": 1658264484415,
    "id": "VNjQEtUUG4iI",
    "lines_to_next_cell": 1,
    "source_hash": "fdaf7de8"
   },
   "outputs": [
    {
     "name": "stdout",
     "output_type": "stream",
     "text": [
      "313/313 [==============================] - 1s 1ms/step - loss: 0.3596 - accuracy: 0.8706\n"
     ]
    }
   ],
   "source": [
    "### Tu código para la evaluación de la red neuronal de la pregunta 2 aquí ###\n",
    "score = nn.evaluate(test_images, test_labels)"
   ]
  },
  {
   "cell_type": "markdown",
   "id": "2e341c82",
   "metadata": {
    "cell_id": "00016-23ca49dd-89ac-4073-ae55-3fa1654d218d",
    "deepnote_cell_height": 526,
    "deepnote_cell_type": "markdown",
    "id": "ygMVnmSYO83U"
   },
   "source": [
    "Ahora vamos a explorar el código con una serie de ejercicios para alcanzar un grado de comprensión mayor sobre las redes neuronales y su entrenamiento.\n",
    "\n",
    "# **Ejercicio 1: Funcionamiento de las predicción de la red neuronal**\n",
    "\n",
    "Para este primer ejercicio sigue los siguientes pasos: \n",
    "\n",
    "* Crea una variable llamada **classifications** para construir un clasificador para las imágenes de prueba, para ello puedes utilizar la función predict sobre el conjunto de test\n",
    "* Imprime con la función print la primera entrada en las clasificaciones. \n",
    "\n",
    "**pregunta 3.1 (0.25 puntos)**, el resultado al imprimirlo es un vector de números, \n",
    "* ¿Por qué crees que ocurre esto, y qué representa este vector de números?\n",
    "\n",
    "**pregunta 3.2 (0.25 puntos)**\n",
    "* ¿Cúal es la clase de la primera entrada#  de la variable **classifications**? La respuesta puede ser un número o su etiqueta/clase equivalente."
   ]
  },
  {
   "cell_type": "code",
   "execution_count": 11,
   "id": "8b638775",
   "metadata": {
    "cell_id": "00017-90dd8bd8-49c7-4581-9209-d37b46425fc5",
    "deepnote_cell_height": 298,
    "deepnote_cell_type": "code",
    "deepnote_to_be_reexecuted": false,
    "execution_millis": 1042,
    "execution_start": 1658264485088,
    "id": "b-mL-h4xQhCm",
    "source_hash": "6ce4cd5f"
   },
   "outputs": [
    {
     "name": "stdout",
     "output_type": "stream",
     "text": [
      "313/313 [==============================] - 1s 1ms/step\n",
      "El primer valor de salida de la red neuronal es:\n",
      "[6.0270954e-06 4.8652731e-07 1.7790466e-05 2.1860997e-05 2.8347647e-05 5.0766636e-02 6.2340114e-05 1.2115291e-02 1.6463656e-04 9.3681657e-01]\n",
      "El primer valor predicho es: 9 y su valor esperado es: 9\n"
     ]
    }
   ],
   "source": [
    "### Tu código del clasificador de la pregunta 3 aquí ###\n",
    "classifications = nn.predict(test_images)\n",
    "print(\"El primer valor de salida de la red neuronal es:\")\n",
    "print(classifications[0])\n",
    "classifications_redable = pred_to_label(classifications)\n",
    "print(\"El primer valor predicho es:\", classifications_redable[0], \"y su valor esperado es:\", test_labels_redable[0])"
   ]
  },
  {
   "cell_type": "markdown",
   "id": "ea1c9763",
   "metadata": {
    "cell_id": "00018-155cd98c-295e-4597-8db4-f778dcf895cf",
    "deepnote_cell_height": 105,
    "deepnote_cell_type": "markdown",
    "id": "pvbVC9gaQhMY"
   },
   "source": [
    "Tu respuesta a la pregunta 3.1 aquí: La razón es que cada elemento es un vector que representa un valor de la función real que la red neuronal está imitando, en una palabra, son probabilidades. En este caso es un vector de diez componentes porque ese es el número posible de categorias."
   ]
  },
  {
   "cell_type": "markdown",
   "id": "30ea1306",
   "metadata": {
    "cell_id": "00019-09562af1-5380-4f6b-befe-a0eb19dd04ba",
    "deepnote_cell_height": 80,
    "deepnote_cell_type": "markdown",
    "id": "oRWo-75tdgv0"
   },
   "source": [
    "Tu respuesta a la pregunta 3.2 aquí: Si bien varia respecto a la ejecución, es posible ver el valor en el código de la pregunta 3, suele ser 0 o 9 (el correcto y más común)."
   ]
  },
  {
   "cell_type": "markdown",
   "id": "bb9f3692",
   "metadata": {
    "cell_id": "00020-8da69344-f04a-41d3-ae62-d710b63fc630",
    "deepnote_cell_height": 345,
    "deepnote_cell_type": "markdown",
    "id": "hiQ8qAzhRQ4L"
   },
   "source": [
    "# **Ejercicio 2: Impacto variar el número de neuronas en las capas ocultas**\n",
    "\n",
    "En este ejercicio vamos a experimentar con nuestra red neuronal cambiando el numero de neuronas por 512 y por 1024. Para ello, utiliza la red neuronal de la pregunta 1, y su capa oculta cambia las 128 neuronas:\n",
    "\n",
    "* **pregunta 4.1 (0.25 puntos)**: 512 neuronas en la capa oculta\n",
    "* **pregunta 4.2 (0.25 puntos)**:1024 neuronas en la capa oculta\n",
    "\n",
    "y entrena la red en ambos casos.\n",
    "\n",
    "**pregunta 4.3 (0.5 puntos)**: ¿Cual es el impacto que tiene la red neuronal?"
   ]
  },
  {
   "cell_type": "code",
   "execution_count": 12,
   "id": "48d8635a",
   "metadata": {
    "cell_id": "00021-410d576a-10dd-47cf-bd32-90478c9fa4ea",
    "deepnote_cell_height": 782,
    "deepnote_cell_type": "code",
    "deepnote_output_heights": [
     null,
     27
    ],
    "deepnote_to_be_reexecuted": false,
    "execution_millis": 55399,
    "execution_start": 1658264486059,
    "id": "cdP8ZwuaUV93",
    "source_hash": "6c4e6517"
   },
   "outputs": [
    {
     "name": "stdout",
     "output_type": "stream",
     "text": [
      "Epoch 1/10\n",
      "938/938 [==============================] - 5s 5ms/step - loss: 0.5284 - accuracy: 0.8144 - val_loss: 0.4469 - val_accuracy: 0.8379\n",
      "Epoch 2/10\n",
      "938/938 [==============================] - 5s 6ms/step - loss: 0.4014 - accuracy: 0.8558 - val_loss: 0.4299 - val_accuracy: 0.8445\n",
      "Epoch 3/10\n",
      "938/938 [==============================] - 5s 6ms/step - loss: 0.3639 - accuracy: 0.8674 - val_loss: 0.3885 - val_accuracy: 0.8631\n",
      "Epoch 4/10\n",
      "938/938 [==============================] - 5s 5ms/step - loss: 0.3355 - accuracy: 0.8773 - val_loss: 0.3671 - val_accuracy: 0.8693\n",
      "Epoch 5/10\n",
      "938/938 [==============================] - 5s 5ms/step - loss: 0.3148 - accuracy: 0.8845 - val_loss: 0.3814 - val_accuracy: 0.8608\n",
      "Epoch 6/10\n",
      "938/938 [==============================] - 5s 5ms/step - loss: 0.2987 - accuracy: 0.8895 - val_loss: 0.3476 - val_accuracy: 0.8738\n",
      "Epoch 7/10\n",
      "938/938 [==============================] - 5s 5ms/step - loss: 0.2829 - accuracy: 0.8948 - val_loss: 0.3439 - val_accuracy: 0.8788\n",
      "Epoch 8/10\n",
      "938/938 [==============================] - 5s 5ms/step - loss: 0.2682 - accuracy: 0.9010 - val_loss: 0.3396 - val_accuracy: 0.8772\n",
      "Epoch 9/10\n",
      "938/938 [==============================] - 5s 5ms/step - loss: 0.2564 - accuracy: 0.9054 - val_loss: 0.3372 - val_accuracy: 0.8798\n",
      "Epoch 10/10\n",
      "938/938 [==============================] - 10s 11ms/step - loss: 0.2447 - accuracy: 0.9097 - val_loss: 0.3255 - val_accuracy: 0.8837\n"
     ]
    }
   ],
   "source": [
    "### Tu código para 512 neuronas aquí ###\n",
    "nn_512 = tf.keras.models.Sequential([\n",
    "    tf.keras.layers.Flatten(input_shape=[28,28]), # Según training_images.shape\n",
    "    tf.keras.layers.Dense(512, activation=\"sigmoid\"),\n",
    "    tf.keras.layers.Dense(10, activation=\"softmax\") # número de clases np.unique(training_labels)\n",
    "])\n",
    "nn_512.compile(loss=\"categorical_crossentropy\", optimizer=\"adam\", metrics=[\"accuracy\"])\n",
    "h512 = nn_512.fit(training_images, training_labels, batch_size=64, epochs=10, validation_data=(test_images, test_labels))"
   ]
  },
  {
   "cell_type": "code",
   "execution_count": 13,
   "id": "4925bb28",
   "metadata": {
    "allow_embed": false,
    "cell_id": "c4ae2665d8684be8a9e8594a5a3ac5d7",
    "deepnote_cell_height": 120,
    "deepnote_cell_type": "code",
    "deepnote_to_be_reexecuted": false,
    "execution_millis": 1373,
    "execution_start": 1658264541386,
    "id": "VNjQEtUUG4iI",
    "lines_to_next_cell": 1,
    "source_hash": "7c315499"
   },
   "outputs": [
    {
     "name": "stdout",
     "output_type": "stream",
     "text": [
      "313/313 [==============================] - 1s 4ms/step - loss: 0.3255 - accuracy: 0.8837\n"
     ]
    }
   ],
   "source": [
    "score_512 = nn_512.evaluate(test_images, test_labels)"
   ]
  },
  {
   "cell_type": "code",
   "execution_count": 14,
   "id": "8236f619",
   "metadata": {
    "cell_id": "00022-9072124e-004f-47a3-9f66-b7cd9ea72f51",
    "deepnote_cell_height": 782,
    "deepnote_cell_type": "code",
    "deepnote_output_heights": [
     null,
     27
    ],
    "deepnote_to_be_reexecuted": false,
    "execution_millis": 141044,
    "execution_start": 1658264542813,
    "id": "YXBlbbfuUaPa",
    "source_hash": "f6f48d02"
   },
   "outputs": [
    {
     "name": "stdout",
     "output_type": "stream",
     "text": [
      "Epoch 1/10\n",
      "938/938 [==============================] - 12s 12ms/step - loss: 0.5229 - accuracy: 0.8127 - val_loss: 0.4502 - val_accuracy: 0.8397\n",
      "Epoch 2/10\n",
      "938/938 [==============================] - 16s 17ms/step - loss: 0.4040 - accuracy: 0.8537 - val_loss: 0.4313 - val_accuracy: 0.8428\n",
      "Epoch 3/10\n",
      "938/938 [==============================] - 14s 15ms/step - loss: 0.3637 - accuracy: 0.8672 - val_loss: 0.3874 - val_accuracy: 0.8602\n",
      "Epoch 4/10\n",
      "938/938 [==============================] - 14s 15ms/step - loss: 0.3348 - accuracy: 0.8780 - val_loss: 0.3796 - val_accuracy: 0.8663\n",
      "Epoch 5/10\n",
      "938/938 [==============================] - 14s 15ms/step - loss: 0.3122 - accuracy: 0.8850 - val_loss: 0.3633 - val_accuracy: 0.8713\n",
      "Epoch 6/10\n",
      "938/938 [==============================] - 12s 13ms/step - loss: 0.2924 - accuracy: 0.8917 - val_loss: 0.3765 - val_accuracy: 0.8604\n",
      "Epoch 7/10\n",
      "938/938 [==============================] - 13s 14ms/step - loss: 0.2779 - accuracy: 0.8959 - val_loss: 0.3441 - val_accuracy: 0.8732\n",
      "Epoch 8/10\n",
      "938/938 [==============================] - 13s 13ms/step - loss: 0.2615 - accuracy: 0.9024 - val_loss: 0.3760 - val_accuracy: 0.8626\n",
      "Epoch 9/10\n",
      "938/938 [==============================] - 19s 20ms/step - loss: 0.2481 - accuracy: 0.9084 - val_loss: 0.3315 - val_accuracy: 0.8831\n",
      "Epoch 10/10\n",
      "938/938 [==============================] - 14s 15ms/step - loss: 0.2353 - accuracy: 0.9114 - val_loss: 0.3198 - val_accuracy: 0.8882\n"
     ]
    }
   ],
   "source": [
    "### Tu código para 1024 neuronas aquí ###\n",
    "nn_1024 = tf.keras.models.Sequential([\n",
    "     tf.keras.layers.Flatten(input_shape=[28,28]), # Según training_images.shape\n",
    "     tf.keras.layers.Dense(1024, activation=\"sigmoid\"),\n",
    "     tf.keras.layers.Dense(10, activation=\"softmax\") # número de clases np.unique(training_labels)\n",
    "])\n",
    "nn_1024.compile(loss=\"categorical_crossentropy\", optimizer=\"adam\", metrics=[\"accuracy\"])\n",
    "h1024 = nn_1024.fit(training_images, training_labels, batch_size=64, epochs=10, validation_data=(test_images, test_labels))"
   ]
  },
  {
   "cell_type": "code",
   "execution_count": 15,
   "id": "2c90a87f",
   "metadata": {
    "allow_embed": false,
    "cell_id": "9fe487b74ee742609eccf0595d52bc7b",
    "deepnote_cell_height": 120,
    "deepnote_cell_type": "code",
    "deepnote_to_be_reexecuted": false,
    "execution_millis": 1926,
    "execution_start": 1658264683282,
    "id": "VNjQEtUUG4iI",
    "lines_to_next_cell": 1,
    "source_hash": "228f4194"
   },
   "outputs": [
    {
     "name": "stdout",
     "output_type": "stream",
     "text": [
      "313/313 [==============================] - 2s 5ms/step - loss: 0.3198 - accuracy: 0.8882\n"
     ]
    }
   ],
   "source": [
    "score_1024 = nn_1024.evaluate(test_images, test_labels)"
   ]
  },
  {
   "cell_type": "markdown",
   "id": "5262de77",
   "metadata": {
    "cell_id": "00023-7e000ca5-0905-4d4e-8737-342abd0d4824",
    "deepnote_cell_height": 105,
    "deepnote_cell_type": "markdown",
    "id": "wG0h2HL-Uj93"
   },
   "source": [
    "Tu respuesta a la pregunta 4.3 aquí: Aumentó el accuracy. Es posible verlo al evaluar las redes resultantes. Sin embargo, esta mejora tiene un límite, en el caso de las 1024 neuronas el cambio es menor. En algunos casos se puede ver también una pequeña disminución de la perdida, pero ese cambio no siempre ocurre."
   ]
  },
  {
   "cell_type": "markdown",
   "id": "348c2e34",
   "metadata": {
    "cell_id": "00024-7344d1a1-f49f-4bc9-81cd-be097c86b2e8",
    "deepnote_cell_height": 275,
    "deepnote_cell_type": "markdown",
    "id": "b-NpUI9EVkVz"
   },
   "source": [
    "Si ahora entrenais el modelo de esta forma (con 512 y 1024 neuronas en la capa oculta) y volveis a ejecutar el predictor guardado en la variable **classifications**, escribir el código del clasificador del ejercicio 1 de nuevo e imprimid el primer objeto guardado en la variable classifications.\n",
    "\n",
    "**pregunta 5.1 (0.25 puntos)**: \n",
    "\n",
    "* ¿En que clase esta clasificado ahora la primera prenda de vestir de la variable classifications?\n",
    "\n",
    "**pregunta 5.1 (0.25 puntos)**: \n",
    "\n",
    "* ¿Porque crees que ha ocurrido esto?"
   ]
  },
  {
   "cell_type": "code",
   "execution_count": 16,
   "id": "07c7e8ee",
   "metadata": {
    "cell_id": "00025-e74e0267-9497-4efa-bedd-e032f8b5ca55",
    "deepnote_cell_height": 404,
    "deepnote_cell_type": "code",
    "deepnote_to_be_reexecuted": false,
    "execution_millis": 4334,
    "execution_start": 1658264685198,
    "id": "b-mL-h4xQhCm",
    "source_hash": "9cb468c"
   },
   "outputs": [
    {
     "name": "stdout",
     "output_type": "stream",
     "text": [
      "313/313 [==============================] - 1s 4ms/step - loss: 0.3255 - accuracy: 0.8837\n",
      "313/313 [==============================] - 2s 5ms/step - loss: 0.3198 - accuracy: 0.8882\n",
      "Para la red con 512 neuronas:\n",
      "El primer valor predicho es 0 y el valor esperado es 9\n",
      "Para la red con 1024 neuronas:\n",
      "El primer valor predicho es 0 y el valor esperado es 9\n"
     ]
    }
   ],
   "source": [
    "### Tu código del clasificador de la pregunta 5 aquí ###\n",
    "classifications_512 = nn_512.evaluate(test_images, test_labels)\n",
    "classifications_512 = pred_to_label(classifications_512)\n",
    "classifications_1024 = nn_1024.evaluate(test_images, test_labels)\n",
    "classifications_1024 = pred_to_label(classifications_1024)\n",
    "print(\"Para la red con 512 neuronas:\")\n",
    "print(\"El primer valor predicho es\", classifications_512[0],\"y el valor esperado es\",test_labels_redable[0])\n",
    "print(\"Para la red con 1024 neuronas:\")\n",
    "print(\"El primer valor predicho es\", classifications_1024[0],\"y el valor esperado es\",test_labels_redable[0])"
   ]
  },
  {
   "cell_type": "markdown",
   "id": "0552565e",
   "metadata": {
    "cell_id": "00026-d568ca65-cf8d-422f-ab53-a9bb62bcd52f",
    "deepnote_cell_height": 80,
    "deepnote_cell_type": "markdown",
    "id": "P3NfwdOGZcAa"
   },
   "source": [
    "Tu respuesta a la pregunta 5.1 aquí: Si bien, el valor sigue variando con cada ejecución del código, lo más común parece ser 0 y no 9. Cabe resaltar que 0 es el valor incorrecto."
   ]
  },
  {
   "cell_type": "markdown",
   "id": "7dfcc9b8",
   "metadata": {
    "cell_id": "00027-3c3779a7-4f98-4368-8417-1a3d801a3056",
    "deepnote_cell_height": 130,
    "deepnote_cell_type": "markdown",
    "id": "nFmfpxE1ZcJx"
   },
   "source": [
    "Tu respuesta a la pregunta 5.2 aquí: Para estas redes neuronales se agregaron datos de validación con el objetivo de contestar esta pregunta. En la gráfica siguiente se puede observar que el valor del accuracy se comporta correctamente, pero el valor de la perdida no es tan bueno en los datos de validación, existe un pico y el valor se va alejando según avanzan las epoch, es posible atribuir el valor de la red neuronal a este comportamiento."
   ]
  },
  {
   "cell_type": "code",
   "execution_count": 17,
   "id": "9eaabbc9",
   "metadata": {
    "cell_id": "4a375a8ba121453995441300ab88dc83",
    "deepnote_cell_height": 496,
    "deepnote_cell_type": "code",
    "deepnote_output_heights": [
     309
    ],
    "deepnote_to_be_reexecuted": false,
    "execution_millis": 533,
    "execution_start": 1658264689063,
    "source_hash": "2f5c7f9c",
    "tags": []
   },
   "outputs": [
    {
     "data": {
      "image/png": "[encoded data removed]",
      "text/plain": [
       "<Figure size 576x360 with 1 Axes>"
      ]
     },
     "metadata": {
      "image/png": {
       "height": 307,
       "width": 483
      },
      "needs_background": "light"
     },
     "output_type": "display_data"
    }
   ],
   "source": [
    "import pandas as pd\n",
    "import matplotlib.pyplot as plt\n",
    "pd.DataFrame(h512.history).plot(figsize=(8,5))\n",
    "plt.grid(True)\n",
    "plt.gca().set_ylim(0,1)\n",
    "plt.show()"
   ]
  },
  {
   "cell_type": "markdown",
   "id": "ca0ebe5e",
   "metadata": {
    "cell_id": "00028-f93d2208-534c-46fc-a7e3-cab6ae481a50",
    "deepnote_cell_height": 239,
    "deepnote_cell_type": "markdown",
    "id": "59eM76O1YekZ"
   },
   "source": [
    "# **Ejercicio 3: ¿por qué es tan importante la capa Flatten?**\n",
    "\n",
    "En este ejercicio vamos a ver que ocurre cuando quitamos la capa flatten, para ello, escribe la red neuronal de la pregunta 1 y no pongas la capa Flatten.\n",
    "\n",
    "**pregunta 6 (0.5 puntos):** ¿puedes explicar porque da el error que da?\n",
    "\n"
   ]
  },
  {
   "cell_type": "code",
   "execution_count": 18,
   "id": "3b331b5d",
   "metadata": {
    "cell_id": "00029-2330c8fd-7d3f-4f00-9d15-b55f0fe03add",
    "deepnote_cell_height": 1139.765625,
    "deepnote_cell_type": "code",
    "deepnote_to_be_reexecuted": false,
    "execution_millis": 3082,
    "execution_start": 1658264689392,
    "id": "ecfEVKEuG4iU",
    "source_hash": "c4f86116"
   },
   "outputs": [
    {
     "name": "stdout",
     "output_type": "stream",
     "text": [
      "Epoch 1/10\n"
     ]
    },
    {
     "ename": "ValueError",
     "evalue": "in user code:\n\n    File \"/shared-libs/python3.9/py/lib/python3.9/site-packages/keras/engine/training.py\", line 1051, in train_function  *\n        return step_function(self, iterator)\n    File \"/shared-libs/python3.9/py/lib/python3.9/site-packages/keras/engine/training.py\", line 1040, in step_function  **\n        outputs = model.distribute_strategy.run(run_step, args=(data,))\n    File \"/shared-libs/python3.9/py/lib/python3.9/site-packages/keras/engine/training.py\", line 1030, in run_step  **\n        outputs = model.train_step(data)\n    File \"/shared-libs/python3.9/py/lib/python3.9/site-packages/keras/engine/training.py\", line 890, in train_step\n        loss = self.compute_loss(x, y, y_pred, sample_weight)\n    File \"/shared-libs/python3.9/py/lib/python3.9/site-packages/keras/engine/training.py\", line 948, in compute_loss\n        return self.compiled_loss(\n    File \"/shared-libs/python3.9/py/lib/python3.9/site-packages/keras/engine/compile_utils.py\", line 201, in __call__\n        loss_value = loss_obj(y_t, y_p, sample_weight=sw)\n    File \"/shared-libs/python3.9/py/lib/python3.9/site-packages/keras/losses.py\", line 139, in __call__\n        losses = call_fn(y_true, y_pred)\n    File \"/shared-libs/python3.9/py/lib/python3.9/site-packages/keras/losses.py\", line 243, in call  **\n        return ag_fn(y_true, y_pred, **self._fn_kwargs)\n    File \"/shared-libs/python3.9/py/lib/python3.9/site-packages/keras/losses.py\", line 1787, in categorical_crossentropy\n        return backend.categorical_crossentropy(\n    File \"/shared-libs/python3.9/py/lib/python3.9/site-packages/keras/backend.py\", line 5119, in categorical_crossentropy\n        target.shape.assert_is_compatible_with(output.shape)\n\n    ValueError: Shapes (None, 10) and (None, 28, 10) are incompatible\n",
     "output_type": "error",
     "traceback": [
      "\u001b[0;31m---------------------------------------------------------------------------\u001b[0m",
      "\u001b[0;31mValueError\u001b[0m                                Traceback (most recent call last)",
      "\u001b[0;32m<ipython-input-18-0561f009f7dd>\u001b[0m in \u001b[0;36m<cell line: 7>\u001b[0;34m()\u001b[0m\n\u001b[1;32m      5\u001b[0m ])\n\u001b[1;32m      6\u001b[0m \u001b[0mnn\u001b[0m\u001b[0;34m.\u001b[0m\u001b[0mcompile\u001b[0m\u001b[0;34m(\u001b[0m\u001b[0mloss\u001b[0m\u001b[0;34m=\u001b[0m\u001b[0;34m\"categorical_crossentropy\"\u001b[0m\u001b[0;34m,\u001b[0m \u001b[0moptimizer\u001b[0m\u001b[0;34m=\u001b[0m\u001b[0;34m\"adam\"\u001b[0m\u001b[0;34m,\u001b[0m \u001b[0mmetrics\u001b[0m\u001b[0;34m=\u001b[0m\u001b[0;34m[\u001b[0m\u001b[0;34m\"accuracy\"\u001b[0m\u001b[0;34m]\u001b[0m\u001b[0;34m)\u001b[0m\u001b[0;34m\u001b[0m\u001b[0;34m\u001b[0m\u001b[0m\n\u001b[0;32m----> 7\u001b[0;31m \u001b[0mnn\u001b[0m\u001b[0;34m.\u001b[0m\u001b[0mfit\u001b[0m\u001b[0;34m(\u001b[0m\u001b[0mtraining_images\u001b[0m\u001b[0;34m,\u001b[0m \u001b[0mtraining_labels\u001b[0m\u001b[0;34m,\u001b[0m \u001b[0mbatch_size\u001b[0m\u001b[0;34m=\u001b[0m\u001b[0;36m64\u001b[0m\u001b[0;34m,\u001b[0m \u001b[0mepochs\u001b[0m\u001b[0;34m=\u001b[0m\u001b[0;36m10\u001b[0m\u001b[0;34m)\u001b[0m\u001b[0;34m\u001b[0m\u001b[0;34m\u001b[0m\u001b[0m\n\u001b[0m",
      "\u001b[0;32m/shared-libs/python3.9/py/lib/python3.9/site-packages/keras/utils/traceback_utils.py\u001b[0m in \u001b[0;36merror_handler\u001b[0;34m(*args, **kwargs)\u001b[0m\n\u001b[1;32m     65\u001b[0m     \u001b[0;32mexcept\u001b[0m \u001b[0mException\u001b[0m \u001b[0;32mas\u001b[0m \u001b[0me\u001b[0m\u001b[0;34m:\u001b[0m  \u001b[0;31m# pylint: disable=broad-except\u001b[0m\u001b[0;34m\u001b[0m\u001b[0;34m\u001b[0m\u001b[0m\n\u001b[1;32m     66\u001b[0m       \u001b[0mfiltered_tb\u001b[0m \u001b[0;34m=\u001b[0m \u001b[0m_process_traceback_frames\u001b[0m\u001b[0;34m(\u001b[0m\u001b[0me\u001b[0m\u001b[0;34m.\u001b[0m\u001b[0m__traceback__\u001b[0m\u001b[0;34m)\u001b[0m\u001b[0;34m\u001b[0m\u001b[0;34m\u001b[0m\u001b[0m\n\u001b[0;32m---> 67\u001b[0;31m       \u001b[0;32mraise\u001b[0m \u001b[0me\u001b[0m\u001b[0;34m.\u001b[0m\u001b[0mwith_traceback\u001b[0m\u001b[0;34m(\u001b[0m\u001b[0mfiltered_tb\u001b[0m\u001b[0;34m)\u001b[0m \u001b[0;32mfrom\u001b[0m \u001b[0;32mNone\u001b[0m\u001b[0;34m\u001b[0m\u001b[0;34m\u001b[0m\u001b[0m\n\u001b[0m\u001b[1;32m     68\u001b[0m     \u001b[0;32mfinally\u001b[0m\u001b[0;34m:\u001b[0m\u001b[0;34m\u001b[0m\u001b[0;34m\u001b[0m\u001b[0m\n\u001b[1;32m     69\u001b[0m       \u001b[0;32mdel\u001b[0m \u001b[0mfiltered_tb\u001b[0m\u001b[0;34m\u001b[0m\u001b[0;34m\u001b[0m\u001b[0m\n",
      "\u001b[0;32m/shared-libs/python3.9/py/lib/python3.9/site-packages/keras/engine/training.py\u001b[0m in \u001b[0;36mtf__train_function\u001b[0;34m(iterator)\u001b[0m\n\u001b[1;32m     13\u001b[0m                 \u001b[0;32mtry\u001b[0m\u001b[0;34m:\u001b[0m\u001b[0;34m\u001b[0m\u001b[0;34m\u001b[0m\u001b[0m\n\u001b[1;32m     14\u001b[0m                     \u001b[0mdo_return\u001b[0m \u001b[0;34m=\u001b[0m \u001b[0;32mTrue\u001b[0m\u001b[0;34m\u001b[0m\u001b[0;34m\u001b[0m\u001b[0m\n\u001b[0;32m---> 15\u001b[0;31m                     \u001b[0mretval_\u001b[0m \u001b[0;34m=\u001b[0m \u001b[0mag__\u001b[0m\u001b[0;34m.\u001b[0m\u001b[0mconverted_call\u001b[0m\u001b[0;34m(\u001b[0m\u001b[0mag__\u001b[0m\u001b[0;34m.\u001b[0m\u001b[0mld\u001b[0m\u001b[0;34m(\u001b[0m\u001b[0mstep_function\u001b[0m\u001b[0;34m)\u001b[0m\u001b[0;34m,\u001b[0m \u001b[0;34m(\u001b[0m\u001b[0mag__\u001b[0m\u001b[0;34m.\u001b[0m\u001b[0mld\u001b[0m\u001b[0;34m(\u001b[0m\u001b[0mself\u001b[0m\u001b[0;34m)\u001b[0m\u001b[0;34m,\u001b[0m \u001b[0mag__\u001b[0m\u001b[0;34m.\u001b[0m\u001b[0mld\u001b[0m\u001b[0;34m(\u001b[0m\u001b[0miterator\u001b[0m\u001b[0;34m)\u001b[0m\u001b[0;34m)\u001b[0m\u001b[0;34m,\u001b[0m \u001b[0;32mNone\u001b[0m\u001b[0;34m,\u001b[0m \u001b[0mfscope\u001b[0m\u001b[0;34m)\u001b[0m\u001b[0;34m\u001b[0m\u001b[0;34m\u001b[0m\u001b[0m\n\u001b[0m\u001b[1;32m     16\u001b[0m                 \u001b[0;32mexcept\u001b[0m\u001b[0;34m:\u001b[0m\u001b[0;34m\u001b[0m\u001b[0;34m\u001b[0m\u001b[0m\n\u001b[1;32m     17\u001b[0m                     \u001b[0mdo_return\u001b[0m \u001b[0;34m=\u001b[0m \u001b[0;32mFalse\u001b[0m\u001b[0;34m\u001b[0m\u001b[0;34m\u001b[0m\u001b[0m\n",
      "\u001b[0;31mValueError\u001b[0m: in user code:\n\n    File \"/shared-libs/python3.9/py/lib/python3.9/site-packages/keras/engine/training.py\", line 1051, in train_function  *\n        return step_function(self, iterator)\n    File \"/shared-libs/python3.9/py/lib/python3.9/site-packages/keras/engine/training.py\", line 1040, in step_function  **\n        outputs = model.distribute_strategy.run(run_step, args=(data,))\n    File \"/shared-libs/python3.9/py/lib/python3.9/site-packages/keras/engine/training.py\", line 1030, in run_step  **\n        outputs = model.train_step(data)\n    File \"/shared-libs/python3.9/py/lib/python3.9/site-packages/keras/engine/training.py\", line 890, in train_step\n        loss = self.compute_loss(x, y, y_pred, sample_weight)\n    File \"/shared-libs/python3.9/py/lib/python3.9/site-packages/keras/engine/training.py\", line 948, in compute_loss\n        return self.compiled_loss(\n    File \"/shared-libs/python3.9/py/lib/python3.9/site-packages/keras/engine/compile_utils.py\", line 201, in __call__\n        loss_value = loss_obj(y_t, y_p, sample_weight=sw)\n    File \"/shared-libs/python3.9/py/lib/python3.9/site-packages/keras/losses.py\", line 139, in __call__\n        losses = call_fn(y_true, y_pred)\n    File \"/shared-libs/python3.9/py/lib/python3.9/site-packages/keras/losses.py\", line 243, in call  **\n        return ag_fn(y_true, y_pred, **self._fn_kwargs)\n    File \"/shared-libs/python3.9/py/lib/python3.9/site-packages/keras/losses.py\", line 1787, in categorical_crossentropy\n        return backend.categorical_crossentropy(\n    File \"/shared-libs/python3.9/py/lib/python3.9/site-packages/keras/backend.py\", line 5119, in categorical_crossentropy\n        target.shape.assert_is_compatible_with(output.shape)\n\n    ValueError: Shapes (None, 10) and (None, 28, 10) are incompatible\n"
     ]
    }
   ],
   "source": [
    "### Tu código de la red neuronal sin capa flatten de la pregunta 6 aquí ###\n",
    "nn = tf.keras.models.Sequential([\n",
    "     tf.keras.layers.Dense(128, activation=\"sigmoid\"),\n",
    "     tf.keras.layers.Dense(10, activation=\"softmax\") # número de clases np.unique(training_labels)\n",
    "])\n",
    "nn.compile(loss=\"categorical_crossentropy\", optimizer=\"adam\", metrics=[\"accuracy\"])\n",
    "nn.fit(training_images, training_labels, batch_size=64, epochs=10)"
   ]
  },
  {
   "cell_type": "markdown",
   "id": "d4fbf7f3",
   "metadata": {
    "cell_id": "00030-5e5921da-11d1-45cb-bc77-2823f514e685",
    "deepnote_cell_height": 80,
    "deepnote_cell_type": "markdown",
    "id": "-aNmrkkOZN6D"
   },
   "source": [
    "Tu respuesta a la pregunta 6 aquí: Lo que ocurre es que la dimensión de los datos de entrada superan los datos esperados por la red. La capa eliminada sirve para adaptar esas dimensiones, crea datos unidimensionales."
   ]
  },
  {
   "cell_type": "markdown",
   "id": "bc837bb2",
   "metadata": {
    "cell_id": "00031-07fc7ea9-c335-4cdf-b7b7-6f26355391d2",
    "deepnote_cell_height": 317,
    "deepnote_cell_type": "markdown",
    "id": "f37cIr81ZYJj"
   },
   "source": [
    "# **Ejercicio 4: Número de neuronas de la capa de salida**\n",
    "Considerad la capa final, la de salida de la red neuronal de la pregunta 1.\n",
    "\n",
    "**pregunta 7.1 (0.25 puntos)**: ¿Por qué son 10 las neuronas de la última capa?\n",
    "\n",
    "**pregunta 7.2 (0.25 puntos)**: ¿Qué pasaría si tuvieras una cantidad diferente a 10? \n",
    "\n",
    "Por ejemplo, intenta entrenar la red con 5, para ello utiliza la red neuronal de la pregunta 1 y cambia a 5 el número de neuronas en la última capa."
   ]
  },
  {
   "cell_type": "code",
   "execution_count": 19,
   "id": "7818fa13",
   "metadata": {
    "cell_id": "00032-245bd5ec-626c-417b-84bf-d9b7089363f2",
    "deepnote_cell_height": 1157.765625,
    "deepnote_cell_type": "code",
    "deepnote_to_be_reexecuted": false,
    "execution_millis": 1284,
    "execution_start": 1658265427793,
    "id": "FhbZkppYZOCS",
    "source_hash": "e9b5a2ec"
   },
   "outputs": [
    {
     "name": "stdout",
     "output_type": "stream",
     "text": [
      "Epoch 1/10\n"
     ]
    },
    {
     "ename": "ValueError",
     "evalue": "in user code:\n\n    File \"/shared-libs/python3.9/py/lib/python3.9/site-packages/keras/engine/training.py\", line 1051, in train_function  *\n        return step_function(self, iterator)\n    File \"/shared-libs/python3.9/py/lib/python3.9/site-packages/keras/engine/training.py\", line 1040, in step_function  **\n        outputs = model.distribute_strategy.run(run_step, args=(data,))\n    File \"/shared-libs/python3.9/py/lib/python3.9/site-packages/keras/engine/training.py\", line 1030, in run_step  **\n        outputs = model.train_step(data)\n    File \"/shared-libs/python3.9/py/lib/python3.9/site-packages/keras/engine/training.py\", line 890, in train_step\n        loss = self.compute_loss(x, y, y_pred, sample_weight)\n    File \"/shared-libs/python3.9/py/lib/python3.9/site-packages/keras/engine/training.py\", line 948, in compute_loss\n        return self.compiled_loss(\n    File \"/shared-libs/python3.9/py/lib/python3.9/site-packages/keras/engine/compile_utils.py\", line 201, in __call__\n        loss_value = loss_obj(y_t, y_p, sample_weight=sw)\n    File \"/shared-libs/python3.9/py/lib/python3.9/site-packages/keras/losses.py\", line 139, in __call__\n        losses = call_fn(y_true, y_pred)\n    File \"/shared-libs/python3.9/py/lib/python3.9/site-packages/keras/losses.py\", line 243, in call  **\n        return ag_fn(y_true, y_pred, **self._fn_kwargs)\n    File \"/shared-libs/python3.9/py/lib/python3.9/site-packages/keras/losses.py\", line 1787, in categorical_crossentropy\n        return backend.categorical_crossentropy(\n    File \"/shared-libs/python3.9/py/lib/python3.9/site-packages/keras/backend.py\", line 5119, in categorical_crossentropy\n        target.shape.assert_is_compatible_with(output.shape)\n\n    ValueError: Shapes (None, 10) and (None, 5) are incompatible\n",
     "output_type": "error",
     "traceback": [
      "\u001b[0;31m---------------------------------------------------------------------------\u001b[0m",
      "\u001b[0;31mValueError\u001b[0m                                Traceback (most recent call last)",
      "\u001b[0;32m<ipython-input-19-a16e008f006d>\u001b[0m in \u001b[0;36m<cell line: 8>\u001b[0;34m()\u001b[0m\n\u001b[1;32m      6\u001b[0m ])\n\u001b[1;32m      7\u001b[0m \u001b[0mnn\u001b[0m\u001b[0;34m.\u001b[0m\u001b[0mcompile\u001b[0m\u001b[0;34m(\u001b[0m\u001b[0mloss\u001b[0m\u001b[0;34m=\u001b[0m\u001b[0;34m\"categorical_crossentropy\"\u001b[0m\u001b[0;34m,\u001b[0m \u001b[0moptimizer\u001b[0m\u001b[0;34m=\u001b[0m\u001b[0;34m\"adam\"\u001b[0m\u001b[0;34m,\u001b[0m \u001b[0mmetrics\u001b[0m\u001b[0;34m=\u001b[0m\u001b[0;34m[\u001b[0m\u001b[0;34m\"accuracy\"\u001b[0m\u001b[0;34m]\u001b[0m\u001b[0;34m)\u001b[0m\u001b[0;34m\u001b[0m\u001b[0;34m\u001b[0m\u001b[0m\n\u001b[0;32m----> 8\u001b[0;31m \u001b[0mnn\u001b[0m\u001b[0;34m.\u001b[0m\u001b[0mfit\u001b[0m\u001b[0;34m(\u001b[0m\u001b[0mtraining_images\u001b[0m\u001b[0;34m,\u001b[0m \u001b[0mtraining_labels\u001b[0m\u001b[0;34m,\u001b[0m \u001b[0mbatch_size\u001b[0m\u001b[0;34m=\u001b[0m\u001b[0;36m64\u001b[0m\u001b[0;34m,\u001b[0m \u001b[0mepochs\u001b[0m\u001b[0;34m=\u001b[0m\u001b[0;36m10\u001b[0m\u001b[0;34m)\u001b[0m\u001b[0;34m\u001b[0m\u001b[0;34m\u001b[0m\u001b[0m\n\u001b[0m",
      "\u001b[0;32m/shared-libs/python3.9/py/lib/python3.9/site-packages/keras/utils/traceback_utils.py\u001b[0m in \u001b[0;36merror_handler\u001b[0;34m(*args, **kwargs)\u001b[0m\n\u001b[1;32m     65\u001b[0m     \u001b[0;32mexcept\u001b[0m \u001b[0mException\u001b[0m \u001b[0;32mas\u001b[0m \u001b[0me\u001b[0m\u001b[0;34m:\u001b[0m  \u001b[0;31m# pylint: disable=broad-except\u001b[0m\u001b[0;34m\u001b[0m\u001b[0;34m\u001b[0m\u001b[0m\n\u001b[1;32m     66\u001b[0m       \u001b[0mfiltered_tb\u001b[0m \u001b[0;34m=\u001b[0m \u001b[0m_process_traceback_frames\u001b[0m\u001b[0;34m(\u001b[0m\u001b[0me\u001b[0m\u001b[0;34m.\u001b[0m\u001b[0m__traceback__\u001b[0m\u001b[0;34m)\u001b[0m\u001b[0;34m\u001b[0m\u001b[0;34m\u001b[0m\u001b[0m\n\u001b[0;32m---> 67\u001b[0;31m       \u001b[0;32mraise\u001b[0m \u001b[0me\u001b[0m\u001b[0;34m.\u001b[0m\u001b[0mwith_traceback\u001b[0m\u001b[0;34m(\u001b[0m\u001b[0mfiltered_tb\u001b[0m\u001b[0;34m)\u001b[0m \u001b[0;32mfrom\u001b[0m \u001b[0;32mNone\u001b[0m\u001b[0;34m\u001b[0m\u001b[0;34m\u001b[0m\u001b[0m\n\u001b[0m\u001b[1;32m     68\u001b[0m     \u001b[0;32mfinally\u001b[0m\u001b[0;34m:\u001b[0m\u001b[0;34m\u001b[0m\u001b[0;34m\u001b[0m\u001b[0m\n\u001b[1;32m     69\u001b[0m       \u001b[0;32mdel\u001b[0m \u001b[0mfiltered_tb\u001b[0m\u001b[0;34m\u001b[0m\u001b[0;34m\u001b[0m\u001b[0m\n",
      "\u001b[0;32m/shared-libs/python3.9/py/lib/python3.9/site-packages/keras/engine/training.py\u001b[0m in \u001b[0;36mtf__train_function\u001b[0;34m(iterator)\u001b[0m\n\u001b[1;32m     13\u001b[0m                 \u001b[0;32mtry\u001b[0m\u001b[0;34m:\u001b[0m\u001b[0;34m\u001b[0m\u001b[0;34m\u001b[0m\u001b[0m\n\u001b[1;32m     14\u001b[0m                     \u001b[0mdo_return\u001b[0m \u001b[0;34m=\u001b[0m \u001b[0;32mTrue\u001b[0m\u001b[0;34m\u001b[0m\u001b[0;34m\u001b[0m\u001b[0m\n\u001b[0;32m---> 15\u001b[0;31m                     \u001b[0mretval_\u001b[0m \u001b[0;34m=\u001b[0m \u001b[0mag__\u001b[0m\u001b[0;34m.\u001b[0m\u001b[0mconverted_call\u001b[0m\u001b[0;34m(\u001b[0m\u001b[0mag__\u001b[0m\u001b[0;34m.\u001b[0m\u001b[0mld\u001b[0m\u001b[0;34m(\u001b[0m\u001b[0mstep_function\u001b[0m\u001b[0;34m)\u001b[0m\u001b[0;34m,\u001b[0m \u001b[0;34m(\u001b[0m\u001b[0mag__\u001b[0m\u001b[0;34m.\u001b[0m\u001b[0mld\u001b[0m\u001b[0;34m(\u001b[0m\u001b[0mself\u001b[0m\u001b[0;34m)\u001b[0m\u001b[0;34m,\u001b[0m \u001b[0mag__\u001b[0m\u001b[0;34m.\u001b[0m\u001b[0mld\u001b[0m\u001b[0;34m(\u001b[0m\u001b[0miterator\u001b[0m\u001b[0;34m)\u001b[0m\u001b[0;34m)\u001b[0m\u001b[0;34m,\u001b[0m \u001b[0;32mNone\u001b[0m\u001b[0;34m,\u001b[0m \u001b[0mfscope\u001b[0m\u001b[0;34m)\u001b[0m\u001b[0;34m\u001b[0m\u001b[0;34m\u001b[0m\u001b[0m\n\u001b[0m\u001b[1;32m     16\u001b[0m                 \u001b[0;32mexcept\u001b[0m\u001b[0;34m:\u001b[0m\u001b[0;34m\u001b[0m\u001b[0;34m\u001b[0m\u001b[0m\n\u001b[1;32m     17\u001b[0m                     \u001b[0mdo_return\u001b[0m \u001b[0;34m=\u001b[0m \u001b[0;32mFalse\u001b[0m\u001b[0;34m\u001b[0m\u001b[0;34m\u001b[0m\u001b[0m\n",
      "\u001b[0;31mValueError\u001b[0m: in user code:\n\n    File \"/shared-libs/python3.9/py/lib/python3.9/site-packages/keras/engine/training.py\", line 1051, in train_function  *\n        return step_function(self, iterator)\n    File \"/shared-libs/python3.9/py/lib/python3.9/site-packages/keras/engine/training.py\", line 1040, in step_function  **\n        outputs = model.distribute_strategy.run(run_step, args=(data,))\n    File \"/shared-libs/python3.9/py/lib/python3.9/site-packages/keras/engine/training.py\", line 1030, in run_step  **\n        outputs = model.train_step(data)\n    File \"/shared-libs/python3.9/py/lib/python3.9/site-packages/keras/engine/training.py\", line 890, in train_step\n        loss = self.compute_loss(x, y, y_pred, sample_weight)\n    File \"/shared-libs/python3.9/py/lib/python3.9/site-packages/keras/engine/training.py\", line 948, in compute_loss\n        return self.compiled_loss(\n    File \"/shared-libs/python3.9/py/lib/python3.9/site-packages/keras/engine/compile_utils.py\", line 201, in __call__\n        loss_value = loss_obj(y_t, y_p, sample_weight=sw)\n    File \"/shared-libs/python3.9/py/lib/python3.9/site-packages/keras/losses.py\", line 139, in __call__\n        losses = call_fn(y_true, y_pred)\n    File \"/shared-libs/python3.9/py/lib/python3.9/site-packages/keras/losses.py\", line 243, in call  **\n        return ag_fn(y_true, y_pred, **self._fn_kwargs)\n    File \"/shared-libs/python3.9/py/lib/python3.9/site-packages/keras/losses.py\", line 1787, in categorical_crossentropy\n        return backend.categorical_crossentropy(\n    File \"/shared-libs/python3.9/py/lib/python3.9/site-packages/keras/backend.py\", line 5119, in categorical_crossentropy\n        target.shape.assert_is_compatible_with(output.shape)\n\n    ValueError: Shapes (None, 10) and (None, 5) are incompatible\n"
     ]
    }
   ],
   "source": [
    "### Tu código de la red neuronal con 5 neuronas en la capa de salida de la pregunta 7 aquí ###\n",
    "nn = tf.keras.models.Sequential([\n",
    "     tf.keras.layers.Flatten(input_shape=[28,28]), # Según training_images.shape\n",
    "     tf.keras.layers.Dense(1024, activation=\"sigmoid\"),\n",
    "     tf.keras.layers.Dense(5, activation=\"softmax\") # número de clases np.unique(training_labels)\n",
    "])\n",
    "nn.compile(loss=\"categorical_crossentropy\", optimizer=\"adam\", metrics=[\"accuracy\"])\n",
    "nn.fit(training_images, training_labels, batch_size=64, epochs=10)"
   ]
  },
  {
   "cell_type": "markdown",
   "id": "a6d97b6e",
   "metadata": {
    "cell_id": "00033-254afbeb-4880-47f0-a956-2e5d2d903737",
    "deepnote_cell_height": 80,
    "deepnote_cell_type": "markdown",
    "id": "SLsQcq-6aUoD"
   },
   "source": [
    "Tu respuestas a la pregunta 7.1 aquí: Es el tamaño del vector de salida porque es el número de categorías existentes."
   ]
  },
  {
   "cell_type": "markdown",
   "id": "5d6a95d2",
   "metadata": {
    "cell_id": "00034-e04de6c4-8fd0-421c-9d76-16d8b3197da5",
    "deepnote_cell_height": 80,
    "deepnote_cell_type": "markdown",
    "id": "J1f_7ZFeaUu6"
   },
   "source": [
    "Tu respuestas a la pregunta 7.2 aquí: El vector de salida no será compatible en tamaño y causará un error. Es un problema de dimensionalidad."
   ]
  },
  {
   "cell_type": "markdown",
   "id": "93f1994f",
   "metadata": {
    "cell_id": "00035-549d72c4-9515-4ac1-b5ad-43fa3a1ab9f5",
    "deepnote_cell_height": 498,
    "deepnote_cell_type": "markdown",
    "id": "HNIBCkshaf2y"
   },
   "source": [
    "# Ejercicio 5: Aumento de epoch y su efecto en la red neuronal\n",
    "En este ejercicio vamos a ver el impacto de aumentar los epoch en el entrenamiento. Usando la red neuronal de la pregunta 1:\n",
    "\n",
    "**pregunta 8.1 (0.20 puntos)**\n",
    "* Intentad 15 epoch para su entrenamiento, probablemente obtendras un modelo con una pérdida mucho mejor que el que tiene 5.\n",
    "\n",
    "**pregunta 8.2 (0.20 puntos)**\n",
    "* Intenta ahora con 30 epoch para su entrenamiento, podrás ver que el valor de la pérdida deja de disminuir, y a veces aumenta.\n",
    "\n",
    "**pregunta 8.3 (0.60 puntos)**\n",
    "* ¿Porque que piensas que ocurre esto? Explica tu respuesta y da el nombre de este efecto si lo conoces."
   ]
  },
  {
   "cell_type": "code",
   "execution_count": 20,
   "id": "28df0635",
   "metadata": {
    "cell_id": "00036-931428e2-7076-4f19-960e-4bfd897cfd5c",
    "deepnote_cell_height": 885,
    "deepnote_cell_type": "code",
    "deepnote_output_heights": [
     null,
     27
    ],
    "deepnote_to_be_reexecuted": false,
    "execution_millis": 42792,
    "execution_start": 1658265771667,
    "id": "Cb5vk_imG4iZ",
    "source_hash": "68da33cd"
   },
   "outputs": [
    {
     "name": "stdout",
     "output_type": "stream",
     "text": [
      "Epoch 1/15\n",
      "938/938 [==============================] - 3s 2ms/step - loss: 0.5948 - accuracy: 0.8012\n",
      "Epoch 2/15\n",
      "938/938 [==============================] - 2s 3ms/step - loss: 0.4098 - accuracy: 0.8534\n",
      "Epoch 3/15\n",
      "938/938 [==============================] - 2s 3ms/step - loss: 0.3730 - accuracy: 0.8662\n",
      "Epoch 4/15\n",
      "938/938 [==============================] - 2s 2ms/step - loss: 0.3497 - accuracy: 0.8730\n",
      "Epoch 5/15\n",
      "938/938 [==============================] - 2s 2ms/step - loss: 0.3311 - accuracy: 0.8800\n",
      "Epoch 6/15\n",
      "938/938 [==============================] - 3s 3ms/step - loss: 0.3153 - accuracy: 0.8866\n",
      "Epoch 7/15\n",
      "938/938 [==============================] - 4s 4ms/step - loss: 0.3029 - accuracy: 0.8902\n",
      "Epoch 8/15\n",
      "938/938 [==============================] - 3s 3ms/step - loss: 0.2921 - accuracy: 0.8929\n",
      "Epoch 9/15\n",
      "938/938 [==============================] - 4s 4ms/step - loss: 0.2823 - accuracy: 0.8964\n",
      "Epoch 10/15\n",
      "938/938 [==============================] - 4s 4ms/step - loss: 0.2725 - accuracy: 0.8999\n",
      "Epoch 11/15\n",
      "938/938 [==============================] - 3s 3ms/step - loss: 0.2636 - accuracy: 0.9032\n",
      "Epoch 12/15\n",
      "938/938 [==============================] - 3s 3ms/step - loss: 0.2570 - accuracy: 0.9052\n",
      "Epoch 13/15\n",
      "938/938 [==============================] - 3s 3ms/step - loss: 0.2480 - accuracy: 0.9087\n",
      "Epoch 14/15\n",
      "938/938 [==============================] - 2s 3ms/step - loss: 0.2413 - accuracy: 0.9115\n",
      "Epoch 15/15\n",
      "938/938 [==============================] - 2s 3ms/step - loss: 0.2360 - accuracy: 0.9136\n"
     ]
    },
    {
     "data": {
      "text/plain": [
       "<keras.callbacks.History at 0x7f432c193a60>"
      ]
     },
     "execution_count": 20,
     "metadata": {},
     "output_type": "execute_result"
    }
   ],
   "source": [
    "### Tu código para 15 epoch aquí ###\n",
    "nn_15 = tf.keras.models.Sequential([\n",
    "     tf.keras.layers.Flatten(input_shape=[28,28]), # Según training_images.shape\n",
    "     tf.keras.layers.Dense(128, activation=\"sigmoid\"),\n",
    "     tf.keras.layers.Dense(10, activation=\"softmax\") # número de clases np.unique(training_labels)\n",
    "])\n",
    "nn_15.compile(loss=\"categorical_crossentropy\", optimizer=\"adam\", metrics=[\"accuracy\"])\n",
    "nn_15.fit(training_images, training_labels, batch_size=64, epochs=15)"
   ]
  },
  {
   "cell_type": "code",
   "execution_count": 21,
   "id": "2435ec9e",
   "metadata": {
    "allow_embed": false,
    "cell_id": "c6f5a6cf4ec2493d86478b875c7b23c8",
    "deepnote_cell_height": 120,
    "deepnote_cell_type": "code",
    "deepnote_to_be_reexecuted": false,
    "execution_millis": 978,
    "execution_start": 1658265833640,
    "id": "VNjQEtUUG4iI",
    "lines_to_next_cell": 1,
    "source_hash": "85280ef6"
   },
   "outputs": [
    {
     "name": "stdout",
     "output_type": "stream",
     "text": [
      "313/313 [==============================] - 1s 1ms/step - loss: 0.3298 - accuracy: 0.8807\n"
     ]
    }
   ],
   "source": [
    "score_15 = nn_15.evaluate(test_images, test_labels)"
   ]
  },
  {
   "cell_type": "code",
   "execution_count": 22,
   "id": "9a0c5b8b",
   "metadata": {
    "cell_id": "00037-730dac1a-7f00-40ae-9447-eef46799e7e3",
    "deepnote_cell_height": 885,
    "deepnote_cell_type": "code",
    "deepnote_output_heights": [
     null,
     27
    ],
    "deepnote_to_be_reexecuted": false,
    "execution_millis": 70106,
    "execution_start": 1658265842710,
    "id": "I9jQ26Gda5cv",
    "source_hash": "a6eb7076"
   },
   "outputs": [
    {
     "name": "stdout",
     "output_type": "stream",
     "text": [
      "Epoch 1/30\n",
      "938/938 [==============================] - 3s 2ms/step - loss: 0.5838 - accuracy: 0.8061\n",
      "Epoch 2/30\n",
      "938/938 [==============================] - 2s 3ms/step - loss: 0.4102 - accuracy: 0.8536\n",
      "Epoch 3/30\n",
      "938/938 [==============================] - 2s 2ms/step - loss: 0.3735 - accuracy: 0.8656\n",
      "Epoch 4/30\n",
      "938/938 [==============================] - 2s 2ms/step - loss: 0.3486 - accuracy: 0.8740\n",
      "Epoch 5/30\n",
      "938/938 [==============================] - 2s 2ms/step - loss: 0.3303 - accuracy: 0.8805\n",
      "Epoch 6/30\n",
      "938/938 [==============================] - 2s 3ms/step - loss: 0.3148 - accuracy: 0.8857\n",
      "Epoch 7/30\n",
      "938/938 [==============================] - 2s 2ms/step - loss: 0.3015 - accuracy: 0.8903\n",
      "Epoch 8/30\n",
      "938/938 [==============================] - 2s 2ms/step - loss: 0.2901 - accuracy: 0.8951\n",
      "Epoch 9/30\n",
      "938/938 [==============================] - 2s 2ms/step - loss: 0.2812 - accuracy: 0.8984\n",
      "Epoch 10/30\n",
      "938/938 [==============================] - 2s 3ms/step - loss: 0.2720 - accuracy: 0.9012\n",
      "Epoch 11/30\n",
      "938/938 [==============================] - 2s 2ms/step - loss: 0.2630 - accuracy: 0.9039\n",
      "Epoch 12/30\n",
      "938/938 [==============================] - 2s 2ms/step - loss: 0.2566 - accuracy: 0.9052\n",
      "Epoch 13/30\n",
      "938/938 [==============================] - 2s 2ms/step - loss: 0.2479 - accuracy: 0.9110\n",
      "Epoch 14/30\n",
      "938/938 [==============================] - 2s 2ms/step - loss: 0.2404 - accuracy: 0.9115\n",
      "Epoch 15/30\n",
      "938/938 [==============================] - 2s 3ms/step - loss: 0.2338 - accuracy: 0.9141\n",
      "Epoch 16/30\n",
      "938/938 [==============================] - 2s 2ms/step - loss: 0.2282 - accuracy: 0.9170\n",
      "Epoch 17/30\n",
      "938/938 [==============================] - 2s 3ms/step - loss: 0.2232 - accuracy: 0.9190\n",
      "Epoch 18/30\n",
      "938/938 [==============================] - 2s 2ms/step - loss: 0.2170 - accuracy: 0.9202\n",
      "Epoch 19/30\n",
      "938/938 [==============================] - 2s 2ms/step - loss: 0.2111 - accuracy: 0.9234\n",
      "Epoch 20/30\n",
      "938/938 [==============================] - 2s 2ms/step - loss: 0.2077 - accuracy: 0.9248\n",
      "Epoch 21/30\n",
      "938/938 [==============================] - 2s 2ms/step - loss: 0.2009 - accuracy: 0.9275\n",
      "Epoch 22/30\n",
      "938/938 [==============================] - 2s 2ms/step - loss: 0.1974 - accuracy: 0.9279\n",
      "Epoch 23/30\n",
      "938/938 [==============================] - 2s 3ms/step - loss: 0.1928 - accuracy: 0.9305\n",
      "Epoch 24/30\n",
      "938/938 [==============================] - 2s 3ms/step - loss: 0.1878 - accuracy: 0.9330\n",
      "Epoch 25/30\n",
      "938/938 [==============================] - 2s 2ms/step - loss: 0.1836 - accuracy: 0.9345\n",
      "Epoch 26/30\n",
      "938/938 [==============================] - 2s 2ms/step - loss: 0.1802 - accuracy: 0.9352\n",
      "Epoch 27/30\n",
      "938/938 [==============================] - 2s 2ms/step - loss: 0.1757 - accuracy: 0.9374\n",
      "Epoch 28/30\n",
      "938/938 [==============================] - 2s 3ms/step - loss: 0.1718 - accuracy: 0.9391\n",
      "Epoch 29/30\n",
      "938/938 [==============================] - 3s 3ms/step - loss: 0.1698 - accuracy: 0.9391\n",
      "Epoch 30/30\n",
      "938/938 [==============================] - 2s 2ms/step - loss: 0.1653 - accuracy: 0.9406\n"
     ]
    },
    {
     "data": {
      "text/plain": [
       "<keras.callbacks.History at 0x7f432cdd1cd0>"
      ]
     },
     "execution_count": 22,
     "metadata": {},
     "output_type": "execute_result"
    }
   ],
   "source": [
    "### Tu código para 30 epoch aquí ###\n",
    "nn_30 = tf.keras.models.Sequential([\n",
    "     tf.keras.layers.Flatten(input_shape=[28,28]), # Según training_images.shape\n",
    "     tf.keras.layers.Dense(128, activation=\"sigmoid\"),\n",
    "     tf.keras.layers.Dense(10, activation=\"softmax\") # número de clases np.unique(training_labels)\n",
    "])\n",
    "nn_30.compile(loss=\"categorical_crossentropy\", optimizer=\"adam\", metrics=[\"accuracy\"])\n",
    "nn_30.fit(training_images, training_labels, batch_size=64, epochs=30)"
   ]
  },
  {
   "cell_type": "code",
   "execution_count": 23,
   "id": "39e2f645",
   "metadata": {
    "allow_embed": false,
    "cell_id": "6d840e59a3d64222962265a919ef5f2c",
    "deepnote_cell_height": 120,
    "deepnote_cell_type": "code",
    "deepnote_to_be_reexecuted": false,
    "execution_millis": 1987,
    "execution_start": 1658265912815,
    "id": "VNjQEtUUG4iI",
    "lines_to_next_cell": 1,
    "source_hash": "732528e1"
   },
   "outputs": [
    {
     "name": "stdout",
     "output_type": "stream",
     "text": [
      "313/313 [==============================] - 1s 1ms/step - loss: 0.3338 - accuracy: 0.8858\n"
     ]
    }
   ],
   "source": [
    "score_30 = nn_30.evaluate(test_images, test_labels)"
   ]
  },
  {
   "cell_type": "markdown",
   "id": "7320d46b",
   "metadata": {
    "cell_id": "00038-cd5f74ea-5496-47ae-be3c-7ee80a9a328e",
    "deepnote_cell_height": 180,
    "deepnote_cell_type": "markdown",
    "id": "Fs0fjzH4bmSR"
   },
   "source": [
    "Tu respuesta a la pregunta 8.3 aquí:  En realidad, se puede observar que epoch a epoch el valor de loss continúa bajando. Pese a ello, el valor resultado de la evaluación no se ve disminuido sustancialmente entre las redes de 15 y 30 epoch (a veces puede aumentar). Todo lo anterior indica que el logaritmo de la probabilidad de clasificación correcta disminuye con cada lote de datos que avanza en la red neuronal, pero en el total de los datos procesados este valor se estanca luego de determinado número epoch y luego es posible que aumente, señal de la existencia de overfit, es decir, la red neuronal memoriza pero no aprende."
   ]
  },
  {
   "cell_type": "markdown",
   "id": "d28e47b9",
   "metadata": {
    "cell_id": "00039-6f1c6c39-8b56-495b-b50e-51056f6931a7",
    "deepnote_cell_height": 287,
    "deepnote_cell_type": "markdown",
    "id": "HlIgNG4Yb_N6"
   },
   "source": [
    "# Ejercicio 6: Early stop\n",
    "En el ejercicio anterior, cuando entrenabas con epoch extras, tenías un problema en el que tu pérdida podía cambiar. Puede que te haya llevado un poco de tiempo esperar a que el entrenamiento lo hiciera,  y puede que hayas pensado \"¿no estaría bien si pudiera parar el entrenamiento cuando alcance un valor deseado?\", es decir, una precisión del 85% podría ser suficiente para ti, y si alcanzas eso después de 3 epoch, ¿por qué sentarte a esperar a que termine muchas más épocas? Como cualquier otro programa existen formas de parar la ejecución\n",
    "\n",
    "A partir del ejemplo de código que se da, hacer una nueva función que tenga en cuenta la perdida (loss) y que pueda parar el código para evitar que ocurra el efeto secundario que vimos en el ejercicio 5."
   ]
  },
  {
   "cell_type": "code",
   "execution_count": null,
   "id": "c1fede2c",
   "metadata": {
    "cell_id": "00040-e0714efc-00c7-4c14-9eb1-2c407371e5eb",
    "deepnote_cell_height": 189,
    "deepnote_cell_type": "code",
    "deepnote_to_be_reexecuted": true,
    "execution_millis": 1,
    "execution_start": 1656399485743,
    "id": "b5UwceFUG4ic",
    "source_hash": "b9ab19d5"
   },
   "outputs": [],
   "source": [
    "### Ejemplo de código\n",
    "\n",
    "class myCallback(tf.keras.callbacks.Callback):\n",
    "      def on_epoch_end(self, epoch, logs={}):\n",
    "        if(logs.get('accuracy')> 0.85):\n",
    "              print(\"\\nAlcanzado el 85% de precisión, se cancela el entrenamiento!!\")\n",
    "              self.model.stop_training = True"
   ]
  },
  {
   "cell_type": "markdown",
   "id": "0a8acb0a",
   "metadata": {
    "cell_id": "00041-ffc251c6-192d-4949-b985-904cb4a88b32",
    "deepnote_cell_height": 80,
    "deepnote_cell_type": "markdown",
    "id": "0Bjd8wGKccrn"
   },
   "source": [
    "**Pregunta 9 (2 puntos)**: Completa el siguiente código con una clase callback que una vez alcanzado el 40% de perdida detenga el entrenamiento."
   ]
  },
  {
   "cell_type": "code",
   "execution_count": 24,
   "id": "73dc8c66",
   "metadata": {
    "cell_id": "00042-40232d7d-2db7-42e4-ba08-11bd816a505f",
    "deepnote_cell_height": 598,
    "deepnote_cell_type": "code",
    "deepnote_output_heights": [
     null,
     27
    ],
    "deepnote_to_be_reexecuted": false,
    "execution_millis": 12880,
    "execution_start": 1658266102407,
    "id": "29LSfdOvc270",
    "owner_user_id": "41b68b99-1317-46a8-8d9f-507b7d8fe1ab",
    "source_hash": "5aaff402"
   },
   "outputs": [
    {
     "name": "stdout",
     "output_type": "stream",
     "text": [
      "2.9.1\n",
      "Epoch 1/50\n",
      "1868/1875 [============================>.] - ETA: 0s - loss: 0.4766 - accuracy: 0.8288\n",
      "Pérdida del 40%. Fin del entrenamiento.\n",
      "1875/1875 [==============================] - 11s 6ms/step - loss: 0.4765 - accuracy: 0.8288\n"
     ]
    },
    {
     "data": {
      "text/plain": [
       "<keras.callbacks.History at 0x7f432ccdfe50>"
      ]
     },
     "execution_count": 24,
     "metadata": {},
     "output_type": "execute_result"
    }
   ],
   "source": [
    "import tensorflow as tf\n",
    "print(tf.__version__)\n",
    "\n",
    "### Tu código de la función callback para parar el entrenamiento de la red neuronal al 40% de loss aqui: ###\n",
    "class myCallback(tf.keras.callbacks.Callback):\n",
    "    def on_epoch_end(self, epoch, logs={}):\n",
    "        if(logs.get('loss')>0.4):\n",
    "            print(\"\\nPérdida del 40%. Fin del entrenamiento.\")\n",
    "            self.model.stop_training = True\n",
    "\n",
    "callbacks = myCallback()\n",
    "mnist = tf.keras.datasets.fashion_mnist\n",
    "(training_images, training_labels) ,  (test_images, test_labels) = mnist.load_data()\n",
    "\n",
    "training_images = training_images/255.0\n",
    "test_images = test_images/255.0\n",
    "\n",
    "model = tf.keras.models.Sequential([tf.keras.layers.Flatten(),\n",
    "                                    tf.keras.layers.Dense(512, activation=tf.nn.relu),\n",
    "                                    tf.keras.layers.Dense(10, activation=tf.nn.softmax)])\n",
    "\n",
    "model.compile(optimizer = 'adam',\n",
    "              loss = 'sparse_categorical_crossentropy',\n",
    "              metrics=['accuracy']) \n",
    "\n",
    "model.fit(training_images, training_labels, epochs=50, callbacks=[callbacks])"
   ]
  },
  {
   "cell_type": "markdown",
   "id": "535fe0a8-f7d0-46ac-8c2b-fd99afbed1c9",
   "metadata": {},
   "source": [
    "# Conclusión\n",
    "\n",
    "En esta práctica se ha creado una red neuronal sencilla de una sola capa oculta. Se han ido cambiando los hiperparámetros de la red, con el objetivo de ver la repercusión de estos cambios en el aprendizaje de la red.\n",
    "\n",
    "Es importante decir que la práctica se comenzó a escribir en la plataforma de [My Binder](https://mybinder.org/v2/gl/genomorro%2Funir/SCA-A1?labpath=Actividad_1_master_IA_SCA.ipynb), pero se tuvieron problemas debido al limitado hardware que pone a disposición del usuario. Para hacer la práctica fue necesario que python detectara una tarjeta gráfica, proceso que el sistema realiza de manera automática. Lo anterior es relevante porque pese a la sencillez de la red implementada existió el problema, es posible suponer entonces que redes más complejas tendrán requisitos realmente elevados a nivel hardware, de ahí el uso de servicios en línea más profesionales.\n",
    "\n",
    "En tanto a los resultados, lo más notable es que aunque el resultado del notebook puede considerarse constante, pueden observarse ocasiones en donde hay una variación visible en los resultados, principalmente en las predicciones hechas por la red neuronal, dichas variaciones son comentadas en las respuestas presentadas en el documento.\n"
   ]
  }
 ],
 "metadata": {
  "deepnote": {},
  "deepnote_execution_queue": [],
  "deepnote_notebook_id": "42e97da4-8251-47b7-9753-7dbd34eba9e4",
  "kernelspec": {
   "display_name": "Python 3 (ipykernel)",
   "language": "python",
   "name": "python3"
  },
  "language_info": {
   "codemirror_mode": {
    "name": "ipython",
    "version": 3
   },
   "file_extension": ".py",
   "mimetype": "text/x-python",
   "name": "python",
   "nbconvert_exporter": "python",
   "pygments_lexer": "ipython3",
   "version": "3.7.12"
  }
 },
 "nbformat": 4,
 "nbformat_minor": 5
}
