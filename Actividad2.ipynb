{
 "cells": [
  {
   "cell_type": "markdown",
   "source": "G= (T, N, R,S)\n\nConjunto de terminales: T= {time, flies, arrow, an, like}\n\nConjunto de no terminales: N= {S, NP, VP, PP, Det, Nominal, Verb, Preposition, Noun}\n\nConjunto de reglas:\n\n R={\n\n S → NP VP\t\t\t\t0.800\n\n NP → time | flies | arrow\t\t0.002\n\n NP → Det Nominal\t\t\t0.300\n\n NP → Nominal Nominal\t\t0.200\n\n Nominal → time | flies | arrow\t0.002\n\n Nominal → Nominal Noun\t\t0.100\n\n Nominal → Nominal PP\t\t0.200\n\n VP → time\t\t\t\t0.004\n\n VP → flies| like\t\t\t0.008\n\n VP → Verb NP\t\t\t\t0.300\n\n VP → Verb PP\t\t\t\t0.200\n\n PP → Preposition NP\t\t\t0.100\n\n Verb → time\t\t\t\t0.010\n\n Verb → flies| like\t\t\t0.020\n\n Noun → time | flies | arrow\t\t0.010\n\n Det → an\t\t\t\t0.050\n\n Preposition → like\t\t\t0.050\n\n }\n ",
   "metadata": {
    "cell_id": "24009967c40f4394a3a5ee541f11cb59",
    "tags": [],
    "deepnote_cell_type": "markdown",
    "deepnote_cell_height": 913
   }
  },
  {
   "cell_type": "code",
   "source": "file_grammar = \"\"\"\nS -> NP VP\nNP -> Det Nominal\nNP -> Nominal Nominal\nNominal -> Nominal Noun\nNominal -> Nominal PP\nVP -> Verb NP\nVP -> Verb PP\nPP -> Preposition NP\n\"\"\"",
   "metadata": {
    "cell_id": "b32b518154b440439790cc631fca8675",
    "tags": [],
    "deepnote_to_be_reexecuted": false,
    "source_hash": "bf54f17d",
    "execution_start": 1658769828661,
    "execution_millis": 43314,
    "deepnote_cell_type": "code",
    "deepnote_cell_height": 243,
    "deepnote_output_heights": [
     27
    ]
   },
   "outputs": [],
   "execution_count": 1
  },
  {
   "cell_type": "markdown",
   "source": "Se crea el lexicón, de forma común, en lingüística se dice que un elemento del lexicón en la entrada de un diccionario, entonces se define como tal en el código.",
   "metadata": {
    "cell_id": "479bce7ebdca410db43f4ebe1cfebb25",
    "tags": [],
    "deepnote_cell_type": "markdown",
    "deepnote_cell_height": 80
   }
  },
  {
   "cell_type": "code",
   "source": "lexicon_dictionary = {\n    'NP': {'time', 'flies', 'arrow'},\n    'Nominal': {'time', 'flies', 'arrow'},\n    'VP': {'time', 'flies', 'like'},\n    'Verb': {'time', 'flies', 'like'},\n    'Noun': {'time', 'flies', 'arrow'},\n    'Det': {'an'},\n    'Preposition': {'like'}\n}",
   "metadata": {
    "cell_id": "6b541fb5e70b4e3a9d8609bb05fed305",
    "tags": [],
    "deepnote_to_be_reexecuted": false,
    "source_hash": "4d304a3a",
    "execution_start": 1658769828662,
    "execution_millis": 43338,
    "deepnote_cell_type": "code",
    "deepnote_cell_height": 225,
    "deepnote_output_heights": [
     177
    ]
   },
   "outputs": [],
   "execution_count": 2
  },
  {
   "cell_type": "code",
   "source": "def grammar_rules(grammar_buffer):\n    rules = []\n    # leer cada línea del texto\n    for line in grammar_buffer.strip().split(\"\\n\"):\n        # separar cada línea en sus dos miembros\n        parent, chidren = line.strip().split(\"->\")\n        # Quitar espacio en blanco posterior\n        parent = parent.strip()\n        # Distinguir los hijos\n        chidren = chidren.split()\n        #crear la regla (parent, (c1, c2)) como en lisp ;)\n        rule = (parent, tuple(chidren))\n        rules.append(rule)\n    # Crear un diccionario con las reglas invertidas, eso permite buscar al nodo padre\n    find_parent = dict()\n    for parent, (lc, rc) in rules:\n        # Si no existe la entrada, se crea\n        if (lc, rc) not in find_parent:\n            find_parent[lc, rc] = []\n        # Se agrega el caso\n        find_parent[lc,rc].append(parent)\n    return find_parent\n\n#parents = set(val[0] for val in list(find_parent.values()))\n#for i in list(lexicon.keys()):\n#    parents.add(i)\n",
   "metadata": {
    "cell_id": "04460b36a83b48a389171450e1d61513",
    "tags": [],
    "deepnote_to_be_reexecuted": false,
    "source_hash": "27357934",
    "execution_start": 1658769828662,
    "execution_millis": 43373,
    "deepnote_cell_type": "code",
    "deepnote_cell_height": 549
   },
   "outputs": [],
   "execution_count": 3
  },
  {
   "cell_type": "code",
   "source": "def cky_parser(sentence, grammar, lexicon, verbose=False):\n    words = sentence.lower().split()\n    if verbose:\n        print(words)\n    matrix_cky = {}\n    for i in range(len(words)):\n        # Las ordenadas van del 0 al 4\n        ordinate = 0\n        if verbose:\n            print(\"0: i=\",i)\n        # Las abscisas van de 1 a 5\n        for abscissa in range(i+1, len(words)+1):\n            # Se agrega una celda\n            matrix_cky[(ordinate, abscissa)] = []\n            if verbose:\n                print(\"1: abscissa=\",abscissa,\"ordinate=\",ordinate,\"a-o=\",abscissa-ordinate)\n            # Si se opera sobre la diagonal\n            if(abscissa-ordinate==1):\n                # Combina la palabra con las categorías del lexicón\n                for key in lexicon_dictionary:\n                    if verbose:\n                        print(\"2: key=\",key,\"word=\",words[ordinate])\n                    # Si la combinación existe en el lexicón se agrega a la matriz\n                    if(words[ordinate] in lexicon[key]):\n                        matrix_cky[(ordinate,abscissa)].append((key,0,words[ordinate],words[ordinate]))\n                        if verbose:\n                            print(\"2:\",matrix_cky)\n            # Si hay que operar sobre dos celdas\n            elif(abscissa-ordinate>1):\n                if verbose:\n                    print(\"3:\",\"(\",ordinate,\",\",abscissa,\")\")\n                # Obtener los valores de las celdas\n                for index in range(abscissa-ordinate-1):\n                    left = matrix_cky[(ordinate,abscissa-1-index)]\n                    down = matrix_cky[(abscissa-1-index,abscissa)]\n                    if verbose:\n                        print(\"4: index=\",index)\n                        print(\"4: left=\",left,\"\\n  \",\"down=\",down)\n                    # Si una de las celdas esta vacía no se hace nada\n                    if not left or not down:\n                        if verbose:\n                            print(\"5: Nothing to do\")\n                    else:\n                        # Combinar los valores de las celdas\n                        for a in left:\n                            for b in down:\n                                # Obtiene el primer elemento de la tupla\n                                # Crea la tupla para buscarla en las reglas\n                                if((a[0],b[0]) in grammar):\n                                    matrix_cky[(ordinate,abscissa)].append(\n                                        (grammar[(a[0],b[0])][0],\n                                        abscissa-1-index,a[0],b[0])\n                                        )\n                                    if verbose:\n                                        print(\"6: add=\",grammar[(a[0],b[0])][0],abscissa-1-index,a[0],b[0])\n                                else:\n                                    if verbose:\n                                        print(\"6: Nothing to do\")\n            if verbose:\n                print(matrix_cky)\n                print(\"9: Next Ordinate\")\n            ordinate+=1\n    return matrix_cky",
   "metadata": {
    "cell_id": "2029ee31918d4ebc929da11c49765dd8",
    "tags": [],
    "deepnote_to_be_reexecuted": false,
    "source_hash": "90a496e9",
    "execution_start": 1658769828663,
    "execution_millis": 12,
    "output_cleared": true,
    "deepnote_cell_type": "code",
    "deepnote_cell_height": 1197,
    "deepnote_output_heights": [
     102,
     252
    ]
   },
   "outputs": [],
   "execution_count": 4
  },
  {
   "cell_type": "code",
   "source": "sentence = \"Time flies like an arrow\"\ngrammar = grammar_rules(file_grammar)\ncky = cky_parser(sentence, grammar, lexicon_dictionary, True)",
   "metadata": {
    "cell_id": "3b1f8fc9c5a447e1af9028ca893e7d0f",
    "tags": [],
    "deepnote_to_be_reexecuted": false,
    "source_hash": "15c492ca",
    "execution_start": 1658769828691,
    "execution_millis": 34,
    "output_cleared": false,
    "deepnote_cell_type": "code",
    "deepnote_cell_height": 737,
    "deepnote_output_heights": [
     227,
     377
    ]
   },
   "outputs": [
    {
     "name": "stdout",
     "text": "['time', 'flies', 'like', 'an', 'arrow']\n0: i= 0\n1: abscissa= 1 ordinate= 0 a-o= 1\n2: key= NP word= time\n2: {(0, 1): [('NP', 0, 'time', 'time')]}\n2: key= Nominal word= time\n2: {(0, 1): [('NP', 0, 'time', 'time'), ('Nominal', 0, 'time', 'time')]}\n2: key= VP word= time\n2: {(0, 1): [('NP', 0, 'time', 'time'), ('Nominal', 0, 'time', 'time'), ('VP', 0, 'time', 'time')]}\n2: key= Verb word= time\n2: {(0, 1): [('NP', 0, 'time', 'time'), ('Nominal', 0, 'time', 'time'), ('VP', 0, 'time', 'time'), ('Verb', 0, 'time', 'time')]}\n2: key= Noun word= time\n2: {(0, 1): [('NP', 0, 'time', 'time'), ('Nominal', 0, 'time', 'time'), ('VP', 0, 'time', 'time'), ('Verb', 0, 'time', 'time'), ('Noun', 0, 'time', 'time')]}\n2: key= Det word= time\n2: key= Preposition word= time\n{(0, 1): [('NP', 0, 'time', 'time'), ('Nominal', 0, 'time', 'time'), ('VP', 0, 'time', 'time'), ('Verb', 0, 'time', 'time'), ('Noun', 0, 'time', 'time')]}\n9: Next Ordinate\n1: abscissa= 2 ordinate= 1 a-o= 1\n2: key= NP word= flies\n2: {(0, 1): [('NP', 0, 'time', 'time'), ('Nominal', 0, 'time', 'time'), ('VP', 0, 'time', 'time'), ('Verb', 0, 'time', 'time'), ('Noun', 0, 'time', 'time')], (1, 2): [('NP', 0, 'flies', 'flies')]}\n2: key= Nominal word= flies\n2: {(0, 1): [('NP', 0, 'time', 'time'), ('Nominal', 0, 'time', 'time'), ('VP', 0, 'time', 'time'), ('Verb', 0, 'time', 'time'), ('Noun', 0, 'time', 'time')], (1, 2): [('NP', 0, 'flies', 'flies'), ('Nominal', 0, 'flies', 'flies')]}\n2: key= VP word= flies\n2: {(0, 1): [('NP', 0, 'time', 'time'), ('Nominal', 0, 'time', 'time'), ('VP', 0, 'time', 'time'), ('Verb', 0, 'time', 'time'), ('Noun', 0, 'time', 'time')], (1, 2): [('NP', 0, 'flies', 'flies'), ('Nominal', 0, 'flies', 'flies'), ('VP', 0, 'flies', 'flies')]}\n2: key= Verb word= flies\n2: {(0, 1): [('NP', 0, 'time', 'time'), ('Nominal', 0, 'time', 'time'), ('VP', 0, 'time', 'time'), ('Verb', 0, 'time', 'time'), ('Noun', 0, 'time', 'time')], (1, 2): [('NP', 0, 'flies', 'flies'), ('Nominal', 0, 'flies', 'flies'), ('VP', 0, 'flies', 'flies'), ('Verb', 0, 'flies', 'flies')]}\n2: key= Noun word= flies\n2: {(0, 1): [('NP', 0, 'time', 'time'), ('Nominal', 0, 'time', 'time'), ('VP', 0, 'time', 'time'), ('Verb', 0, 'time', 'time'), ('Noun', 0, 'time', 'time')], (1, 2): [('NP', 0, 'flies', 'flies'), ('Nominal', 0, 'flies', 'flies'), ('VP', 0, 'flies', 'flies'), ('Verb', 0, 'flies', 'flies'), ('Noun', 0, 'flies', 'flies')]}\n2: key= Det word= flies\n2: key= Preposition word= flies\n{(0, 1): [('NP', 0, 'time', 'time'), ('Nominal', 0, 'time', 'time'), ('VP', 0, 'time', 'time'), ('Verb', 0, 'time', 'time'), ('Noun', 0, 'time', 'time')], (1, 2): [('NP', 0, 'flies', 'flies'), ('Nominal', 0, 'flies', 'flies'), ('VP', 0, 'flies', 'flies'), ('Verb', 0, 'flies', 'flies'), ('Noun', 0, 'flies', 'flies')]}\n9: Next Ordinate\n1: abscissa= 3 ordinate= 2 a-o= 1\n2: key= NP word= like\n2: key= Nominal word= like\n2: key= VP word= like\n2: {(0, 1): [('NP', 0, 'time', 'time'), ('Nominal', 0, 'time', 'time'), ('VP', 0, 'time', 'time'), ('Verb', 0, 'time', 'time'), ('Noun', 0, 'time', 'time')], (1, 2): [('NP', 0, 'flies', 'flies'), ('Nominal', 0, 'flies', 'flies'), ('VP', 0, 'flies', 'flies'), ('Verb', 0, 'flies', 'flies'), ('Noun', 0, 'flies', 'flies')], (2, 3): [('VP', 0, 'like', 'like')]}\n2: key= Verb word= like\n2: {(0, 1): [('NP', 0, 'time', 'time'), ('Nominal', 0, 'time', 'time'), ('VP', 0, 'time', 'time'), ('Verb', 0, 'time', 'time'), ('Noun', 0, 'time', 'time')], (1, 2): [('NP', 0, 'flies', 'flies'), ('Nominal', 0, 'flies', 'flies'), ('VP', 0, 'flies', 'flies'), ('Verb', 0, 'flies', 'flies'), ('Noun', 0, 'flies', 'flies')], (2, 3): [('VP', 0, 'like', 'like'), ('Verb', 0, 'like', 'like')]}\n2: key= Noun word= like\n2: key= Det word= like\n2: key= Preposition word= like\n2: {(0, 1): [('NP', 0, 'time', 'time'), ('Nominal', 0, 'time', 'time'), ('VP', 0, 'time', 'time'), ('Verb', 0, 'time', 'time'), ('Noun', 0, 'time', 'time')], (1, 2): [('NP', 0, 'flies', 'flies'), ('Nominal', 0, 'flies', 'flies'), ('VP', 0, 'flies', 'flies'), ('Verb', 0, 'flies', 'flies'), ('Noun', 0, 'flies', 'flies')], (2, 3): [('VP', 0, 'like', 'like'), ('Verb', 0, 'like', 'like'), ('Preposition', 0, 'like', 'like')]}\n{(0, 1): [('NP', 0, 'time', 'time'), ('Nominal', 0, 'time', 'time'), ('VP', 0, 'time', 'time'), ('Verb', 0, 'time', 'time'), ('Noun', 0, 'time', 'time')], (1, 2): [('NP', 0, 'flies', 'flies'), ('Nominal', 0, 'flies', 'flies'), ('VP', 0, 'flies', 'flies'), ('Verb', 0, 'flies', 'flies'), ('Noun', 0, 'flies', 'flies')], (2, 3): [('VP', 0, 'like', 'like'), ('Verb', 0, 'like', 'like'), ('Preposition', 0, 'like', 'like')]}\n9: Next Ordinate\n1: abscissa= 4 ordinate= 3 a-o= 1\n2: key= NP word= an\n2: key= Nominal word= an\n2: key= VP word= an\n2: key= Verb word= an\n2: key= Noun word= an\n2: key= Det word= an\n2: {(0, 1): [('NP', 0, 'time', 'time'), ('Nominal', 0, 'time', 'time'), ('VP', 0, 'time', 'time'), ('Verb', 0, 'time', 'time'), ('Noun', 0, 'time', 'time')], (1, 2): [('NP', 0, 'flies', 'flies'), ('Nominal', 0, 'flies', 'flies'), ('VP', 0, 'flies', 'flies'), ('Verb', 0, 'flies', 'flies'), ('Noun', 0, 'flies', 'flies')], (2, 3): [('VP', 0, 'like', 'like'), ('Verb', 0, 'like', 'like'), ('Preposition', 0, 'like', 'like')], (3, 4): [('Det', 0, 'an', 'an')]}\n2: key= Preposition word= an\n{(0, 1): [('NP', 0, 'time', 'time'), ('Nominal', 0, 'time', 'time'), ('VP', 0, 'time', 'time'), ('Verb', 0, 'time', 'time'), ('Noun', 0, 'time', 'time')], (1, 2): [('NP', 0, 'flies', 'flies'), ('Nominal', 0, 'flies', 'flies'), ('VP', 0, 'flies', 'flies'), ('Verb', 0, 'flies', 'flies'), ('Noun', 0, 'flies', 'flies')], (2, 3): [('VP', 0, 'like', 'like'), ('Verb', 0, 'like', 'like'), ('Preposition', 0, 'like', 'like')], (3, 4): [('Det', 0, 'an', 'an')]}\n9: Next Ordinate\n1: abscissa= 5 ordinate= 4 a-o= 1\n2: key= NP word= arrow\n2: {(0, 1): [('NP', 0, 'time', 'time'), ('Nominal', 0, 'time', 'time'), ('VP', 0, 'time', 'time'), ('Verb', 0, 'time', 'time'), ('Noun', 0, 'time', 'time')], (1, 2): [('NP', 0, 'flies', 'flies'), ('Nominal', 0, 'flies', 'flies'), ('VP', 0, 'flies', 'flies'), ('Verb', 0, 'flies', 'flies'), ('Noun', 0, 'flies', 'flies')], (2, 3): [('VP', 0, 'like', 'like'), ('Verb', 0, 'like', 'like'), ('Preposition', 0, 'like', 'like')], (3, 4): [('Det', 0, 'an', 'an')], (4, 5): [('NP', 0, 'arrow', 'arrow')]}\n2: key= Nominal word= arrow\n2: {(0, 1): [('NP', 0, 'time', 'time'), ('Nominal', 0, 'time', 'time'), ('VP', 0, 'time', 'time'), ('Verb', 0, 'time', 'time'), ('Noun', 0, 'time', 'time')], (1, 2): [('NP', 0, 'flies', 'flies'), ('Nominal', 0, 'flies', 'flies'), ('VP', 0, 'flies', 'flies'), ('Verb', 0, 'flies', 'flies'), ('Noun', 0, 'flies', 'flies')], (2, 3): [('VP', 0, 'like', 'like'), ('Verb', 0, 'like', 'like'), ('Preposition', 0, 'like', 'like')], (3, 4): [('Det', 0, 'an', 'an')], (4, 5): [('NP', 0, 'arrow', 'arrow'), ('Nominal', 0, 'arrow', 'arrow')]}\n2: key= VP word= arrow\n2: key= Verb word= arrow\n2: key= Noun word= arrow\n2: {(0, 1): [('NP', 0, 'time', 'time'), ('Nominal', 0, 'time', 'time'), ('VP', 0, 'time', 'time'), ('Verb', 0, 'time', 'time'), ('Noun', 0, 'time', 'time')], (1, 2): [('NP', 0, 'flies', 'flies'), ('Nominal', 0, 'flies', 'flies'), ('VP', 0, 'flies', 'flies'), ('Verb', 0, 'flies', 'flies'), ('Noun', 0, 'flies', 'flies')], (2, 3): [('VP', 0, 'like', 'like'), ('Verb', 0, 'like', 'like'), ('Preposition', 0, 'like', 'like')], (3, 4): [('Det', 0, 'an', 'an')], (4, 5): [('NP', 0, 'arrow', 'arrow'), ('Nominal', 0, 'arrow', 'arrow'), ('Noun', 0, 'arrow', 'arrow')]}\n2: key= Det word= arrow\n2: key= Preposition word= arrow\n{(0, 1): [('NP', 0, 'time', 'time'), ('Nominal', 0, 'time', 'time'), ('VP', 0, 'time', 'time'), ('Verb', 0, 'time', 'time'), ('Noun', 0, 'time', 'time')], (1, 2): [('NP', 0, 'flies', 'flies'), ('Nominal', 0, 'flies', 'flies'), ('VP', 0, 'flies', 'flies'), ('Verb', 0, 'flies', 'flies'), ('Noun', 0, 'flies', 'flies')], (2, 3): [('VP', 0, 'like', 'like'), ('Verb', 0, 'like', 'like'), ('Preposition', 0, 'like', 'like')], (3, 4): [('Det', 0, 'an', 'an')], (4, 5): [('NP', 0, 'arrow', 'arrow'), ('Nominal', 0, 'arrow', 'arrow'), ('Noun', 0, 'arrow', 'arrow')]}\n9: Next Ordinate\n0: i= 1\n1: abscissa= 2 ordinate= 0 a-o= 2\n3: ( 0 , 2 )\n4: index= 0\n4: left= [('NP', 0, 'time', 'time'), ('Nominal', 0, 'time', 'time'), ('VP', 0, 'time', 'time'), ('Verb', 0, 'time', 'time'), ('Noun', 0, 'time', 'time')] \n   down= [('NP', 0, 'flies', 'flies'), ('Nominal', 0, 'flies', 'flies'), ('VP', 0, 'flies', 'flies'), ('Verb', 0, 'flies', 'flies'), ('Noun', 0, 'flies', 'flies')]\n6: Nothing to do\n6: Nothing to do\n6: add= S 1 NP VP\n6: Nothing to do\n6: Nothing to do\n6: Nothing to do\n6: add= NP 1 Nominal Nominal\n6: Nothing to do\n6: Nothing to do\n6: add= Nominal 1 Nominal Noun\n6: Nothing to do\n6: Nothing to do\n6: Nothing to do\n6: Nothing to do\n6: Nothing to do\n6: add= VP 1 Verb NP\n6: Nothing to do\n6: Nothing to do\n6: Nothing to do\n6: Nothing to do\n6: Nothing to do\n6: Nothing to do\n6: Nothing to do\n6: Nothing to do\n6: Nothing to do\n{(0, 1): [('NP', 0, 'time', 'time'), ('Nominal', 0, 'time', 'time'), ('VP', 0, 'time', 'time'), ('Verb', 0, 'time', 'time'), ('Noun', 0, 'time', 'time')], (1, 2): [('NP', 0, 'flies', 'flies'), ('Nominal', 0, 'flies', 'flies'), ('VP', 0, 'flies', 'flies'), ('Verb', 0, 'flies', 'flies'), ('Noun', 0, 'flies', 'flies')], (2, 3): [('VP', 0, 'like', 'like'), ('Verb', 0, 'like', 'like'), ('Preposition', 0, 'like', 'like')], (3, 4): [('Det', 0, 'an', 'an')], (4, 5): [('NP', 0, 'arrow', 'arrow'), ('Nominal', 0, 'arrow', 'arrow'), ('Noun', 0, 'arrow', 'arrow')], (0, 2): [('S', 1, 'NP', 'VP'), ('NP', 1, 'Nominal', 'Nominal'), ('Nominal', 1, 'Nominal', 'Noun'), ('VP', 1, 'Verb', 'NP')]}\n9: Next Ordinate\n1: abscissa= 3 ordinate= 1 a-o= 2\n3: ( 1 , 3 )\n4: index= 0\n4: left= [('NP', 0, 'flies', 'flies'), ('Nominal', 0, 'flies', 'flies'), ('VP', 0, 'flies', 'flies'), ('Verb', 0, 'flies', 'flies'), ('Noun', 0, 'flies', 'flies')] \n   down= [('VP', 0, 'like', 'like'), ('Verb', 0, 'like', 'like'), ('Preposition', 0, 'like', 'like')]\n6: add= S 2 NP VP\n6: Nothing to do\n6: Nothing to do\n6: Nothing to do\n6: Nothing to do\n6: Nothing to do\n6: Nothing to do\n6: Nothing to do\n6: Nothing to do\n6: Nothing to do\n6: Nothing to do\n6: Nothing to do\n6: Nothing to do\n6: Nothing to do\n6: Nothing to do\n{(0, 1): [('NP', 0, 'time', 'time'), ('Nominal', 0, 'time', 'time'), ('VP', 0, 'time', 'time'), ('Verb', 0, 'time', 'time'), ('Noun', 0, 'time', 'time')], (1, 2): [('NP', 0, 'flies', 'flies'), ('Nominal', 0, 'flies', 'flies'), ('VP', 0, 'flies', 'flies'), ('Verb', 0, 'flies', 'flies'), ('Noun', 0, 'flies', 'flies')], (2, 3): [('VP', 0, 'like', 'like'), ('Verb', 0, 'like', 'like'), ('Preposition', 0, 'like', 'like')], (3, 4): [('Det', 0, 'an', 'an')], (4, 5): [('NP', 0, 'arrow', 'arrow'), ('Nominal', 0, 'arrow', 'arrow'), ('Noun', 0, 'arrow', 'arrow')], (0, 2): [('S', 1, 'NP', 'VP'), ('NP', 1, 'Nominal', 'Nominal'), ('Nominal', 1, 'Nominal', 'Noun'), ('VP', 1, 'Verb', 'NP')], (1, 3): [('S', 2, 'NP', 'VP')]}\n9: Next Ordinate\n1: abscissa= 4 ordinate= 2 a-o= 2\n3: ( 2 , 4 )\n4: index= 0\n4: left= [('VP', 0, 'like', 'like'), ('Verb', 0, 'like', 'like'), ('Preposition', 0, 'like', 'like')] \n   down= [('Det', 0, 'an', 'an')]\n6: Nothing to do\n6: Nothing to do\n6: Nothing to do\n{(0, 1): [('NP', 0, 'time', 'time'), ('Nominal', 0, 'time', 'time'), ('VP', 0, 'time', 'time'), ('Verb', 0, 'time', 'time'), ('Noun', 0, 'time', 'time')], (1, 2): [('NP', 0, 'flies', 'flies'), ('Nominal', 0, 'flies', 'flies'), ('VP', 0, 'flies', 'flies'), ('Verb', 0, 'flies', 'flies'), ('Noun', 0, 'flies', 'flies')], (2, 3): [('VP', 0, 'like', 'like'), ('Verb', 0, 'like', 'like'), ('Preposition', 0, 'like', 'like')], (3, 4): [('Det', 0, 'an', 'an')], (4, 5): [('NP', 0, 'arrow', 'arrow'), ('Nominal', 0, 'arrow', 'arrow'), ('Noun', 0, 'arrow', 'arrow')], (0, 2): [('S', 1, 'NP', 'VP'), ('NP', 1, 'Nominal', 'Nominal'), ('Nominal', 1, 'Nominal', 'Noun'), ('VP', 1, 'Verb', 'NP')], (1, 3): [('S', 2, 'NP', 'VP')], (2, 4): []}\n9: Next Ordinate\n1: abscissa= 5 ordinate= 3 a-o= 2\n3: ( 3 , 5 )\n4: index= 0\n4: left= [('Det', 0, 'an', 'an')] \n   down= [('NP', 0, 'arrow', 'arrow'), ('Nominal', 0, 'arrow', 'arrow'), ('Noun', 0, 'arrow', 'arrow')]\n6: Nothing to do\n6: add= NP 4 Det Nominal\n6: Nothing to do\n{(0, 1): [('NP', 0, 'time', 'time'), ('Nominal', 0, 'time', 'time'), ('VP', 0, 'time', 'time'), ('Verb', 0, 'time', 'time'), ('Noun', 0, 'time', 'time')], (1, 2): [('NP', 0, 'flies', 'flies'), ('Nominal', 0, 'flies', 'flies'), ('VP', 0, 'flies', 'flies'), ('Verb', 0, 'flies', 'flies'), ('Noun', 0, 'flies', 'flies')], (2, 3): [('VP', 0, 'like', 'like'), ('Verb', 0, 'like', 'like'), ('Preposition', 0, 'like', 'like')], (3, 4): [('Det', 0, 'an', 'an')], (4, 5): [('NP', 0, 'arrow', 'arrow'), ('Nominal', 0, 'arrow', 'arrow'), ('Noun', 0, 'arrow', 'arrow')], (0, 2): [('S', 1, 'NP', 'VP'), ('NP', 1, 'Nominal', 'Nominal'), ('Nominal', 1, 'Nominal', 'Noun'), ('VP', 1, 'Verb', 'NP')], (1, 3): [('S', 2, 'NP', 'VP')], (2, 4): [], (3, 5): [('NP', 4, 'Det', 'Nominal')]}\n9: Next Ordinate\n0: i= 2\n1: abscissa= 3 ordinate= 0 a-o= 3\n3: ( 0 , 3 )\n4: index= 0\n4: left= [('S', 1, 'NP', 'VP'), ('NP', 1, 'Nominal', 'Nominal'), ('Nominal', 1, 'Nominal', 'Noun'), ('VP', 1, 'Verb', 'NP')] \n   down= [('VP', 0, 'like', 'like'), ('Verb', 0, 'like', 'like'), ('Preposition', 0, 'like', 'like')]\n6: Nothing to do\n6: Nothing to do\n6: Nothing to do\n6: add= S 2 NP VP\n6: Nothing to do\n6: Nothing to do\n6: Nothing to do\n6: Nothing to do\n6: Nothing to do\n6: Nothing to do\n6: Nothing to do\n6: Nothing to do\n4: index= 1\n4: left= [('NP', 0, 'time', 'time'), ('Nominal', 0, 'time', 'time'), ('VP', 0, 'time', 'time'), ('Verb', 0, 'time', 'time'), ('Noun', 0, 'time', 'time')] \n   down= [('S', 2, 'NP', 'VP')]\n6: Nothing to do\n6: Nothing to do\n6: Nothing to do\n6: Nothing to do\n6: Nothing to do\n{(0, 1): [('NP', 0, 'time', 'time'), ('Nominal', 0, 'time', 'time'), ('VP', 0, 'time', 'time'), ('Verb', 0, 'time', 'time'), ('Noun', 0, 'time', 'time')], (1, 2): [('NP', 0, 'flies', 'flies'), ('Nominal', 0, 'flies', 'flies'), ('VP', 0, 'flies', 'flies'), ('Verb', 0, 'flies', 'flies'), ('Noun', 0, 'flies', 'flies')], (2, 3): [('VP', 0, 'like', 'like'), ('Verb', 0, 'like', 'like'), ('Preposition', 0, 'like', 'like')], (3, 4): [('Det', 0, 'an', 'an')], (4, 5): [('NP', 0, 'arrow', 'arrow'), ('Nominal', 0, 'arrow', 'arrow'), ('Noun', 0, 'arrow', 'arrow')], (0, 2): [('S', 1, 'NP', 'VP'), ('NP', 1, 'Nominal', 'Nominal'), ('Nominal', 1, 'Nominal', 'Noun'), ('VP', 1, 'Verb', 'NP')], (1, 3): [('S', 2, 'NP', 'VP')], (2, 4): [], (3, 5): [('NP', 4, 'Det', 'Nominal')], (0, 3): [('S', 2, 'NP', 'VP')]}\n9: Next Ordinate\n1: abscissa= 4 ordinate= 1 a-o= 3\n3: ( 1 , 4 )\n4: index= 0\n4: left= [('S', 2, 'NP', 'VP')] \n   down= [('Det', 0, 'an', 'an')]\n6: Nothing to do\n4: index= 1\n4: left= [('NP', 0, 'flies', 'flies'), ('Nominal', 0, 'flies', 'flies'), ('VP', 0, 'flies', 'flies'), ('Verb', 0, 'flies', 'flies'), ('Noun', 0, 'flies', 'flies')] \n   down= []\n5: Nothing to do\n{(0, 1): [('NP', 0, 'time', 'time'), ('Nominal', 0, 'time', 'time'), ('VP', 0, 'time', 'time'), ('Verb', 0, 'time', 'time'), ('Noun', 0, 'time', 'time')], (1, 2): [('NP', 0, 'flies', 'flies'), ('Nominal', 0, 'flies', 'flies'), ('VP', 0, 'flies', 'flies'), ('Verb', 0, 'flies', 'flies'), ('Noun', 0, 'flies', 'flies')], (2, 3): [('VP', 0, 'like', 'like'), ('Verb', 0, 'like', 'like'), ('Preposition', 0, 'like', 'like')], (3, 4): [('Det', 0, 'an', 'an')], (4, 5): [('NP', 0, 'arrow', 'arrow'), ('Nominal', 0, 'arrow', 'arrow'), ('Noun', 0, 'arrow', 'arrow')], (0, 2): [('S', 1, 'NP', 'VP'), ('NP', 1, 'Nominal', 'Nominal'), ('Nominal', 1, 'Nominal', 'Noun'), ('VP', 1, 'Verb', 'NP')], (1, 3): [('S', 2, 'NP', 'VP')], (2, 4): [], (3, 5): [('NP', 4, 'Det', 'Nominal')], (0, 3): [('S', 2, 'NP', 'VP')], (1, 4): []}\n9: Next Ordinate\n1: abscissa= 5 ordinate= 2 a-o= 3\n3: ( 2 , 5 )\n4: index= 0\n4: left= [] \n   down= [('NP', 0, 'arrow', 'arrow'), ('Nominal', 0, 'arrow', 'arrow'), ('Noun', 0, 'arrow', 'arrow')]\n5: Nothing to do\n4: index= 1\n4: left= [('VP', 0, 'like', 'like'), ('Verb', 0, 'like', 'like'), ('Preposition', 0, 'like', 'like')] \n   down= [('NP', 4, 'Det', 'Nominal')]\n6: Nothing to do\n6: add= VP 3 Verb NP\n6: add= PP 3 Preposition NP\n{(0, 1): [('NP', 0, 'time', 'time'), ('Nominal', 0, 'time', 'time'), ('VP', 0, 'time', 'time'), ('Verb', 0, 'time', 'time'), ('Noun', 0, 'time', 'time')], (1, 2): [('NP', 0, 'flies', 'flies'), ('Nominal', 0, 'flies', 'flies'), ('VP', 0, 'flies', 'flies'), ('Verb', 0, 'flies', 'flies'), ('Noun', 0, 'flies', 'flies')], (2, 3): [('VP', 0, 'like', 'like'), ('Verb', 0, 'like', 'like'), ('Preposition', 0, 'like', 'like')], (3, 4): [('Det', 0, 'an', 'an')], (4, 5): [('NP', 0, 'arrow', 'arrow'), ('Nominal', 0, 'arrow', 'arrow'), ('Noun', 0, 'arrow', 'arrow')], (0, 2): [('S', 1, 'NP', 'VP'), ('NP', 1, 'Nominal', 'Nominal'), ('Nominal', 1, 'Nominal', 'Noun'), ('VP', 1, 'Verb', 'NP')], (1, 3): [('S', 2, 'NP', 'VP')], (2, 4): [], (3, 5): [('NP', 4, 'Det', 'Nominal')], (0, 3): [('S', 2, 'NP', 'VP')], (1, 4): [], (2, 5): [('VP', 3, 'Verb', 'NP'), ('PP', 3, 'Preposition', 'NP')]}\n9: Next Ordinate\n0: i= 3\n1: abscissa= 4 ordinate= 0 a-o= 4\n3: ( 0 , 4 )\n4: index= 0\n4: left= [('S', 2, 'NP', 'VP')] \n   down= [('Det', 0, 'an', 'an')]\n6: Nothing to do\n4: index= 1\n4: left= [('S', 1, 'NP', 'VP'), ('NP', 1, 'Nominal', 'Nominal'), ('Nominal', 1, 'Nominal', 'Noun'), ('VP', 1, 'Verb', 'NP')] \n   down= []\n5: Nothing to do\n4: index= 2\n4: left= [('NP', 0, 'time', 'time'), ('Nominal', 0, 'time', 'time'), ('VP', 0, 'time', 'time'), ('Verb', 0, 'time', 'time'), ('Noun', 0, 'time', 'time')] \n   down= []\n5: Nothing to do\n{(0, 1): [('NP', 0, 'time', 'time'), ('Nominal', 0, 'time', 'time'), ('VP', 0, 'time', 'time'), ('Verb', 0, 'time', 'time'), ('Noun', 0, 'time', 'time')], (1, 2): [('NP', 0, 'flies', 'flies'), ('Nominal', 0, 'flies', 'flies'), ('VP', 0, 'flies', 'flies'), ('Verb', 0, 'flies', 'flies'), ('Noun', 0, 'flies', 'flies')], (2, 3): [('VP', 0, 'like', 'like'), ('Verb', 0, 'like', 'like'), ('Preposition', 0, 'like', 'like')], (3, 4): [('Det', 0, 'an', 'an')], (4, 5): [('NP', 0, 'arrow', 'arrow'), ('Nominal', 0, 'arrow', 'arrow'), ('Noun', 0, 'arrow', 'arrow')], (0, 2): [('S', 1, 'NP', 'VP'), ('NP', 1, 'Nominal', 'Nominal'), ('Nominal', 1, 'Nominal', 'Noun'), ('VP', 1, 'Verb', 'NP')], (1, 3): [('S', 2, 'NP', 'VP')], (2, 4): [], (3, 5): [('NP', 4, 'Det', 'Nominal')], (0, 3): [('S', 2, 'NP', 'VP')], (1, 4): [], (2, 5): [('VP', 3, 'Verb', 'NP'), ('PP', 3, 'Preposition', 'NP')], (0, 4): []}\n9: Next Ordinate\n1: abscissa= 5 ordinate= 1 a-o= 4\n3: ( 1 , 5 )\n4: index= 0\n4: left= [] \n   down= [('NP', 0, 'arrow', 'arrow'), ('Nominal', 0, 'arrow', 'arrow'), ('Noun', 0, 'arrow', 'arrow')]\n5: Nothing to do\n4: index= 1\n4: left= [('S', 2, 'NP', 'VP')] \n   down= [('NP', 4, 'Det', 'Nominal')]\n6: Nothing to do\n4: index= 2\n4: left= [('NP', 0, 'flies', 'flies'), ('Nominal', 0, 'flies', 'flies'), ('VP', 0, 'flies', 'flies'), ('Verb', 0, 'flies', 'flies'), ('Noun', 0, 'flies', 'flies')] \n   down= [('VP', 3, 'Verb', 'NP'), ('PP', 3, 'Preposition', 'NP')]\n6: add= S 2 NP VP\n6: Nothing to do\n6: Nothing to do\n6: add= Nominal 2 Nominal PP\n6: Nothing to do\n6: Nothing to do\n6: Nothing to do\n6: add= VP 2 Verb PP\n6: Nothing to do\n6: Nothing to do\n{(0, 1): [('NP', 0, 'time', 'time'), ('Nominal', 0, 'time', 'time'), ('VP', 0, 'time', 'time'), ('Verb', 0, 'time', 'time'), ('Noun', 0, 'time', 'time')], (1, 2): [('NP', 0, 'flies', 'flies'), ('Nominal', 0, 'flies', 'flies'), ('VP', 0, 'flies', 'flies'), ('Verb', 0, 'flies', 'flies'), ('Noun', 0, 'flies', 'flies')], (2, 3): [('VP', 0, 'like', 'like'), ('Verb', 0, 'like', 'like'), ('Preposition', 0, 'like', 'like')], (3, 4): [('Det', 0, 'an', 'an')], (4, 5): [('NP', 0, 'arrow', 'arrow'), ('Nominal', 0, 'arrow', 'arrow'), ('Noun', 0, 'arrow', 'arrow')], (0, 2): [('S', 1, 'NP', 'VP'), ('NP', 1, 'Nominal', 'Nominal'), ('Nominal', 1, 'Nominal', 'Noun'), ('VP', 1, 'Verb', 'NP')], (1, 3): [('S', 2, 'NP', 'VP')], (2, 4): [], (3, 5): [('NP', 4, 'Det', 'Nominal')], (0, 3): [('S', 2, 'NP', 'VP')], (1, 4): [], (2, 5): [('VP', 3, 'Verb', 'NP'), ('PP', 3, 'Preposition', 'NP')], (0, 4): [], (1, 5): [('S', 2, 'NP', 'VP'), ('Nominal', 2, 'Nominal', 'PP'), ('VP', 2, 'Verb', 'PP')]}\n9: Next Ordinate\n0: i= 4\n1: abscissa= 5 ordinate= 0 a-o= 5\n3: ( 0 , 5 )\n4: index= 0\n4: left= [] \n   down= [('NP', 0, 'arrow', 'arrow'), ('Nominal', 0, 'arrow', 'arrow'), ('Noun', 0, 'arrow', 'arrow')]\n5: Nothing to do\n4: index= 1\n4: left= [('S', 2, 'NP', 'VP')] \n   down= [('NP', 4, 'Det', 'Nominal')]\n6: Nothing to do\n4: index= 2\n4: left= [('S', 1, 'NP', 'VP'), ('NP', 1, 'Nominal', 'Nominal'), ('Nominal', 1, 'Nominal', 'Noun'), ('VP', 1, 'Verb', 'NP')] \n   down= [('VP', 3, 'Verb', 'NP'), ('PP', 3, 'Preposition', 'NP')]\n6: Nothing to do\n6: Nothing to do\n6: add= S 2 NP VP\n6: Nothing to do\n6: Nothing to do\n6: add= Nominal 2 Nominal PP\n6: Nothing to do\n6: Nothing to do\n4: index= 3\n4: left= [('NP', 0, 'time', 'time'), ('Nominal', 0, 'time', 'time'), ('VP', 0, 'time', 'time'), ('Verb', 0, 'time', 'time'), ('Noun', 0, 'time', 'time')] \n   down= [('S', 2, 'NP', 'VP'), ('Nominal', 2, 'Nominal', 'PP'), ('VP', 2, 'Verb', 'PP')]\n6: Nothing to do\n6: Nothing to do\n6: add= S 1 NP VP\n6: Nothing to do\n6: add= NP 1 Nominal Nominal\n6: Nothing to do\n6: Nothing to do\n6: Nothing to do\n6: Nothing to do\n6: Nothing to do\n6: Nothing to do\n6: Nothing to do\n6: Nothing to do\n6: Nothing to do\n6: Nothing to do\n{(0, 1): [('NP', 0, 'time', 'time'), ('Nominal', 0, 'time', 'time'), ('VP', 0, 'time', 'time'), ('Verb', 0, 'time', 'time'), ('Noun', 0, 'time', 'time')], (1, 2): [('NP', 0, 'flies', 'flies'), ('Nominal', 0, 'flies', 'flies'), ('VP', 0, 'flies', 'flies'), ('Verb', 0, 'flies', 'flies'), ('Noun', 0, 'flies', 'flies')], (2, 3): [('VP', 0, 'like', 'like'), ('Verb', 0, 'like', 'like'), ('Preposition', 0, 'like', 'like')], (3, 4): [('Det', 0, 'an', 'an')], (4, 5): [('NP', 0, 'arrow', 'arrow'), ('Nominal', 0, 'arrow', 'arrow'), ('Noun', 0, 'arrow', 'arrow')], (0, 2): [('S', 1, 'NP', 'VP'), ('NP', 1, 'Nominal', 'Nominal'), ('Nominal', 1, 'Nominal', 'Noun'), ('VP', 1, 'Verb', 'NP')], (1, 3): [('S', 2, 'NP', 'VP')], (2, 4): [], (3, 5): [('NP', 4, 'Det', 'Nominal')], (0, 3): [('S', 2, 'NP', 'VP')], (1, 4): [], (2, 5): [('VP', 3, 'Verb', 'NP'), ('PP', 3, 'Preposition', 'NP')], (0, 4): [], (1, 5): [('S', 2, 'NP', 'VP'), ('Nominal', 2, 'Nominal', 'PP'), ('VP', 2, 'Verb', 'PP')], (0, 5): [('S', 2, 'NP', 'VP'), ('Nominal', 2, 'Nominal', 'PP'), ('S', 1, 'NP', 'VP'), ('NP', 1, 'Nominal', 'Nominal')]}\n9: Next Ordinate\n",
     "output_type": "stream"
    }
   ],
   "execution_count": 5
  },
  {
   "cell_type": "code",
   "source": "N = len(sentence.split())\n#print(cky[0,N])\n#sol = []\n#for j in range(len(cky[0,N])):\n#    if cky[0,N][j][0] == \"S\":\n#        sol.append(cky[0,N][j][0])\n\ndef tree (matrix,cell = (0,N),parent=\"S\",index=0):\n    list = []\n    print(\"1: Celda:\",cell,\"with index\",index)\n    print(\"1: Contenido\",matrix[cell])\n    print(\"2: if\",len(matrix[cell]),\"== 0\")\n    if len(matrix[cell]) == 0:\n        print(\"2: No solution found\")\n        return list                                            \n    print(\"3: if\",matrix[cell][0][1],\"== 0\")\n    if matrix[cell][0][1] == 0:\n        print(\"3: if\",matrix[cell][index][0],\"=\",parent)\n        if matrix[cell][index][0] == parent:\n            print(\"3: return\",[matrix[cell][index][0], matrix[cell][index][2]])\n            return [matrix[cell][index][0], matrix[cell][index][2]]\n        else:\n            print(\"3: Try next index=\",index+1)\n            tree(matrix,cell,parent,index+1)\n    print(\"4: if\",matrix[cell][index][0],\"==\",parent,\"in\",cell)\n    elif (matrix[cell][index][0]) == parent:\n        # Agrega el símbolo\n        print(\"6: add\",matrix[cell][index][0])\n        list.extend(matrix[cell][index][0])\n        # Inspeccionar hijos\n        child = []\n        # Hijo derecho\n        print(\"7: New r tuple\",(cell[0],matrix[cell][index][1]),\"from\",cell,\"with parent\",matrix[cell][index][2])\n        r = tree(matrix, (cell[0],matrix[cell][index][1]),matrix[cell][index][2])\n        print(\"7: Lista r child\",r)\n        child.extend(r)\n        print(\"7: child\",child)\n        # Hijo izquierdo\n        print(\"7: New i tuple\",(matrix[cell][index][1],cell[1]),\"from\",cell,\"with parent\",matrix[cell][index][3])\n        child.extend(\n            tree(matrix,\n            (matrix[cell][index][1],cell[1]),\n            matrix[cell][index][3]))\n        print(\"8: Lista l child\",child)\n        print(\"8: Integrate list\")\n        list.extend(child)\n        print(\"8:\", list)\n    else:\n        print(\"9: Start tree with index\",index+1)\n        tree(matrix,cell,parent,index+1)\n    print(\"0: return\",list)\n    return list\n\n\nprint(tree(cky, (0,5), \"S\"))",
   "metadata": {
    "cell_id": "76d00b96a1184619a033b0574681f6b1",
    "tags": [],
    "deepnote_to_be_reexecuted": false,
    "source_hash": "f94d79aa",
    "execution_start": 1658770013826,
    "execution_millis": 22,
    "output_cleared": false,
    "owner_user_id": "41b68b99-1317-46a8-8d9f-507b7d8fe1ab",
    "deepnote_cell_type": "code",
    "deepnote_cell_height": 1241.765625,
    "deepnote_output_heights": [
     102,
     607
    ]
   },
   "outputs": [
    {
     "output_type": "error",
     "ename": "SyntaxError",
     "evalue": "invalid syntax (<ipython-input-9-5bc304e959eb>, line 26)",
     "traceback": [
      "\u001b[0;36m  File \u001b[0;32m\"<ipython-input-9-5bc304e959eb>\"\u001b[0;36m, line \u001b[0;32m26\u001b[0m\n\u001b[0;31m    elif (matrix[cell][index][0]) == parent:\u001b[0m\n\u001b[0m    ^\u001b[0m\n\u001b[0;31mSyntaxError\u001b[0m\u001b[0;31m:\u001b[0m invalid syntax\n"
     ]
    }
   ],
   "execution_count": 9
  },
  {
   "cell_type": "code",
   "source": "def backpointer(dict,list,tuple,parent=\"S\"):\n    print(\"Begin if:\",tuple)\n    if(len(dict[tuple])==0):\n        return []\n    if(dict[tuple][0][1]==0):\n        print(\"0:\",dict[tuple])\n        return [dict[tuple][0][0], dict[tuple][0][2]]\n    print(\"End if:\",dict[tuple][0])\n    print(\"Append:\",dict[tuple][0][0])                            \n    list.append(dict[tuple][0][0])\n    print(\"list:\",list)\n    list2=[]\n    print(\"Recursion 1:\",tuple[0],\",\",dict[tuple][0][1])\n    list2.append(backpointer(dict, [], (tuple[0],dict[tuple][0][1]),dict[tuple][0][2]))\n    print(\"Recursion 2:\",dict[tuple][0][1],\",\",tuple[1])\n    list2.append(backpointer(dict, [], (dict[tuple][0][1],tuple[1]),dict[tuple][0][3]))\n    list.append(list2)\n    print(\"Fin:\",list)\n                                                        \n    return list\n\nbackpointer(cky,[],(0,N))\n\n#if cky[(0,5)][1][0] == \"S\":\n#    print(\"Solución\")",
   "metadata": {
    "cell_id": "dd2968713bc74d04ab5a22923230d807",
    "tags": [],
    "deepnote_to_be_reexecuted": true,
    "source_hash": "4938947b",
    "execution_start": 1658767381801,
    "execution_millis": 45,
    "deepnote_cell_type": "code",
    "deepnote_cell_height": 1241,
    "deepnote_output_heights": [
     77,
     77
    ]
   },
   "outputs": [
    {
     "name": "stdout",
     "text": "Begin if: (0, 5)\nEnd if: ('S', 2, 'NP', 'VP')\nAppend: S\nlist: ['S']\nRecursion 1: 0 , 2\nBegin if: (0, 2)\nEnd if: ('S', 1, 'NP', 'VP')\nAppend: S\nlist: ['S']\nRecursion 1: 0 , 1\nBegin if: (0, 1)\n0: [('NP', 0, 'time', 'time'), ('Nominal', 0, 'time', 'time'), ('VP', 0, 'time', 'time'), ('Verb', 0, 'time', 'time'), ('Noun', 0, 'time', 'time')]\nRecursion 2: 1 , 2\nBegin if: (1, 2)\n0: [('NP', 0, 'flies', 'flies'), ('Nominal', 0, 'flies', 'flies'), ('VP', 0, 'flies', 'flies'), ('Verb', 0, 'flies', 'flies'), ('Noun', 0, 'flies', 'flies')]\nFin: ['S', [['NP', 'time'], ['NP', 'flies']]]\nRecursion 2: 2 , 5\nBegin if: (2, 5)\nEnd if: ('VP', 3, 'Verb', 'NP')\nAppend: VP\nlist: ['VP']\nRecursion 1: 2 , 3\nBegin if: (2, 3)\n0: [('VP', 0, 'like', 'like'), ('Verb', 0, 'like', 'like'), ('Preposition', 0, 'like', 'like')]\nRecursion 2: 3 , 5\nBegin if: (3, 5)\nEnd if: ('NP', 4, 'Det', 'Nominal')\nAppend: NP\nlist: ['NP']\nRecursion 1: 3 , 4\nBegin if: (3, 4)\n0: [('Det', 0, 'an', 'an')]\nRecursion 2: 4 , 5\nBegin if: (4, 5)\n0: [('NP', 0, 'arrow', 'arrow'), ('Nominal', 0, 'arrow', 'arrow'), ('Noun', 0, 'arrow', 'arrow')]\nFin: ['NP', [['Det', 'an'], ['NP', 'arrow']]]\nFin: ['VP', [['VP', 'like'], ['NP', [['Det', 'an'], ['NP', 'arrow']]]]]\nFin: ['S', [['S', [['NP', 'time'], ['NP', 'flies']]], ['VP', [['VP', 'like'], ['NP', [['Det', 'an'], ['NP', 'arrow']]]]]]]\n",
     "output_type": "stream"
    },
    {
     "output_type": "execute_result",
     "execution_count": 7,
     "data": {
      "text/plain": "['S',\n [['S', [['NP', 'time'], ['NP', 'flies']]],\n  ['VP', [['VP', 'like'], ['NP', [['Det', 'an'], ['NP', 'arrow']]]]]]]"
     },
     "metadata": {}
    }
   ],
   "execution_count": null
  },
  {
   "cell_type": "markdown",
   "source": "<a style='text-decoration:none;line-height:16px;display:flex;color:#5B5B62;padding:10px;justify-content:end;' href='https://deepnote.com?utm_source=created-in-deepnote-cell&projectId=16bbac0e-c0cf-475a-9977-7067c93e2eaf' target=\"_blank\">\n<img alt='Created in deepnote.com' style='display:inline;max-height:16px;margin:0px;margin-right:7.5px;' src='data:image/svg+xml;base64,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' > </img>\nCreated in <span style='font-weight:600;margin-left:4px;'>Deepnote</span></a>",
   "metadata": {
    "tags": [],
    "created_in_deepnote_cell": true,
    "deepnote_cell_type": "markdown"
   }
  }
 ],
 "nbformat": 4,
 "nbformat_minor": 5,
 "metadata": {
  "kernelspec": {
   "display_name": "Python 3 (ipykernel)",
   "language": "python",
   "name": "python3"
  },
  "language_info": {
   "codemirror_mode": {
    "name": "ipython",
    "version": 3
   },
   "file_extension": ".py",
   "mimetype": "text/x-python",
   "name": "python",
   "nbconvert_exporter": "python",
   "pygments_lexer": "ipython3",
   "version": "3.7.12"
  },
  "deepnote_notebook_id": "a58b0261-b0d7-4ab5-9f21-23bc361b40bc",
  "deepnote": {},
  "deepnote_execution_queue": []
 }
}