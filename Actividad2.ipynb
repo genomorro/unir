{
 "cells": [
  {
   "cell_type": "markdown",
   "source": "G= (T, N, R,S)\n\nConjunto de terminales: T= {time, flies, arrow, an, like}\n\nConjunto de no terminales: N= {S, NP, VP, PP, Det, Nominal, Verb, Preposition, Noun}\n\nConjunto de reglas:\n\n R={\n\n S → NP VP\t\t\t\t0.800\n\n NP → time | flies | arrow\t\t0.002\n\n NP → Det Nominal\t\t\t0.300\n\n NP → Nominal Nominal\t\t0.200\n\n Nominal → time | flies | arrow\t0.002\n\n Nominal → Nominal Noun\t\t0.100\n\n Nominal → Nominal PP\t\t0.200\n\n VP → time\t\t\t\t0.004\n\n VP → flies| like\t\t\t0.008\n\n VP → Verb NP\t\t\t\t0.300\n\n VP → Verb PP\t\t\t\t0.200\n\n PP → Preposition NP\t\t\t0.100\n\n Verb → time\t\t\t\t0.010\n\n Verb → flies| like\t\t\t0.020\n\n Noun → time | flies | arrow\t\t0.010\n\n Det → an\t\t\t\t0.050\n\n Preposition → like\t\t\t0.050\n\n }\n ",
   "metadata": {
    "cell_id": "24009967c40f4394a3a5ee541f11cb59",
    "tags": [],
    "deepnote_cell_type": "markdown",
    "deepnote_cell_height": 913
   }
  },
  {
   "cell_type": "markdown",
   "source": "La variable `file_grammar` que aparece a continuación emula las reglas gramaticales escritas en un archivo de texto. En este caso se han escrito las reglas propias del ejercicio.",
   "metadata": {
    "cell_id": "b31d72d7d3d64d09a86ce31f36f84351",
    "tags": [],
    "deepnote_cell_type": "markdown",
    "deepnote_cell_height": 80
   }
  },
  {
   "cell_type": "code",
   "metadata": {
    "cell_id": "b32b518154b440439790cc631fca8675",
    "deepnote_to_be_reexecuted": false,
    "execution_millis": 43,
    "execution_start": 1658820991023,
    "source_hash": "bf54f17d",
    "tags": [],
    "deepnote_cell_type": "code",
    "deepnote_cell_height": 243
   },
   "source": "file_grammar = \"\"\"\nS -> NP VP\nNP -> Det Nominal\nNP -> Nominal Nominal\nNominal -> Nominal Noun\nNominal -> Nominal PP\nVP -> Verb NP\nVP -> Verb PP\nPP -> Preposition NP\n\"\"\"",
   "execution_count": 1,
   "outputs": []
  },
  {
   "cell_type": "markdown",
   "source": "Se crea el lexicón, de forma común, en lingüística se dice que un elemento del lexicón en la entrada de un diccionario, entonces se define como tal en el código.",
   "metadata": {
    "cell_id": "479bce7ebdca410db43f4ebe1cfebb25",
    "tags": [],
    "deepnote_cell_type": "markdown",
    "deepnote_cell_height": 80
   }
  },
  {
   "cell_type": "code",
   "metadata": {
    "cell_id": "6b541fb5e70b4e3a9d8609bb05fed305",
    "deepnote_to_be_reexecuted": false,
    "execution_millis": 1,
    "execution_start": 1658820991066,
    "source_hash": "4d304a3a",
    "tags": [],
    "deepnote_cell_type": "code",
    "deepnote_cell_height": 225
   },
   "source": "lexicon_dictionary = {\n    'NP': {'time', 'flies', 'arrow'},\n    'Nominal': {'time', 'flies', 'arrow'},\n    'VP': {'time', 'flies', 'like'},\n    'Verb': {'time', 'flies', 'like'},\n    'Noun': {'time', 'flies', 'arrow'},\n    'Det': {'an'},\n    'Preposition': {'like'}\n}",
   "execution_count": 2,
   "outputs": []
  },
  {
   "cell_type": "markdown",
   "source": "Se expresan las reglas gramaticales y lexicas en forma de tuplas como claves de una probabilidad que se usará para obtener las probabilidades de cada árbol obtenido por el algoritmo. Se eligen tuplas porque son fáciles de manejar, similar a los lenguajes Lisp.",
   "metadata": {
    "cell_id": "9adc9507e54145b1bacedb7846d73691",
    "tags": [],
    "deepnote_to_be_reexecuted": false,
    "source_hash": "866cdb3b",
    "execution_start": 1658818760262,
    "execution_millis": 11,
    "deepnote_cell_type": "markdown",
    "deepnote_cell_height": 105
   },
   "outputs": [],
   "execution_count": 10
  },
  {
   "cell_type": "code",
   "source": "probabilities = {\n    ('Det', 'an'): 0.05,\n    ('NP', ('Det', 'Nominal')): 0.3,\n    ('NP', ('Nominal', 'Nominal')): 0.2,\n    ('NP', 'arrow'): 0.002,\n    ('NP', 'flies'): 0.002,\n    ('NP', 'time'): 0.002,\n    ('Nominal', ('Nominal', 'Noun')): 0.1,\n    ('Nominal', 'arrow'): 0.002,\n    ('Nominal', 'flies'): 0.002,\n    ('Nominal', 'time'): 0.002,\n    ('Nominal', ('Nominal', 'PP')): 0.2,\n    ('Noun', 'arrow'): 0.01,\n    ('Noun', 'flies'): 0.01,\n    ('Noun', 'time'): 0.01,\n    ('PP', ('Preposition', 'NP')): 0.1,\n    ('Preposition', 'like'): 0.05,\n    ('S', ('NP', 'VP')): 0.8,\n    ('VP', ('Verb', 'PP')): 0.2,\n    ('VP', 'flies'): 0.008,\n    ('VP', 'like'): 0.008,\n    ('VP', ('Verb', 'NP')): 0.3,\n    ('VP', 'time'): 0.004,\n    ('Verb', 'flies'): 0.02,\n    ('Verb', 'like'): 0.02,\n    ('Verb', 'time'): 0.01\n    }",
   "metadata": {
    "cell_id": "db51863ebbc545379b2b7a0010451761",
    "tags": [],
    "deepnote_to_be_reexecuted": false,
    "source_hash": "105f442",
    "execution_start": 1658820991067,
    "execution_millis": 0,
    "deepnote_cell_type": "code",
    "deepnote_cell_height": 549
   },
   "outputs": [],
   "execution_count": 3
  },
  {
   "cell_type": "markdown",
   "source": "La función `grammar_rules() recibe como argumento un texto con reglas gramaticales y las convierte en un diccionario que permite buscar a partir de los nodos hijos de un árbol un posible padre que complete la estructura, esta forma es básica para facilitar la búsqueda en el algoritmo CKY.",
   "metadata": {
    "cell_id": "1a0944238c664315879d9da01c13cc9f",
    "tags": [],
    "deepnote_cell_type": "markdown",
    "deepnote_cell_height": 105
   }
  },
  {
   "cell_type": "code",
   "metadata": {
    "cell_id": "04460b36a83b48a389171450e1d61513",
    "deepnote_to_be_reexecuted": false,
    "execution_millis": 0,
    "execution_start": 1658820991088,
    "source_hash": "b9a5198b",
    "tags": [],
    "deepnote_cell_type": "code",
    "deepnote_cell_height": 927
   },
   "source": "def grammar_rules(grammar_buffer):\n    '''\n    This function parse grammar rules writen in a text variable or a file.\n\n    The text file contain grammar rules writen like:\n\n    NP -> NP VP\n\n    This function doesn't parse lexical rules.\n\n    This function return a dictionary with parents indexed by children, like this:\n\n    {('Det', 'Nominal'): ['NP'],\n     ('NP', 'VP'): ['S'],\n     ('Verb', 'PP'): ['VP']}\n\n        Parameters:\n            grammar_buffer (str): Text with grammar rules\n        \n        Returns:\n            find_parent (dict): Dictionary with the rules indexed by children\n    '''\n    rules = []\n    # leer cada línea del texto\n    for line in grammar_buffer.strip().split(\"\\n\"):\n        # separar cada línea en sus dos miembros\n        parent, chidren = line.strip().split(\"->\")\n        # Quitar espacio en blanco posterior\n        parent = parent.strip()\n        # Distinguir los hijos\n        chidren = chidren.split()\n        #crear la regla (parent, (c1, c2)) como en lisp ;)\n        rule = (parent, tuple(chidren))\n        rules.append(rule)\n    # Crear un diccionario con las reglas invertidas, eso permite buscar al nodo padre\n    find_parent = dict()\n    for parent, (lc, rc) in rules:\n        # Si no existe la entrada, se crea\n        if (lc, rc) not in find_parent:\n            find_parent[lc, rc] = []\n        # Se agrega el caso\n        find_parent[lc,rc].append(parent)\n    return find_parent\n\n#parents = set(val[0] for val in list(find_parent.values()))\n#for i in list(lexicon.keys()):\n#    parents.add(i)\n",
   "execution_count": 4,
   "outputs": []
  },
  {
   "cell_type": "markdown",
   "source": "Ahora se implementa el algoritmo CKY, mismo que recibe como entrada una oración en forma de cadena de texto, un diccionario con reglas gramaticales y un lexicón adecuado a la gramática. Opcionalmente, se puede definir el argumento de entrada `verbose´ al valor `True`, de esta manera se mostrará en pantalla cada uno de los pasos que sigue el algoritmo para crear la matriz correspondiente. Esta matriz también tendrá forma de diccionario.",
   "metadata": {
    "cell_id": "b49c8873344c4a228a61419118b21b0c",
    "tags": [],
    "deepnote_cell_type": "markdown",
    "deepnote_cell_height": 155
   }
  },
  {
   "cell_type": "code",
   "metadata": {
    "cell_id": "2029ee31918d4ebc929da11c49765dd8",
    "deepnote_to_be_reexecuted": false,
    "execution_millis": 22,
    "execution_start": 1658820991089,
    "output_cleared": true,
    "source_hash": "62ddd681",
    "tags": [],
    "deepnote_cell_type": "code",
    "deepnote_cell_height": 1395
   },
   "source": "def cky_parser(sentence, grammar, lexicon, verbose=False):\n    ''' \n    The function cky_parser implements CKY algorithm.\n\n        Parameters:\n            sentence (str): A sentence to be analyzed\n            grammar (dic): Dictionary with the grammar rules indexed by children\n            lexicon (dic): Dictionary with lexical rules indexed by PoS\n            verbose (bool): If it is True, show every step in the algorithm\n        Returns:\n            matrix_cky (dic): Dictionary with all possible cells written by the algorithm\n    '''\n    words = sentence.lower().split()\n    if verbose:\n        print(words)\n    matrix_cky = {}\n    for i in range(len(words)):\n        # Las ordenadas van del 0 al 4\n        ordinate = 0\n        if verbose:\n            print(\"0: i=\",i)\n        # Las abscisas van de 1 a 5\n        for abscissa in range(i+1, len(words)+1):\n            # Se agrega una celda\n            matrix_cky[(ordinate, abscissa)] = []\n            if verbose:\n                print(\"1: abscissa=\",abscissa,\"ordinate=\",ordinate,\"a-o=\",abscissa-ordinate)\n            # Si se opera sobre la diagonal\n            if(abscissa-ordinate==1):\n                # Combina la palabra con las categorías del lexicón\n                for key in lexicon_dictionary:\n                    if verbose:\n                        print(\"2: key=\",key,\"word=\",words[ordinate])\n                    # Si la combinación existe en el lexicón se agrega a la matriz\n                    if(words[ordinate] in lexicon[key]):\n                        matrix_cky[(ordinate,abscissa)].append((key,0,words[ordinate],words[ordinate]))\n                        if verbose:\n                            print(\"2:\",matrix_cky)\n            # Si hay que operar sobre dos celdas\n            elif(abscissa-ordinate>1):\n                if verbose:\n                    print(\"3:\",\"(\",ordinate,\",\",abscissa,\")\")\n                # Obtener los valores de las celdas\n                for index in range(abscissa-ordinate-1):\n                    left = matrix_cky[(ordinate,abscissa-1-index)]\n                    down = matrix_cky[(abscissa-1-index,abscissa)]\n                    if verbose:\n                        print(\"4: index=\",index)\n                        print(\"4: left=\",left,\"\\n  \",\"down=\",down)\n                    # Si una de las celdas esta vacía no se hace nada\n                    if not left or not down:\n                        if verbose:\n                            print(\"5: Nothing to do\")\n                    else:\n                        # Combinar los valores de las celdas\n                        for a in left:\n                            for b in down:\n                                # Obtiene el primer elemento de la tupla\n                                # Crea la tupla para buscarla en las reglas\n                                if((a[0],b[0]) in grammar):\n                                    matrix_cky[(ordinate,abscissa)].append(\n                                        (grammar[(a[0],b[0])][0],\n                                        abscissa-1-index,a[0],b[0])\n                                        )\n                                    if verbose:\n                                        print(\"6: add=\",grammar[(a[0],b[0])][0],abscissa-1-index,a[0],b[0])\n                                else:\n                                    if verbose:\n                                        print(\"6: Nothing to do\")\n            if verbose:\n                print(matrix_cky)\n                print(\"9: Next Ordinate\")\n            ordinate+=1\n    return matrix_cky",
   "execution_count": 5,
   "outputs": []
  },
  {
   "cell_type": "code",
   "metadata": {
    "cell_id": "76d00b96a1184619a033b0574681f6b1",
    "deepnote_to_be_reexecuted": false,
    "execution_millis": 11,
    "execution_start": 1658820991118,
    "output_cleared": false,
    "source_hash": "4e33c885",
    "tags": [],
    "deepnote_cell_type": "code",
    "deepnote_cell_height": 945,
    "deepnote_output_heights": [
     252
    ]
   },
   "source": "def tree (matrix,cell,parent=\"S\",index=0):\n    '''\n    Create a tree from a matrix created by the CKY algorithm.\n    See def cky_parser(sentence, grammar, lexicon, verbose=False) function.\n\n        Parameters:\n            matrix (dic): Dictionary with CKY algorithm information\n            cell (tuple): Node in the matrix to start the analysis\n            parent (str): Axiom in the grammar or parent node value for the tree\n            index (int): If there is more than one value in cell, this variable let choose which one analyze\n        \n        Returns:\n            list (list): A list with trees in list shape\n    '''\n    list = []\n    # Revisa que la lista no este vacía\n    if len(matrix[cell]) == 0:\n        return list\n    # Revisa que el índice sea 0, significa que es una hoja\n    if matrix[cell][0][1] == 0:\n        # Encuentra la hoja que corresponde\n        if matrix[cell][index][0] == parent:\n            return [matrix[cell][index][0], matrix[cell][index][2]]\n        else:\n            # Busca en otra hoja\n            if index+1 < len(matrix[cell]):\n                return tree(matrix,cell,parent,index+1)\n            else:\n                return list\n    # Si no es una hoja, revisa si es la opción correcta\n    elif (matrix[cell][index][0]) == parent:\n        # Agrega el símbolo\n        list.append(matrix[cell][index][0])\n        # Buscar hijos\n        child = []\n        # Hijo derecho\n        child.append(\n            tree(matrix,(cell[0],matrix[cell][index][1]),matrix[cell][index][2]))\n        # Hijo izquierdo\n        child.append(\n            tree(matrix,(matrix[cell][index][1],cell[1]),matrix[cell][index][3]))\n        #Agrega child a la lista\n        list.append(child)\n        return list\n    else:\n        if index+1 < len(matrix[cell]):\n            return tree(matrix,cell,parent,index+1)\n        else:\n            return list",
   "execution_count": 6,
   "outputs": []
  },
  {
   "cell_type": "code",
   "source": "def find_solutions(sentence,grammar,lexicon,axiom,verbose=False):\n    '''\n    Find all possible solutions of a CKY analysis in a sentence. \n    '''\n    matrix_cky = cky_parser(sentence,grammar,lexicon,verbose)\n    N = len(sentence.split())\n    solutions = []\n    for i in enumerate(matrix_cky[(0,N)]):\n        if i[1][0] == axiom:\n            solutions.append(tree(matrix_cky,(0,N),index=i[0]))\n    return solutions",
   "metadata": {
    "cell_id": "9184406a11784cf79803682be1f96ece",
    "tags": [],
    "deepnote_to_be_reexecuted": false,
    "source_hash": "33db921c",
    "execution_start": 1658820991135,
    "execution_millis": 2,
    "deepnote_cell_type": "code",
    "deepnote_cell_height": 261,
    "deepnote_output_heights": [
     102
    ]
   },
   "outputs": [],
   "execution_count": 7
  },
  {
   "cell_type": "code",
   "source": "from pprint import pprint\nresult = find_solutions(\"Time flies like an arrow\",\n                        grammar_rules(file_grammar),\n                        lexicon_dictionary,\n                        \"S\")\npprint(result)",
   "metadata": {
    "cell_id": "24372a71ab9b420b89af86f9d5abf213",
    "tags": [],
    "deepnote_to_be_reexecuted": false,
    "source_hash": "3ac2ebbd",
    "execution_start": 1658820991189,
    "execution_millis": 643,
    "owner_user_id": "41b68b99-1317-46a8-8d9f-507b7d8fe1ab",
    "deepnote_cell_type": "code",
    "deepnote_cell_height": 462
   },
   "outputs": [
    {
     "name": "stdout",
     "text": "[['S',\n  [['NP', [['Nominal', 'time'], ['Nominal', 'flies']]],\n   ['VP', [['Verb', 'like'], ['NP', [['Det', 'an'], ['Nominal', 'arrow']]]]]]],\n ['S',\n  [['NP', 'time'],\n   ['VP',\n    [['Verb', 'flies'],\n     ['PP',\n      [['Preposition', 'like'],\n       ['NP', [['Det', 'an'], ['Nominal', 'arrow']]]]]]]]]]\n",
     "output_type": "stream"
    }
   ],
   "execution_count": 8
  },
  {
   "cell_type": "markdown",
   "source": "<a style='text-decoration:none;line-height:16px;display:flex;color:#5B5B62;padding:10px;justify-content:end;' href='https://deepnote.com?utm_source=created-in-deepnote-cell&projectId=16bbac0e-c0cf-475a-9977-7067c93e2eaf' target=\"_blank\">\n<img alt='Created in deepnote.com' style='display:inline;max-height:16px;margin:0px;margin-right:7.5px;' src='data:image/svg+xml;base64,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' > </img>\nCreated in <span style='font-weight:600;margin-left:4px;'>Deepnote</span></a>",
   "metadata": {
    "tags": [],
    "created_in_deepnote_cell": true,
    "deepnote_cell_type": "markdown"
   }
  }
 ],
 "nbformat": 4,
 "nbformat_minor": 5,
 "metadata": {
  "deepnote": {},
  "deepnote_execution_queue": [],
  "deepnote_notebook_id": "a58b0261-b0d7-4ab5-9f21-23bc361b40bc",
  "kernelspec": {
   "display_name": "Python 3 (ipykernel)",
   "language": "python",
   "name": "python3"
  },
  "language_info": {
   "codemirror_mode": {
    "name": "ipython",
    "version": 3
   },
   "file_extension": ".py",
   "mimetype": "text/x-python",
   "name": "python",
   "nbconvert_exporter": "python",
   "pygments_lexer": "ipython3",
   "version": "3.7.12"
  }
 }
}