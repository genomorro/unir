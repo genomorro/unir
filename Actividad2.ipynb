{
 "cells": [
  {
   "cell_type": "code",
   "execution_count": 1,
   "id": "6fb1a844-360a-41e4-ac3e-cce30cb06402",
   "metadata": {},
   "outputs": [],
   "source": [
    "import spacy"
   ]
  },
  {
   "cell_type": "code",
   "execution_count": 2,
   "id": "e4237fd7-2415-4d46-8b50-b60505785257",
   "metadata": {},
   "outputs": [
    {
     "name": "stdout",
     "output_type": "stream",
     "text": [
      "Collecting en-core-web-sm==3.3.0\n",
      "  Using cached https://github.com/explosion/spacy-models/releases/download/en_core_web_sm-3.3.0/en_core_web_sm-3.3.0-py3-none-any.whl (12.8 MB)\n",
      "Requirement already satisfied: es_core_news_sm in /srv/conda/envs/notebook/lib/python3.7/site-packages (3.3.0)\n",
      "Requirement already satisfied: spacy<3.4.0,>=3.3.0.dev0 in /srv/conda/envs/notebook/lib/python3.7/site-packages (from es_core_news_sm) (3.3.1)\n",
      "Requirement already satisfied: langcodes<4.0.0,>=3.2.0 in /srv/conda/envs/notebook/lib/python3.7/site-packages (from spacy<3.4.0,>=3.3.0.dev0->es_core_news_sm) (3.3.0)\n",
      "Requirement already satisfied: jinja2 in /srv/conda/envs/notebook/lib/python3.7/site-packages (from spacy<3.4.0,>=3.3.0.dev0->es_core_news_sm) (3.1.1)\n",
      "Requirement already satisfied: numpy>=1.15.0 in /srv/conda/envs/notebook/lib/python3.7/site-packages (from spacy<3.4.0,>=3.3.0.dev0->es_core_news_sm) (1.21.6)\n",
      "Requirement already satisfied: blis<0.8.0,>=0.4.0 in /srv/conda/envs/notebook/lib/python3.7/site-packages (from spacy<3.4.0,>=3.3.0.dev0->es_core_news_sm) (0.7.8)\n",
      "Requirement already satisfied: setuptools in /srv/conda/envs/notebook/lib/python3.7/site-packages (from spacy<3.4.0,>=3.3.0.dev0->es_core_news_sm) (62.0.0)\n",
      "Requirement already satisfied: pydantic!=1.8,!=1.8.1,<1.9.0,>=1.7.4 in /srv/conda/envs/notebook/lib/python3.7/site-packages (from spacy<3.4.0,>=3.3.0.dev0->es_core_news_sm) (1.8.2)\n",
      "Requirement already satisfied: thinc<8.1.0,>=8.0.14 in /srv/conda/envs/notebook/lib/python3.7/site-packages (from spacy<3.4.0,>=3.3.0.dev0->es_core_news_sm) (8.0.17)\n",
      "Requirement already satisfied: tqdm<5.0.0,>=4.38.0 in /srv/conda/envs/notebook/lib/python3.7/site-packages (from spacy<3.4.0,>=3.3.0.dev0->es_core_news_sm) (4.64.0)\n",
      "Requirement already satisfied: requests<3.0.0,>=2.13.0 in /srv/conda/envs/notebook/lib/python3.7/site-packages (from spacy<3.4.0,>=3.3.0.dev0->es_core_news_sm) (2.27.1)\n",
      "Requirement already satisfied: cymem<2.1.0,>=2.0.2 in /srv/conda/envs/notebook/lib/python3.7/site-packages (from spacy<3.4.0,>=3.3.0.dev0->es_core_news_sm) (2.0.6)\n",
      "Requirement already satisfied: wasabi<1.1.0,>=0.9.1 in /srv/conda/envs/notebook/lib/python3.7/site-packages (from spacy<3.4.0,>=3.3.0.dev0->es_core_news_sm) (0.9.1)\n",
      "Requirement already satisfied: spacy-legacy<3.1.0,>=3.0.9 in /srv/conda/envs/notebook/lib/python3.7/site-packages (from spacy<3.4.0,>=3.3.0.dev0->es_core_news_sm) (3.0.9)\n",
      "Requirement already satisfied: spacy-loggers<2.0.0,>=1.0.0 in /srv/conda/envs/notebook/lib/python3.7/site-packages (from spacy<3.4.0,>=3.3.0.dev0->es_core_news_sm) (1.0.2)\n",
      "Requirement already satisfied: srsly<3.0.0,>=2.4.3 in /srv/conda/envs/notebook/lib/python3.7/site-packages (from spacy<3.4.0,>=3.3.0.dev0->es_core_news_sm) (2.4.3)\n",
      "Requirement already satisfied: packaging>=20.0 in /srv/conda/envs/notebook/lib/python3.7/site-packages (from spacy<3.4.0,>=3.3.0.dev0->es_core_news_sm) (21.3)\n",
      "Requirement already satisfied: preshed<3.1.0,>=3.0.2 in /srv/conda/envs/notebook/lib/python3.7/site-packages (from spacy<3.4.0,>=3.3.0.dev0->es_core_news_sm) (3.0.6)\n",
      "Requirement already satisfied: murmurhash<1.1.0,>=0.28.0 in /srv/conda/envs/notebook/lib/python3.7/site-packages (from spacy<3.4.0,>=3.3.0.dev0->es_core_news_sm) (1.0.7)\n",
      "Requirement already satisfied: typing-extensions<4.2.0,>=3.7.4 in /srv/conda/envs/notebook/lib/python3.7/site-packages (from spacy<3.4.0,>=3.3.0.dev0->es_core_news_sm) (4.1.1)\n",
      "Requirement already satisfied: catalogue<2.1.0,>=2.0.6 in /srv/conda/envs/notebook/lib/python3.7/site-packages (from spacy<3.4.0,>=3.3.0.dev0->es_core_news_sm) (2.0.7)\n",
      "Requirement already satisfied: typer<0.5.0,>=0.3.0 in /srv/conda/envs/notebook/lib/python3.7/site-packages (from spacy<3.4.0,>=3.3.0.dev0->es_core_news_sm) (0.4.2)\n",
      "Requirement already satisfied: pathy>=0.3.5 in /srv/conda/envs/notebook/lib/python3.7/site-packages (from spacy<3.4.0,>=3.3.0.dev0->es_core_news_sm) (0.6.2)\n",
      "Requirement already satisfied: zipp>=0.5 in /srv/conda/envs/notebook/lib/python3.7/site-packages (from catalogue<2.1.0,>=2.0.6->spacy<3.4.0,>=3.3.0.dev0->es_core_news_sm) (3.8.0)\n",
      "Requirement already satisfied: pyparsing!=3.0.5,>=2.0.2 in /srv/conda/envs/notebook/lib/python3.7/site-packages (from packaging>=20.0->spacy<3.4.0,>=3.3.0.dev0->es_core_news_sm) (3.0.7)\n",
      "Requirement already satisfied: smart-open<6.0.0,>=5.2.1 in /srv/conda/envs/notebook/lib/python3.7/site-packages (from pathy>=0.3.5->spacy<3.4.0,>=3.3.0.dev0->es_core_news_sm) (5.2.1)\n",
      "Requirement already satisfied: idna<4,>=2.5 in /srv/conda/envs/notebook/lib/python3.7/site-packages (from requests<3.0.0,>=2.13.0->spacy<3.4.0,>=3.3.0.dev0->es_core_news_sm) (3.3)\n",
      "Requirement already satisfied: certifi>=2017.4.17 in /srv/conda/envs/notebook/lib/python3.7/site-packages (from requests<3.0.0,>=2.13.0->spacy<3.4.0,>=3.3.0.dev0->es_core_news_sm) (2021.10.8)\n",
      "Requirement already satisfied: charset-normalizer~=2.0.0 in /srv/conda/envs/notebook/lib/python3.7/site-packages (from requests<3.0.0,>=2.13.0->spacy<3.4.0,>=3.3.0.dev0->es_core_news_sm) (2.0.12)\n",
      "Requirement already satisfied: urllib3<1.27,>=1.21.1 in /srv/conda/envs/notebook/lib/python3.7/site-packages (from requests<3.0.0,>=2.13.0->spacy<3.4.0,>=3.3.0.dev0->es_core_news_sm) (1.26.9)\n",
      "Requirement already satisfied: click<9.0.0,>=7.1.1 in /srv/conda/envs/notebook/lib/python3.7/site-packages (from typer<0.5.0,>=0.3.0->spacy<3.4.0,>=3.3.0.dev0->es_core_news_sm) (8.1.3)\n",
      "Requirement already satisfied: MarkupSafe>=2.0 in /srv/conda/envs/notebook/lib/python3.7/site-packages (from jinja2->spacy<3.4.0,>=3.3.0.dev0->es_core_news_sm) (2.1.1)\n",
      "Requirement already satisfied: importlib-metadata in /srv/conda/envs/notebook/lib/python3.7/site-packages (from click<9.0.0,>=7.1.1->typer<0.5.0,>=0.3.0->spacy<3.4.0,>=3.3.0.dev0->es_core_news_sm) (4.11.3)\n",
      "\u001b[38;5;2m✔ Download and installation successful\u001b[0m\n",
      "You can now load the package via spacy.load('en_core_web_sm')\n"
     ]
    }
   ],
   "source": [
    "%%bash\n",
    "python -m spacy download en_core_web_sm es_core_news_sm"
   ]
  },
  {
   "cell_type": "code",
   "execution_count": 3,
   "id": "618a495e-385c-489f-9698-93cf791d539c",
   "metadata": {},
   "outputs": [],
   "source": [
    "nlp = spacy.load(\"en_core_web_sm\")"
   ]
  },
  {
   "cell_type": "code",
   "execution_count": 4,
   "id": "7c72078e-4688-40d6-9879-324e01e97267",
   "metadata": {},
   "outputs": [
    {
     "name": "stdout",
     "output_type": "stream",
     "text": [
      "Time  /  NOUN\n",
      "flies  /  VERB\n",
      "like  /  ADP\n",
      "an  /  DET\n",
      "arrow  /  NOUN\n"
     ]
    }
   ],
   "source": [
    "doc = nlp(\"Time flies like an arrow\")\n",
    "for token in doc:\n",
    "    print(token.text,\" / \",token.pos_)"
   ]
  },
  {
   "cell_type": "code",
   "execution_count": null,
   "id": "a2a61406-18e9-4963-913c-dc5747007c65",
   "metadata": {},
   "outputs": [],
   "source": []
  }
 ],
 "metadata": {
  "kernelspec": {
   "display_name": "Python 3 (ipykernel)",
   "language": "python",
   "name": "python3"
  },
  "language_info": {
   "codemirror_mode": {
    "name": "ipython",
    "version": 3
   },
   "file_extension": ".py",
   "mimetype": "text/x-python",
   "name": "python",
   "nbconvert_exporter": "python",
   "pygments_lexer": "ipython3",
   "version": "3.7.12"
  }
 },
 "nbformat": 4,
 "nbformat_minor": 5
}
