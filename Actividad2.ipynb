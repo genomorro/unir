{
 "cells": [
  {
   "cell_type": "markdown",
   "source": "# Implementación del algoritmo PCKY\n## Librerías a utilizar\n\nPara la implementación del algoritmo CKY solo serán necesarias tres paquetes adicionales, el primero permite seleccionar un elemento de una lista a partir del índice, el segundo mostrará de manera más clara los resultados de los árboles y finalmente, pandas que permitirá mostrar la matriz CKY en forma tabular, como un dataframe. ",
   "metadata": {
    "tags": [],
    "cell_id": "15d8ffcd-81b4-434b-8b02-99d3456d595e",
    "deepnote_cell_type": "markdown",
    "deepnote_cell_height": 483
   }
  },
  {
   "cell_type": "code",
   "metadata": {
    "tags": [],
    "cell_id": "00001-04f871f0-1572-401b-8d1d-d36cdeaa78e2",
    "deepnote_to_be_reexecuted": false,
    "source_hash": "88920eeb",
    "execution_start": 1659331205499,
    "execution_millis": 24,
    "deepnote_cell_type": "code",
    "deepnote_cell_height": 117
   },
   "source": "from operator import itemgetter\nfrom pprint import pprint\nimport pandas as pd",
   "execution_count": null,
   "outputs": []
  },
  {
   "cell_type": "markdown",
   "source": "## Datos de entrada\n\nLa variable `grammar_file` que aparece a continuación emula las reglas gramaticales escritas en un archivo de texto. En este caso se han escrito las reglas propias del ejercicio.",
   "metadata": {
    "tags": [],
    "cell_id": "00002-3d94ab7b-78a5-4716-a632-dcdd11834ae6",
    "deepnote_cell_type": "markdown",
    "deepnote_cell_height": 211
   }
  },
  {
   "cell_type": "code",
   "metadata": {
    "cell_id": "4b1badc35931404891b478a90e85557c",
    "tags": [],
    "deepnote_to_be_reexecuted": false,
    "source_hash": "679d7507",
    "execution_start": 1659331205523,
    "execution_millis": 1,
    "deepnote_cell_type": "code",
    "deepnote_cell_height": 99
   },
   "source": "file = open(\"ds/grammar.txt\",'r')\ngrammar_file = file.read()",
   "execution_count": null,
   "outputs": []
  },
  {
   "cell_type": "markdown",
   "source": "La función `read_rules()` recibe como argumento un texto con reglas gramaticales y probabilidades para convierlas en tres diccionarios que permiten buscar los datos necesarios para completar el algoritmo CKY y PCKY.\n\nSe crea el lexicón, de forma común, en lingüística se dice que un elemento del lexicón en la entrada de un diccionario, entonces se define como tal en el código.\n\nSe expresan las reglas gramaticales y lexicas en forma de tuplas como claves de una probabilidad que se usará para obtener las probabilidades de cada árbol obtenido por el algoritmo. Se eligen tuplas porque son fáciles de manejar, similar a los lenguajes Lisp.",
   "metadata": {
    "tags": [],
    "cell_id": "00008-4a82bc4f-3999-4caa-9fd1-df51d0e3fdc2",
    "deepnote_cell_type": "markdown",
    "deepnote_cell_height": 483
   }
  },
  {
   "cell_type": "code",
   "metadata": {
    "cell_id": "a9ac5bfaa52d4a9db71a9d99aad0ec87",
    "tags": [],
    "deepnote_to_be_reexecuted": false,
    "source_hash": "63b2155f",
    "execution_start": 1659331205524,
    "execution_millis": 0,
    "deepnote_cell_type": "code",
    "deepnote_cell_height": 963
   },
   "source": "def read_rules(grammar_file):\n    '''\n    This function read grammar rules writen in a text variable or a file.\n\n    The text file contain grammar rules and probabilities writen like:\n\n    S -> NP VP 0.800\n\n    In grammar rules dictionary, parents indexed by children, like this:\n\n    {('Det', 'Nominal'): ['NP'],\n     ('NP', 'VP'): ['S'],\n     ('Verb', 'PP'): ['VP']}\n\n        Parameters:\n            grammar_file (str): Text with grammar rules\n                                                                  \n        Returns:\n            grammar_rules (dict): Dictionary with the rules indexed by children\n            lexicon_rules (dict): Dictionary with terminal simbols\n            probabilities (dict): Dictionary with grammar and lexical rules asociated to it's probability\n    '''    \n    gr_temp_rules = list()\n    lexicon_rules = dict()\n    probabilities = dict()\n    grammar_rules = dict()\n    for line in grammar_file.strip().split(\"\\n\"):\n        parent, children = line.strip().split(\"->\")\n        parent = parent.strip()\n        children = children.split()\n        # Lee las reglas lexicas\n        if len(children) == 2:\n            if parent not in lexicon_rules:\n                lexicon_rules[parent] = set()\n            lexicon_rules[parent].add(children[0])\n            probabilities[parent,children[0]] = float(children[1])\n        # Lee las reglas gramaticales\n        else:\n            # Crea la regla (parent, (c1, c2)) como en lisp ;)\n            rule = (parent, tuple(children[:2]))\n            probabilities[rule] = float(children[2])\n            gr_temp_rules.append(rule)\n    # Crear un diccionario con las reglas invertidas, eso permite buscar al nodo padre\n    for (parent, (lc, rc)) in gr_temp_rules:\n        # Si no existe la entrada, se crea\n        if (lc, rc) not in grammar_rules:\n            grammar_rules[lc, rc] = list()\n        # Se agrega el caso\n        grammar_rules[lc,rc].append(parent)\n    return grammar_rules,lexicon_rules,probabilities",
   "execution_count": null,
   "outputs": []
  },
  {
   "cell_type": "markdown",
   "source": "## Algoritmos CKY y PCKY\n\nAhora se implementa el algoritmo CKY, mismo que recibe como entrada una oración en forma de cadena de texto, un diccionario con reglas gramaticales y un lexicón adecuado a la gramática. Opcionalmente, se puede definir el argumento de entrada `verbose` al valor `True`, de esta manera se mostrará en pantalla cada uno de los pasos que sigue el algoritmo para crear la matriz correspondiente. Esta matriz también tendrá forma de diccionario.",
   "metadata": {
    "tags": [],
    "cell_id": "00010-454a2d17-cb63-4123-a1f2-de7e96faa8ac",
    "deepnote_cell_type": "markdown",
    "deepnote_cell_height": 426
   }
  },
  {
   "cell_type": "code",
   "metadata": {
    "deepnote_to_be_reexecuted": false,
    "execution_millis": 2,
    "execution_start": 1659331205531,
    "output_cleared": false,
    "source_hash": "b9f8d6db",
    "tags": [],
    "cell_id": "00011-592afc16-9dd0-4778-82ab-5445e7397ec7",
    "deepnote_cell_type": "code",
    "deepnote_cell_height": 1395
   },
   "source": "def cky_parser(sentence, grammar, lexicon, verbose=False):\n    ''' \n    The function cky_parser implements CKY algorithm.\n\n        Parameters:\n            sentence (str): A sentence to be analyzed\n            grammar (dic): Dictionary with the grammar rules indexed by children\n            lexicon (dic): Dictionary with lexical rules indexed by PoS\n            verbose (bool): If it is True, show every step in the algorithm\n        Returns:\n            matrix_cky (dic): Dictionary with all possible cells written by the algorithm\n    '''\n    words = sentence.lower().split()\n    if verbose:\n        print(words)\n    matrix_cky = dict()\n    for i in range(len(words)):\n        # Las ordenadas van del 0 al 4\n        ordinate = 0\n        if verbose:\n            print(\"0: i=\",i)\n        # Las abscisas van de 1 a 5\n        for abscissa in range(i+1, len(words)+1):\n            # Se agrega una celda\n            matrix_cky[(ordinate, abscissa)] = list()\n            if verbose:\n                print(\"1: abscissa=\",abscissa,\"ordinate=\",ordinate,\"a-o=\",abscissa-ordinate)\n            # Si se opera sobre la diagonal\n            if(abscissa-ordinate == 1):\n                # Combina la palabra con las categorías del lexicón\n                for key in lexicon:\n                    if verbose:\n                        print(\"2: key=\",key,\"word=\",words[ordinate])\n                    # Si la combinación existe en el lexicón se agrega a la matriz\n                    if(words[ordinate] in lexicon[key]):\n                        matrix_cky[(ordinate,abscissa)].append(\n                            (key,0,words[ordinate],words[ordinate]))\n                        if verbose:\n                            print(\"2:\",matrix_cky)\n            # Si hay que operar sobre dos celdas\n            elif(abscissa-ordinate > 1):\n                if verbose:\n                    print(\"3:\",\"(\",ordinate,\",\",abscissa,\")\")\n                # Obtener los valores de las celdas\n                for index in range(abscissa-ordinate-1):\n                    left = matrix_cky[(ordinate,abscissa-1-index)]\n                    down = matrix_cky[(abscissa-1-index,abscissa)]\n                    if verbose:\n                        print(\"4: index=\",index)\n                        print(\"4: left=\",left,\"\\n  \",\"down=\",down)\n                    # Si una de las celdas esta vacía no se hace nada\n                    if not left or not down:\n                        if verbose:\n                            print(\"5: Nothing to do\")\n                    else:\n                        # Combinar los valores de las celdas\n                        for a in left:\n                            for b in down:\n                                # Obtiene el primer elemento de la tupla\n                                # Crea la tupla para buscarla en las reglas\n                                if((a[0],b[0]) in grammar):\n                                    matrix_cky[(ordinate,abscissa)].append(\n                                        (grammar[(a[0],b[0])][0],\n                                        abscissa-1-index,a[0],b[0]))\n                                    if verbose:\n                                        print(\"6: add=\",grammar[(a[0],b[0])][0],abscissa-1-index,a[0],b[0])\n                                else:\n                                    if verbose:\n                                        print(\"6: Nothing to do\")\n            if verbose:\n                print(matrix_cky)\n                print(\"9: Next Ordinate\")\n            ordinate+=1\n    return matrix_cky",
   "execution_count": null,
   "outputs": []
  },
  {
   "cell_type": "markdown",
   "source": "Enseguida se crean dos funciones, la primera, `get_prob()`, se usará para obtener las probabilidades del diccionario de probabilidades, la segunda, `update_prob()`, se usará para actualizar las probabilidades desde los nodos intermedios hasta el nodo padre. ",
   "metadata": {
    "tags": [],
    "cell_id": "00012-13b1464e-647a-4f01-90b5-d3d9af9e9250",
    "deepnote_cell_type": "markdown",
    "deepnote_cell_height": 230
   }
  },
  {
   "cell_type": "code",
   "metadata": {
    "deepnote_to_be_reexecuted": false,
    "execution_millis": 0,
    "execution_start": 1659331205559,
    "output_cleared": true,
    "source_hash": "bd748518",
    "tags": [],
    "cell_id": "00013-ce58d7ee-aaf1-4692-8ab2-8951c865871f",
    "deepnote_cell_type": "code",
    "deepnote_cell_height": 549
   },
   "source": "def get_prob(node, prob_dict):\n    '''\n    The function get_prob gets a probability from a dictionary.\n\n        Parameters:\n            node (tuple): It's a grammar or lexical rule writen in tuple format\n            prob_dict (dict): Dictionary with rules as keys an probabilities as values\n        Returns:\n            prob_dict[node] (float): A probability\n    '''\n    return prob_dict[node]\n\ndef update_prob(left, down, actual, prob_dict):\n    '''\n    The function get_prob gets a probability from a dictionary.\n\n        Parameters:\n            left (tuple): A tuple with information of a left node\n            down (tuple): A tuple with information of a right node\n            actual (str): Parent node value\n            prob_dict (dict): Dictionary with rules as keys an probabilities as values\n        Returns:\n            prob_dict[node] (float): A probability\n    '''\n    actual_prob = get_prob((actual,(left[0],down[0])),prob_dict)\n    prob = left[4]*down[4]*actual_prob\n    return prob",
   "execution_count": null,
   "outputs": []
  },
  {
   "cell_type": "markdown",
   "source": "Se actualiza `cky_parser()`. Ahora `pcky_parser()` agregará la información de la probabilidad a cada lista agregada a `matrix_pcky`.",
   "metadata": {
    "tags": [],
    "cell_id": "00014-9c29e742-1452-4504-b54b-223bee2c9175",
    "deepnote_cell_type": "markdown",
    "deepnote_cell_height": 130
   }
  },
  {
   "cell_type": "code",
   "metadata": {
    "allow_embed": false,
    "deepnote_to_be_reexecuted": false,
    "execution_millis": 1,
    "execution_start": 1659331205559,
    "output_cleared": false,
    "source_hash": "daecb7ed",
    "tags": [],
    "cell_id": "00015-c0276255-8ae0-4c37-b6a4-d157b82bb24f",
    "deepnote_cell_type": "code",
    "deepnote_cell_height": 1467
   },
   "source": "def pcky_parser(sentence, grammar, lexicon, probabilities_table, verbose=False):\n    ''' \n    The function pcky_parser implements PCKY algorithm.\n\n        Parameters:\n            sentence (str): A sentence to be analyzed\n            grammar (dic): Dictionary with the grammar rules indexed by children\n            lexicon (dic): Dictionary with lexical rules indexed by PoS\n            probabilities_table (dic): Dictionary with the probability of lexical and gramar rules\n            verbose (bool): If it is True, show every step in the algorithm\n        Returns:\n            matrix_pcky (dic): Dictionary with all possible cells written by the algorithm\n    '''\n    words = sentence.lower().split()\n    if verbose:\n        print(words)\n    matrix_pcky = dict()\n    for i in range(len(words)):\n        # Las ordenadas van del 0 al 4\n        ordinate = 0\n        if verbose:\n            print(\"0: i=\",i)\n        # Las abscisas van de 1 a 5\n        for abscissa in range(i+1,len(words)+1):\n            # Se agrega una celda\n            matrix_pcky[(ordinate, abscissa)] = list()\n            if verbose:\n                print(\"1: abscissa=\",abscissa,\"ordinate=\",ordinate,\"a-o=\",abscissa-ordinate)\n            # Si se opera sobre la diagonal\n            if(abscissa-ordinate == 1):\n                # Combina la palabra con las categorías del lexicón\n                for key in lexicon:\n                    if verbose:\n                        print(\"2: key=\",key,\"word=\",words[ordinate])\n                    # Si la combinación existe en el lexicón se agrega a la matriz\n                    if(words[ordinate] in lexicon[key]):\n                        matrix_pcky[(ordinate,abscissa)].append(\n                            (key,0,words[ordinate],words[ordinate],\n                            get_prob((key,words[ordinate]),probabilities_table)))\n                        if verbose:\n                            print(\"2:\",matrix_pcky)\n            # Si hay que operar sobre dos celdas\n            elif(abscissa-ordinate > 1):\n                if verbose:\n                    print(\"3:\",\"(\",ordinate,\",\",abscissa,\")\")\n                # Obtener los valores de las celdas\n                for index in range(abscissa-ordinate-1):\n                    left = matrix_pcky[(ordinate,abscissa-1-index)]\n                    down = matrix_pcky[(abscissa-1-index,abscissa)]\n                    if verbose:\n                        print(\"4: index=\",index)\n                        print(\"4: left=\",left,\"\\n  \",\"down=\",down)\n                    # Si una de las celdas esta vacía no se hace nada\n                    if not left or not down:\n                        if verbose:\n                            print(\"5: Nothing to do\")\n                    else:\n                        # Combinar los valores de las celdas\n                        for a in left:\n                            for b in down:\n                                # Obtiene el primer elemento de la tupla\n                                # Crea la tupla para buscarla en las reglas\n                                if((a[0],b[0]) in grammar):\n                                    matrix_pcky[(ordinate,abscissa)].append(\n                                        (grammar[(a[0],b[0])][0],\n                                        abscissa-1-index,a[0],b[0],\n                                        update_prob(a,b,grammar[(a[0],b[0])][0],probabilities_table))\n                                        )\n                                    if verbose:\n                                        print(\"6: add=\",grammar[(a[0],b[0])][0],abscissa-1-index,a[0],b[0])\n                                else:\n                                    if verbose:\n                                        print(\"6: Nothing to do\")\n            if verbose:\n                print(matrix_pcky)\n                print(\"9: Next Ordinate\")\n            ordinate+=1\n    return matrix_pcky",
   "execution_count": null,
   "outputs": []
  },
  {
   "cell_type": "markdown",
   "source": "## Obtención de resultados\n\nLa función `tree()` recorre una matriz generada por el algoritmo CKY en busca de árboles a partir del valor de un nodo en particular, tomando en cuenta una ruta a través de un índice creado por el algoritmo. ",
   "metadata": {
    "tags": [],
    "cell_id": "00016-e35a2821-10f4-47d3-81a7-38a7e618b838",
    "deepnote_cell_type": "markdown",
    "deepnote_cell_height": 276
   }
  },
  {
   "cell_type": "code",
   "metadata": {
    "deepnote_to_be_reexecuted": false,
    "execution_millis": 8,
    "execution_start": 1659331205564,
    "output_cleared": false,
    "source_hash": "30a3a67a",
    "tags": [],
    "cell_id": "00017-dbb37431-292e-490c-9eb5-ea0666dca1ef",
    "deepnote_cell_type": "code",
    "deepnote_cell_height": 1467
   },
   "source": "def tree (matrix, cell, parent=\"S\", index=0, pcky=False):\n    '''\n    Create a tree from a matrix created by the CKY algorithm.\n    See def cky_parser(sentence, grammar, lexicon, verbose=False) function.\n\n        Parameters:\n            matrix (dic): Dictionary with CKY algorithm information\n            cell (tuple): Node in the matrix to start the analysis\n            parent (str): Axiom in the grammar or parent node value for the tree\n            index (int): If there is more than one value in cell, this variable let choose which one analyze\n            pcky (bool): Enable if matrix contains PCKY algorithm information\n        Returns:\n            list (list): A list with trees in list shape\n    '''\n    list = []\n    # Revisa que la lista no este vacía\n    if len(matrix[cell]) == 0:\n        return list\n    # Revisa que el índice sea 0, significa que es una hoja\n    if matrix[cell][0][1] == 0:\n        # Encuentra la hoja que corresponde\n        if matrix[cell][index][0] == parent:\n            if pcky:\n                return [(matrix[cell][index][0],matrix[cell][index][4]),\n                         matrix[cell][index][2]]\n            else:\n                return [matrix[cell][index][0], matrix[cell][index][2]]\n        else:\n            # Busca en otra hoja\n            if index+1 < len(matrix[cell]):\n                if pcky:\n                    return tree(matrix,cell,parent,index+1,pcky=True)\n                else:\n                    return tree(matrix,cell,parent,index+1)\n            else:\n                return list\n    # Si no es una hoja, revisa si es la opción correcta\n    elif (matrix[cell][index][0]) == parent:\n        # Agrega el símbolo\n        if pcky:\n            list.append((matrix[cell][index][0],matrix[cell][index][4]))\n        else:\n            list.append(matrix[cell][index][0])\n        # Buscar hijos\n        child = []\n        # Hijo derecho\n        if pcky:\n            child.append(\n                tree(matrix,\n                     (cell[0],matrix[cell][index][1]),\n                     matrix[cell][index][2],pcky=True))\n        else:\n            child.append(\n                tree(matrix,\n                     (cell[0],matrix[cell][index][1]),\n                     matrix[cell][index][2]))\n        # Hijo izquierdo\n        if pcky:\n            child.append(\n                tree(matrix,\n                     (matrix[cell][index][1],cell[1]),\n                     matrix[cell][index][3],pcky=True))\n        else:\n            child.append(\n                tree(matrix,\n                     (matrix[cell][index][1],cell[1]),\n                     matrix[cell][index][3]))\n        #Agrega child a la lista\n        list.append(child)\n        return list\n    else:\n        if index+1 < len(matrix[cell]):\n            if pcky:\n                return tree(matrix,cell,parent,index+1,pcky=True)\n            else:\n                return tree(matrix,cell,parent,index+1)\n        else:\n            return list",
   "execution_count": null,
   "outputs": []
  },
  {
   "cell_type": "markdown",
   "source": "La función `find_solutions()` servirá como _frontend_ para todas las funciones anteriores, brindará la respuesta propuesta por el algoritmo.",
   "metadata": {
    "tags": [],
    "cell_id": "00018-f0c1a222-4e1c-447e-86a1-2fa41e3f73e3",
    "deepnote_cell_type": "markdown",
    "deepnote_cell_height": 130
   }
  },
  {
   "cell_type": "code",
   "metadata": {
    "deepnote_to_be_reexecuted": false,
    "execution_millis": 3,
    "execution_start": 1659331205580,
    "source_hash": "87db1a70",
    "tags": [],
    "cell_id": "00019-c4f8c998-7cc9-4048-92b2-88e1e0692315",
    "deepnote_cell_type": "code",
    "deepnote_cell_height": 819
   },
   "source": "def find_solutions(sentence, grammar, lexicon, axiom, probabilities_table={}, verbose=False):\n    '''\n    Find all possible solutions of a CKY analysis in a sentence.\n\n        Parameters:\n            sentence (str): A sentence to be analyzed\n            grammar (dic): Dictionary with the grammar rules indexed by children\n            lexicon (dic): Dictionary with lexical rules indexed by PoS\n            axiom (str): Axiom in the grammar\n            probabilities_table (dic): Dictionary with the probability of lexical and gramar rules\n            verbose (bool): If it is True, show every step in the algorithm\n\n        Returns:\n            solutions (list): List with all possible solutinos suggested by the algorithm\n            df (dataframe): Data frame with the CKY matrix, useful for printing\n    '''\n    N = len(sentence.split())\n    solutions = list()\n    if probabilities_table:\n        matrix = pcky_parser(sentence,grammar,lexicon,probabilities_table,verbose)\n        candidates = list()\n        # Busca en (0,N) aquellas listas que contengan el axioma\n        for i in enumerate(matrix[(0,N)]):\n            if i[1][0] == axiom:\n                # En candidates se guarda el índice y la probabilidad\n                candidates.append([i[0],i[1][4]])\n        # Selecciona aquel con mayor probabilidad\n        candidates = max(candidates,key=itemgetter(1))\n        solutions = tree(matrix,(0,N),index=candidates[0],pcky=True)\n    else:\n        matrix = cky_parser(sentence,grammar,lexicon,verbose)\n        for i in enumerate(matrix[(0,N)]):\n            if i[1][0] == axiom:\n                solutions.append(tree(matrix,(0,N),index=i[0]))\n    # Crea un dataframe, útil para ver la matriz\n    df = pd.DataFrame(columns = [i for i in range(0,N)],\n                        index = [i for i in range(1,N+1)])\n    for i in range(0,5):\n        for j in range(0,5-i):\n            df.loc[j+i+1,i] = matrix[(i,j+i+1)]\n    df = df.transpose()\n    return solutions, df",
   "execution_count": null,
   "outputs": []
  },
  {
   "cell_type": "code",
   "metadata": {
    "cell_id": "fd1ca87ae0f2471ba95b384b98214b71",
    "tags": [],
    "deepnote_to_be_reexecuted": false,
    "source_hash": "51234cde",
    "execution_start": 1659331205586,
    "execution_millis": 4,
    "deepnote_cell_type": "code",
    "deepnote_cell_height": 81
   },
   "source": "grammar_rules, lexicon_rules, probabilities = read_rules(grammar_file)",
   "execution_count": null,
   "outputs": []
  },
  {
   "cell_type": "code",
   "metadata": {
    "deepnote_to_be_reexecuted": false,
    "execution_millis": 360,
    "execution_start": 1659331205593,
    "source_hash": "ab24d0bb",
    "tags": [],
    "cell_id": "00020-fb337946-e035-4086-8bea-6bec16c7fa1d",
    "deepnote_cell_type": "code",
    "deepnote_cell_height": 795
   },
   "source": "options, matrix = find_solutions(\"Time flies like an arrow\",\n                        grammar_rules,lexicon_rules,\"S\")\npprint(options)\nmatrix",
   "execution_count": null,
   "outputs": [
    {
     "name": "stdout",
     "text": "[['S',\n  [['NP', [['Nominal', 'time'], ['Nominal', 'flies']]],\n   ['VP', [['Verb', 'like'], ['NP', [['Det', 'an'], ['Nominal', 'arrow']]]]]]],\n ['S',\n  [['NP', 'time'],\n   ['VP',\n    [['Verb', 'flies'],\n     ['PP',\n      [['Preposition', 'like'],\n       ['NP', [['Det', 'an'], ['Nominal', 'arrow']]]]]]]]]]\n",
     "output_type": "stream"
    },
    {
     "output_type": "execute_result",
     "execution_count": 10,
     "data": {
      "application/vnd.deepnote.dataframe.v3+json": {
       "column_count": 5,
       "row_count": 5,
       "columns": [
        {
         "name": 1,
         "dtype": "object",
         "stats": {
          "unique_count": 5,
          "nan_count": 4,
          "categories": [
           {
            "name": "[('NP', 0, 'time', 'time'), ('Nominal', 0, 'time', 'time'), ('VP', 0, 'time', 'time'), ('Verb', 0, 'time', 'time'), ('Noun', 0, 'time', 'time')]",
            "count": 1
           },
           {
            "name": "Missing",
            "count": 4
           }
          ]
         }
        },
        {
         "name": 2,
         "dtype": "object",
         "stats": {
          "unique_count": 5,
          "nan_count": 3,
          "categories": [
           {
            "name": "[('S', 1, 'NP', 'VP'), ('NP', 1, 'Nominal', 'Nominal'), ('Nominal', 1, 'Nominal', 'Noun'), ('VP', 1, 'Verb', 'NP')]",
            "count": 1
           },
           {
            "name": "[('NP', 0, 'flies', 'flies'), ('Nominal', 0, 'flies', 'flies'), ('VP', 0, 'flies', 'flies'), ('Verb', 0, 'flies', 'flies'), ('Noun', 0, 'flies', 'flies')]",
            "count": 1
           },
           {
            "name": "Missing",
            "count": 3
           }
          ]
         }
        },
        {
         "name": 3,
         "dtype": "object",
         "stats": {
          "unique_count": 5,
          "nan_count": 2,
          "categories": [
           {
            "name": "[('S', 2, 'NP', 'VP')]",
            "count": 2
           },
           {
            "name": "[('VP', 0, 'like', 'like'), ('Verb', 0, 'like', 'like'), ('Preposition', 0, 'like', 'like')]",
            "count": 1
           },
           {
            "name": "Missing",
            "count": 2
           }
          ]
         }
        },
        {
         "name": 4,
         "dtype": "object",
         "stats": {
          "unique_count": 5,
          "nan_count": 1,
          "categories": [
           {
            "name": "[]",
            "count": 3
           },
           {
            "name": "[('Det', 0, 'an', 'an')]",
            "count": 1
           },
           {
            "name": "Missing",
            "count": 1
           }
          ]
         }
        },
        {
         "name": 5,
         "dtype": "object",
         "stats": {
          "unique_count": 5,
          "nan_count": 0,
          "categories": [
           {
            "name": "[('S', 2, 'NP', 'VP'), ('Nominal', 2, 'Nominal', 'PP'), ('S', 1, 'NP', 'VP'), ('NP', 1, 'Nominal', 'Nominal')]",
            "count": 1
           },
           {
            "name": "[('S', 2, 'NP', 'VP'), ('Nominal', 2, 'Nominal', 'PP'), ('VP', 2, 'Verb', 'PP')]",
            "count": 1
           },
           {
            "name": "3 others",
            "count": 3
           }
          ]
         }
        },
        {
         "name": "_deepnote_index_column",
         "dtype": "int64"
        }
       ],
       "rows": [
        {
         "1": "[('NP', 0, 'time', 'time'), ('Nominal', 0, 'time', 'time'), ('VP', 0, 'time', 'time'), ('Verb', 0, 'time', 'time'), ('Noun', 0, 'time', 'time')]",
         "2": "[('S', 1, 'NP', 'VP'), ('NP', 1, 'Nominal', 'Nominal'), ('Nominal', 1, 'Nominal', 'Noun'), ('VP', 1, 'Verb', 'NP')]",
         "3": "[('S', 2, 'NP', 'VP')]",
         "4": "[]",
         "5": "[('S', 2, 'NP', 'VP'), ('Nominal', 2, 'Nominal', 'PP'), ('S', 1, 'NP', 'VP'), ('NP', 1, 'Nominal', 'Nominal')]",
         "_deepnote_index_column": 0
        },
        {
         "1": "nan",
         "2": "[('NP', 0, 'flies', 'flies'), ('Nominal', 0, 'flies', 'flies'), ('VP', 0, 'flies', 'flies'), ('Verb', 0, 'flies', 'flies'), ('Noun', 0, 'flies', 'flies')]",
         "3": "[('S', 2, 'NP', 'VP')]",
         "4": "[]",
         "5": "[('S', 2, 'NP', 'VP'), ('Nominal', 2, 'Nominal', 'PP'), ('VP', 2, 'Verb', 'PP')]",
         "_deepnote_index_column": 1
        },
        {
         "1": "nan",
         "2": "nan",
         "3": "[('VP', 0, 'like', 'like'), ('Verb', 0, 'like', 'like'), ('Preposition', 0, 'like', 'like')]",
         "4": "[]",
         "5": "[('VP', 3, 'Verb', 'NP'), ('PP', 3, 'Preposition', 'NP')]",
         "_deepnote_index_column": 2
        },
        {
         "1": "nan",
         "2": "nan",
         "3": "nan",
         "4": "[('Det', 0, 'an', 'an')]",
         "5": "[('NP', 4, 'Det', 'Nominal')]",
         "_deepnote_index_column": 3
        },
        {
         "1": "nan",
         "2": "nan",
         "3": "nan",
         "4": "nan",
         "5": "[('NP', 0, 'arrow', 'arrow'), ('Nominal', 0, 'arrow', 'arrow'), ('Noun', 0, 'arrow', 'arrow')]",
         "_deepnote_index_column": 4
        }
       ]
      },
      "text/plain": "                                                   1  \\\n0  [(NP, 0, time, time), (Nominal, 0, time, time)...   \n1                                                NaN   \n2                                                NaN   \n3                                                NaN   \n4                                                NaN   \n\n                                                   2  \\\n0  [(S, 1, NP, VP), (NP, 1, Nominal, Nominal), (N...   \n1  [(NP, 0, flies, flies), (Nominal, 0, flies, fl...   \n2                                                NaN   \n3                                                NaN   \n4                                                NaN   \n\n                                                   3                   4  \\\n0                                   [(S, 2, NP, VP)]                  []   \n1                                   [(S, 2, NP, VP)]                  []   \n2  [(VP, 0, like, like), (Verb, 0, like, like), (...                  []   \n3                                                NaN  [(Det, 0, an, an)]   \n4                                                NaN                 NaN   \n\n                                                   5  \n0  [(S, 2, NP, VP), (Nominal, 2, Nominal, PP), (S...  \n1  [(S, 2, NP, VP), (Nominal, 2, Nominal, PP), (V...  \n2      [(VP, 3, Verb, NP), (PP, 3, Preposition, NP)]  \n3                            [(NP, 4, Det, Nominal)]  \n4  [(NP, 0, arrow, arrow), (Nominal, 0, arrow, ar...  ",
      "text/html": "<div>\n<style scoped>\n    .dataframe tbody tr th:only-of-type {\n        vertical-align: middle;\n    }\n\n    .dataframe tbody tr th {\n        vertical-align: top;\n    }\n\n    .dataframe thead th {\n        text-align: right;\n    }\n</style>\n<table border=\"1\" class=\"dataframe\">\n  <thead>\n    <tr style=\"text-align: right;\">\n      <th></th>\n      <th>1</th>\n      <th>2</th>\n      <th>3</th>\n      <th>4</th>\n      <th>5</th>\n    </tr>\n  </thead>\n  <tbody>\n    <tr>\n      <th>0</th>\n      <td>[(NP, 0, time, time), (Nominal, 0, time, time)...</td>\n      <td>[(S, 1, NP, VP), (NP, 1, Nominal, Nominal), (N...</td>\n      <td>[(S, 2, NP, VP)]</td>\n      <td>[]</td>\n      <td>[(S, 2, NP, VP), (Nominal, 2, Nominal, PP), (S...</td>\n    </tr>\n    <tr>\n      <th>1</th>\n      <td>NaN</td>\n      <td>[(NP, 0, flies, flies), (Nominal, 0, flies, fl...</td>\n      <td>[(S, 2, NP, VP)]</td>\n      <td>[]</td>\n      <td>[(S, 2, NP, VP), (Nominal, 2, Nominal, PP), (V...</td>\n    </tr>\n    <tr>\n      <th>2</th>\n      <td>NaN</td>\n      <td>NaN</td>\n      <td>[(VP, 0, like, like), (Verb, 0, like, like), (...</td>\n      <td>[]</td>\n      <td>[(VP, 3, Verb, NP), (PP, 3, Preposition, NP)]</td>\n    </tr>\n    <tr>\n      <th>3</th>\n      <td>NaN</td>\n      <td>NaN</td>\n      <td>NaN</td>\n      <td>[(Det, 0, an, an)]</td>\n      <td>[(NP, 4, Det, Nominal)]</td>\n    </tr>\n    <tr>\n      <th>4</th>\n      <td>NaN</td>\n      <td>NaN</td>\n      <td>NaN</td>\n      <td>NaN</td>\n      <td>[(NP, 0, arrow, arrow), (Nominal, 0, arrow, ar...</td>\n    </tr>\n  </tbody>\n</table>\n</div>"
     },
     "metadata": {}
    }
   ]
  },
  {
   "cell_type": "code",
   "metadata": {
    "allow_embed": false,
    "deepnote_to_be_reexecuted": false,
    "execution_millis": 261,
    "execution_start": 1659331205699,
    "source_hash": "c181e2ad",
    "tags": [],
    "cell_id": "00021-501b4cbe-d222-4717-b18e-ad7c786a33f7",
    "deepnote_cell_type": "code",
    "deepnote_cell_height": 739
   },
   "source": "options, matrix = find_solutions(\"Time flies like an arrow\",\n                        grammar_rules,lexicon_rules,\"S\",probabilities)\npprint(options)\nmatrix",
   "execution_count": null,
   "outputs": [
    {
     "name": "stdout",
     "text": "[('S', 9.600000000000002e-13),\n [[('NP', 0.002), 'time'],\n  [('VP', 6.000000000000001e-10),\n   [[('Verb', 0.02), 'flies'],\n    [('PP', 1.5000000000000002e-07),\n     [[('Preposition', 0.05), 'like'],\n      [('NP', 3e-05),\n       [[('Det', 0.05), 'an'], [('Nominal', 0.002), 'arrow']]]]]]]]]\n",
     "output_type": "stream"
    },
    {
     "output_type": "execute_result",
     "execution_count": 11,
     "data": {
      "application/vnd.deepnote.dataframe.v3+json": {
       "column_count": 5,
       "row_count": 5,
       "columns": [
        {
         "name": 1,
         "dtype": "object",
         "stats": {
          "unique_count": 5,
          "nan_count": 4,
          "categories": [
           {
            "name": "[('NP', 0, 'time', 'time', 0.002), ('Nominal', 0, 'time', 'time', 0.002), ('VP', 0, 'time', 'time', 0.004), ('Verb', 0, 'time', 'time', 0.01), ('Noun', 0, 'time', 'time', 0.01)]",
            "count": 1
           },
           {
            "name": "Missing",
            "count": 4
           }
          ]
         }
        },
        {
         "name": 2,
         "dtype": "object",
         "stats": {
          "unique_count": 5,
          "nan_count": 3,
          "categories": [
           {
            "name": "[('S', 1, 'NP', 'VP', 1.28e-05), ('NP', 1, 'Nominal', 'Nominal', 8e-07), ('Nominal', 1, 'Nominal', 'Noun', 2.0000000000000003e-06), ('VP', 1, 'Verb', 'NP', 6e-06)]",
            "count": 1
           },
           {
            "name": "[('NP', 0, 'flies', 'flies', 0.002), ('Nominal', 0, 'flies', 'flies', 0.002), ('VP', 0, 'flies', 'flies', 0.008), ('Verb', 0, 'flies', 'flies', 0.02), ('Noun', 0, 'flies', 'flies', 0.01)]",
            "count": 1
           },
           {
            "name": "Missing",
            "count": 3
           }
          ]
         }
        },
        {
         "name": 3,
         "dtype": "object",
         "stats": {
          "unique_count": 5,
          "nan_count": 2,
          "categories": [
           {
            "name": "[('S', 2, 'NP', 'VP', 5.1200000000000005e-09)]",
            "count": 1
           },
           {
            "name": "2 others",
            "count": 2
           },
           {
            "name": "Missing",
            "count": 2
           }
          ]
         }
        },
        {
         "name": 4,
         "dtype": "object",
         "stats": {
          "unique_count": 5,
          "nan_count": 1,
          "categories": [
           {
            "name": "[]",
            "count": 3
           },
           {
            "name": "[('Det', 0, 'an', 'an', 0.05)]",
            "count": 1
           },
           {
            "name": "Missing",
            "count": 1
           }
          ]
         }
        },
        {
         "name": 5,
         "dtype": "object",
         "stats": {
          "unique_count": 5,
          "nan_count": 0,
          "categories": [
           {
            "name": "[('S', 2, 'NP', 'VP', 1.1520000000000003e-13), ('Nominal', 2, 'Nominal', 'PP', 6.000000000000002e-14), ('S', 1, 'NP', 'VP', 9.600000000000002e-13), ('NP', 1, 'Nominal', 'Nominal', 2.4000000000000005e-14)]",
            "count": 1
           },
           {
            "name": "[('S', 2, 'NP', 'VP', 2.8800000000000004e-10), ('Nominal', 2, 'Nominal', 'PP', 6.000000000000001e-11), ('VP', 2, 'Verb', 'PP', 6.000000000000001e-10)]",
            "count": 1
           },
           {
            "name": "3 others",
            "count": 3
           }
          ]
         }
        },
        {
         "name": "_deepnote_index_column",
         "dtype": "int64"
        }
       ],
       "rows": [
        {
         "1": "[('NP', 0, 'time', 'time', 0.002), ('Nominal', 0, 'time', 'time', 0.002), ('VP', 0, 'time', 'time', 0.004), ('Verb', 0, 'time', 'time', 0.01), ('Noun', 0, 'time', 'time', 0.01)]",
         "2": "[('S', 1, 'NP', 'VP', 1.28e-05), ('NP', 1, 'Nominal', 'Nominal', 8e-07), ('Nominal', 1, 'Nominal', 'Noun', 2.0000000000000003e-06), ('VP', 1, 'Verb', 'NP', 6e-06)]",
         "3": "[('S', 2, 'NP', 'VP', 5.1200000000000005e-09)]",
         "4": "[]",
         "5": "[('S', 2, 'NP', 'VP', 1.1520000000000003e-13), ('Nominal', 2, 'Nominal', 'PP', 6.000000000000002e-14), ('S', 1, 'NP', 'VP', 9.600000000000002e-13), ('NP', 1, 'Nominal', 'Nominal', 2.4000000000000005e-14)]",
         "_deepnote_index_column": 0
        },
        {
         "1": "nan",
         "2": "[('NP', 0, 'flies', 'flies', 0.002), ('Nominal', 0, 'flies', 'flies', 0.002), ('VP', 0, 'flies', 'flies', 0.008), ('Verb', 0, 'flies', 'flies', 0.02), ('Noun', 0, 'flies', 'flies', 0.01)]",
         "3": "[('S', 2, 'NP', 'VP', 1.28e-05)]",
         "4": "[]",
         "5": "[('S', 2, 'NP', 'VP', 2.8800000000000004e-10), ('Nominal', 2, 'Nominal', 'PP', 6.000000000000001e-11), ('VP', 2, 'Verb', 'PP', 6.000000000000001e-10)]",
         "_deepnote_index_column": 1
        },
        {
         "1": "nan",
         "2": "nan",
         "3": "[('VP', 0, 'like', 'like', 0.008), ('Verb', 0, 'like', 'like', 0.02), ('Preposition', 0, 'like', 'like', 0.05)]",
         "4": "[]",
         "5": "[('VP', 3, 'Verb', 'NP', 1.8000000000000002e-07), ('PP', 3, 'Preposition', 'NP', 1.5000000000000002e-07)]",
         "_deepnote_index_column": 2
        },
        {
         "1": "nan",
         "2": "nan",
         "3": "nan",
         "4": "[('Det', 0, 'an', 'an', 0.05)]",
         "5": "[('NP', 4, 'Det', 'Nominal', 3e-05)]",
         "_deepnote_index_column": 3
        },
        {
         "1": "nan",
         "2": "nan",
         "3": "nan",
         "4": "nan",
         "5": "[('NP', 0, 'arrow', 'arrow', 0.002), ('Nominal', 0, 'arrow', 'arrow', 0.002), ('Noun', 0, 'arrow', 'arrow', 0.01)]",
         "_deepnote_index_column": 4
        }
       ]
      },
      "text/plain": "                                                   1  \\\n0  [(NP, 0, time, time, 0.002), (Nominal, 0, time...   \n1                                                NaN   \n2                                                NaN   \n3                                                NaN   \n4                                                NaN   \n\n                                                   2  \\\n0  [(S, 1, NP, VP, 1.28e-05), (NP, 1, Nominal, No...   \n1  [(NP, 0, flies, flies, 0.002), (Nominal, 0, fl...   \n2                                                NaN   \n3                                                NaN   \n4                                                NaN   \n\n                                                   3  \\\n0           [(S, 2, NP, VP, 5.1200000000000005e-09)]   \n1                         [(S, 2, NP, VP, 1.28e-05)]   \n2  [(VP, 0, like, like, 0.008), (Verb, 0, like, l...   \n3                                                NaN   \n4                                                NaN   \n\n                          4                                                  5  \n0                        []  [(S, 2, NP, VP, 1.1520000000000003e-13), (Nomi...  \n1                        []  [(S, 2, NP, VP, 2.8800000000000004e-10), (Nomi...  \n2                        []  [(VP, 3, Verb, NP, 1.8000000000000002e-07), (P...  \n3  [(Det, 0, an, an, 0.05)]                     [(NP, 4, Det, Nominal, 3e-05)]  \n4                       NaN  [(NP, 0, arrow, arrow, 0.002), (Nominal, 0, ar...  ",
      "text/html": "<div>\n<style scoped>\n    .dataframe tbody tr th:only-of-type {\n        vertical-align: middle;\n    }\n\n    .dataframe tbody tr th {\n        vertical-align: top;\n    }\n\n    .dataframe thead th {\n        text-align: right;\n    }\n</style>\n<table border=\"1\" class=\"dataframe\">\n  <thead>\n    <tr style=\"text-align: right;\">\n      <th></th>\n      <th>1</th>\n      <th>2</th>\n      <th>3</th>\n      <th>4</th>\n      <th>5</th>\n    </tr>\n  </thead>\n  <tbody>\n    <tr>\n      <th>0</th>\n      <td>[(NP, 0, time, time, 0.002), (Nominal, 0, time...</td>\n      <td>[(S, 1, NP, VP, 1.28e-05), (NP, 1, Nominal, No...</td>\n      <td>[(S, 2, NP, VP, 5.1200000000000005e-09)]</td>\n      <td>[]</td>\n      <td>[(S, 2, NP, VP, 1.1520000000000003e-13), (Nomi...</td>\n    </tr>\n    <tr>\n      <th>1</th>\n      <td>NaN</td>\n      <td>[(NP, 0, flies, flies, 0.002), (Nominal, 0, fl...</td>\n      <td>[(S, 2, NP, VP, 1.28e-05)]</td>\n      <td>[]</td>\n      <td>[(S, 2, NP, VP, 2.8800000000000004e-10), (Nomi...</td>\n    </tr>\n    <tr>\n      <th>2</th>\n      <td>NaN</td>\n      <td>NaN</td>\n      <td>[(VP, 0, like, like, 0.008), (Verb, 0, like, l...</td>\n      <td>[]</td>\n      <td>[(VP, 3, Verb, NP, 1.8000000000000002e-07), (P...</td>\n    </tr>\n    <tr>\n      <th>3</th>\n      <td>NaN</td>\n      <td>NaN</td>\n      <td>NaN</td>\n      <td>[(Det, 0, an, an, 0.05)]</td>\n      <td>[(NP, 4, Det, Nominal, 3e-05)]</td>\n    </tr>\n    <tr>\n      <th>4</th>\n      <td>NaN</td>\n      <td>NaN</td>\n      <td>NaN</td>\n      <td>NaN</td>\n      <td>[(NP, 0, arrow, arrow, 0.002), (Nominal, 0, ar...</td>\n    </tr>\n  </tbody>\n</table>\n</div>"
     },
     "metadata": {}
    }
   ]
  },
  {
   "cell_type": "markdown",
   "source": "## Cuestionario\n\n1. ¿Es correcto el análisis sintáctico que se ha obtenido? Justifica la respuesta.\n\nSí. Basado en la gramática proporcionada el resultado es satisfactorio y se muestra a continuación.\n\n\\usepackage{tikz}\n\\usepackage{tikz-qtree}\n\\begin{figure}[!ht]\n    \\centering\n        \\Tree [.S~(9.600000000000002e-13)\n                [.NP~(0.002) time ]\n                [.VP \n                    [.Verb~(0.02) flies ]\n                    [.PP~(1.5000000000000002e-07) \n                        [.Preposition~(0.05) like ]\n                        [.NP~(3e-05) \n                            [.Det~(0.05) an ]\n                            [.Nominal~(0.002) arrow ] ] ] ] ]\n\\caption{Árbol sintáctico proporcionado por el algoritmo PCKY}\n\\end{figure}\n\n2. ¿Cuáles son las limitaciones de aplicar el algoritmo CKY probabilístico para realizar el análisis sintáctico? Justifica la respuesta.\n\nLos problemas se presentan debido a la información guardada en la gramática, si ésta no tiene un elemento particular necesario para el análisis, proporcionará resultados truncos.\n\nPor supuesto, las probabilidades de aparición de la gramática podrían llevar a resultados dudosos, incluso cuando su objetivo es el contrario, pero estas probabilidades siempre dependerán del corpus de origen, que puede ser distinto al de la oración a analizar, ya sea en registro, en dialecto, etc.\n\nEn el caso particular de este ejercicio, el hecho de tener algunos símbolos intermedios creados para llegar a la forma normal de Chomsky permite que el algoritmo genere posibles soluciones impensables para el análisis linguístico. El algoritmo CKY propone dos soluciones y el PCKY seleccionó el correcto, pero si se examina la opción desechada se puede observar:\n\n    ['NP', [['Nominal', 'time'], ['Nominal', 'flies']]]\n\nLo cual es un elemento impensable pues sugiere que una frase nomimal puede tener dos núcleos. Este análisis va en contra del principio de endocentrismo que establece, como su nombre indica, que cada frase tiene un núcleo que determina el tipo de la frase.\n\nFinalmente, el algoritmo que usa este tipo de gramáticas, arrastra la misma gran crítica que los lingǘistas hacen a la teoría de Chomsky: No es capaz de analizar lenguas aglutinantes. \n\n3. ¿Qué posibles mejoras que se podrían aplicar para mejorar el rendimiento del análisis sintáctico? Justifica la respuesta.\n\nEl algoritmo se basa en el uso de cualquier gramática en forma normal de Chomsky, esto es porque computacionalmente es posible generar automáticamente generadas mediante corpus de análisis, sin embargo, el programa minimalista de Chomsky sugiere la teoría X-barra que tiene su principio en los estudios de Ray Jackendoff. Esta teoría proporciona la posibilidad de crear gramáticas consistentes siempre en la forma normal de Chomsky. Dejar de ignorar el conocimiento linguístico proporcionaría mejores gramáticas para la IA.\n\nPor otra parte, analizar solo las probabilidades de los subárboles que llevan a una propuesta de solución aumentaría el rendimiento a nivel de cómputo.\n\n ",
   "metadata": {
    "owner_user_id": "41b68b99-1317-46a8-8d9f-507b7d8fe1ab",
    "tags": [],
    "cell_id": "00026-29024627-2f74-40b8-98a0-53cec4e26fcc",
    "deepnote_cell_type": "markdown",
    "deepnote_cell_height": 2410
   }
  },
  {
   "cell_type": "markdown",
   "source": "<a style='text-decoration:none;line-height:16px;display:flex;color:#5B5B62;padding:10px;justify-content:end;' href='https://deepnote.com?utm_source=created-in-deepnote-cell&projectId=16bbac0e-c0cf-475a-9977-7067c93e2eaf' target=\"_blank\">\n<img alt='Created in deepnote.com' style='display:inline;max-height:16px;margin:0px;margin-right:7.5px;' src='data:image/svg+xml;base64,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' > </img>\nCreated in <span style='font-weight:600;margin-left:4px;'>Deepnote</span></a>",
   "metadata": {
    "tags": [],
    "created_in_deepnote_cell": true,
    "deepnote_cell_type": "markdown"
   }
  }
 ],
 "nbformat": 4,
 "nbformat_minor": 5,
 "metadata": {
  "kernelspec": {
   "display_name": "Python 3 (ipykernel)",
   "language": "python",
   "name": "python3"
  },
  "deepnote_notebook_id": "923ca9a2-4876-402d-afb7-6293e8e4ec3e",
  "deepnote": {},
  "deepnote_execution_queue": []
 }
}