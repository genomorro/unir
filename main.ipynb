{
 "cells": [
  {
   "cell_type": "markdown",
   "id": "aa04a17f-595c-4ec0-83d9-0797c290a8b8",
   "metadata": {},
   "source": [
    "# Árboles de regresión y random forest para regresión y clasificación\n",
    "\n",
    "## Librerías a utilizar"
   ]
  },
  {
   "cell_type": "code",
   "execution_count": 1,
   "id": "91e95456-cc94-48a0-89ed-af8f685613bb",
   "metadata": {},
   "outputs": [
    {
     "ename": "ModuleNotFoundError",
     "evalue": "No module named 'seaborn'",
     "output_type": "error",
     "traceback": [
      "\u001b[0;31m---------------------------------------------------------------------------\u001b[0m",
      "\u001b[0;31mModuleNotFoundError\u001b[0m                       Traceback (most recent call last)",
      "\u001b[0;32m/tmp/ipykernel_386/687462750.py\u001b[0m in \u001b[0;36m<module>\u001b[0;34m\u001b[0m\n\u001b[1;32m      1\u001b[0m \u001b[0;32mimport\u001b[0m \u001b[0mpandas\u001b[0m \u001b[0;32mas\u001b[0m \u001b[0mpd\u001b[0m\u001b[0;34m\u001b[0m\u001b[0;34m\u001b[0m\u001b[0m\n\u001b[1;32m      2\u001b[0m \u001b[0;32mimport\u001b[0m \u001b[0mmatplotlib\u001b[0m\u001b[0;34m.\u001b[0m\u001b[0mpyplot\u001b[0m \u001b[0;32mas\u001b[0m \u001b[0mplt\u001b[0m\u001b[0;34m\u001b[0m\u001b[0;34m\u001b[0m\u001b[0m\n\u001b[0;32m----> 3\u001b[0;31m \u001b[0;32mimport\u001b[0m \u001b[0mseaborn\u001b[0m \u001b[0;32mas\u001b[0m \u001b[0msns\u001b[0m\u001b[0;34m\u001b[0m\u001b[0;34m\u001b[0m\u001b[0m\n\u001b[0m",
      "\u001b[0;31mModuleNotFoundError\u001b[0m: No module named 'seaborn'"
     ]
    }
   ],
   "source": [
    "import pandas as pd\n",
    "import matplotlib.pyplot as plt\n",
    "import seaborn as sns"
   ]
  },
  {
   "cell_type": "markdown",
   "id": "5c8d3451-be5d-44df-a47b-b36e0e48cf2f",
   "metadata": {},
   "source": [
    "## Carga de datasets"
   ]
  },
  {
   "cell_type": "code",
   "execution_count": null,
   "id": "c59c7dc9-4f21-4d84-8f03-9bc52a353f52",
   "metadata": {},
   "outputs": [],
   "source": [
    "mainpath = \"./ds/\"\n",
    "train = \"housing_train.csv\"\n",
    "test = \"housing_test.csv\"\n",
    "df_train = pd.read_csv(mainpath + train)\n",
    "df_test = pd.read_csv(mainpath + test)"
   ]
  },
  {
   "cell_type": "markdown",
   "id": "5ffb5e5a-efe1-423f-afe7-ad1109149a55",
   "metadata": {},
   "source": [
    "## Resumen de datos\n",
    "\n",
    "Las dimensiones del data frame, filas y columnas, se obtiene con la propiedad `shape`, los valores de las cabeceras se obtienen con la propiedad `columns.values`."
   ]
  },
  {
   "cell_type": "code",
   "execution_count": null,
   "id": "5f466bae-0776-421d-803b-7bcd921ff55c",
   "metadata": {},
   "outputs": [],
   "source": [
    "df_train.shape"
   ]
  },
  {
   "cell_type": "markdown",
   "id": "0ee0cbc1-44cc-4353-b369-631143daa29c",
   "metadata": {},
   "source": [
    "La función `describe()` devuelve el conteo de campos no nulos, media, desviación estándar y cuantiles para columnas númericas. En las columnas son objetos (categóricas) devolverá el conteo de campos no nulos, número de valores posibles, el valor más repetido y su frecuencia. Si se desea saber el tipo de datos que tienen las columnas se usa la propiedad `dtypes`."
   ]
  },
  {
   "cell_type": "code",
   "execution_count": null,
   "id": "600a033a-1b1d-4dcb-b656-fbb7768e60d3",
   "metadata": {},
   "outputs": [],
   "source": [
    "df_train.describe().transpose()"
   ]
  },
  {
   "cell_type": "code",
   "execution_count": null,
   "id": "24cd1afb-dd80-4339-8109-5cb9f7c2a684",
   "metadata": {},
   "outputs": [],
   "source": [
    "df_train.describe(include='object').transpose()"
   ]
  },
  {
   "cell_type": "code",
   "execution_count": null,
   "id": "b03daff8-7488-4d93-91cb-12c230f18618",
   "metadata": {},
   "outputs": [],
   "source": [
    "df_train.dtypes"
   ]
  },
  {
   "cell_type": "markdown",
   "id": "91fd5867-66f7-4410-998c-2c2b6f3ce3ce",
   "metadata": {},
   "source": [
    "## Matriz de correlación"
   ]
  },
  {
   "cell_type": "code",
   "execution_count": null,
   "id": "6300b4b6-6fff-42ff-a863-bda63e2fcb13",
   "metadata": {},
   "outputs": [],
   "source": [
    "plt.figure(figsize=(20,8),dpi=80)\n",
    "corrmat = df_train.corr()\n",
    "sns.heatmap(corrmat, vmax=.8, annot=True)"
   ]
  },
  {
   "cell_type": "markdown",
   "id": "28144d4b-d481-48d3-a2a1-5a76cbbdf521",
   "metadata": {},
   "source": [
    "## Valores perdidos\n",
    "\n",
    "Trabajar con los valores perdidos requiere primero su ubicación, posteriormente se seleccionará que debe ser borrado y luego que debe ser sustituido con un nuevo valor, por supuesto habrá que decidir cual será dicho valor nuevo.\n",
    "\n",
    "### Eliminar campos\n",
    "\n",
    "Para ubicar si una celda tiene un valor vacío se usa la función `isnull()`, si se prefiere lógica inversa se usa `notnull`. Es posible  obtener un vector  de estos  valores con la  propiedad `values`, transformarlo  a un array con la función `ravel()` y sumar los valores verdaderos con la función `sum()`. También es posible obtener una lista ordenada de las columnas con más valores vacíos."
   ]
  },
  {
   "cell_type": "code",
   "execution_count": null,
   "id": "07f89314-e3ec-4ba7-89cf-996c4d6c40d2",
   "metadata": {},
   "outputs": [],
   "source": [
    "df_train.isnull().sum().sort_values(ascending=False)"
   ]
  },
  {
   "cell_type": "markdown",
   "id": "2cffb2ca-4556-477a-b3bc-abe15b0f75f0",
   "metadata": {},
   "source": [
    "En  el ejemplo  de  arriba, el  valor es  el  número de  valores  vacíos, si  usamos la  función `notnull()` sería el número de valores no vacíos, la suma de ambos debe ser el número total de filas obtenido anteriormente.\n",
    "\n",
    "Hay dos razones para la falta de valores en los data sets:\n",
    "\n",
    "- Recolección de datos: No se consiguieron los datos.\n",
    "- Extracción de datos: Los datos están en la  DB original pero no se extrajeron correctamente al data set.\n",
    "\n",
    "Se deben evitar datos vacíos para no tener problemas de manejo de información. Se tienen dos opciones:\n",
    "\n",
    "- Borrar las filas donde falten valores en alguna de las columnas\n",
    "- Borrar las columnas donde no se tenga suficiente información\n",
    "\n",
    "En nuestro caso es posible observar que las columnas `MiscFeature, Fence, PoolQC, FirePlaceQu y Alley` tienen muy pocos valores proporcionados (menos del 55 por ciento)y no vale la pena conservarlas. Otro criterio para asegurar que hacemos lo correcto es revisar las correlaciones con la columna `SalesPrice`."
   ]
  },
  {
   "cell_type": "code",
   "execution_count": null,
   "id": "f908df2c-20e0-4ca6-ad5f-33a43f05b22d",
   "metadata": {},
   "outputs": [],
   "source": [
    "df_train.corr()['SalePrice'].sort_values()"
   ]
  },
  {
   "cell_type": "markdown",
   "id": "a8aefa05-fe2b-4107-b43b-06a6a19f2c2a",
   "metadata": {},
   "source": [
    "Como el razonamiento es el correcto procederemos al borrado de columnas."
   ]
  },
  {
   "cell_type": "code",
   "execution_count": null,
   "id": "5e7e4c43-6136-4b63-86ed-b31d2c738e80",
   "metadata": {},
   "outputs": [],
   "source": [
    "def toDel(df):\n",
    "    for col in df.columns.values:\n",
    "        nv = pd.isnull(df[col]).values.ravel().sum()\n",
    "        if nv > df.shape[0] * 0.45:\n",
    "            print(\"Deleting: \"+col)\n",
    "            del df[col]\n",
    "    return df"
   ]
  },
  {
   "cell_type": "code",
   "execution_count": null,
   "id": "75cac215-2cec-493f-83db-5af93d9640c4",
   "metadata": {},
   "outputs": [],
   "source": [
    "df_train = toDel(df_train)"
   ]
  },
  {
   "cell_type": "markdown",
   "id": "98e6294c-8977-484b-908c-8b26a9ac064e",
   "metadata": {},
   "source": [
    "### Llenar campos\n",
    "\n",
    "Es necesario detectar nuevamente que columnas tienen valores vacíos. Esta vez vamos a proceder a reemplazar esos valores. Como sabemos que hay valores númericos y categóricos vacíos; los numéricos serán reemplazados por el promedio original de la columna, los categóricos serán remplazados por el valor no nulo más cercano puede ser el valor que va antes (`ffill`) o el que va después (`bfill`), en este análisis será el segundo."
   ]
  },
  {
   "cell_type": "code",
   "execution_count": null,
   "id": "a4c642c6-abda-4eea-baa3-b230cac03220",
   "metadata": {},
   "outputs": [],
   "source": [
    "def DetectNull(df):\n",
    "    candidates = []\n",
    "    for col in df.columns.values:\n",
    "        nv = pd.isnull(df[col]).values.ravel().sum()\n",
    "        if nv > 0:\n",
    "            candidates.append((col, df[col].dtype, nv))\n",
    "    return candidates"
   ]
  },
  {
   "cell_type": "code",
   "execution_count": null,
   "id": "89ee5038-2c5b-4ec7-ac8d-4d57eb1d258b",
   "metadata": {},
   "outputs": [],
   "source": [
    "def FillNull(df, list):\n",
    "    for col in list:\n",
    "        if col[1] == 'float64':\n",
    "            df[col[0]] = df[col[0]].fillna(df[col[0]].mean())\n",
    "        else:\n",
    "            df[col[0]] = df[col[0]].fillna(method=\"bfill\")\n",
    "    return df"
   ]
  },
  {
   "cell_type": "code",
   "execution_count": null,
   "id": "54fa7c82-c368-47b8-8719-d2dcec015926",
   "metadata": {},
   "outputs": [],
   "source": [
    "df_train = FillNull(df_train, DetectNull(df_train))\n",
    "df_train.isnull().sum().sort_values(ascending=False)"
   ]
  },
  {
   "cell_type": "markdown",
   "id": "6df7f5bc-bf76-4567-b18f-ea9ffcdde26d",
   "metadata": {},
   "source": [
    "## Creación de categorías de SalesPrice"
   ]
  },
  {
   "cell_type": "code",
   "execution_count": null,
   "id": "241289f7-2771-4e03-9de7-84ad321991a0",
   "metadata": {},
   "outputs": [],
   "source": [
    "def SalePriceGroupValue(x):\n",
    "    if x >= 500001:\n",
    "        return 3\n",
    "    elif x <= 100000:\n",
    "        return 1\n",
    "    return 2"
   ]
  },
  {
   "cell_type": "code",
   "execution_count": null,
   "id": "1fdb84aa-95ff-40d4-b87d-2416d1f9a545",
   "metadata": {},
   "outputs": [],
   "source": [
    "df_train[\"SalePriceGroup\"] = df_train[\"SalePrice\"].apply(SalePriceGroupValue)"
   ]
  },
  {
   "cell_type": "code",
   "execution_count": null,
   "id": "ad2d7e59-8e24-400d-8806-edfca63b9203",
   "metadata": {},
   "outputs": [],
   "source": [
    "df_train.tail()"
   ]
  },
  {
   "cell_type": "code",
   "execution_count": null,
   "id": "4126c4fc-7f65-4ad0-9192-f6f74f754f59",
   "metadata": {},
   "outputs": [],
   "source": []
  }
 ],
 "metadata": {
  "jupytext": {
   "encoding": "# -*- coding: utf-8 -*-"
  },
  "kernelspec": {
   "display_name": "Python 3 (ipykernel)",
   "language": "python",
   "name": "python3"
  },
  "language_info": {
   "codemirror_mode": {
    "name": "ipython",
    "version": 3
   },
   "file_extension": ".py",
   "mimetype": "text/x-python",
   "name": "python",
   "nbconvert_exporter": "python",
   "pygments_lexer": "ipython3",
   "version": "3.7.12"
  }
 },
 "nbformat": 4,
 "nbformat_minor": 5
}
