{
 "cells": [
  {
   "cell_type": "markdown",
   "id": "b9586c88",
   "metadata": {},
   "source": [
    "# Evaluación de la segmentación"
   ]
  },
  {
   "cell_type": "code",
   "execution_count": null,
   "id": "13c2a629",
   "metadata": {},
   "outputs": [],
   "source": [
    "import cv2 as cv # ver. 4.5.5\n",
    "from matplotlib import pyplot as plt"
   ]
  },
  {
   "cell_type": "code",
   "execution_count": null,
   "id": "a2ea3f45",
   "metadata": {},
   "outputs": [],
   "source": [
    "imc_07c = cv.imread('im/07c.jpg')\n",
    "imc_09d = cv.imread('im/09d.png')\n",
    "imc_10c = cv.imread('im/10c.jpg')\n",
    "imc_10t = cv.imread('im/10t.jpg')\n",
    "imc_all = cv.imread('im/all.png')\n",
    "imc_cyd = cv.imread('im/cyd.jpg')"
   ]
  },
  {
   "cell_type": "code",
   "execution_count": null,
   "id": "c1b84711",
   "metadata": {},
   "outputs": [],
   "source": [
    "imc_07c = cv.imread('im/07c.jpg', cv.IMREAD_GRAYSCALE)\n",
    "imc_09d = cv.imread('im/09d.png', cv.IMREAD_GRAYSCALE)\n",
    "imc_10c = cv.imread('im/10c.jpg', cv.IMREAD_GRAYSCALE)\n",
    "imc_10t = cv.imread('im/10t.jpg', cv.IMREAD_GRAYSCALE)\n",
    "imc_all = cv.imread('im/all.png', cv.IMREAD_GRAYSCALE)\n",
    "imc_cyd = cv.imread('im/cyd.jpg', cv.IMREAD_GRAYSCALE)"
   ]
  },
  {
   "cell_type": "code",
   "execution_count": null,
   "id": "cf5241aa",
   "metadata": {},
   "outputs": [],
   "source": [
    "im = imc_10t\n",
    "plt.imshow(im)\n",
    "plt.title(\"Imagen original\"), plt.xticks([]), plt.yticks([])\n",
    "plt.show()"
   ]
  },
  {
   "cell_type": "markdown",
   "id": "117b40be",
   "metadata": {},
   "source": [
    "Una vez que seleccionamos una imagen en escala de grises, es posible obtener una imagen binaria con los bordes claramente identificados gracias al algoritmo de Canny."
   ]
  },
  {
   "cell_type": "code",
   "execution_count": null,
   "id": "da95cfcd",
   "metadata": {},
   "outputs": [],
   "source": [
    "# Los números son las intensidades min y máx para identificar el borde\n",
    "canny = cv.Canny(im, 25, 100)\n",
    "cv.imwrite('out/canny.jpg', canny)"
   ]
  },
  {
   "cell_type": "markdown",
   "id": "b8b3f146",
   "metadata": {},
   "source": [
    "Ver [Este enlace](https://circuitdigest.com/tutorial/image-segmentation-using-opencv) sobre segmentación y la documentación oficial de la [version 4.5.5 de opencv](https://docs.opencv.org/4.5.5/d4/d73/tutorial_py_contours_begin.html). El comando `cv.findContours()` encuentra los contornos en una imagen binaria (primer parámetro). Debe especificarse el algoritmo que usará para encontrar los contornos (segundo parámetro):\n",
    "\n",
    "- `RETR_EXTERNAL`: Detecta solo los bordes más externos.\n",
    "- `RETR_LIST`: Detecta todos los contornos.\n",
    "- `RETR_CCOMP` y `RETR_TREE`: Detectan todos los bordes y establecen alguna jerarquía entre ellos.\n",
    "\n",
    "El último parámetro establece el método de aproximación para el contorno, los principales son:\n",
    "\n",
    "- `CHAIN_APPROX_NONE`: Almacena absolutamente todos los puntos de contorno.\n",
    "- `CHAIN_APPROX_SIMPLE`: Comprime segmentos horizontales, verticales y diagonales y deja sólo sus puntos finales.\n",
    "\n",
    "Al cambiar este último parámetro no se han observado cambios en el resultado.\n",
    "\n",
    "Por su parte el comando `drawContours()` dibujará los contornos sobre la imagen original (primer parámetro); para ello debe acceder a los contornos previamente obtenidos (segundo parámetro). El tercer parámetro es aquel contorno específico a dibujar, `-1` significa todos. Los parámetros siguientes serán el color del contorno y su grosor."
   ]
  },
  {
   "cell_type": "code",
   "execution_count": null,
   "id": "f3e6c823",
   "metadata": {},
   "outputs": [],
   "source": [
    "contours, hierarchy = cv.findContours(canny, cv.RETR_EXTERNAL, cv.CHAIN_APPROX_NONE)\n",
    "out = cv.drawContours(im, contours, -1, (64,255,64), 3)\n",
    "cv.imwrite('out/out.jpg', out)\n",
    "print('Número de contornos encontrados: ', len(contours))"
   ]
  },
  {
   "cell_type": "code",
   "execution_count": null,
   "id": "24113533",
   "metadata": {},
   "outputs": [],
   "source": [
    "im = cv.cvtColor(im, cv.COLOR_BGR2RGB)\n",
    "canny = cv.cvtColor(canny, cv.COLOR_BGR2RGB)\n",
    "out = cv.cvtColor(out, cv.COLOR_BGR2RGB)\n",
    "plt.subplot(121)\n",
    "plt.imshow(canny)\n",
    "plt.title('Imagen Canny'), plt.xticks([]), plt.yticks([])\n",
    "plt.subplot(122)\n",
    "plt.imshow(out)\n",
    "plt.title('Imagen segmentada'), plt.xticks([]), plt.yticks([])\n",
    "plt.show()"
   ]
  },
  {
   "cell_type": "markdown",
   "id": "f2b0dedf",
   "metadata": {},
   "source": [
    "Como puede observarse en la imagen, los contornos son dibujados propiamente, sin embargo, el número de contornos puede no coincidir con el número de objetos en la imagen. Cuando se usan imágenes con cartas de corazones los elementos coinciden con los contornos. sin embargo los treboles debido a lo angosto de una parte del dibujo pueden ser identificados como dos objetos y no como uno."
   ]
  },
  {
   "cell_type": "markdown",
   "id": "807f6fa9",
   "metadata": {},
   "source": [
    "num = 0\n",
    "for cnt in contours:\n",
    "    image = cv.drawContours(im, contours, num, (38,139,210), 3)\n",
    "    plt.subplot(4,5,(num + 1)) \n",
    "    plt.imshow(cv.cvtColor(image, cv.COLOR_BGR2RGB))\n",
    "    plt.title('Contorno' + str(num + 1)), plt.xticks([]), plt.yticks([])\n",
    "    cv.imwrite('out/contorno-'+str(num + 1)+'.jpg', image)\n",
    "    num = num + 1\n",
    "plt.show()"
   ]
  },
  {
   "cell_type": "markdown",
   "id": "9eed9533",
   "metadata": {},
   "source": [
    "# Otro"
   ]
  },
  {
   "cell_type": "markdown",
   "id": "d1a0078f",
   "metadata": {},
   "source": [
    "im = image_10t\n",
    "# Imagen en binario\n",
    "thresh = 128 #La mitad de bits\n",
    "im_bin = cv.threshold(im, thresh, 255, cv.THRESH_BINARY)[1]"
   ]
  },
  {
   "cell_type": "markdown",
   "id": "b7b53b87",
   "metadata": {},
   "source": [
    "contornos, im_bin = cv.findContours(im_bin, cv.RETR_EXTERNAL,cv.CHAIN_APPROX_SIMPLE)\n",
    "font = cv.FONT_HERSHEY_SIMPLEX\n",
    "i=0\n",
    "for c in contornos:\n",
    "    M=cv.moments(c)\n",
    "    if (M[\"m00\"]==0): M[\"m00\"]=1\n",
    "    x=int(M[\"m10\"]/M[\"m00\"])\n",
    "    y=int(M['m01']/M['m00'])\n",
    "\n",
    "    mensaje = 'Num :' + str(i+1)\n",
    "    cv.putText(im,mensaje,(x-40,y),font,0.75,(255,0,0),2,cv.LINE_AA)\n",
    "    cv.drawContours(im, [c], 0, (255,0,0),2)\n",
    "    cv.imwrite('out/outupt.jpg', im)\n",
    "    i = i+1"
   ]
  },
  {
   "cell_type": "code",
   "execution_count": null,
   "id": "8ffef96e",
   "metadata": {
    "lines_to_next_cell": 2
   },
   "outputs": [],
   "source": []
  }
 ],
 "metadata": {
  "jupytext": {
   "encoding": "# -*- coding: utf-8 -*-"
  },
  "kernelspec": {
   "display_name": "Python 3 (ipykernel)",
   "language": "python",
   "name": "python3"
  }
 },
 "nbformat": 4,
 "nbformat_minor": 5
}