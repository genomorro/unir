{
 "cells": [
  {
   "cell_type": "markdown",
   "id": "f5e9ff4b-e7e0-4811-926f-ed3fb49899ac",
   "metadata": {
    "tags": []
   },
   "source": [
    "# Actividad: Clasificación con máquina de vectores de soporte y redes de neuronas (Mobile Price Classification)\n",
    "\n",
    "## Introducción\n",
    "\n",
    "El problema orginal tiene una breve descripción contextual:\n",
    "\n",
    "> Bob has started his own mobile company. He wants to give tough fight to big companies like Apple,Samsung etc.\n",
    ">\n",
    "> He does not know how to estimate price of mobiles his company creates. In this competitive mobile phone market you cannot simply assume things. To solve this problem he collects sales data of mobile phones of various companies.\n",
    "> \n",
    "> Bob wants to find out some relation between features of a mobile phone(eg:- RAM,Internal Memory etc) and its selling price. But he is not so good at Machine Learning. So he needs your help to solve this problem.\n",
    ">\n",
    "> In this problem you do not have to predict actual price but a price range indicating how high the price is.\n",
    "\n",
    "La variable objetivo es \"price_range\". Solo [train.csv](https://www.kaggle.com/iabhishekofficial/mobile-price-classification#train.csv).\n",
    "\n",
    "### Bibliotecas a utilizar"
   ]
  },
  {
   "cell_type": "code",
   "execution_count": null,
   "id": "f78b6dc1-32db-4710-ad26-f390eda9b8d2",
   "metadata": {},
   "outputs": [],
   "source": [
    "import pandas as pd\n",
    "import numpy as np\n",
    "import matplotlib.pyplot as plt\n",
    "import seaborn as sns\n",
    "from sklearn import metrics\n",
    "from sklearn import svm\n",
    "from sklearn.model_selection import train_test_split, GridSearchCV"
   ]
  },
  {
   "cell_type": "markdown",
   "id": "175c3fd2-b0b9-48b5-94cd-eb151282b1bd",
   "metadata": {
    "tags": []
   },
   "source": [
    "## Carga de dataset y análisis descriptivo de datos"
   ]
  },
  {
   "cell_type": "code",
   "execution_count": null,
   "id": "3b32c599-aa74-40f0-a99a-2a8dec4519d4",
   "metadata": {},
   "outputs": [],
   "source": [
    "df_train = pd.read_csv(\"ds/train.csv\")"
   ]
  },
  {
   "cell_type": "markdown",
   "id": "936306f0-4692-4733-9cca-2746751e385c",
   "metadata": {},
   "source": [
    "Según los datos proporcionados no existen valores perdidos. Además todas las columnas tienen valores numéricos."
   ]
  },
  {
   "cell_type": "code",
   "execution_count": null,
   "id": "dd200731-affa-46fe-8c50-a107984ce1da",
   "metadata": {},
   "outputs": [],
   "source": [
    "df_train.info()"
   ]
  },
  {
   "cell_type": "code",
   "execution_count": null,
   "id": "dbf9913e-c1e4-43be-9a3b-aceb6e3cd159",
   "metadata": {},
   "outputs": [],
   "source": [
    "df_train.describe().transpose() "
   ]
  },
  {
   "cell_type": "markdown",
   "id": "83d1982a-e93e-4e75-a6e0-93cc8989f4c4",
   "metadata": {},
   "source": [
    "Aún así parece que no todas las variables son realmente numéricas, pues no caen en valore continuos. Como ejemplo es posible observar la columna objetivo, la cual por medio de números distingue cuatro categorías. Debido a la falta de metadatos en el dataset no es posible saber con certeza a que corresponde cada una, sin embargo, una clasificación tradicional es: el segmento de entra (0), la gama media (1), la gama alta (2) y la gama premium (3)."
   ]
  },
  {
   "cell_type": "code",
   "execution_count": null,
   "id": "d196888a-a084-4036-aee8-f28f249d5657",
   "metadata": {},
   "outputs": [],
   "source": [
    "sns.countplot(x='price_range', data=df_train)\n",
    "plt.title('Frecuencias de price_range', fontsize=12)"
   ]
  },
  {
   "cell_type": "markdown",
   "id": "10b7bb2c-b686-44e7-9f39-cbc92bb5dca8",
   "metadata": {},
   "source": [
    "### Variables categóricas\n",
    "\n",
    "Es importante observar que datos son categóricos"
   ]
  },
  {
   "cell_type": "code",
   "execution_count": null,
   "id": "a3e712df-a049-490d-8411-ff2891154c54",
   "metadata": {},
   "outputs": [],
   "source": [
    "for i in df_train.columns:\n",
    "    print(f'Valores posibles de {i.title()}: {df_train[i].unique()}')"
   ]
  },
  {
   "cell_type": "markdown",
   "id": "ed233e9a-dc45-4c7d-8189-1a10297425b3",
   "metadata": {},
   "source": [
    "Las variables categóricas parecen ser: `blue`, `dual_sim`, `four_g`, `three_g`, `touch_screen`, `wifi` y `price_range`. Debido a que `price_range` es nuestra variable objetivo, en seguida se grafican las frecuencias de las otras variables categóricas tomando en cuenta el rango de precios."
   ]
  },
  {
   "cell_type": "code",
   "execution_count": null,
   "id": "4be96477-7d2d-4d41-a9fe-1194d7c904c3",
   "metadata": {},
   "outputs": [],
   "source": [
    "cv=['blue', 'dual_sim', 'four_g', 'three_g', 'touch_screen', 'wifi']\n",
    "fig=plt.figure(figsize=(24,12))\n",
    "plt.title('Frecuencias de variables categóricas tomando en cuenta el rango de precios',fontdict={'fontsize':20})\n",
    "plt.axis('off')\n",
    "\n",
    "for i in range(len(cv)):\n",
    "    fig.add_subplot(2,3,i+1)\n",
    "    sns.countplot(data=df_train,x=cv[i], hue='price_range')\n",
    "    plt.legend(bbox_to_anchor=(1.02, 1), borderaxespad=0)"
   ]
  },
  {
   "cell_type": "markdown",
   "id": "deec6ba4-fb07-4775-905c-ec97808c7532",
   "metadata": {},
   "source": [
    "Es posible observar que los teléfonos más costosos cuentan con más de estas características, salvo en el caso de `touch_screen`, donde no hay diferencia frecuencial visible. La variable `three_g` parace ser más significativa ya que la división es un poco más clara. También hay que matizar que esta diferencia no es suficiente para distinguir con invariablemente las categorías de rango de precio.\n",
    "\n",
    "### Variables numéricas\n",
    "\n",
    "Se repetirá este procedimiento para las variables que son efectivamente numéricas."
   ]
  },
  {
   "cell_type": "code",
   "execution_count": null,
   "id": "82380892-bf08-4a6d-b607-ba1dbcf9f3cd",
   "metadata": {},
   "outputs": [],
   "source": [
    "nv=['battery_power', 'clock_speed', 'fc', 'int_memory', 'm_dep', 'mobile_wt', 'n_cores', 'pc', 'px_height', 'px_width', 'ram', 'sc_h', 'sc_w', 'talk_time']\n",
    "fig=plt.figure(figsize=(24,30))\n",
    "plt.title('Frecuencia de variables numéricas tomando en cuenta el rango de precios')\n",
    "plt.axis('off')\n",
    "\n",
    "for i in range(len(nv)):\n",
    "    fig.add_subplot(7,2,i+1)\n",
    "    sns.kdeplot(data=df_train, x=nv[i], hue='price_range')"
   ]
  },
  {
   "cell_type": "markdown",
   "id": "cca24678-87f8-40ae-a5c1-a2860f77492f",
   "metadata": {},
   "source": [
    "La dentro de las gráficas anteriores lo más destacado es aquella que representa la variable `ram`. En dicha representación se distinguen muy claramente los segmentos de precio, es posible pensar que que la variable `ram`, tenga una correlación alta respecto a `price_range`, mientras otras como `clock_speed` sean de muy poca relevancia.\n",
    "\n",
    "## Matriz de correlación"
   ]
  },
  {
   "cell_type": "code",
   "execution_count": null,
   "id": "a1a75e87-f4c5-41f9-a8ac-a64a2ef41d24",
   "metadata": {},
   "outputs": [],
   "source": [
    "plt.figure(figsize=(20,8),dpi=80)\n",
    "corrmat = df_train.corr()\n",
    "sns.heatmap(corrmat, cmap='coolwarm', vmax=.8, fmt='.1f', annot=True)"
   ]
  },
  {
   "cell_type": "code",
   "execution_count": null,
   "id": "71514dbf-ba0a-40cb-944a-21319c634fdb",
   "metadata": {},
   "outputs": [],
   "source": [
    "df_train.corr()['price_range'].sort_values(ascending=False)[1:21]"
   ]
  },
  {
   "cell_type": "markdown",
   "id": "7500c264-4dd9-430e-9c02-340e31b01727",
   "metadata": {
    "tags": []
   },
   "source": [
    "## SVM Lineal"
   ]
  },
  {
   "cell_type": "code",
   "execution_count": null,
   "id": "96ca7b9f-8443-49f9-bf7e-eabcdc2b38df",
   "metadata": {},
   "outputs": [],
   "source": [
    "train, test = train_test_split(df_train, test_size=0.2)\n",
    "predictors = cv + nv\n",
    "#predictors = ['ram', 'battery_power', 'px_width', 'px_height', 'int_memory']\n",
    "target = ['price_range']"
   ]
  },
  {
   "cell_type": "code",
   "execution_count": null,
   "id": "50110d5c-33f1-45dd-ac23-4b6b075026f2",
   "metadata": {},
   "outputs": [],
   "source": [
    "parameters = [{'kernel': ['rbf', 'linear'], 'gamma': ['scale', 'auto'], 'C': [0.5, 1.0, 1.5, 2.0, 2.5]}]\n",
    "svmc = GridSearchCV(svm.SVC(decision_function_shape='ovr'), param_grid=parameters, cv=25, scoring='accuracy')\n",
    "svmc.fit(train[predictors], np.ravel(train[target]))\n",
    "svmc.best_params_"
   ]
  },
  {
   "cell_type": "code",
   "execution_count": null,
   "id": "bec76b9a-b1fb-4769-ac07-8ec010287a8c",
   "metadata": {},
   "outputs": [],
   "source": [
    "svm_predicted = svmc.predict(test[predictors])\n",
    "crosstab = sns.heatmap(pd.crosstab(test[target].values.ravel(), svm_predicted),\n",
    "                cmap='gist_yarg', vmax=.8, fmt='g', annot=True)\n",
    "crosstab.set_xlabel('Predicciones')\n",
    "crosstab.set_ylabel('Reales')\n",
    "print(\"Accuracy: \", metrics.accuracy_score(svm_predicted, np.ravel(test[target])))"
   ]
  },
  {
   "cell_type": "code",
   "execution_count": null,
   "id": "01e63b2b-b309-4e1f-8088-1aec49d4747b",
   "metadata": {},
   "outputs": [],
   "source": [
    "print(metrics.classification_report(test[target].values.ravel(), svm_predicted))"
   ]
  },
  {
   "cell_type": "markdown",
   "id": "c2ef173f-af4e-4b4c-bbba-549efcd359bc",
   "metadata": {},
   "source": [
    "## Red Neuronal"
   ]
  },
  {
   "cell_type": "code",
   "execution_count": null,
   "id": "b6ebad49-28f8-4868-a2c9-77286a42a328",
   "metadata": {},
   "outputs": [],
   "source": []
  }
 ],
 "metadata": {
  "kernelspec": {
   "display_name": "Python 3 (ipykernel)",
   "language": "python",
   "name": "python3"
  },
  "language_info": {
   "codemirror_mode": {
    "name": "ipython",
    "version": 3
   },
   "file_extension": ".py",
   "mimetype": "text/x-python",
   "name": "python",
   "nbconvert_exporter": "python",
   "pygments_lexer": "ipython3",
   "version": "3.7.12"
  }
 },
 "nbformat": 4,
 "nbformat_minor": 5
}
