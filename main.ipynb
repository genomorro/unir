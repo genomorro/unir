{
 "cells": [
  {
   "cell_type": "markdown",
   "id": "63af8947",
   "metadata": {
    "tags": []
   },
   "source": [
    "# Actividad grupal: Usos reales de filtros espaciales y morfológicos\n",
    "\n",
    "## Introducción\n",
    "\n",
    "La morfología es un estudio de la forma y la estructura. En el procesamiento de imágenes, se utiliza para analizar y modificar propiedades geométricas de una imagen probándola con diferentes formas. Las características geométricas de estas formas, llamadas elementos estructurales, conduce a medidas cuantitativas que son útiles en la visión informática. El proceso es similar a la convolución lineal y la correlación, excepto que las operaciones lógicas AND, OR, y NOT se utilizan en un área en lugar de operaciones aritméticas. Los píxeles se añaden a un objeto o se eliminan de él. Hay que definir la extensión del área, y los elementos de estructurales, los cuales pueden ser rotados por 180 grados.(Sundararajan)\n",
    "\n",
    "En la operación de la convolución, con máscaras hechas de diferentes tipos de respuestas de impulso, podemos procesar señales con diferentes filtros como paso bajo y paso alto. De manera similar, con diferentes tipos de elementos de estructurales y la realización de la convolución con operadores lógicos, podemos realizar diversos tipos de análisis de objetos. Aunque su uso primario es con imágenes binarias, la morfología también se extiende a las imágenes a escala gris.(Sundararajan)\n",
    "\n",
    "En el presente caso utilizamos imágenes de rayos X, que por la naturaleza de las mismas presentan alto contraste y escalas de grises. Estas imágenes corresponden directamente a consulta médica donde existió un agente extraño en el cuerpo humano y con las operaciones de filtros morfológicos pretendemos hacer más sencilla su determinación de posible diagnóstico y tratamiento médico. Las imágenes presentaron resultados favorables para las operaciones en cuestión.\n"
   ]
  },
  {
   "cell_type": "markdown",
   "id": "f8641f40",
   "metadata": {},
   "source": [
    "## Librerias a utilizar"
   ]
  },
  {
   "cell_type": "code",
   "execution_count": null,
   "id": "629c045d",
   "metadata": {
    "tags": []
   },
   "outputs": [],
   "source": [
    "import cv2 as cv\n",
    "import numpy as np\n",
    "from matplotlib import pyplot as plt"
   ]
  },
  {
   "cell_type": "markdown",
   "id": "ae40dc4f",
   "metadata": {},
   "source": [
    "## Imágenes usadas\n",
    "\n",
    "En estas tres imágenes `img_0` representa una imagen de control, mientras que `img_1` y `img_2` corresponden imágenes a rayos X."
   ]
  },
  {
   "cell_type": "code",
   "execution_count": null,
   "id": "32cf99b3",
   "metadata": {},
   "outputs": [],
   "source": [
    "img_0 = cv.imread('im/unir-1.jpg', cv.IMREAD_GRAYSCALE)\n",
    "img_1 = cv.imread('im/dental-1.jpg', 0)\n",
    "img_2 = cv.imread('im/dental-2.jpg', 0)"
   ]
  },
  {
   "cell_type": "markdown",
   "id": "940d37c6",
   "metadata": {
    "tags": []
   },
   "source": [
    "## Implementación de operadores morfológicos\n",
    "\n",
    "La dilatación suele generar un efecto de ampliación del objeto en una imagen, llegando a eliminar algunos detalles que se consideren mínimos o ajenos al objeto que conforma la mayor parte de la composición de la misma. La erosión genera un efecto contrario, el cual amplia los detalles mínimos encontrados ajenos al agente principal de la imagen, minimizando el objeto que tenga mayor presencia en la misma.(https://tinyurl.com/2p89a7cr)\n",
    "\n",
    "Ambas operaciones se pueden ciclar e iterar en la forma que convenga para obtener un efecto deseado en determinado tipo de imágenes.\n",
    "\n",
    "En las operaciones de apertura y dilatación, la imagen es sujeta a dilatación y erosión. La diferencia es el orden de estas operaciones. La operación de apertura abre pequeñas brechas entre tocar objetos en una imagen mientras la operación de cierre cierra pequeñas brechas en un objeto.(https://tinyurl.com/2s4x42cm)\n",
    "\n",
    "Se llama apertura si la dilatación es precedida por la erosión. Si la dilatación es seguida de la erosión se llama cierre. "
   ]
  },
  {
   "cell_type": "code",
   "execution_count": null,
   "id": "bc078094",
   "metadata": {},
   "outputs": [],
   "source": [
    "def padding(originalImg, padSize):\n",
    "    padImg = np.zeros((rows+2*padSize, columns+2*padSize), dtype=np.uint8)\n",
    "    # recortando\n",
    "    padImg[padSize:rows+padSize, padSize:columns+padSize] = originalImg\n",
    "    return padImg"
   ]
  },
  {
   "cell_type": "code",
   "execution_count": null,
   "id": "bb49ce77",
   "metadata": {},
   "outputs": [],
   "source": [
    "def Erosion(padImg, kernel, size):\n",
    "    output = np.zeros((rows, columns), dtype=np.uint8)\n",
    "    for i in range(0, rows):\n",
    "        for j in range(0, columns):\n",
    "            # recortando\n",
    "            portion = padImg[i:i+size, j:j+size]\n",
    "            # se suma el elemento estructural y la ventana\n",
    "            portion1 = portion.flatten()\n",
    "            portion2 = kernel.flatten()\n",
    "            p1 = (np.sum(portion1))\n",
    "            p2 = (np.sum(portion2))*255\n",
    "            # la condicional para que no revase el limite\n",
    "            if p1 == p2:\n",
    "                output[i, j] = 255\n",
    "            else:\n",
    "                output[i, j] = np.min(portion1)\n",
    "    return output"
   ]
  },
  {
   "cell_type": "code",
   "execution_count": null,
   "id": "2976823b",
   "metadata": {},
   "outputs": [],
   "source": [
    "def Dilatacion(padImg, size):\n",
    "    output = np.zeros((rows, columns), dtype=np.uint8)\n",
    "    for i in range(0, rows):\n",
    "        for j in range(0, columns):\n",
    "            # recortando\n",
    "            portion = padImg[i:i+size, j:j+size]\n",
    "            portion1 = portion.flatten()\n",
    "            # la condicional para que no revase el limite\n",
    "            if 255 in portion1:\n",
    "                output[i, j] = 255\n",
    "            else:\n",
    "                output[i, j] = np.max(portion1)\n",
    "    return output"
   ]
  },
  {
   "cell_type": "code",
   "execution_count": null,
   "id": "11d531c0",
   "metadata": {},
   "outputs": [],
   "source": [
    "def opening(padImg, kernel, size):\n",
    "    # Se aplica la erosion\n",
    "    erosion = Erosion(padImg, kernel , size)\n",
    "    padImg2 = padding(erosion, size//2)\n",
    "    # Se aplica al dilatacion\n",
    "    output = Dilatacion(padImg2, size)\n",
    "    return output"
   ]
  },
  {
   "cell_type": "code",
   "execution_count": null,
   "id": "89bc7498",
   "metadata": {},
   "outputs": [],
   "source": [
    "def closing(padImg,kernel, size):\n",
    "    # Se aplica al dilatacion\n",
    "    dilation = Dilatacion(padImg, size)\n",
    "    padImg2 = padding(dilation, size//2)\n",
    "    # Se aplica la erosion\n",
    "    output = Erosion(padImg2, kernel, size)\n",
    "    return output"
   ]
  },
  {
   "cell_type": "markdown",
   "id": "663a4eab",
   "metadata": {},
   "source": [
    "## Uso\n",
    "### Definición de parámetros"
   ]
  },
  {
   "cell_type": "code",
   "execution_count": null,
   "id": "82a980d9",
   "metadata": {},
   "outputs": [],
   "source": [
    "#Numero de elementos de la mascara a utilizar\n",
    "size = 9\n",
    "#Elemento estructural\n",
    "kernel = np.ones((size, size), np.uint8)\n",
    "#Tamaño del padding\n",
    "p_size = size//2"
   ]
  },
  {
   "cell_type": "markdown",
   "id": "92663bc2",
   "metadata": {},
   "source": [
    "### Operaciones"
   ]
  },
  {
   "cell_type": "code",
   "execution_count": null,
   "id": "05e91f24",
   "metadata": {},
   "outputs": [],
   "source": [
    "# Selección de la imagen a utilizar, es posible cambiarla por otras\n",
    "orginalImg = img_0\n",
    "#Se obtiene los tamaños de la imagen original\n",
    "rows = orginalImg.shape[0]\n",
    "columns = orginalImg.shape[1]\n",
    "#Se obtiene el padding inicial\n",
    "padImg = padding(orginalImg, p_size)\n",
    "#Aplicamos las operaciones morfológicas\n",
    "Dil = Dilatacion(padImg, size)\n",
    "Ero = Erosion(padImg, kernel, size)\n",
    "Clo = closing(padImg, kernel, size)\n",
    "Opn = opening(padImg, kernel, size)"
   ]
  },
  {
   "cell_type": "code",
   "execution_count": null,
   "id": "2b973e07",
   "metadata": {
    "tags": []
   },
   "outputs": [],
   "source": [
    "cv.imwrite('out/Dil-1.jpg', Dil)\n",
    "cv.imwrite('out/Ero-1.jpg', Ero)\n",
    "cv.imwrite('out/Clo-1.jpg', Clo)\n",
    "cv.imwrite('out/Opn-1.jpg', Opn)\n",
    "orginalImg = cv.cvtColor(orginalImg, cv.COLOR_BGR2RGB)\n",
    "Ero = cv.cvtColor(Ero, cv.COLOR_BGR2RGB)\n",
    "Dil = cv.cvtColor(Dil, cv.COLOR_BGR2RGB)\n",
    "Clo = cv.cvtColor(Clo, cv.COLOR_BGR2RGB)\n",
    "Opn = cv.cvtColor(Opn, cv.COLOR_BGR2RGB)\n",
    "plt.subplot(231)\n",
    "plt.imshow(orginalImg)\n",
    "plt.title('Imagen Original'), plt.xticks([]), plt.yticks([])\n",
    "plt.subplot(232)\n",
    "plt.imshow(Ero)\n",
    "plt.title('Erosión'), plt.xticks([]), plt.yticks([])\n",
    "plt.subplot(233)\n",
    "plt.imshow(Dil)\n",
    "plt.title('Dilatación'), plt.xticks([]), plt.yticks([])\n",
    "plt.subplot(234)\n",
    "plt.imshow(Clo)\n",
    "plt.title('Cierre'), plt.xticks([]), plt.yticks([])\n",
    "plt.subplot(236)\n",
    "plt.imshow(Opn)\n",
    "plt.title('Apertura'), plt.xticks([]), plt.yticks([])\n",
    "plt.show()"
   ]
  },
  {
   "cell_type": "markdown",
   "id": "931bb23e",
   "metadata": {
    "tags": []
   },
   "source": [
    "## Aplicación\n",
    "\n",
    "Una vez que se ha observado el efecto sobre una imagen de control, se aplicaron los filtros a las imágenes de Rayos X de interés. Sin embargo, solo se obtuvieron resultados parcialmente favorables. Las operaciones eliminaron elementos que no son de interés pero no permitían ver con claridad la profundidad de otros elementos."
   ]
  },
  {
   "cell_type": "code",
   "execution_count": null,
   "id": "c38fa71f",
   "metadata": {},
   "outputs": [],
   "source": [
    "# Selección de la imagen a utilizar, es posible cambiarla por otras\n",
    "orginalImg = img_2\n",
    "#Se obtiene los tamaños de la imagen original\n",
    "rows = orginalImg.shape[0]\n",
    "columns = orginalImg.shape[1]\n",
    "#Se obtiene el padding inicial\n",
    "padImg = padding(orginalImg, p_size)\n",
    "#Aplicamos las operaciones morfológicas\n",
    "Dil = Dilatacion(padImg, size)\n",
    "Ero = Erosion(padImg, kernel, size)\n",
    "Clo = closing(padImg, kernel, size)\n",
    "Opn = opening(padImg, kernel, size)"
   ]
  },
  {
   "cell_type": "code",
   "execution_count": null,
   "id": "5bc41e97",
   "metadata": {
    "tags": []
   },
   "outputs": [],
   "source": [
    "cv.imwrite('out/Dil-2.jpg', Dil)\n",
    "cv.imwrite('out/Ero-2.jpg', Ero)\n",
    "cv.imwrite('out/Clo-2.jpg', Clo)\n",
    "cv.imwrite('out/Opn-2.jpg', Opn)\n",
    "orginalImg = cv.cvtColor(orginalImg, cv.COLOR_BGR2RGB)\n",
    "Ero = cv.cvtColor(Ero, cv.COLOR_BGR2RGB)\n",
    "Dil = cv.cvtColor(Dil, cv.COLOR_BGR2RGB)\n",
    "Clo = cv.cvtColor(Clo, cv.COLOR_BGR2RGB)\n",
    "Opn = cv.cvtColor(Opn, cv.COLOR_BGR2RGB)\n",
    "plt.subplot(231)\n",
    "plt.imshow(orginalImg)\n",
    "plt.title('Imagen Original'), plt.xticks([]), plt.yticks([])\n",
    "plt.subplot(232)\n",
    "plt.imshow(Ero)\n",
    "plt.title('Erosión'), plt.xticks([]), plt.yticks([])\n",
    "plt.subplot(233)\n",
    "plt.imshow(Dil)\n",
    "plt.title('Dilatación'), plt.xticks([]), plt.yticks([])\n",
    "plt.subplot(234)\n",
    "plt.imshow(Clo)\n",
    "plt.title('Cierre'), plt.xticks([]), plt.yticks([])\n",
    "plt.subplot(236)\n",
    "plt.imshow(Opn)\n",
    "plt.title('Apertura'), plt.xticks([]), plt.yticks([])\n",
    "plt.show()"
   ]
  },
  {
   "cell_type": "markdown",
   "id": "527cb91b",
   "metadata": {
    "tags": []
   },
   "source": [
    "### Gradiente morfológico\n",
    "\n",
    "El gradiente morfológico es resultado de restar la imagen erosionada a la imagen dilatada. El resultado es una imagen usada en la segmentación debido a que cada valor de píxel (por lo general no negativo) indica la intensidad de contraste en la vecindad de ese píxel(Rivest). Con esta operación se ha conseguido el efecto deseado."
   ]
  },
  {
   "cell_type": "code",
   "execution_count": null,
   "id": "22747799",
   "metadata": {},
   "outputs": [],
   "source": [
    "# Selección de la imagen a utilizar, es posible cambiarla por otras\n",
    "orginalImg = img_1\n",
    "#Se obtiene los tamaños de la imagen original\n",
    "rows = orginalImg.shape[0]\n",
    "columns = orginalImg.shape[1]\n",
    "#Se obtiene el padding inicial\n",
    "padImg = padding(orginalImg, p_size)\n",
    "#Aplicamos las operaciones morfológicas\n",
    "Dil = Dilatacion(padImg, size)\n",
    "Ero = Erosion(padImg, kernel, size)\n",
    "Gradiente = Dil - Ero"
   ]
  },
  {
   "cell_type": "code",
   "execution_count": null,
   "id": "d269b7da",
   "metadata": {
    "tags": []
   },
   "outputs": [],
   "source": [
    "cv.imwrite('out/Gradiente.jpg', Gradiente)\n",
    "orginalImg = cv.cvtColor(orginalImg, cv.COLOR_BGR2RGB)\n",
    "Ero = cv.cvtColor(Ero, cv.COLOR_BGR2RGB)\n",
    "Dil = cv.cvtColor(Dil, cv.COLOR_BGR2RGB)\n",
    "Gradiente = cv.cvtColor(Gradiente, cv.COLOR_BGR2RGB)\n",
    "plt.subplot(121)\n",
    "plt.imshow(orginalImg)\n",
    "plt.title('Imagen Original'), plt.xticks([]), plt.yticks([])\n",
    "plt.subplot(122)\n",
    "plt.imshow(Gradiente)\n",
    "plt.title('Gradiente'), plt.xticks([]), plt.yticks([])\n",
    "plt.show()"
   ]
  },
  {
   "cell_type": "markdown",
   "id": "53056171",
   "metadata": {
    "lines_to_next_cell": 2,
    "tags": []
   },
   "source": [
    "## Conclusión\n",
    "\n",
    "Las operaciones morfológicas básicas son dos: erosión y dilatación. Estas operaciones son se pueden combinar a conveniencia para obtener operaciones secundarias, como la apertura y el cierre, que pueden ser usados dependiendo del objetivo o necesidades del caso particular.\n",
    "\n",
    "En la aplicación de los filtros puede verse que el gradiente morfológico permite distinguir qué segmentos se encuentran más cercanos de otros en una imagen de rayos X, además de definir el área de dichos segmentos. Esto es importante por el efecto de transparencia que llegan a tener las imágenes de rayos X."
   ]
  }
 ],
 "metadata": {
  "jupytext": {
   "encoding": "# -*- coding: utf-8 -*-"
  },
  "kernelspec": {
   "display_name": "Python 3 (ipykernel)",
   "language": "python",
   "name": "python3"
  }
 },
 "nbformat": 4,
 "nbformat_minor": 5
}