{
 "cells": [
  {
   "cell_type": "markdown",
   "id": "d2369a67",
   "metadata": {},
   "source": [
    "# Actividad grupal: Usos reales de filtros espaciales y morfológicos\n",
    "\n",
    "## Introduccion\n",
    "\n",
    "Los filtros morfológicos tienen como finalidad manipular la composición de las imágenes para poder describir su composición geométrica. \n",
    "\n",
    "Entre las operaciones morfológicas existen dos principales: dilatación y erosión, y sus combinaciones binarias: apertura y cierre.\n",
    "\n",
    "La dilatación suele generar un efecto de ampliación del objeto en una imágen, llegando a eliminar algunos detalles que se consideren mínimos o ajenos al objeto que conforma la mayor parte de la composición de la misma. La erosión genera un efecto contrario, el cual amplia los detalles mínimos encontrados ajenos al agente principal de la imagen, minimizando el objeto que tenga mayor presencia en la misma.\n",
    "\n",
    "Ambas operaciones se pueden ciclar e iterar en la forma que convenga para obtener un efecto deseado en determinado tipo de imagenes.\n",
    "\n",
    "En el presente caso utilizamos imagenes de rayos X, que por la naturaleza de las mismas presentan alto contraste y escalas de grises. Estas imagenes corresponden directamente a consulta médica donde existió un agente extraño en el cuerpo humano y con las operaciones de filtros morfológicos pretendemos hacer más sencilla su determinación de posible diagnóstico y tratamiento médico. La imágeness presentaron resultados favorables para las operaciones en cuestión.\n"
   ]
  },
  {
   "cell_type": "markdown",
   "id": "ae04fb93",
   "metadata": {},
   "source": [
    "## Librerias a utilizar"
   ]
  },
  {
   "cell_type": "code",
   "execution_count": null,
   "id": "a2cc9b82",
   "metadata": {},
   "outputs": [],
   "source": [
    "import cv2 as cv\n",
    "import numpy as np\n",
    "from matplotlib import pyplot as plt"
   ]
  },
  {
   "cell_type": "code",
   "execution_count": null,
   "id": "4a9521b4",
   "metadata": {},
   "outputs": [],
   "source": [
    "def padding(originalImg, padSize):\n",
    "    padImg = np.zeros((rows+2*padSize, columns+2*padSize), dtype=np.uint8)\n",
    "    # recortando\n",
    "    padImg[padSize:rows+padSize, padSize:columns+padSize] = originalImg\n",
    "    return padImg"
   ]
  },
  {
   "cell_type": "code",
   "execution_count": null,
   "id": "29d54813",
   "metadata": {},
   "outputs": [],
   "source": [
    "def Erosion(padImg, kernel, size):\n",
    "    output = np.zeros((rows, columns), dtype=np.uint8)\n",
    "    for i in range(0, rows):\n",
    "        for j in range(0, columns):\n",
    "            # recortando\n",
    "            portion = padImg[i:i+size, j:j+size]\n",
    "            # se suma el elemento estructural y la ventana\n",
    "            portion1 = portion.flatten()\n",
    "            portion2 = kernel.flatten()\n",
    "            p1 = (np.sum(portion1))\n",
    "            p2 = (np.sum(portion2))*255\n",
    "            # la condicional para que no revase el limite\n",
    "            if p1 == p2:\n",
    "                output[i, j] = 255\n",
    "            else:\n",
    "                output[i, j] = np.min(portion1)\n",
    "    return output"
   ]
  },
  {
   "cell_type": "code",
   "execution_count": null,
   "id": "a7381ecc",
   "metadata": {},
   "outputs": [],
   "source": [
    "def Dilatacion(padImg, size):\n",
    "    output = np.zeros((rows, columns), dtype=np.uint8)\n",
    "    for i in range(0, rows):\n",
    "        for j in range(0, columns):\n",
    "            # recortando\n",
    "            portion = padImg[i:i+size, j:j+size]\n",
    "            portion1 = portion.flatten()\n",
    "            # la condicional para que no revase el limite\n",
    "            if 255 in portion1:\n",
    "                output[i, j] = 255\n",
    "            else:\n",
    "                output[i, j] = np.max(portion1)\n",
    "    return output"
   ]
  },
  {
   "cell_type": "code",
   "execution_count": null,
   "id": "02f8b819",
   "metadata": {},
   "outputs": [],
   "source": [
    "def opening(padImg, kernel, size):\n",
    "    # Se aplica la erosion\n",
    "    erosion = Erosion(padImg, kernel , size)\n",
    "    padImg2 = padding(erosion, size//2)\n",
    "    # Se aplica al dilatacion\n",
    "    output = Dilatacion(padImg2, size)\n",
    "    return output"
   ]
  },
  {
   "cell_type": "code",
   "execution_count": null,
   "id": "85c958ff",
   "metadata": {},
   "outputs": [],
   "source": [
    "def closing(padImg,kernel, size):\n",
    "    # Se aplica al dilatacion\n",
    "    dilation = Dilatacion(padImg, size)\n",
    "    padImg2 = padding(dilation, size//2)\n",
    "    # Se aplica la erosion\n",
    "    output = Erosion(padImg2, kernel, size)\n",
    "    return output"
   ]
  },
  {
   "cell_type": "code",
   "execution_count": null,
   "id": "7a9452c1",
   "metadata": {},
   "outputs": [],
   "source": [
    "\n",
    "#Numero de elementos de la mascara a utilizar\n",
    "size = 9\n",
    "\n",
    "#Elemento estructural\n",
    "kernel = np.ones((size, size), np.uint8)\n",
    "print(np.sum(kernel))\n",
    "\n",
    "#Tamaño del padding\n",
    "p_size = size//2\n",
    "\n",
    "#Lectura de la imagen a utilizar\n",
    "orginalImg = cv.imread('dental 10.JFIF', 0)\n",
    "\n",
    "#Se obtiene los tamaños de la imagen original\n",
    "rows = orginalImg.shape[0]\n",
    "columns = orginalImg.shape[1]\n",
    "\n",
    "#Se obtiene el padding inicial\n",
    "padImg = padding(orginalImg, p_size)\n",
    "\n",
    "#Aplicamos dilatacion\n",
    "Dil = Dilatacion(padImg, size)\n",
    "\n",
    "#Aplicamos erosion\n",
    "Ero = Erosion(padImg, kernel, size)\n",
    "\n",
    "#Gradiante Morfologico\n",
    "Gradiante = Dil - Ero\n",
    "cv.imshow('Gradiante Morfologico', Gradiante)\n",
    "cv.waitKey(0)"
   ]
  },
  {
   "cell_type": "markdown",
   "id": "1d18fc41",
   "metadata": {},
   "source": [
    "## Conclusiones\n",
    "\n",
    "## Bibliografia \n",
    "\n",
    "https://medium.com/swlh/image-processing-with-python-morphological-operations-26b7006c0359\n",
    "\n",
    "González, R. y R.E. Woods, 2006. Digital Image Processing. New Jersey, Prentice Hall, \n",
    "(3ª edición).\n",
    "\n",
    "Ruiz Fernández, L.A, 2020, Universitat Politècnica de València, Ingeniería Cartográfica, Geodesia y \n",
    "Fotogrametría.\n",
    "\n",
    "http://www.ece.northwestern.edu/local-apps/matlabhelp/toolbox/images/morph3.html"
   ]
  }
 ],
 "metadata": {
  "jupytext": {
   "encoding": "# -*- coding: utf-8 -*-"
  },
  "kernelspec": {
   "display_name": "Python 3 (ipykernel)",
   "language": "python",
   "name": "python3"
  }
 },
 "nbformat": 4,
 "nbformat_minor": 5
}