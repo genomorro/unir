{
 "cells": [
  {
   "cell_type": "markdown",
   "id": "58e3991a",
   "metadata": {
    "tags": []
   },
   "source": [
    "# Actividad: Clasificación con máquina de vectores de soporte y redes de neuronas (Mobile Price Classification)\n",
    "\n",
    "## Introducción\n",
    "\n",
    "El problema orginal tiene una breve descripción contextual:\n",
    "\n",
    "> Bob has started his own mobile company. He wants to give tough fight to big companies like Apple,Samsung etc.\n",
    ">\n",
    "> He does not know how to estimate price of mobiles his company creates. In this competitive mobile phone market you cannot simply assume things. To solve this problem he collects sales data of mobile phones of various companies.\n",
    "> \n",
    "> Bob wants to find out some relation between features of a mobile phone(eg:- RAM,Internal Memory etc) and its selling price. But he is not so good at Machine Learning. So he needs your help to solve this problem.\n",
    ">\n",
    "> In this problem you do not have to predict actual price but a price range indicating how high the price is.\n",
    "\n",
    "La variable objetivo es \"price_range\". Solo [train.csv](https://www.kaggle.com/iabhishekofficial/mobile-price-classification#train.csv).\n",
    "\n",
    "### Bibliotecas a utilizar"
   ]
  },
  {
   "cell_type": "code",
   "execution_count": null,
   "id": "acd09c4f",
   "metadata": {},
   "outputs": [],
   "source": [
    "import pandas as pd\n",
    "import numpy as np\n",
    "import matplotlib.pyplot as plt\n",
    "import seaborn as sns\n",
    "from sklearn import metrics\n",
    "from sklearn import svm\n",
    "from sklearn.model_selection import train_test_split, RandomizedSearchCV"
   ]
  },
  {
   "cell_type": "markdown",
   "id": "867ac8ea",
   "metadata": {
    "tags": []
   },
   "source": [
    "## Carga de dataset y análisis descriptivo de datos"
   ]
  },
  {
   "cell_type": "code",
   "execution_count": null,
   "id": "82c40267",
   "metadata": {},
   "outputs": [],
   "source": [
    "df_train = pd.read_csv(\"ds/train.csv\")"
   ]
  },
  {
   "cell_type": "markdown",
   "id": "68a82e10",
   "metadata": {},
   "source": [
    "Según los datos proporcionados no existen valores perdidos. Además todas las columnas tienen valores numéricos."
   ]
  },
  {
   "cell_type": "code",
   "execution_count": null,
   "id": "d6ece149",
   "metadata": {},
   "outputs": [],
   "source": [
    "df_train.info()"
   ]
  },
  {
   "cell_type": "code",
   "execution_count": null,
   "id": "1048113e",
   "metadata": {},
   "outputs": [],
   "source": [
    "df_train.describe().transpose() "
   ]
  },
  {
   "cell_type": "markdown",
   "id": "8a905c2e",
   "metadata": {},
   "source": [
    "Aún así parece que no todas las variables son realmente numéricas, pues no caen en valore continuos. Como ejemplo es posible observar la columna objetivo, la cual por medio de números distingue cuatro categorías. Debido a la falta de metadatos en el dataset no es posible saber con certeza a que corresponde cada una, sin embargo, una clasificación tradicional es: el segmento de entra (0), la gama media (1), la gama alta (2) y la gama premium (3)."
   ]
  },
  {
   "cell_type": "code",
   "execution_count": null,
   "id": "4ea8870d",
   "metadata": {},
   "outputs": [],
   "source": [
    "sns.countplot(x='price_range', data=df_train)\n",
    "plt.title('Frecuencias de price_range', fontsize=12)"
   ]
  },
  {
   "cell_type": "markdown",
   "id": "03e4d532",
   "metadata": {},
   "source": [
    "### Variables categóricas\n",
    "\n",
    "Es importante observar que datos son categóricos"
   ]
  },
  {
   "cell_type": "code",
   "execution_count": null,
   "id": "0155142d",
   "metadata": {},
   "outputs": [],
   "source": [
    "for i in df_train.columns:\n",
    "    print(f'Valores posibles de {i.title()}: {df_train[i].unique()}')"
   ]
  },
  {
   "cell_type": "markdown",
   "id": "dc209780",
   "metadata": {},
   "source": [
    "Las variables categóricas parecen ser: `blue`, `dual_sim`, `four_g`, `three_g`, `touch_screen`, `wifi` y `price_range`. Debido a que `price_range` es nuestra variable objetivo, en seguida se grafican las frecuencias de las otras variables categóricas tomando en cuenta el rango de precios."
   ]
  },
  {
   "cell_type": "code",
   "execution_count": null,
   "id": "c2082d9f",
   "metadata": {},
   "outputs": [],
   "source": [
    "cv=['blue', 'dual_sim', 'four_g', 'three_g', 'touch_screen', 'wifi']\n",
    "fig=plt.figure(figsize=(24,12))\n",
    "plt.title('Frecuencias de variables categóricas tomando en cuenta el rango de precios',fontdict={'fontsize':20})\n",
    "plt.axis('off')\n",
    "\n",
    "for i in range(len(cv)):\n",
    "    fig.add_subplot(2,3,i+1)\n",
    "    sns.countplot(data=df_train,x=cv[i], hue='price_range')\n",
    "    plt.legend(bbox_to_anchor=(1.02, 1), borderaxespad=0)"
   ]
  },
  {
   "cell_type": "markdown",
   "id": "e3c31c5b",
   "metadata": {},
   "source": [
    "Es posible observar que los teléfonos más costosos cuentan con más de estas características, salvo en el caso de `touch_screen`, donde no hay diferencia frecuencial visible. La variable `three_g` parace ser más significativa ya que la división es un poco más clara. También hay que matizar que esta diferencia no es suficiente para distinguir con invariablemente las categorías de rango de precio.\n",
    "\n",
    "### Variables numéricas\n",
    "\n",
    "Se repetirá este procedimiento para las variables que son efectivamente numéricas."
   ]
  },
  {
   "cell_type": "code",
   "execution_count": null,
   "id": "1be5aab8",
   "metadata": {},
   "outputs": [],
   "source": [
    "nv=['battery_power', 'clock_speed', 'fc', 'int_memory', 'm_dep', 'mobile_wt', 'n_cores', 'pc', 'px_height', 'px_width', 'ram', 'sc_h', 'sc_w', 'talk_time']\n",
    "fig=plt.figure(figsize=(24,30))\n",
    "plt.title('Frecuencia de variables numéricas tomando en cuenta el rango de precios')\n",
    "plt.axis('off')\n",
    "\n",
    "for i in range(len(nv)):\n",
    "    fig.add_subplot(7,2,i+1)\n",
    "    sns.kdeplot(data=df_train, x=nv[i], hue='price_range')"
   ]
  },
  {
   "cell_type": "markdown",
   "id": "e72aaec5",
   "metadata": {},
   "source": [
    "La dentro de las gráficas anteriores lo más destacado es aquella que representa la variable `ram`. En dicha representación se distinguen muy claramente los segmentos de precio, es posible pensar que que la variable `ram`, tenga una correlación alta respecto a `price_range`, mientras otras como `clock_speed` sean de muy poca relevancia.\n",
    "\n",
    "## Matriz de correlación"
   ]
  },
  {
   "cell_type": "code",
   "execution_count": null,
   "id": "97465d99",
   "metadata": {},
   "outputs": [],
   "source": [
    "plt.figure(figsize=(20,8),dpi=80)\n",
    "corrmat = df_train.corr()\n",
    "sns.heatmap(corrmat, cmap='coolwarm', vmax=.8, fmt='.1f', annot=True)"
   ]
  },
  {
   "cell_type": "code",
   "execution_count": null,
   "id": "3dd7c4b2",
   "metadata": {},
   "outputs": [],
   "source": [
    "df_train.corr()['price_range'].sort_values(ascending=False)[1:21]"
   ]
  },
  {
   "cell_type": "markdown",
   "id": "d6089cd3",
   "metadata": {
    "tags": []
   },
   "source": [
    "## SVM Lineal"
   ]
  },
  {
   "cell_type": "code",
   "execution_count": null,
   "id": "e30896d6",
   "metadata": {},
   "outputs": [],
   "source": [
    "train, test = train_test_split(df_train, test_size=0.2)\n",
    "predictors = cv + nv\n",
    "#predictors = ['ram', 'battery_power', 'px_width', 'px_height', 'int_memory']\n",
    "target = ['price_range']"
   ]
  },
  {
   "cell_type": "code",
   "execution_count": null,
   "id": "4c2940f6",
   "metadata": {},
   "outputs": [],
   "source": [
    "parameters = [{'kernel': ['rbf', 'linear'], 'gamma': ['scale', 'auto'], 'C': [0.5, 1.0, 1.5, 2.0, 2.5]}]\n",
    "svmc = RandomizedSearchCV(svm.SVC(decision_function_shape='ovr'), param_distributions=parameters, cv=5, scoring='accuracy')\n",
    "svmc.fit(train[predictors], np.ravel(train[target]))\n",
    "svmc.best_params_"
   ]
  },
  {
   "cell_type": "code",
   "execution_count": null,
   "id": "d26df9c1",
   "metadata": {},
   "outputs": [],
   "source": [
    "svm_predicted = svmc.predict(test[predictors])\n",
    "crosstab = sns.heatmap(pd.crosstab(test[target].values.ravel(), svm_predicted),\n",
    "                cmap='gist_yarg', vmax=.8, fmt='g', annot=True)\n",
    "crosstab.set_xlabel('Predicciones')\n",
    "crosstab.set_ylabel('Reales')\n",
    "print(\"Accuracy: \", metrics.accuracy_score(svm_predicted, np.ravel(test[target])))"
   ]
  },
  {
   "cell_type": "markdown",
   "id": "4d4a6531",
   "metadata": {},
   "source": [
    "## Red Neuronal"
   ]
  },
  {
   "cell_type": "code",
   "execution_count": null,
   "id": "2b56dc67",
   "metadata": {},
   "outputs": [],
   "source": [
    "from tensorflow.keras.models import Sequential\n",
    "from tensorflow.keras.layers import Dense"
   ]
  },
  {
   "cell_type": "code",
   "execution_count": null,
   "id": "15e3250d",
   "metadata": {},
   "outputs": [],
   "source": [
    "nn = Sequential()\n",
    "nn.add(Dense(units=16, input_dim=20, activation='relu'))\n",
    "nn.add(Dense(units=12, activation='relu'))\n",
    "nn.add(Dense(units=4, activation='softmax'))"
   ]
  },
  {
   "cell_type": "code",
   "execution_count": null,
   "id": "9971de41",
   "metadata": {},
   "outputs": [],
   "source": [
    "nn.compile(loss='sparse_categorical_crossentropy', optimizer='adam', metrics=['accuracy'])"
   ]
  },
  {
   "cell_type": "code",
   "execution_count": null,
   "id": "bc9f305c",
   "metadata": {
    "tags": []
   },
   "outputs": [],
   "source": [
    "nn.fit(train[predictors], np.ravel(train[target]), epochs=550, batch_size=4, verbose=0)"
   ]
  },
  {
   "cell_type": "code",
   "execution_count": null,
   "id": "ec27157a",
   "metadata": {},
   "outputs": [],
   "source": [
    "nn_pred = nn.predict(test[predictors])"
   ]
  },
  {
   "cell_type": "code",
   "execution_count": null,
   "id": "8d025ab9",
   "metadata": {},
   "outputs": [],
   "source": [
    "# Convertir las predicciones a sus respectivas etiquetas\n",
    "def pred_to_label(predictions):\n",
    "    pred = list()\n",
    "    for i in range(len(predictions)):\n",
    "        pred.append(np.argmax(predictions[i]))\n",
    "    return pred"
   ]
  },
  {
   "cell_type": "code",
   "execution_count": null,
   "id": "4803821a",
   "metadata": {},
   "outputs": [],
   "source": [
    "nn_predicted = pred_to_label(nn_pred)\n",
    "crosstab = sns.heatmap(pd.crosstab(test[target].values.ravel(), np.array(nn_predicted)),\n",
    "                cmap='gist_yarg', vmax=.8, fmt='g', annot=True)\n",
    "crosstab.set_xlabel('Predicciones')\n",
    "crosstab.set_ylabel('Reales')\n",
    "print(\"Accuracy: \", metrics.accuracy_score(nn_predicted, np.ravel(test[target])))"
   ]
  },
  {
   "cell_type": "markdown",
   "id": "4700f320",
   "metadata": {},
   "source": [
    "## Comparación entre métodos"
   ]
  },
  {
   "cell_type": "code",
   "execution_count": null,
   "id": "38a0ed5d",
   "metadata": {},
   "outputs": [],
   "source": [
    "print(metrics.classification_report(test[target].values.ravel(), svm_predicted))"
   ]
  },
  {
   "cell_type": "code",
   "execution_count": null,
   "id": "0ea4fb79",
   "metadata": {},
   "outputs": [],
   "source": [
    "print(metrics.classification_report(test[target].values.ravel(), nn_predicted))"
   ]
  },
  {
   "cell_type": "markdown",
   "id": "6056ab51",
   "metadata": {},
   "source": [
    "\n",
    "Estos algoritmos requieren trabajo al afinar los hiperparámetros, si bien son herramientas muy poderosas, también hay que decir que ajustarlas para solucionar el problema puede ser más costoso que usar otro algoritmo más básico.\n",
    "\n",
    "En ejemplos sencillos como el resuelto aquí son ajustables con cierta sencillez, Aún así, la fase de entrenamiento es más lenta si se considera que el dataset es de solo 2000 muestras. Si a lo anterior se suman muestras con overlapping, la SVM particularmente tenderá a cometer un mayor número de errores.\n",
    "\n",
    "Si el dataset tiene muchas dimensiones, puede ser una excelente alternativa. Aunque no podrán ser visualizadas gráficamente una SVM lidiará bien con el dataset incluso si el número de dimensiones supera el número de muestras, como en el procesamiento de imágenes.\n",
    "\n",
    "Las redes neuronales pueden ser más útiles con información más desestructurada o en datos más complejos sin querer abusar del método prueba/error. "
   ]
  }
 ],
 "metadata": {
  "jupytext": {
   "encoding": "# -*- coding: utf-8 -*-"
  },
  "kernelspec": {
   "display_name": "Python 3 (ipykernel)",
   "language": "python",
   "name": "python3"
  }
 },
 "nbformat": 4,
 "nbformat_minor": 5
}