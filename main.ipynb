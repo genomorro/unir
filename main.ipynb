{
 "cells": [
  {
   "cell_type": "code",
   "execution_count": 1,
   "id": "1d5dc96d-1a3e-4141-861d-95153500c4ef",
   "metadata": {},
   "outputs": [],
   "source": [
    "import pandas as pd"
   ]
  },
  {
   "cell_type": "code",
   "execution_count": 2,
   "id": "a841ad26-9375-491a-b0e1-e42d4b36f2fd",
   "metadata": {},
   "outputs": [],
   "source": [
    "ah = pd.read_excel('ds/Asentamiento Histo.xlsx')\n",
    "lin = pd.read_excel('ds/LIN.xlsx')"
   ]
  },
  {
   "cell_type": "code",
   "execution_count": 3,
   "id": "17f3fd74-4d62-4756-827d-16109526691f",
   "metadata": {},
   "outputs": [],
   "source": [
    "ah = ah.drop(['Unnamed: 5', 'clave_autodenom', 'Unnamed: 7',\n",
    "       'nom_autodenom_2008', 'nom_autodenom_1actualizacion',\n",
    "       'Trans_fonetica_2008', 'Trans_fonetica_1actualización',\n",
    "       'clave_ent_2000', 'clave_ent_2010', 'Unnamed: 14', 'Unnamed: 15',\n",
    "       'Unnamed: 16', 'Unnamed: 17', 'Unnamed: 18', 'Unnamed: 19',\n",
    "       'Unnamed: 20', 'Unnamed: 21', 'Unnamed: 22', 'Unnamed: 23',\n",
    "       'Unnamed: 24', 'Unnamed: 25', 'loc2015', 'tieneTocayas2000',\n",
    "       'bandera2000', 'mayorHLI2000', 'HLI_2000', 'HLI_2005', 'HLI_2010',\n",
    "       'edomunloc2000', 'edomunloc2010', 'clave_unica2000', 'clave_unica2010',\n",
    "       'clave_unica2015', 'NDRIESGO', 'cambios_DI',\n",
    "       'Claves para marcas de densidad ', 'Notas', 'Unnamed: 42',\n",
    "       'Unnamed: 43', 'Unnamed: 44'],axis=1)"
   ]
  },
  {
   "cell_type": "code",
   "execution_count": 4,
   "id": "454bdf2d-4711-4636-9504-6c74591f922a",
   "metadata": {},
   "outputs": [],
   "source": [
    "ah = ah.dropna()"
   ]
  },
  {
   "cell_type": "code",
   "execution_count": 5,
   "id": "5c6ddc60-c7a2-448a-bebc-23413cb2df36",
   "metadata": {},
   "outputs": [
    {
     "data": {
      "text/html": [
       "<div>\n",
       "<style scoped>\n",
       "    .dataframe tbody tr th:only-of-type {\n",
       "        vertical-align: middle;\n",
       "    }\n",
       "\n",
       "    .dataframe tbody tr th {\n",
       "        vertical-align: top;\n",
       "    }\n",
       "\n",
       "    .dataframe thead th {\n",
       "        text-align: right;\n",
       "    }\n",
       "</style>\n",
       "<table border=\"1\" class=\"dataframe\">\n",
       "  <thead>\n",
       "    <tr style=\"text-align: right;\">\n",
       "      <th></th>\n",
       "      <th>Lengua indígena</th>\n",
       "      <th>Entidad federativa</th>\n",
       "      <th>Municipio</th>\n",
       "      <th>Localidad</th>\n",
       "      <th>AH/M</th>\n",
       "      <th>Población de 3 años y más que habla lengua indígena</th>\n",
       "      <th>Hombres</th>\n",
       "      <th>Mujeres</th>\n",
       "      <th>AH/M.1</th>\n",
       "    </tr>\n",
       "  </thead>\n",
       "  <tbody>\n",
       "    <tr>\n",
       "      <th>0</th>\n",
       "      <td>Akateko</td>\n",
       "      <td>Aguascalientes</td>\n",
       "      <td>Aguascalientes</td>\n",
       "      <td>Aguascalientes</td>\n",
       "      <td>NaN</td>\n",
       "      <td>1</td>\n",
       "      <td>1</td>\n",
       "      <td>0</td>\n",
       "      <td>NaN</td>\n",
       "    </tr>\n",
       "    <tr>\n",
       "      <th>1</th>\n",
       "      <td>Akateko</td>\n",
       "      <td>Aguascalientes</td>\n",
       "      <td>Aguascalientes</td>\n",
       "      <td>Total</td>\n",
       "      <td>NaN</td>\n",
       "      <td>1</td>\n",
       "      <td>1</td>\n",
       "      <td>0</td>\n",
       "      <td>NaN</td>\n",
       "    </tr>\n",
       "    <tr>\n",
       "      <th>2</th>\n",
       "      <td>Akateko</td>\n",
       "      <td>Aguascalientes</td>\n",
       "      <td>Total</td>\n",
       "      <td>Total</td>\n",
       "      <td>NaN</td>\n",
       "      <td>1</td>\n",
       "      <td>1</td>\n",
       "      <td>0</td>\n",
       "      <td>NaN</td>\n",
       "    </tr>\n",
       "    <tr>\n",
       "      <th>3</th>\n",
       "      <td>Akateko</td>\n",
       "      <td>Baja California</td>\n",
       "      <td>Ensenada</td>\n",
       "      <td>Rodolfo Sánchez Taboada (Maneadero)</td>\n",
       "      <td>NaN</td>\n",
       "      <td>2</td>\n",
       "      <td>1</td>\n",
       "      <td>1</td>\n",
       "      <td>NaN</td>\n",
       "    </tr>\n",
       "    <tr>\n",
       "      <th>4</th>\n",
       "      <td>Akateko</td>\n",
       "      <td>Baja California</td>\n",
       "      <td>Ensenada</td>\n",
       "      <td>Total</td>\n",
       "      <td>NaN</td>\n",
       "      <td>2</td>\n",
       "      <td>1</td>\n",
       "      <td>1</td>\n",
       "      <td>NaN</td>\n",
       "    </tr>\n",
       "  </tbody>\n",
       "</table>\n",
       "</div>"
      ],
      "text/plain": [
       "  Lengua indígena Entidad federativa       Municipio  \\\n",
       "0         Akateko     Aguascalientes  Aguascalientes   \n",
       "1         Akateko     Aguascalientes  Aguascalientes   \n",
       "2         Akateko     Aguascalientes           Total   \n",
       "3         Akateko    Baja California        Ensenada   \n",
       "4         Akateko    Baja California        Ensenada   \n",
       "\n",
       "                             Localidad  AH/M  \\\n",
       "0                       Aguascalientes   NaN   \n",
       "1                                Total   NaN   \n",
       "2                                Total   NaN   \n",
       "3  Rodolfo Sánchez Taboada (Maneadero)   NaN   \n",
       "4                                Total   NaN   \n",
       "\n",
       "  Población de 3 años y más que habla lengua indígena Hombres Mujeres AH/M.1  \n",
       "0                                                  1        1       0    NaN  \n",
       "1                                                  1        1       0    NaN  \n",
       "2                                                  1        1       0    NaN  \n",
       "3                                                  2        1       1    NaN  \n",
       "4                                                  2        1       1    NaN  "
      ]
     },
     "execution_count": 5,
     "metadata": {},
     "output_type": "execute_result"
    }
   ],
   "source": [
    "lin.head()"
   ]
  },
  {
   "cell_type": "code",
   "execution_count": 6,
   "id": "014c9ecb-6aee-4969-aea9-1cb52e954c11",
   "metadata": {},
   "outputs": [
    {
     "data": {
      "text/plain": [
       "Index(['Lengua indígena', 'Entidad federativa', 'Municipio', 'Localidad',\n",
       "       'AH/M', 'Población de 3 años y más que habla lengua indígena',\n",
       "       'Hombres', 'Mujeres', 'AH/M.1'],\n",
       "      dtype='object')"
      ]
     },
     "execution_count": 6,
     "metadata": {},
     "output_type": "execute_result"
    }
   ],
   "source": [
    "lin.columns"
   ]
  },
  {
   "cell_type": "code",
   "execution_count": 7,
   "id": "a4154899-1a10-46cd-abb4-6e8ce4ab2d22",
   "metadata": {},
   "outputs": [
    {
     "data": {
      "text/html": [
       "<div>\n",
       "<style scoped>\n",
       "    .dataframe tbody tr th:only-of-type {\n",
       "        vertical-align: middle;\n",
       "    }\n",
       "\n",
       "    .dataframe tbody tr th {\n",
       "        vertical-align: top;\n",
       "    }\n",
       "\n",
       "    .dataframe thead th {\n",
       "        text-align: right;\n",
       "    }\n",
       "</style>\n",
       "<table border=\"1\" class=\"dataframe\">\n",
       "  <thead>\n",
       "    <tr style=\"text-align: right;\">\n",
       "      <th></th>\n",
       "      <th>Lengua indígena</th>\n",
       "      <th>Entidad federativa</th>\n",
       "      <th>Municipio</th>\n",
       "      <th>Localidad</th>\n",
       "      <th>AH/M</th>\n",
       "    </tr>\n",
       "  </thead>\n",
       "  <tbody>\n",
       "    <tr>\n",
       "      <th>0</th>\n",
       "      <td>Akateko</td>\n",
       "      <td>Campeche</td>\n",
       "      <td>Champotón</td>\n",
       "      <td>Maya Tecún I</td>\n",
       "      <td>AH</td>\n",
       "    </tr>\n",
       "    <tr>\n",
       "      <th>1</th>\n",
       "      <td>Akateko</td>\n",
       "      <td>Campeche</td>\n",
       "      <td>Champotón</td>\n",
       "      <td>Santo Domingo Kesté</td>\n",
       "      <td>AH</td>\n",
       "    </tr>\n",
       "    <tr>\n",
       "      <th>2</th>\n",
       "      <td>Akateko</td>\n",
       "      <td>Chiapas</td>\n",
       "      <td>Frontera Comalapa</td>\n",
       "      <td>Tres Lagunas (Nuevo Tres Lagunas)</td>\n",
       "      <td>AH</td>\n",
       "    </tr>\n",
       "    <tr>\n",
       "      <th>3</th>\n",
       "      <td>Akateko</td>\n",
       "      <td>Chiapas</td>\n",
       "      <td>La Trinitaria</td>\n",
       "      <td>El Colorado (Nueva Libertad)</td>\n",
       "      <td>AH</td>\n",
       "    </tr>\n",
       "    <tr>\n",
       "      <th>4</th>\n",
       "      <td>Akateko</td>\n",
       "      <td>Chiapas</td>\n",
       "      <td>La Trinitaria</td>\n",
       "      <td>La Gloria, Ejido La Gloria</td>\n",
       "      <td>AH</td>\n",
       "    </tr>\n",
       "  </tbody>\n",
       "</table>\n",
       "</div>"
      ],
      "text/plain": [
       "  Lengua indígena Entidad federativa          Municipio  \\\n",
       "0         Akateko           Campeche          Champotón   \n",
       "1         Akateko           Campeche          Champotón   \n",
       "2         Akateko            Chiapas  Frontera Comalapa   \n",
       "3         Akateko            Chiapas      La Trinitaria   \n",
       "4         Akateko            Chiapas      La Trinitaria   \n",
       "\n",
       "                           Localidad AH/M  \n",
       "0                       Maya Tecún I   AH  \n",
       "1                Santo Domingo Kesté   AH  \n",
       "2  Tres Lagunas (Nuevo Tres Lagunas)   AH  \n",
       "3       El Colorado (Nueva Libertad)   AH  \n",
       "4         La Gloria, Ejido La Gloria   AH  "
      ]
     },
     "execution_count": 7,
     "metadata": {},
     "output_type": "execute_result"
    }
   ],
   "source": [
    "ah.head()"
   ]
  },
  {
   "cell_type": "code",
   "execution_count": 8,
   "id": "9dc0922e-6026-43d0-b1b4-7e5515401fb8",
   "metadata": {},
   "outputs": [],
   "source": [
    "temporal = lin[['AH/M', 'Población de 3 años y más que habla lengua indígena', 'Hombres', 'Mujeres', 'AH/M.1']]"
   ]
  },
  {
   "cell_type": "code",
   "execution_count": 9,
   "id": "855d73e2-56b6-479f-aba3-6ebb31a49040",
   "metadata": {},
   "outputs": [
    {
     "data": {
      "text/plain": [
       "(223889, 5)"
      ]
     },
     "execution_count": 9,
     "metadata": {},
     "output_type": "execute_result"
    }
   ],
   "source": [
    "temporal.shape"
   ]
  },
  {
   "cell_type": "raw",
   "id": "f08e5f91-5ae8-459c-ba86-6805d40d02cc",
   "metadata": {},
   "source": [
    "lin = lin.drop(['AH/M', 'Población de 3 años y más que habla lengua indígena', 'Hombres', 'Mujeres', 'AH/M.1'], axis=1)"
   ]
  },
  {
   "cell_type": "raw",
   "id": "9ffb7ccb-d7e6-4dfb-acdb-28cd8be58c7f",
   "metadata": {},
   "source": [
    "lin.head()"
   ]
  },
  {
   "cell_type": "code",
   "execution_count": 10,
   "id": "dc46dbe4-c9c7-494f-aeac-6986750c8843",
   "metadata": {},
   "outputs": [
    {
     "name": "stdout",
     "output_type": "stream",
     "text": [
      "Index(['Lengua indígena', 'Entidad federativa', 'Municipio', 'Localidad',\n",
      "       'AH/M', 'Población de 3 años y más que habla lengua indígena',\n",
      "       'Hombres', 'Mujeres', 'AH/M.1'],\n",
      "      dtype='object')\n",
      "Index(['Lengua indígena', 'Entidad federativa', 'Municipio', 'Localidad',\n",
      "       'AH/M'],\n",
      "      dtype='object')\n"
     ]
    }
   ],
   "source": [
    "print(lin.columns)\n",
    "print(ah.columns)"
   ]
  },
  {
   "cell_type": "code",
   "execution_count": 11,
   "id": "46232a28-6f71-4775-b86d-adeef0db9c97",
   "metadata": {},
   "outputs": [],
   "source": [
    "#df2.set_index('player').subtract(df1.set_index('player'))\n",
    "\n",
    "diff_df = pd.merge(lin[['Lengua indígena', 'Entidad federativa', 'Municipio', 'Localidad']], ah, how='outer', indicator='Exist')"
   ]
  },
  {
   "cell_type": "code",
   "execution_count": 12,
   "id": "ef0aacfe-d740-43fd-beab-c346a2a329e6",
   "metadata": {},
   "outputs": [
    {
     "data": {
      "text/html": [
       "<div>\n",
       "<style scoped>\n",
       "    .dataframe tbody tr th:only-of-type {\n",
       "        vertical-align: middle;\n",
       "    }\n",
       "\n",
       "    .dataframe tbody tr th {\n",
       "        vertical-align: top;\n",
       "    }\n",
       "\n",
       "    .dataframe thead th {\n",
       "        text-align: right;\n",
       "    }\n",
       "</style>\n",
       "<table border=\"1\" class=\"dataframe\">\n",
       "  <thead>\n",
       "    <tr style=\"text-align: right;\">\n",
       "      <th></th>\n",
       "      <th>Lengua indígena</th>\n",
       "      <th>Entidad federativa</th>\n",
       "      <th>Municipio</th>\n",
       "      <th>Localidad</th>\n",
       "      <th>AH/M</th>\n",
       "      <th>Exist</th>\n",
       "    </tr>\n",
       "  </thead>\n",
       "  <tbody>\n",
       "    <tr>\n",
       "      <th>0</th>\n",
       "      <td>Akateko</td>\n",
       "      <td>Aguascalientes</td>\n",
       "      <td>Aguascalientes</td>\n",
       "      <td>Aguascalientes</td>\n",
       "      <td>NaN</td>\n",
       "      <td>left_only</td>\n",
       "    </tr>\n",
       "    <tr>\n",
       "      <th>1</th>\n",
       "      <td>Akateko</td>\n",
       "      <td>Aguascalientes</td>\n",
       "      <td>Aguascalientes</td>\n",
       "      <td>Total</td>\n",
       "      <td>NaN</td>\n",
       "      <td>left_only</td>\n",
       "    </tr>\n",
       "    <tr>\n",
       "      <th>2</th>\n",
       "      <td>Akateko</td>\n",
       "      <td>Aguascalientes</td>\n",
       "      <td>Total</td>\n",
       "      <td>Total</td>\n",
       "      <td>NaN</td>\n",
       "      <td>left_only</td>\n",
       "    </tr>\n",
       "    <tr>\n",
       "      <th>3</th>\n",
       "      <td>Akateko</td>\n",
       "      <td>Baja California</td>\n",
       "      <td>Ensenada</td>\n",
       "      <td>Rodolfo Sánchez Taboada (Maneadero)</td>\n",
       "      <td>NaN</td>\n",
       "      <td>left_only</td>\n",
       "    </tr>\n",
       "    <tr>\n",
       "      <th>4</th>\n",
       "      <td>Akateko</td>\n",
       "      <td>Baja California</td>\n",
       "      <td>Ensenada</td>\n",
       "      <td>Total</td>\n",
       "      <td>NaN</td>\n",
       "      <td>left_only</td>\n",
       "    </tr>\n",
       "  </tbody>\n",
       "</table>\n",
       "</div>"
      ],
      "text/plain": [
       "  Lengua indígena Entidad federativa       Municipio  \\\n",
       "0         Akateko     Aguascalientes  Aguascalientes   \n",
       "1         Akateko     Aguascalientes  Aguascalientes   \n",
       "2         Akateko     Aguascalientes           Total   \n",
       "3         Akateko    Baja California        Ensenada   \n",
       "4         Akateko    Baja California        Ensenada   \n",
       "\n",
       "                             Localidad AH/M      Exist  \n",
       "0                       Aguascalientes  NaN  left_only  \n",
       "1                                Total  NaN  left_only  \n",
       "2                                Total  NaN  left_only  \n",
       "3  Rodolfo Sánchez Taboada (Maneadero)  NaN  left_only  \n",
       "4                                Total  NaN  left_only  "
      ]
     },
     "execution_count": 12,
     "metadata": {},
     "output_type": "execute_result"
    }
   ],
   "source": [
    "diff_df.head()"
   ]
  },
  {
   "cell_type": "code",
   "execution_count": 13,
   "id": "025c8042-c122-4a79-bd16-8959eba74239",
   "metadata": {},
   "outputs": [],
   "source": [
    "diff_df = pd.concat([diff_df,temporal], axis=1)"
   ]
  },
  {
   "cell_type": "code",
   "execution_count": null,
   "id": "43c5d8e1-5cbb-4065-a7f1-77d3ef5c0424",
   "metadata": {},
   "outputs": [],
   "source": [
    "diff_df.to_excel(\"out/resultado.xlsx\")"
   ]
  },
  {
   "cell_type": "code",
   "execution_count": null,
   "id": "0c7b088a-e45f-43ee-a14f-175123722faf",
   "metadata": {},
   "outputs": [],
   "source": []
  }
 ],
 "metadata": {
  "kernelspec": {
   "display_name": "Python 3 (ipykernel)",
   "language": "python",
   "name": "python3"
  },
  "language_info": {
   "codemirror_mode": {
    "name": "ipython",
    "version": 3
   },
   "file_extension": ".py",
   "mimetype": "text/x-python",
   "name": "python",
   "nbconvert_exporter": "python",
   "pygments_lexer": "ipython3",
   "version": "3.7.12"
  }
 },
 "nbformat": 4,
 "nbformat_minor": 5
}
