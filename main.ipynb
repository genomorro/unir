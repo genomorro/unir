{
 "cells": [
  {
   "cell_type": "markdown",
   "id": "8cc21e77-7869-4041-847f-f76d391a5d25",
   "metadata": {},
   "source": [
    "# Análisis: Abstract data set for Credit card fraud detection"
   ]
  },
  {
   "cell_type": "code",
   "execution_count": 1,
   "id": "a7eb9c4d-86a9-4b1c-af2f-32eb672780f6",
   "metadata": {},
   "outputs": [],
   "source": [
    "import matplotlib.pyplot as plt\n",
    "#import numpy as np\n",
    "import pandas as pd\n",
    "import seaborn as sns\n",
    "#import sklearn as sl\n",
    "from scipy.cluster.hierarchy import dendrogram, linkage, cophenet\n",
    "from scipy.spatial.distance import pdist"
   ]
  },
  {
   "cell_type": "markdown",
   "id": "c0e0711d-bd2a-4e15-8aba-7b814e514949",
   "metadata": {},
   "source": [
    "## Carga de dataset y resumen de datos\n",
    "\n",
    "Se usará un dataset~\\citep{Joshi_2018} el cual correspende al dataframe que se usará durante el análisis."
   ]
  },
  {
   "cell_type": "code",
   "execution_count": 2,
   "id": "600e0422-307f-459e-af86-7dab7561f3bb",
   "metadata": {},
   "outputs": [],
   "source": [
    "df = pd.read_csv(\"./ds/creditcardcsvpresent.csv\")"
   ]
  },
  {
   "cell_type": "markdown",
   "id": "f9a2fd92-0c8a-4c5a-9a39-dfc1cf378e7c",
   "metadata": {},
   "source": [
    "Este dataframe contiene once columnas. Las primeras dos de ellas serán borradas porque una corresponde a un índice de datos y la otra es una columna completamente vacía, por lo tante irrecuperable."
   ]
  },
  {
   "cell_type": "code",
   "execution_count": 3,
   "id": "b53c4b2f-dd5c-4885-924d-593ef1bd8e31",
   "metadata": {},
   "outputs": [
    {
     "name": "stdout",
     "output_type": "stream",
     "text": [
      "<class 'pandas.core.frame.DataFrame'>\n",
      "RangeIndex: 3075 entries, 0 to 3074\n",
      "Data columns (total 12 columns):\n",
      " #   Column                          Non-Null Count  Dtype  \n",
      "---  ------                          --------------  -----  \n",
      " 0   Merchant_id                     3075 non-null   int64  \n",
      " 1   Transaction date                0 non-null      float64\n",
      " 2   Average Amount/transaction/day  3075 non-null   float64\n",
      " 3   Transaction_amount              3075 non-null   float64\n",
      " 4   Is declined                     3075 non-null   object \n",
      " 5   Total Number of declines/day    3075 non-null   int64  \n",
      " 6   isForeignTransaction            3075 non-null   object \n",
      " 7   isHighRiskCountry               3075 non-null   object \n",
      " 8   Daily_chargeback_avg_amt        3075 non-null   int64  \n",
      " 9   6_month_avg_chbk_amt            3075 non-null   float64\n",
      " 10  6-month_chbk_freq               3075 non-null   int64  \n",
      " 11  isFradulent                     3075 non-null   object \n",
      "dtypes: float64(4), int64(4), object(4)\n",
      "memory usage: 288.4+ KB\n"
     ]
    }
   ],
   "source": [
    "df.info()"
   ]
  },
  {
   "cell_type": "markdown",
   "id": "abc3b9be-7514-4549-a92c-2e78d2914fc1",
   "metadata": {
    "tags": []
   },
   "source": [
    "### Eliminación de columnas\n",
    "\n",
    "Primero será necesario guardar la columna objetivo `isFraudulent` en una nueva variable, pues será borrada del dataframe de trabajo debido a que utilizaremos métodos de análisis no supervisados."
   ]
  },
  {
   "cell_type": "code",
   "execution_count": 4,
   "id": "af3d65a6-bed4-45dc-ad75-1e2bf435cfc2",
   "metadata": {},
   "outputs": [],
   "source": [
    "ideal_results = df[\"isFradulent\"]"
   ]
  },
  {
   "cell_type": "markdown",
   "id": "eb016b30-a4c5-4f69-a108-9c7980b47054",
   "metadata": {},
   "source": [
    "Ahora es posible borrar todas las columnas que no son necesarias para el análisis a realizar."
   ]
  },
  {
   "cell_type": "code",
   "execution_count": 5,
   "id": "687a6e4a-a499-4cbc-949f-ceb0fe6ad4cb",
   "metadata": {},
   "outputs": [],
   "source": [
    "df = df.drop([\"Merchant_id\", \"Transaction date\", \"isFradulent\"], axis=1)"
   ]
  },
  {
   "cell_type": "code",
   "execution_count": 6,
   "id": "2bbb1eb8-0bb0-4914-9490-6f7faafa2345",
   "metadata": {},
   "outputs": [
    {
     "name": "stdout",
     "output_type": "stream",
     "text": [
      "<class 'pandas.core.frame.DataFrame'>\n",
      "RangeIndex: 3075 entries, 0 to 3074\n",
      "Data columns (total 9 columns):\n",
      " #   Column                          Non-Null Count  Dtype  \n",
      "---  ------                          --------------  -----  \n",
      " 0   Average Amount/transaction/day  3075 non-null   float64\n",
      " 1   Transaction_amount              3075 non-null   float64\n",
      " 2   Is declined                     3075 non-null   object \n",
      " 3   Total Number of declines/day    3075 non-null   int64  \n",
      " 4   isForeignTransaction            3075 non-null   object \n",
      " 5   isHighRiskCountry               3075 non-null   object \n",
      " 6   Daily_chargeback_avg_amt        3075 non-null   int64  \n",
      " 7   6_month_avg_chbk_amt            3075 non-null   float64\n",
      " 8   6-month_chbk_freq               3075 non-null   int64  \n",
      "dtypes: float64(3), int64(3), object(3)\n",
      "memory usage: 216.3+ KB\n"
     ]
    }
   ],
   "source": [
    "df.info()"
   ]
  },
  {
   "cell_type": "markdown",
   "id": "e90433e1-7960-4bb3-bfaf-5d27c5b6c81c",
   "metadata": {},
   "source": [
    "Este dataframe contiene nueve columnas, las cuales no son descritas en la fuente original, por lo que solo es posible intuir su significado, por supuesto, esto podría condicionar la discusión producto del análisis. Es importante hacer enfásis en proporcionar metadatos sobre cualquier conjunto de datos computables: texto, audio, video, dataset, etc.\n",
    "\n",
    "Seis de esas columnas son de tipo númerico y las tres restantes son categóricas, enseguida se muestra su descripción general."
   ]
  },
  {
   "cell_type": "code",
   "execution_count": 7,
   "id": "6d22fc2d-a0fe-43ea-8a51-46d3db96f55e",
   "metadata": {},
   "outputs": [
    {
     "data": {
      "text/html": [
       "<div>\n",
       "<style scoped>\n",
       "    .dataframe tbody tr th:only-of-type {\n",
       "        vertical-align: middle;\n",
       "    }\n",
       "\n",
       "    .dataframe tbody tr th {\n",
       "        vertical-align: top;\n",
       "    }\n",
       "\n",
       "    .dataframe thead th {\n",
       "        text-align: right;\n",
       "    }\n",
       "</style>\n",
       "<table border=\"1\" class=\"dataframe\">\n",
       "  <thead>\n",
       "    <tr style=\"text-align: right;\">\n",
       "      <th></th>\n",
       "      <th>count</th>\n",
       "      <th>mean</th>\n",
       "      <th>std</th>\n",
       "      <th>min</th>\n",
       "      <th>25%</th>\n",
       "      <th>50%</th>\n",
       "      <th>75%</th>\n",
       "      <th>max</th>\n",
       "    </tr>\n",
       "  </thead>\n",
       "  <tbody>\n",
       "    <tr>\n",
       "      <th>Average Amount/transaction/day</th>\n",
       "      <td>3075.0</td>\n",
       "      <td>515.026556</td>\n",
       "      <td>291.906978</td>\n",
       "      <td>4.011527</td>\n",
       "      <td>269.788047</td>\n",
       "      <td>502.549575</td>\n",
       "      <td>765.272803</td>\n",
       "      <td>2000.0</td>\n",
       "    </tr>\n",
       "    <tr>\n",
       "      <th>Transaction_amount</th>\n",
       "      <td>3075.0</td>\n",
       "      <td>9876.399210</td>\n",
       "      <td>10135.331016</td>\n",
       "      <td>0.000000</td>\n",
       "      <td>2408.781147</td>\n",
       "      <td>6698.891856</td>\n",
       "      <td>14422.568935</td>\n",
       "      <td>108000.0</td>\n",
       "    </tr>\n",
       "    <tr>\n",
       "      <th>Total Number of declines/day</th>\n",
       "      <td>3075.0</td>\n",
       "      <td>0.957398</td>\n",
       "      <td>2.192391</td>\n",
       "      <td>0.000000</td>\n",
       "      <td>0.000000</td>\n",
       "      <td>0.000000</td>\n",
       "      <td>0.000000</td>\n",
       "      <td>20.0</td>\n",
       "    </tr>\n",
       "    <tr>\n",
       "      <th>Daily_chargeback_avg_amt</th>\n",
       "      <td>3075.0</td>\n",
       "      <td>55.737561</td>\n",
       "      <td>206.634779</td>\n",
       "      <td>0.000000</td>\n",
       "      <td>0.000000</td>\n",
       "      <td>0.000000</td>\n",
       "      <td>0.000000</td>\n",
       "      <td>998.0</td>\n",
       "    </tr>\n",
       "    <tr>\n",
       "      <th>6_month_avg_chbk_amt</th>\n",
       "      <td>3075.0</td>\n",
       "      <td>40.022407</td>\n",
       "      <td>155.968840</td>\n",
       "      <td>0.000000</td>\n",
       "      <td>0.000000</td>\n",
       "      <td>0.000000</td>\n",
       "      <td>0.000000</td>\n",
       "      <td>998.0</td>\n",
       "    </tr>\n",
       "    <tr>\n",
       "      <th>6-month_chbk_freq</th>\n",
       "      <td>3075.0</td>\n",
       "      <td>0.391870</td>\n",
       "      <td>1.548479</td>\n",
       "      <td>0.000000</td>\n",
       "      <td>0.000000</td>\n",
       "      <td>0.000000</td>\n",
       "      <td>0.000000</td>\n",
       "      <td>9.0</td>\n",
       "    </tr>\n",
       "  </tbody>\n",
       "</table>\n",
       "</div>"
      ],
      "text/plain": [
       "                                 count         mean           std       min  \\\n",
       "Average Amount/transaction/day  3075.0   515.026556    291.906978  4.011527   \n",
       "Transaction_amount              3075.0  9876.399210  10135.331016  0.000000   \n",
       "Total Number of declines/day    3075.0     0.957398      2.192391  0.000000   \n",
       "Daily_chargeback_avg_amt        3075.0    55.737561    206.634779  0.000000   \n",
       "6_month_avg_chbk_amt            3075.0    40.022407    155.968840  0.000000   \n",
       "6-month_chbk_freq               3075.0     0.391870      1.548479  0.000000   \n",
       "\n",
       "                                        25%          50%           75%  \\\n",
       "Average Amount/transaction/day   269.788047   502.549575    765.272803   \n",
       "Transaction_amount              2408.781147  6698.891856  14422.568935   \n",
       "Total Number of declines/day       0.000000     0.000000      0.000000   \n",
       "Daily_chargeback_avg_amt           0.000000     0.000000      0.000000   \n",
       "6_month_avg_chbk_amt               0.000000     0.000000      0.000000   \n",
       "6-month_chbk_freq                  0.000000     0.000000      0.000000   \n",
       "\n",
       "                                     max  \n",
       "Average Amount/transaction/day    2000.0  \n",
       "Transaction_amount              108000.0  \n",
       "Total Number of declines/day        20.0  \n",
       "Daily_chargeback_avg_amt           998.0  \n",
       "6_month_avg_chbk_amt               998.0  \n",
       "6-month_chbk_freq                    9.0  "
      ]
     },
     "execution_count": 7,
     "metadata": {},
     "output_type": "execute_result"
    }
   ],
   "source": [
    "df.describe().transpose()"
   ]
  },
  {
   "cell_type": "code",
   "execution_count": 8,
   "id": "3cd765bc-c71a-41c4-8195-f45fccd1916f",
   "metadata": {},
   "outputs": [
    {
     "data": {
      "text/html": [
       "<div>\n",
       "<style scoped>\n",
       "    .dataframe tbody tr th:only-of-type {\n",
       "        vertical-align: middle;\n",
       "    }\n",
       "\n",
       "    .dataframe tbody tr th {\n",
       "        vertical-align: top;\n",
       "    }\n",
       "\n",
       "    .dataframe thead th {\n",
       "        text-align: right;\n",
       "    }\n",
       "</style>\n",
       "<table border=\"1\" class=\"dataframe\">\n",
       "  <thead>\n",
       "    <tr style=\"text-align: right;\">\n",
       "      <th></th>\n",
       "      <th>count</th>\n",
       "      <th>unique</th>\n",
       "      <th>top</th>\n",
       "      <th>freq</th>\n",
       "    </tr>\n",
       "  </thead>\n",
       "  <tbody>\n",
       "    <tr>\n",
       "      <th>Is declined</th>\n",
       "      <td>3075</td>\n",
       "      <td>2</td>\n",
       "      <td>N</td>\n",
       "      <td>3018</td>\n",
       "    </tr>\n",
       "    <tr>\n",
       "      <th>isForeignTransaction</th>\n",
       "      <td>3075</td>\n",
       "      <td>2</td>\n",
       "      <td>N</td>\n",
       "      <td>2369</td>\n",
       "    </tr>\n",
       "    <tr>\n",
       "      <th>isHighRiskCountry</th>\n",
       "      <td>3075</td>\n",
       "      <td>2</td>\n",
       "      <td>N</td>\n",
       "      <td>2870</td>\n",
       "    </tr>\n",
       "  </tbody>\n",
       "</table>\n",
       "</div>"
      ],
      "text/plain": [
       "                     count unique top  freq\n",
       "Is declined           3075      2   N  3018\n",
       "isForeignTransaction  3075      2   N  2369\n",
       "isHighRiskCountry     3075      2   N  2870"
      ]
     },
     "execution_count": 8,
     "metadata": {},
     "output_type": "execute_result"
    }
   ],
   "source": [
    "df.describe(include='object').transpose()"
   ]
  },
  {
   "cell_type": "code",
   "execution_count": 9,
   "id": "14553850-7e15-4bab-b17d-ca8ff6ee3086",
   "metadata": {},
   "outputs": [
    {
     "name": "stdout",
     "output_type": "stream",
     "text": [
      "-----\n",
      "N    3018\n",
      "Y      57\n",
      "Name: Is declined, dtype: int64\n",
      "-----\n",
      "N    2369\n",
      "Y     706\n",
      "Name: isForeignTransaction, dtype: int64\n",
      "-----\n",
      "N    2870\n",
      "Y     205\n",
      "Name: isHighRiskCountry, dtype: int64\n"
     ]
    }
   ],
   "source": [
    "for o in [\"Is declined\", \"isForeignTransaction\",\"isHighRiskCountry\"]:\n",
    "    print(\"-----\")\n",
    "    print(df[o].value_counts())"
   ]
  },
  {
   "cell_type": "markdown",
   "id": "6cc08c42-7a39-4d76-babb-2554c3ccaf74",
   "metadata": {},
   "source": [
    "### Tratamiento de variables categóricas\n",
    "\n",
    "Se crean variables  separadas, para no usar  variables categóricas. La variable  categórica `Is declined` que toma  valores `Y`  o `N`  en `df[\"Is declined\"]`  se puede  sustituir por  dos variables  dummy, booleanas, que son `Is declined_Y` e `Is declined_N`. Es posible tomar ambas variables o solo una de ellas, tal y como se hará en este análisis. Posteriormente se borra la variable original y se adjuntas las nuevas variables al data frame."
   ]
  },
  {
   "cell_type": "code",
   "execution_count": 10,
   "id": "1d8a5b1d-8016-44f8-8dbf-29de65ccc204",
   "metadata": {},
   "outputs": [],
   "source": [
    "df = pd.get_dummies(df,columns=[\"Is declined\", \"isForeignTransaction\",\"isHighRiskCountry\"],drop_first=True)"
   ]
  },
  {
   "cell_type": "code",
   "execution_count": 11,
   "id": "63127f9e-cf53-44fc-9e69-be130994a156",
   "metadata": {},
   "outputs": [
    {
     "name": "stdout",
     "output_type": "stream",
     "text": [
      "<class 'pandas.core.frame.DataFrame'>\n",
      "RangeIndex: 3075 entries, 0 to 3074\n",
      "Data columns (total 9 columns):\n",
      " #   Column                          Non-Null Count  Dtype  \n",
      "---  ------                          --------------  -----  \n",
      " 0   Average Amount/transaction/day  3075 non-null   float64\n",
      " 1   Transaction_amount              3075 non-null   float64\n",
      " 2   Total Number of declines/day    3075 non-null   int64  \n",
      " 3   Daily_chargeback_avg_amt        3075 non-null   int64  \n",
      " 4   6_month_avg_chbk_amt            3075 non-null   float64\n",
      " 5   6-month_chbk_freq               3075 non-null   int64  \n",
      " 6   Is declined_Y                   3075 non-null   uint8  \n",
      " 7   isForeignTransaction_Y          3075 non-null   uint8  \n",
      " 8   isHighRiskCountry_Y             3075 non-null   uint8  \n",
      "dtypes: float64(3), int64(3), uint8(3)\n",
      "memory usage: 153.3 KB\n"
     ]
    }
   ],
   "source": [
    "df.info()"
   ]
  },
  {
   "cell_type": "markdown",
   "id": "3e776a50-600f-4866-b32a-c25c45cc91e1",
   "metadata": {},
   "source": [
    "## Matriz de correlación\n",
    "\n",
    "Con la matriz de correlación es posible observar similitudes entre diferentes datos. Es posible observar que la matriz tiene zonas de colores similares, por ejemplo la parte central tiene tres variables que posiblemente sirvan para crear un grupo del cual quizá se construya una categoría, o bien termine por ser un grupo de datos poco relevantes para la clasificación."
   ]
  },
  {
   "cell_type": "code",
   "execution_count": 12,
   "id": "72b32a05-0e14-4412-b14d-4e0796758d54",
   "metadata": {},
   "outputs": [
    {
     "data": {
      "text/plain": [
       "<AxesSubplot:>"
      ]
     },
     "execution_count": 12,
     "metadata": {},
     "output_type": "execute_result"
    },
    {
     "data": {
      "image/png": "[encoded data removed]",
      "text/plain": [
       "<Figure size 1600x640 with 2 Axes>"
      ]
     },
     "metadata": {
      "needs_background": "light"
     },
     "output_type": "display_data"
    }
   ],
   "source": [
    "plt.figure(figsize=(20,8),dpi=80)\n",
    "corrmat = df.corr()\n",
    "sns.heatmap(corrmat, vmax=.8, fmt='.1f', annot=True)"
   ]
  },
  {
   "cell_type": "markdown",
   "id": "f8fc4c74-00f4-48bf-affe-529e3e43001a",
   "metadata": {},
   "source": [
    "De esta forma, en este momento se hará la siguiente predicción:\n",
    "    \n",
    "- Existen al menos dos grupos de datos: Datos más relevantes para la clasificación y datos menos relevantes para la clasificación.\n",
    "- Las columnas `isForeignTransaction_Y`, `isHighRiskCountry_Y`, `Transaction_amount` y `Total Number of declines/day` parecen formar uno de esos grupos.\n",
    "- Las columnas `Daily_chargeback_avg_amt`, `6_month_avg_chbk_amt`, `6-month_chbk_freq` y `Is declined_Y` forman el segundo grupo.\n",
    "- No hay evidencia para la columna `Average Amount/transaction/day`.\n",
    "\n",
    "Está predicción solo se convertiría en una hipótesis si fuera confirmada con una matriz de distancias. En este análisis se procederá directamente a implementar un método de clutering."
   ]
  },
  {
   "cell_type": "markdown",
   "id": "5c13ad72-9df3-4b3d-927a-5c4ffab9ef79",
   "metadata": {},
   "source": [
    "## Clustering jerárquico\n",
    "\n",
    "Categoriza las entradas en grupos. Es un método no supervisado, por lo tanto no se usarán datos de entrenamiento, sino que todos los datos serán utilizados para crear una clasificación."
   ]
  },
  {
   "cell_type": "code",
   "execution_count": 37,
   "id": "94cc84c2-52cc-4d27-ab0d-3fe765e3cc1b",
   "metadata": {},
   "outputs": [],
   "source": [
    "# method=single, complete, average, weighted, centroid, median, ward\n",
    "Z = linkage(df, \"centroid\")"
   ]
  },
  {
   "cell_type": "raw",
   "id": "1b114edc-a5d0-44fc-916c-7faeb009b99f",
   "metadata": {},
   "source": [
    "plt.figure(figsize=(300,50))\n",
    "plt.title(\"Dendrograma\")\n",
    "dendrogram(Z, leaf_rotation=90.,leaf_font_size=10)\n",
    "plt.savefig('im/dendrogram.png', format='png', bbox_inches='tight')"
   ]
  },
  {
   "cell_type": "code",
   "execution_count": 38,
   "id": "10314ec8-08e5-4b88-bc76-eb41c6cbfb3d",
   "metadata": {},
   "outputs": [],
   "source": [
    "coeficiente, distancia = cophenet(Z, pdist(df))"
   ]
  },
  {
   "cell_type": "code",
   "execution_count": 39,
   "id": "505dbc1f-3c0a-478b-a7a3-9023fa8f235e",
   "metadata": {},
   "outputs": [
    {
     "data": {
      "text/plain": [
       "0.8915315812910991"
      ]
     },
     "execution_count": 39,
     "metadata": {},
     "output_type": "execute_result"
    }
   ],
   "source": [
    "coeficiente"
   ]
  },
  {
   "cell_type": "code",
   "execution_count": 17,
   "id": "b6c8257b-354b-49b2-9d76-6ef83d5f2258",
   "metadata": {},
   "outputs": [
    {
     "data": {
      "text/plain": [
       "array([[4.53000000e+02, 4.54000000e+02, 0.00000000e+00, 2.00000000e+00],\n",
       "       [1.02000000e+03, 2.21900000e+03, 6.12306161e-02, 2.00000000e+00],\n",
       "       [1.35100000e+03, 2.55700000e+03, 7.99292845e-02, 2.00000000e+00],\n",
       "       [7.80000000e+02, 2.74700000e+03, 1.31015463e-01, 2.00000000e+00],\n",
       "       [5.67000000e+02, 2.53500000e+03, 2.26191689e-01, 2.00000000e+00],\n",
       "       [1.31500000e+03, 1.58100000e+03, 2.72923322e-01, 2.00000000e+00],\n",
       "       [2.38600000e+03, 2.86400000e+03, 3.51360972e-01, 2.00000000e+00],\n",
       "       [6.82000000e+02, 8.08000000e+02, 3.90558845e-01, 2.00000000e+00],\n",
       "       [6.73000000e+02, 1.69300000e+03, 4.00283051e-01, 2.00000000e+00],\n",
       "       [2.19800000e+03, 2.27400000e+03, 4.94398774e-01, 2.00000000e+00],\n",
       "       [7.48000000e+02, 8.72000000e+02, 5.38279653e-01, 2.00000000e+00],\n",
       "       [1.35500000e+03, 1.99500000e+03, 5.72548700e-01, 2.00000000e+00],\n",
       "       [7.24000000e+02, 1.74900000e+03, 6.34476117e-01, 2.00000000e+00],\n",
       "       [9.16000000e+02, 2.58700000e+03, 6.39055400e-01, 2.00000000e+00],\n",
       "       [2.00500000e+03, 2.66500000e+03, 6.56704746e-01, 2.00000000e+00],\n",
       "       [5.26000000e+02, 7.59000000e+02, 8.43951100e-01, 2.00000000e+00],\n",
       "       [1.54200000e+03, 2.56700000e+03, 8.73113885e-01, 2.00000000e+00],\n",
       "       [1.12200000e+03, 1.72500000e+03, 9.27175012e-01, 2.00000000e+00],\n",
       "       [5.48000000e+02, 2.93800000e+03, 9.68012923e-01, 2.00000000e+00],\n",
       "       [9.69000000e+02, 3.05000000e+03, 9.94694802e-01, 2.00000000e+00]])"
      ]
     },
     "execution_count": 17,
     "metadata": {},
     "output_type": "execute_result"
    }
   ],
   "source": [
    "Z[:20]"
   ]
  },
  {
   "cell_type": "code",
   "execution_count": null,
   "id": "25cc24f6-f179-4511-a302-e9e298f7d681",
   "metadata": {},
   "outputs": [],
   "source": []
  }
 ],
 "metadata": {
  "kernelspec": {
   "display_name": "Python 3 (ipykernel)",
   "language": "python",
   "name": "python3"
  },
  "language_info": {
   "codemirror_mode": {
    "name": "ipython",
    "version": 3
   },
   "file_extension": ".py",
   "mimetype": "text/x-python",
   "name": "python",
   "nbconvert_exporter": "python",
   "pygments_lexer": "ipython3",
   "version": "3.7.12"
  }
 },
 "nbformat": 4,
 "nbformat_minor": 5
}
