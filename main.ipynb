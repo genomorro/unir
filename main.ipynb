{
 "cells": [
  {
   "cell_type": "markdown",
   "id": "d2369a67",
   "metadata": {},
   "source": [
    "# Actividad grupal: Usos reales de filtros espaciales y morfológicos\n",
    "\n",
    "## Introduccion\n",
    "\n",
    "La morfología es un estudio de la forma y la estructura. En el procesamiento de imágenes, se utiliza para analizar y modificar propiedades geométricas de una imagen probándola con diferentes formas. Las características geométicas de estas formas, llamadas elementos estructurales, conduce a medidas cuantitativas que son útiles en la visión informática. El proceso es similar a la convolución lineal y la correlación, excepto que las operaciones lógicas AND, OR, y NOT se utilizan en un área en lugar de operaciones aritméticas. Los píxeles se añaden a un objeto o se eliminan de él. Hay que definir la extensión del área, y los elementos de estructurales, los cuales pueden ser rotados por 180º.\n",
    "\n",
    "En la operación de la convolución, con máscaras hechas de diferentes tipos de respuestas de impulso, podemos procesar señales con diferentes filtros como paso bajo y paso alto. De manera similar, con diferentes tipos de elementos de estructurales y la realización de la convolución con operadores lógicos, podemos realizar diversos tipos de análisis de objetos. Aunque su uso primario es con imágenes binarias, la morfología también se extiende a las imágenes a escala gris.\n",
    "\n",
    "En el presente caso utilizamos imagenes de rayos X, que por la naturaleza de las mismas presentan alto contraste y escalas de grises. Estas imágenes corresponden directamente a consulta médica donde existió un agente extraño en el cuerpo humano y con las operaciones de filtros morfológicos pretendemos hacer más sencilla su determinación de posible diagnóstico y tratamiento médico. Las imágenes presentaron resultados favorables para las operaciones en cuestión.\n"
   ]
  },
  {
   "cell_type": "markdown",
   "id": "ae04fb93",
   "metadata": {},
   "source": [
    "## Librerias a utilizar"
   ]
  },
  {
   "cell_type": "code",
   "execution_count": 1,
   "id": "a2cc9b82",
   "metadata": {
    "tags": []
   },
   "outputs": [],
   "source": [
    "import cv2 as cv\n",
    "import numpy as np\n",
    "from matplotlib import pyplot as plt"
   ]
  },
  {
   "cell_type": "markdown",
   "id": "a7d81f07-f767-4518-8e6d-36b124824941",
   "metadata": {},
   "source": [
    "## Imágenes usadas\n",
    "\n",
    "En estas tres imágenes `img_0` representa una imagen de control, mientras que `img_1` y `img_2` corresponden imágenes a rayos X."
   ]
  },
  {
   "cell_type": "code",
   "execution_count": 2,
   "id": "252a461a-bd22-4cbb-b84a-8d75d1f30e1c",
   "metadata": {},
   "outputs": [],
   "source": [
    "img_0 = cv.imread('im/unir-1.jpg', cv.IMREAD_GRAYSCALE)\n",
    "img_1 = cv.imread('im/dental-1.jpg', 0)\n",
    "img_2 = cv.imread('im/dental-2.jpg', 0)"
   ]
  },
  {
   "cell_type": "markdown",
   "id": "9b7435b5-d01c-464d-99b7-b42392c1a47e",
   "metadata": {
    "tags": []
   },
   "source": [
    "## Implementación de operadores morfológicos\n",
    "\n",
    "La dilatación suele generar un efecto de ampliación del objeto en una imágen, llegando a eliminar algunos detalles que se consideren mínimos o ajenos al objeto que conforma la mayor parte de la composición de la misma. La erosión genera un efecto contrario, el cual amplia los detalles mínimos encontrados ajenos al agente principal de la imagen, minimizando el objeto que tenga mayor presencia en la misma.\n",
    "\n",
    "Ambas operaciones se pueden ciclar e iterar en la forma que convenga para obtener un efecto deseado en determinado tipo de imágenes.\n",
    "\n",
    "En las operaciones de apertura y dilatación, la imagen es sujeta a dilatación y erosión. La diferencia es el orden de estas operaciones. La operación de apertura abre pequeñas brechas entre tocar objetos en una imagen mientras la operación de cierre cierra pequeñas brechas en un objeto.\n",
    "\n",
    "Se llama apertura si la dilatación es precedida por la erosión. Si la dilatación es seguida de la erosión se llama cierre. "
   ]
  },
  {
   "cell_type": "code",
   "execution_count": 3,
   "id": "4a9521b4",
   "metadata": {},
   "outputs": [],
   "source": [
    "def padding(originalImg, padSize):\n",
    "    padImg = np.zeros((rows+2*padSize, columns+2*padSize), dtype=np.uint8)\n",
    "    # recortando\n",
    "    padImg[padSize:rows+padSize, padSize:columns+padSize] = originalImg\n",
    "    return padImg"
   ]
  },
  {
   "cell_type": "code",
   "execution_count": 4,
   "id": "29d54813",
   "metadata": {},
   "outputs": [],
   "source": [
    "def Erosion(padImg, kernel, size):\n",
    "    output = np.zeros((rows, columns), dtype=np.uint8)\n",
    "    for i in range(0, rows):\n",
    "        for j in range(0, columns):\n",
    "            # recortando\n",
    "            portion = padImg[i:i+size, j:j+size]\n",
    "            # se suma el elemento estructural y la ventana\n",
    "            portion1 = portion.flatten()\n",
    "            portion2 = kernel.flatten()\n",
    "            p1 = (np.sum(portion1))\n",
    "            p2 = (np.sum(portion2))*255\n",
    "            # la condicional para que no revase el limite\n",
    "            if p1 == p2:\n",
    "                output[i, j] = 255\n",
    "            else:\n",
    "                output[i, j] = np.min(portion1)\n",
    "    return output"
   ]
  },
  {
   "cell_type": "code",
   "execution_count": 5,
   "id": "a7381ecc",
   "metadata": {},
   "outputs": [],
   "source": [
    "def Dilatacion(padImg, size):\n",
    "    output = np.zeros((rows, columns), dtype=np.uint8)\n",
    "    for i in range(0, rows):\n",
    "        for j in range(0, columns):\n",
    "            # recortando\n",
    "            portion = padImg[i:i+size, j:j+size]\n",
    "            portion1 = portion.flatten()\n",
    "            # la condicional para que no revase el limite\n",
    "            if 255 in portion1:\n",
    "                output[i, j] = 255\n",
    "            else:\n",
    "                output[i, j] = np.max(portion1)\n",
    "    return output"
   ]
  },
  {
   "cell_type": "code",
   "execution_count": 6,
   "id": "02f8b819",
   "metadata": {},
   "outputs": [],
   "source": [
    "def opening(padImg, kernel, size):\n",
    "    # Se aplica la erosion\n",
    "    erosion = Erosion(padImg, kernel , size)\n",
    "    padImg2 = padding(erosion, size//2)\n",
    "    # Se aplica al dilatacion\n",
    "    output = Dilatacion(padImg2, size)\n",
    "    return output"
   ]
  },
  {
   "cell_type": "code",
   "execution_count": 7,
   "id": "85c958ff",
   "metadata": {},
   "outputs": [],
   "source": [
    "def closing(padImg,kernel, size):\n",
    "    # Se aplica al dilatacion\n",
    "    dilation = Dilatacion(padImg, size)\n",
    "    padImg2 = padding(dilation, size//2)\n",
    "    # Se aplica la erosion\n",
    "    output = Erosion(padImg2, kernel, size)\n",
    "    return output"
   ]
  },
  {
   "cell_type": "markdown",
   "id": "8e31e843-5da3-44d3-98a3-f6c782a3e133",
   "metadata": {},
   "source": [
    "# Uso"
   ]
  },
  {
   "cell_type": "code",
   "execution_count": null,
   "id": "c07152a7-7d6c-4f57-97d8-c9d881c9fbdb",
   "metadata": {},
   "outputs": [],
   "source": [
    "#Numero de elementos de la mascara a utilizar\n",
    "size = 9\n",
    "#Elemento estructural\n",
    "kernel = np.ones((size, size), np.uint8)\n",
    "#Tamaño del padding\n",
    "p_size = size//2\n",
    "# Selección de la imagen a utilizar, es posible cambiarla por otras\n",
    "orginalImg = img_0\n",
    "#Se obtiene los tamaños de la imagen original\n",
    "rows = orginalImg.shape[0]\n",
    "columns = orginalImg.shape[1]\n",
    "#Se obtiene el padding inicial\n",
    "padImg = padding(orginalImg, p_size)\n",
    "#Aplicamos las operaciones morfológicas\n",
    "Dil = Dilatacion(padImg, size)\n",
    "Ero = Erosion(padImg, kernel, size)\n",
    "Clo = closing(padImg, kernel, size)\n",
    "Opn = opening(padImg, kernel, size)"
   ]
  },
  {
   "cell_type": "code",
   "execution_count": null,
   "id": "8daee6c9-b975-4696-8d84-183a29749f09",
   "metadata": {
    "tags": []
   },
   "outputs": [],
   "source": [
    "#im = cv.cvtColor(im, cv.COLOR_BGR2RGB)\n",
    "#erosion = cv.cvtColor(erosion, cv.COLOR_BGR2RGB)\n",
    "#dilation = cv.cvtColor(dilation, cv.COLOR_BGR2RGB)\n",
    "#border_d_e = cv.cvtColor(border_d_e, cv.COLOR_BGR2RGB)\n",
    "#border_i_e = cv.cvtColor(border_i_e, cv.COLOR_BGR2RGB)\n",
    "#border_res = cv.cvtColor(border_res, cv.COLOR_BGR2RGB)\n",
    "plt.subplot(231)\n",
    "plt.imshow(originalImg)\n",
    "plt.title('Imagen Original'), plt.xticks([]), plt.yticks([])\n",
    "plt.subplot(232)\n",
    "plt.imshow(Ero)\n",
    "plt.title('Erosión'), plt.xticks([]), plt.yticks([])\n",
    "plt.subplot(233)\n",
    "plt.imshow(Dil)\n",
    "plt.title('Dilatación'), plt.xticks([]), plt.yticks([])\n",
    "plt.subplot(234)\n",
    "plt.imshow(Clo)\n",
    "plt.title('Cierre'), plt.xticks([]), plt.yticks([])\n",
    "plt.subplot(236)\n",
    "plt.imshow(Opn)\n",
    "plt.title('Apertura'), plt.xticks([]), plt.yticks([])\n",
    "plt.show()"
   ]
  },
  {
   "cell_type": "raw",
   "id": "0870be67-ca69-4483-b3ea-67a6b6e948d9",
   "metadata": {},
   "source": [
    "\n",
    "#Numero de elementos de la mascara a utilizar\n",
    "size = 9\n",
    "\n",
    "#Elemento estructural\n",
    "kernel = np.ones((size, size), np.uint8)\n",
    "print(np.sum(kernel))\n",
    "\n",
    "#Tamaño del padding\n",
    "p_size = size//2\n",
    "\n",
    "#Lectura de la imagen a utilizar\n",
    "orginalImg = cv.imread('dental 10.JFIF', 0)\n",
    "\n",
    "#Se obtiene los tamaños de la imagen original\n",
    "rows = orginalImg.shape[0]\n",
    "columns = orginalImg.shape[1]\n",
    "\n",
    "#Se obtiene el padding inicial\n",
    "padImg = padding(orginalImg, p_size)\n",
    "\n",
    "#Aplicamos dilatacion\n",
    "Dil = Dilatacion(padImg, size)\n",
    "\n",
    "#Aplicamos erosion\n",
    "Ero = Erosion(padImg, kernel, size)\n",
    "\n",
    "#Gradiante Morfologico\n",
    "Gradiante = Dil - Ero\n",
    "cv.imshow('Gradiante Morfologico', Gradiante)\n",
    "cv.waitKey(0)"
   ]
  },
  {
   "cell_type": "markdown",
   "id": "1d18fc41",
   "metadata": {},
   "source": [
    "## Conclusiones\n",
    "\n",
    "## Bibliografia \n",
    "\n",
    "https://medium.com/swlh/image-processing-with-python-morphological-operations-26b7006c0359\n",
    "\n",
    "González, R. y R.E. Woods, 2006. Digital Image Processing. New Jersey, Prentice Hall, \n",
    "(3ª edición).\n",
    "\n",
    "Ruiz Fernández, L.A, 2020, Universitat Politècnica de València, Ingeniería Cartográfica, Geodesia y \n",
    "Fotogrametría.\n",
    "\n",
    "http://www.ece.northwestern.edu/local-apps/matlabhelp/toolbox/images/morph3.html"
   ]
  }
 ],
 "metadata": {
  "jupytext": {
   "encoding": "# -*- coding: utf-8 -*-"
  },
  "kernelspec": {
   "display_name": "Python 3 (ipykernel)",
   "language": "python",
   "name": "python3"
  },
  "language_info": {
   "codemirror_mode": {
    "name": "ipython",
    "version": 3
   },
   "file_extension": ".py",
   "mimetype": "text/x-python",
   "name": "python",
   "nbconvert_exporter": "python",
   "pygments_lexer": "ipython3",
   "version": "3.7.12"
  }
 },
 "nbformat": 4,
 "nbformat_minor": 5
}
