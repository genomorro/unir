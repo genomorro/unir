{
 "cells": [
  {
   "cell_type": "markdown",
   "id": "e20288ce-5d5f-4da8-9de8-9aa39479bab5",
   "metadata": {},
   "source": [
    "# Uso de filtros espaciales y morfológicos"
   ]
  }
 ],
 "metadata": {
  "kernelspec": {
   "display_name": "Python 3 (ipykernel)",
   "language": "python",
   "name": "python3"
  },
  "language_info": {
   "codemirror_mode": {
    "name": "ipython",
    "version": 3
   },
   "file_extension": ".py",
   "mimetype": "text/x-python",
   "name": "python",
   "nbconvert_exporter": "python",
   "pygments_lexer": "ipython3",
   "version": "3.7.12"
  }
 },
 "nbformat": 4,
 "nbformat_minor": 5
}
