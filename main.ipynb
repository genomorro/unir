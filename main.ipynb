{
 "cells": [
  {
   "cell_type": "markdown",
   "id": "7981aafe-8c93-4e0c-bf06-f0233f8eff29",
   "metadata": {},
   "source": [
    "# Eliminación de anomalías de una imagen"
   ]
  },
  {
   "cell_type": "markdown",
   "id": "bc64f831-5971-41eb-983c-a4006435347b",
   "metadata": {},
   "source": [
    "## Introducción"
   ]
  },
  {
   "cell_type": "markdown",
   "id": "7c0326ed-0003-43f1-975b-72b77c5648bd",
   "metadata": {},
   "source": [
    "## Librerías a utilizar"
   ]
  },
  {
   "cell_type": "code",
   "execution_count": null,
   "id": "ac74a7b1-51bd-42c0-b4fb-1ab77ec9efd7",
   "metadata": {},
   "outputs": [],
   "source": [
    "import cv2 as cv\n",
    "import numpy as np"
   ]
  },
  {
   "cell_type": "markdown",
   "id": "88c5ecad-60d6-4cb4-abf2-af9066775835",
   "metadata": {},
   "source": [
    "## Carga de imágenes"
   ]
  },
  {
   "cell_type": "code",
   "execution_count": null,
   "id": "7eaaf868-ca98-4dd7-8911-85fac482e16f",
   "metadata": {},
   "outputs": [],
   "source": [
    "image_unir = cv.imread('im/unir-1.jpg')\n",
    "image_rgb = cv.imread('im/rgb.png')"
   ]
  },
  {
   "cell_type": "code",
   "execution_count": null,
   "id": "d8529b94-ba50-4924-a9ed-95216c82f934",
   "metadata": {},
   "outputs": [],
   "source": []
  }
 ],
 "metadata": {
  "kernelspec": {
   "display_name": "Python 3 (ipykernel)",
   "language": "python",
   "name": "python3"
  },
  "language_info": {
   "codemirror_mode": {
    "name": "ipython",
    "version": 3
   },
   "file_extension": ".py",
   "mimetype": "text/x-python",
   "name": "python",
   "nbconvert_exporter": "python",
   "pygments_lexer": "ipython3",
   "version": "3.7.12"
  }
 },
 "nbformat": 4,
 "nbformat_minor": 5
}
