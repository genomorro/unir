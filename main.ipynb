{
 "cells": [
  {
   "cell_type": "markdown",
   "id": "38230d29",
   "metadata": {},
   "source": [
    "#Titulo\n",
    "\n",
    "## Introduccion\n"
   ]
  },
  {
   "cell_type": "markdown",
   "id": "e4141fd9",
   "metadata": {},
   "source": [
    "## Librerias a utilizar"
   ]
  },
  {
   "cell_type": "code",
   "execution_count": 4,
   "id": "e77a7f53",
   "metadata": {},
   "outputs": [],
   "source": [
    "import cv2 as cv\n",
    "import numpy as np\n",
    "from matplotlib import pyplot as plt"
   ]
  },
  {
   "cell_type": "code",
   "execution_count": 8,
   "id": "86010850",
   "metadata": {},
   "outputs": [],
   "source": [
    "def padding(originalImg, padSize):\n",
    "    padImg = np.zeros((rows+2*padSize, columns+2*padSize), dtype=np.uint8)\n",
    "    # recortando\n",
    "    padImg[padSize:rows+padSize, padSize:columns+padSize] = originalImg\n",
    "    return padImg"
   ]
  },
  {
   "cell_type": "code",
   "execution_count": null,
   "id": "6f2a0db7",
   "metadata": {},
   "outputs": [],
   "source": [
    "def Erosion(padImg, kernel, size):\n",
    "    output = np.zeros((rows, columns), dtype=np.uint8)\n",
    "    for i in range(0, rows):\n",
    "        for j in range(0, columns):\n",
    "            # recortando\n",
    "            portion = padImg[i:i+size, j:j+size]\n",
    "            # se suma el elemento estructural y la ventana\n",
    "            portion1 = portion.flatten()\n",
    "            portion2 = kernel.flatten()\n",
    "            p1 = (np.sum(portion1))\n",
    "            p2 = (np.sum(portion2))*255\n",
    "            # la condicional para que no revase el limite\n",
    "            if p1 == p2:\n",
    "                output[i, j] = 255\n",
    "            else:\n",
    "                output[i, j] = np.min(portion1)\n",
    "    return output"
   ]
  },
  {
   "cell_type": "code",
   "execution_count": null,
   "id": "038bd6ae",
   "metadata": {},
   "outputs": [],
   "source": [
    "def Dilatacion(padImg, size):\n",
    "    output = np.zeros((rows, columns), dtype=np.uint8)\n",
    "    for i in range(0, rows):\n",
    "        for j in range(0, columns):\n",
    "            # recortando\n",
    "            portion = padImg[i:i+size, j:j+size]\n",
    "            portion1 = portion.flatten()\n",
    "            # la condicional para que no revase el limite\n",
    "            if 255 in portion1:\n",
    "                output[i, j] = 255\n",
    "            else:\n",
    "                output[i, j] = np.max(portion1)\n",
    "    return output"
   ]
  },
  {
   "cell_type": "code",
   "execution_count": null,
   "id": "7fe1f538",
   "metadata": {},
   "outputs": [],
   "source": [
    "def opening(padImg, kernel, size):\n",
    "    # Se aplica la erosion\n",
    "    erosion = Erosion(padImg, kernel , size)\n",
    "    padImg2 = padding(erosion, size//2)\n",
    "    # Se aplica al dilatacion\n",
    "    output = Dilatacion(padImg2, size)\n",
    "    return output"
   ]
  },
  {
   "cell_type": "code",
   "execution_count": null,
   "id": "577ac589",
   "metadata": {},
   "outputs": [],
   "source": [
    "def closing(padImg,kernel, size):\n",
    "    # Se aplica al dilatacion\n",
    "    dilation = Dilatacion(padImg, size)\n",
    "    padImg2 = padding(dilation, size//2)\n",
    "    # Se aplica la erosion\n",
    "    output = Erosion(padImg2, kernel, size)\n",
    "    return output"
   ]
  },
  {
   "cell_type": "code",
   "execution_count": null,
   "id": "f80fd0ea",
   "metadata": {},
   "outputs": [],
   "source": [
    "\n",
    "#Numero de elementos de la mascara a utilizar\n",
    "size = 9\n",
    "\n",
    "#Elemento estructural\n",
    "kernel = np.ones((size, size), np.uint8)\n",
    "print(np.sum(kernel))\n",
    "\n",
    "#Tamaño del padding\n",
    "p_size = size//2\n",
    "\n",
    "#Lectura de la imagen a utilizar\n",
    "orginalImg = cv.imread('dental 10.JFIF', 0)\n",
    "\n",
    "#Se obtiene los tamaños de la imagen original\n",
    "rows = orginalImg.shape[0]\n",
    "columns = orginalImg.shape[1]\n",
    "\n",
    "#Se obtiene el padding inicial\n",
    "padImg = padding(orginalImg, p_size)\n",
    "\n",
    "#Aplicamos dilatacion\n",
    "Dil = Dilatacion(padImg, size)\n",
    "\n",
    "#Aplicamos erosion\n",
    "Ero = Erosion(padImg, kernel, size)\n",
    "\n",
    "#Gradiante Morfologico\n",
    "Gradiante = Dil - Ero\n",
    "cv.imshow('Gradiante Morfologico', Gradiante)\n",
    "cv.waitKey(0)"
   ]
  },
  {
   "cell_type": "markdown",
   "id": "237fe511",
   "metadata": {},
   "source": [
    "## Conclusiones\n",
    "\n",
    "## Bibliografia https://medium.com/swlh/image-processing-with-python-morphological-operations-26b7006c0359\n",
    "\n",
    "## http://www.ece.northwestern.edu/local-apps/matlabhelp/toolbox/images/morph3.html"
   ]
  }
 ],
 "metadata": {
  "kernelspec": {
   "display_name": "Python 3 (ipykernel)",
   "language": "python",
   "name": "python3"
  },
  "language_info": {
   "codemirror_mode": {
    "name": "ipython",
    "version": 3
   },
   "file_extension": ".py",
   "mimetype": "text/x-python",
   "name": "python",
   "nbconvert_exporter": "python",
   "pygments_lexer": "ipython3",
   "version": "3.9.7"
  }
 },
 "nbformat": 4,
 "nbformat_minor": 5
}
