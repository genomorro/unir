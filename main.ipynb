{
 "cells": [
  {
   "cell_type": "code",
   "execution_count": 1,
   "id": "1d5dc96d-1a3e-4141-861d-95153500c4ef",
   "metadata": {},
   "outputs": [],
   "source": [
    "import pandas as pd"
   ]
  },
  {
   "cell_type": "code",
   "execution_count": null,
   "id": "a841ad26-9375-491a-b0e1-e42d4b36f2fd",
   "metadata": {},
   "outputs": [],
   "source": [
    "ah = pd.read_excel('ds/Asentamiento Histo.xlsx')\n",
    "lin = pd.read_excel('ds/LIN.xlsx')"
   ]
  },
  {
   "cell_type": "code",
   "execution_count": null,
   "id": "17f3fd74-4d62-4756-827d-16109526691f",
   "metadata": {},
   "outputs": [],
   "source": [
    "ah = ah.drop(['Unnamed: 5', 'clave_autodenom', 'Unnamed: 7',\n",
    "       'nom_autodenom_2008', 'nom_autodenom_1actualizacion',\n",
    "       'Trans_fonetica_2008', 'Trans_fonetica_1actualización',\n",
    "       'clave_ent_2000', 'clave_ent_2010', 'Unnamed: 14', 'Unnamed: 15',\n",
    "       'Unnamed: 16', 'Unnamed: 17', 'Unnamed: 18', 'Unnamed: 19',\n",
    "       'Unnamed: 20', 'Unnamed: 21', 'Unnamed: 22', 'Unnamed: 23',\n",
    "       'Unnamed: 24', 'Unnamed: 25', 'loc2015', 'tieneTocayas2000',\n",
    "       'bandera2000', 'mayorHLI2000', 'HLI_2000', 'HLI_2005', 'HLI_2010',\n",
    "       'edomunloc2000', 'edomunloc2010', 'clave_unica2000', 'clave_unica2010',\n",
    "       'clave_unica2015', 'NDRIESGO', 'cambios_DI',\n",
    "       'Claves para marcas de densidad ', 'Notas', 'Unnamed: 42',\n",
    "       'Unnamed: 43', 'Unnamed: 44'],axis=1)"
   ]
  },
  {
   "cell_type": "code",
   "execution_count": null,
   "id": "454bdf2d-4711-4636-9504-6c74591f922a",
   "metadata": {},
   "outputs": [],
   "source": [
    "ah = ah.dropna()"
   ]
  },
  {
   "cell_type": "code",
   "execution_count": null,
   "id": "5c6ddc60-c7a2-448a-bebc-23413cb2df36",
   "metadata": {},
   "outputs": [],
   "source": [
    "lin.head()"
   ]
  },
  {
   "cell_type": "code",
   "execution_count": null,
   "id": "014c9ecb-6aee-4969-aea9-1cb52e954c11",
   "metadata": {},
   "outputs": [],
   "source": [
    "lin.columns"
   ]
  },
  {
   "cell_type": "code",
   "execution_count": null,
   "id": "a4154899-1a10-46cd-abb4-6e8ce4ab2d22",
   "metadata": {},
   "outputs": [],
   "source": [
    "ah.head()"
   ]
  },
  {
   "cell_type": "code",
   "execution_count": null,
   "id": "9dc0922e-6026-43d0-b1b4-7e5515401fb8",
   "metadata": {},
   "outputs": [],
   "source": [
    "temporal = lin[['AH/M', 'Población de 3 años y más que habla lengua indígena', 'Hombres', 'Mujeres', 'AH/M.1']]"
   ]
  },
  {
   "cell_type": "code",
   "execution_count": null,
   "id": "855d73e2-56b6-479f-aba3-6ebb31a49040",
   "metadata": {},
   "outputs": [],
   "source": [
    "temporal.shape"
   ]
  },
  {
   "cell_type": "raw",
   "id": "f08e5f91-5ae8-459c-ba86-6805d40d02cc",
   "metadata": {},
   "source": [
    "lin = lin.drop(['AH/M', 'Población de 3 años y más que habla lengua indígena', 'Hombres', 'Mujeres', 'AH/M.1'], axis=1)"
   ]
  },
  {
   "cell_type": "raw",
   "id": "9ffb7ccb-d7e6-4dfb-acdb-28cd8be58c7f",
   "metadata": {},
   "source": [
    "lin.head()"
   ]
  },
  {
   "cell_type": "code",
   "execution_count": null,
   "id": "dc46dbe4-c9c7-494f-aeac-6986750c8843",
   "metadata": {},
   "outputs": [],
   "source": [
    "print(lin.columns)\n",
    "print(ah.columns)"
   ]
  },
  {
   "cell_type": "code",
   "execution_count": null,
   "id": "46232a28-6f71-4775-b86d-adeef0db9c97",
   "metadata": {},
   "outputs": [],
   "source": [
    "#df2.set_index('player').subtract(df1.set_index('player'))\n",
    "\n",
    "diff_df = pd.merge(lin[['Lengua indígena', 'Entidad federativa', 'Municipio', 'Localidad']], ah, how='outer', indicator='Exist')"
   ]
  },
  {
   "cell_type": "code",
   "execution_count": null,
   "id": "ef0aacfe-d740-43fd-beab-c346a2a329e6",
   "metadata": {},
   "outputs": [],
   "source": [
    "diff_df.head()"
   ]
  },
  {
   "cell_type": "code",
   "execution_count": null,
   "id": "025c8042-c122-4a79-bd16-8959eba74239",
   "metadata": {},
   "outputs": [],
   "source": [
    "diff_df = pd.concat([diff_df,temporal], axis=1)"
   ]
  },
  {
   "cell_type": "code",
   "execution_count": null,
   "id": "43c5d8e1-5cbb-4065-a7f1-77d3ef5c0424",
   "metadata": {},
   "outputs": [],
   "source": [
    "diff_df.to_excel(\"out/resultado.xlsx\")"
   ]
  },
  {
   "cell_type": "code",
   "execution_count": null,
   "id": "0c7b088a-e45f-43ee-a14f-175123722faf",
   "metadata": {},
   "outputs": [],
   "source": []
  }
 ],
 "metadata": {
  "kernelspec": {
   "display_name": "Python 3 (ipykernel)",
   "language": "python",
   "name": "python3"
  },
  "language_info": {
   "codemirror_mode": {
    "name": "ipython",
    "version": 3
   },
   "file_extension": ".py",
   "mimetype": "text/x-python",
   "name": "python",
   "nbconvert_exporter": "python",
   "pygments_lexer": "ipython3",
   "version": "3.7.12"
  }
 },
 "nbformat": 4,
 "nbformat_minor": 5
}
