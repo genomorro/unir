{
 "cells": [
  {
   "cell_type": "markdown",
   "id": "aa04a17f-595c-4ec0-83d9-0797c290a8b8",
   "metadata": {},
   "source": [
    "# Árboles de regresión y random forest para regresión y clasificación\n",
    "\n",
    "## Librerías a utilizar\n",
    "\n",
    "Para el tratamiento se han agregado principalmente cinco bibliotecas. En el caso de `sklearn`, se tuvo la necesidad de hacer importaciones parciales para que ciertas funciones y métodos sean detectados correctamente."
   ]
  },
  {
   "cell_type": "code",
   "execution_count": null,
   "id": "91e95456-cc94-48a0-89ed-af8f685613bb",
   "metadata": {
    "tags": []
   },
   "outputs": [],
   "source": [
    "from sklearn import metrics\n",
    "from sklearn import tree\n",
    "from sklearn.ensemble import RandomForestRegressor, RandomForestClassifier\n",
    "from sklearn.model_selection import train_test_split, KFold, cross_val_score\n",
    "from sklearn.tree import DecisionTreeClassifier, DecisionTreeRegressor, export_graphviz\n",
    "import matplotlib.pyplot as plt\n",
    "import numpy as np\n",
    "import os\n",
    "import pandas as pd\n",
    "import seaborn as sns\n",
    "import sklearn as sl"
   ]
  },
  {
   "cell_type": "markdown",
   "id": "5c8d3451-be5d-44df-a47b-b36e0e48cf2f",
   "metadata": {},
   "source": [
    "## Carga de datasets\n",
    "\n",
    "Se usarán dos datasets los cuales serán cargados en dos dataframes. Aquel identificado como `test` solo será usado al final para completar el dataset con el modelo."
   ]
  },
  {
   "cell_type": "code",
   "execution_count": null,
   "id": "c59c7dc9-4f21-4d84-8f03-9bc52a353f52",
   "metadata": {},
   "outputs": [],
   "source": [
    "mainpath = \"./ds/\"\n",
    "train = \"housing_train.csv\"\n",
    "test = \"housing_test.csv\"\n",
    "df_train = pd.read_csv(mainpath + train)\n",
    "df_test = pd.read_csv(mainpath + test)"
   ]
  },
  {
   "cell_type": "markdown",
   "id": "5ffb5e5a-efe1-423f-afe7-ad1109149a55",
   "metadata": {},
   "source": [
    "## Resumen de datos\n",
    "\n",
    "Las dimensiones del dataframe, filas y columnas, se obtiene con la propiedad `shape`, los valores de las cabeceras se obtienen con la propiedad `columns.values`."
   ]
  },
  {
   "cell_type": "code",
   "execution_count": null,
   "id": "5f466bae-0776-421d-803b-7bcd921ff55c",
   "metadata": {},
   "outputs": [],
   "source": [
    "df_train.shape"
   ]
  },
  {
   "cell_type": "markdown",
   "id": "0ee0cbc1-44cc-4353-b369-631143daa29c",
   "metadata": {},
   "source": [
    "La función `describe()` devuelve el conteo de campos no nulos, media, desviación estándar y cuantiles para columnas númericas. En las columnas identificadas como objetos (categóricas) devolverá el conteo de campos no nulos, número de valores posibles, el valor más repetido y su frecuencia. Si se desea saber el tipo de datos que tienen las columnas se usa la propiedad `dtypes`."
   ]
  },
  {
   "cell_type": "code",
   "execution_count": null,
   "id": "600a033a-1b1d-4dcb-b656-fbb7768e60d3",
   "metadata": {},
   "outputs": [],
   "source": [
    "df_train.describe().transpose()"
   ]
  },
  {
   "cell_type": "code",
   "execution_count": null,
   "id": "24cd1afb-dd80-4339-8109-5cb9f7c2a684",
   "metadata": {},
   "outputs": [],
   "source": [
    "df_train.describe(include='object').transpose()"
   ]
  },
  {
   "cell_type": "code",
   "execution_count": null,
   "id": "b03daff8-7488-4d93-91cb-12c230f18618",
   "metadata": {},
   "outputs": [],
   "source": [
    "df_train.dtypes"
   ]
  },
  {
   "cell_type": "markdown",
   "id": "46d50da5-98a7-4379-9b49-3822410199a1",
   "metadata": {},
   "source": [
    "Para obtener detalles por columna podemos usar `df_train['Nombre de columna'].describe()`, también es posible obtener por columna los posibles valores posibles y sus respectivas frecuencias, como en el siguiente ejemplo."
   ]
  },
  {
   "cell_type": "code",
   "execution_count": null,
   "id": "8b73d402-dc5d-49c2-a23b-698017efa0d4",
   "metadata": {},
   "outputs": [],
   "source": [
    "df_train[\"SaleType\"].value_counts()"
   ]
  },
  {
   "cell_type": "markdown",
   "id": "91fd5867-66f7-4410-998c-2c2b6f3ce3ce",
   "metadata": {
    "tags": []
   },
   "source": [
    "### Matriz de correlación\n",
    "\n",
    "La matriz de correlación indicará que tan fuerte o débil es la relación entre dos variables. Puede leerse por columnas o por filas. En la siguiente imagen se eliminó la columna `Id`, porque no será relevante para el análisis. La claridad de la celda es directamente proporcional a una mayor correlación."
   ]
  },
  {
   "cell_type": "code",
   "execution_count": null,
   "id": "6300b4b6-6fff-42ff-a863-bda63e2fcb13",
   "metadata": {},
   "outputs": [],
   "source": [
    "df_train = df_train.drop(columns = ['Id'])\n",
    "plt.figure(figsize=(20,8),dpi=80)\n",
    "corrmat = df_train.corr()\n",
    "sns.heatmap(corrmat, vmax=.8, fmt='.1f', annot=True)"
   ]
  },
  {
   "cell_type": "markdown",
   "id": "11e4479e-2ccf-4e1d-a7c0-01b78bec9995",
   "metadata": {},
   "source": [
    "De esta forma podemos saber que variables están más relacionadas con otras. en el caso de la variable `SalePrice` las diez variables más útiles serán aquellas con mayor índice de correlación, mismas que se usarán posteriormente para las predicciones."
   ]
  },
  {
   "cell_type": "code",
   "execution_count": null,
   "id": "f908df2c-20e0-4ca6-ad5f-33a43f05b22d",
   "metadata": {},
   "outputs": [],
   "source": [
    "df_train.corr()['SalePrice'].sort_values(ascending=False)[1:11]"
   ]
  },
  {
   "cell_type": "markdown",
   "id": "28144d4b-d481-48d3-a2a1-5a76cbbdf521",
   "metadata": {},
   "source": [
    "## Valores perdidos\n",
    "\n",
    "Trabajar con los valores perdidos requiere primero su ubicación, posteriormente se seleccionará que debe ser borrado y luego que debe ser sustituido con un nuevo valor, por supuesto habrá que decidir cual será dicho valor nuevo.\n",
    "\n",
    "### Eliminar campos\n",
    "\n",
    "Para ubicar si una celda tiene un valor vacío se usa la función `isnull()`, si se prefiere lógica inversa se usa `notnull`. Es posible  obtener un vector  de estos  valores con la  propiedad `values`, transformarlo  a un array con la función `ravel()` y sumar los valores verdaderos con la función `sum()`. También es posible obtener una lista ordenada de las columnas con más valores vacíos."
   ]
  },
  {
   "cell_type": "code",
   "execution_count": null,
   "id": "07f89314-e3ec-4ba7-89cf-996c4d6c40d2",
   "metadata": {},
   "outputs": [],
   "source": [
    "df_train.isnull().sum().sort_values(ascending=False)[0:19]"
   ]
  },
  {
   "cell_type": "markdown",
   "id": "c81748eb-f71b-4d36-a756-3cab3c6c8a5a",
   "metadata": {},
   "source": [
    "En  el ejemplo  de  arriba, el  valor es  el  número de  valores  vacíos, si  usamos la  función `notnull()` sería el número de valores no vacíos, la suma de ambos debe ser el número total de filas obtenido anteriormente.\n",
    "\n",
    "Hay dos razones para la falta de valores en los datasets:\n",
    "\n",
    "- Recolección de datos: No se consiguieron los datos.\n",
    "- Extracción de datos: Los datos están en la  DB original pero no se extrajeron correctamente al dataset.\n",
    "\n",
    "Se deben evitar datos vacíos para no tener problemas de manejo de información. Se tienen dos opciones:\n",
    "\n",
    "- Borrar las filas donde falten valores en alguna de las columnas\n",
    "- Borrar las columnas donde no se tenga suficiente información\n",
    "\n",
    "En este ejercicio es posible observar que las columnas `MiscFeature, Fence, PoolQC, FirePlaceQu y Alley` tienen muy pocos valores proporcionados (menos del 55 por ciento)y no vale la pena conservarlas. Otro criterio para asegurar un buen curso de acción es revisar las correlaciones con la columna `SalePrice`.\n",
    "\n",
    "Como el razonamiento es el correcto se procede al borrado de columnas."
   ]
  },
  {
   "cell_type": "code",
   "execution_count": null,
   "id": "37c2a728-52cb-4894-b0d5-baa8e8e9bbb6",
   "metadata": {},
   "outputs": [],
   "source": [
    "def toDel(df):\n",
    "    for col in df.columns.values:\n",
    "        nv = pd.isnull(df[col]).values.ravel().sum()\n",
    "        if nv > df.shape[0] * 0.45:\n",
    "            print(\"Deleting: \"+col)\n",
    "            del df[col]\n",
    "    return df\n",
    "df_train = toDel(df_train)"
   ]
  },
  {
   "cell_type": "markdown",
   "id": "98e6294c-8977-484b-908c-8b26a9ac064e",
   "metadata": {},
   "source": [
    "### Llenar campos\n",
    "\n",
    "Es necesario detectar nuevamente que columnas tienen valores vacíos. Esta vez se reemplazarán esos valores. Hay valores númericos y categóricos vacíos; los numéricos serán reemplazados por el promedio original de la columna, los categóricos serán remplazados por el valor no nulo más cercano puede ser el valor que va antes (`ffill`) o el que va después (`bfill`), en este análisis será el segundo.\n",
    "\n",
    "Es necesario señalar que el procedimiento más preciso para las columnas categóricas sería colocar el valor de mayor frecuencia relacionado con el valor de la columna objetivo, por ejemplo: Si la columna `Y` del dataframe es la variable dependiente y `X` es una columna categórica con valores perdidos; dichos valores se llenarán por aquel de mayor frecuencia en `X` tomando en cuenta solo aquellos con los que coincidan en `Y`. Más adelante se retomará la justificación de porque no se ha hecho de esta forma."
   ]
  },
  {
   "cell_type": "code",
   "execution_count": null,
   "id": "a4c642c6-abda-4eea-baa3-b230cac03220",
   "metadata": {},
   "outputs": [],
   "source": [
    "def DetectNull(df):\n",
    "    candidates = []\n",
    "    for col in df.columns.values:\n",
    "        nv = pd.isnull(df[col]).values.ravel().sum()\n",
    "        if nv > 0:\n",
    "            candidates.append((col, df[col].dtype, nv))\n",
    "    return candidates"
   ]
  },
  {
   "cell_type": "code",
   "execution_count": null,
   "id": "89ee5038-2c5b-4ec7-ac8d-4d57eb1d258b",
   "metadata": {},
   "outputs": [],
   "source": [
    "def FillNull(df, list):\n",
    "    for col in list:\n",
    "        if col[1] == 'float64':\n",
    "            df[col[0]] = df[col[0]].fillna(df[col[0]].mean())\n",
    "        else:\n",
    "            df[col[0]] = df[col[0]].fillna(method=\"bfill\")\n",
    "    return df"
   ]
  },
  {
   "cell_type": "code",
   "execution_count": null,
   "id": "54fa7c82-c368-47b8-8719-d2dcec015926",
   "metadata": {},
   "outputs": [],
   "source": [
    "df_train = FillNull(df_train, DetectNull(df_train))\n",
    "df_train.isnull().sum().sort_values(ascending=False)"
   ]
  },
  {
   "cell_type": "markdown",
   "id": "45bf21ec-6d7a-46ee-a138-699a93f3060d",
   "metadata": {},
   "source": [
    "## Problema de regresión"
   ]
  },
  {
   "cell_type": "markdown",
   "id": "5bc0bf5f-6841-43a5-a58d-f5a8e61ed3b4",
   "metadata": {
    "tags": []
   },
   "source": [
    "### Árboles de decisión\n",
    "\n",
    "Primero serán creados los conjuntos de prueba y entrenamiento. Serán usados para el modelo solo aquellos campos que tengan un alto índice de correlación en la matriz de correlaciones mostrada anteriormente."
   ]
  },
  {
   "cell_type": "code",
   "execution_count": null,
   "id": "2e9f9916-9231-48f4-b9df-112c7f8b1bdc",
   "metadata": {},
   "outputs": [],
   "source": [
    "train, test = train_test_split(df_train, test_size=0.2)\n",
    "predictors = ['OverallQual', 'GrLivArea', 'GarageCars', 'GarageArea', 'TotalBsmtSF', '1stFlrSF', 'FullBath', 'TotRmsAbvGrd', 'YearBuilt', 'YearRemodAdd']\n",
    "target = ['SalePrice']"
   ]
  },
  {
   "cell_type": "markdown",
   "id": "e274ae6f-2e3b-413d-a556-bee02e8e445b",
   "metadata": {},
   "source": [
    "A continuación se entrena el árbol de regresión y se ingresan los datos para probar la predicción del mismo."
   ]
  },
  {
   "cell_type": "code",
   "execution_count": null,
   "id": "0aad7544-eca2-42e6-8cf7-d0307526d6b8",
   "metadata": {},
   "outputs": [],
   "source": [
    "dtr = DecisionTreeRegressor(max_depth=15, min_samples_split=20, random_state=99)\n",
    "dtr.fit(train[predictors], train[target])\n",
    "prediction = dtr.predict(test[predictors])"
   ]
  },
  {
   "cell_type": "markdown",
   "id": "d85f064f-6687-43b8-800a-cdc3f62dac7a",
   "metadata": {},
   "source": [
    "Ahora se muestran los resultados: una comparación entre los datos originales y las predicciones, además, el árbol obtenido, mismo que fue guardado en la carpeta `out` del proyecto en formato graphviz y como imagen."
   ]
  },
  {
   "cell_type": "code",
   "execution_count": null,
   "id": "6e9527e3-6391-4dd3-9174-d917fbdd86b5",
   "metadata": {
    "tags": []
   },
   "outputs": [],
   "source": [
    "test['preds'] = prediction\n",
    "test[['SalePrice','preds']]"
   ]
  },
  {
   "cell_type": "markdown",
   "id": "2e5e6044-5df3-46c5-b4e5-ef5b28c77149",
   "metadata": {},
   "source": [
    "En la tabla se observa que muchos valores de predicción están repetidos, esto se debe a que entran en la misma lógica de predicción. Debe recordarse que el árbol funciona decidiendo con valores preestablecidos."
   ]
  },
  {
   "cell_type": "code",
   "execution_count": null,
   "id": "03a1690f-62dc-462b-b961-9ba98e8588f0",
   "metadata": {},
   "outputs": [],
   "source": [
    "with open('out/dtr.dot','w') as dotfile:\n",
    "    export_graphviz(dtr, out_file=dotfile, feature_names=predictors)\n",
    "    dotfile.close()"
   ]
  },
  {
   "cell_type": "code",
   "execution_count": null,
   "id": "5405bd9a-22b8-40af-9405-3ab773acda4c",
   "metadata": {},
   "outputs": [],
   "source": [
    "tree.plot_tree(dtr);"
   ]
  },
  {
   "cell_type": "markdown",
   "id": "81f43ad6-5b01-4056-bd4c-6caa44858925",
   "metadata": {},
   "source": [
    "Para validar el modelo se usará un método de validación cruzada, un método estadístico para evaluar y comparar algoritmos de aprendizaje dividiendo datos en dos segmentos: entrenamiento y prueba. Típicamente, ambos conjuntos deben cruzarse en rondas sucesivas de modo que cada punto de datos tenga la posibilidad de ser validado. La forma básica es la validación cruzada k-fold."
   ]
  },
  {
   "cell_type": "code",
   "execution_count": null,
   "id": "4b0054c0-3572-481d-b652-3d819aba1ae2",
   "metadata": {},
   "outputs": [],
   "source": [
    "dtr = DecisionTreeRegressor(max_depth=15, min_samples_split=20, random_state=99)\n",
    "dtr.fit(train[predictors], train[target])\n",
    "cv = KFold(n_splits = 20, shuffle = True, random_state = 1)\n",
    "score = np.mean(cross_val_score(dtr, train[predictors], train[target], scoring = \"neg_mean_squared_error\", cv = cv, n_jobs = 1))\n",
    "score"
   ]
  },
  {
   "cell_type": "markdown",
   "id": "e3e80467-44c5-473b-8d13-ee912b03aeaf",
   "metadata": {},
   "source": [
    "El modelo es muy deficiente según el error cuadrático medio de pérdida. Este error es muy grande, debería ser cercano a cero. Sería mejor probar un modelo lineal, los árboles de regresión son útiles si es necesario estimar un modelo no lineal. Para confirmar se realizará este modelo bajo diferentes profundidades del árbol, de esta forma se podría encontrar un mejor conjunto de parámetros, no sucede en este caso."
   ]
  },
  {
   "cell_type": "code",
   "execution_count": null,
   "id": "402a69c9-2cc5-4df7-8054-33acd369fa0b",
   "metadata": {},
   "outputs": [],
   "source": [
    "for i in range(1,21):\n",
    "    dtr = DecisionTreeRegressor(max_depth=i, min_samples_split=20, min_samples_leaf=5,random_state=99)\n",
    "    dtr.fit(train[predictors], train[target])\n",
    "    cv = KFold(n_splits = 20, shuffle = True, random_state = 1)\n",
    "    score = np.mean(cross_val_score(dtr, train[predictors], train[target], scoring = \"neg_mean_squared_error\", cv = cv, n_jobs = 1))\n",
    "    print(\"Score para i=\",i,\": \",score)"
   ]
  },
  {
   "cell_type": "markdown",
   "id": "c7be25a2-7a61-429c-a276-97685b908383",
   "metadata": {
    "tags": []
   },
   "source": [
    "### Random Forest\n",
    "\n",
    "Al igual que en la sección anterior, se entrena el modelo con los mismos conjuntos definidos anteriormente y se hace una predicción."
   ]
  },
  {
   "cell_type": "code",
   "execution_count": null,
   "id": "9b2d83a1-7c34-4959-a1bc-f845d33a6288",
   "metadata": {},
   "outputs": [],
   "source": [
    "rfr = RandomForestRegressor(n_jobs = 1, oob_score=True, n_estimators=10000)\n",
    "rfr.fit(train[predictors], train[target].values.ravel())\n",
    "prediction = rfr.predict(test[predictors])\n",
    "test['preds'] = prediction\n",
    "test[['SalePrice','preds']]"
   ]
  },
  {
   "cell_type": "markdown",
   "id": "583e935c-f51e-4454-9d7b-7e67165a73b1",
   "metadata": {},
   "source": [
    "Como puede verse, un bosque de diez mil árboles las estimaciones los valores se acercan notablemente. Esto puede confirmarse con la puntuación propia del bosque, la cual funciona como el coeficiente de determinación de un modelo de regresión."
   ]
  },
  {
   "cell_type": "code",
   "execution_count": null,
   "id": "8c2a96ea-5e2e-47b6-be72-1a74dade281e",
   "metadata": {},
   "outputs": [],
   "source": [
    "rfr.oob_score_"
   ]
  },
  {
   "cell_type": "markdown",
   "id": "0195856f-eeac-4706-94ce-56bf1911b676",
   "metadata": {},
   "source": [
    "La conclusión es que sería mejor usar un modelo de regresión que un modelo de decisión porque pese a la mejora sustancial respecto al árbol anterior, el bosque no alcanza un 0.9 en la puntuación, condición que se le exigiría a un modelo lineal. Debido a que este es el mejor modelo obtenido, lo usaremos para `df_test`."
   ]
  },
  {
   "cell_type": "code",
   "execution_count": null,
   "id": "87b0491f-e2fa-40ad-a36d-c2af811cfc16",
   "metadata": {},
   "outputs": [],
   "source": [
    "df_test['SalePrice'] = rfr.predict(df_test[predictors])\n",
    "df.to_csv('out/housing_test_complete.csv')\n",
    "df_test.head()"
   ]
  },
  {
   "cell_type": "markdown",
   "id": "6df7f5bc-bf76-4567-b18f-ea9ffcdde26d",
   "metadata": {
    "tags": []
   },
   "source": [
    "## Problema de clasificación\n",
    "### Creación de categorías de SalesPrice\n",
    "\n",
    "Ahora se procederá a crear categorías con la columna `SalePrice`. Para ello se ha escrito una función y una nueva columna dentro del dataframe."
   ]
  },
  {
   "cell_type": "code",
   "execution_count": null,
   "id": "f07e7073-8d81-43bc-ac7d-8e3fa5a7fa5b",
   "metadata": {},
   "outputs": [],
   "source": [
    "def SalePriceGroupValue(x):\n",
    "    if x >= 500001:\n",
    "        return 'G3'\n",
    "    elif x <= 100000:\n",
    "        return 'G1'\n",
    "    return 'G2'\n",
    "df_train[\"SalePriceGroup\"] = df_train[\"SalePrice\"].apply(SalePriceGroupValue)\n",
    "df_train[\"SalePriceGroup\"].value_counts()"
   ]
  },
  {
   "cell_type": "markdown",
   "id": "a76df16b-12e6-4824-a688-07b3bc1d0ef1",
   "metadata": {},
   "source": [
    "Aquí es posible observar que la gran mayoria de los datos se encuentran en la categoría `G2`. Esto confirma que la opción antes seleccionada para llenar datos perdidos es buena debido a que binda una posibilidad de preservar datos las otras categorías."
   ]
  },
  {
   "cell_type": "markdown",
   "id": "b33a5f46-b954-4b21-a39c-4b3adc8c877d",
   "metadata": {},
   "source": [
    "### Árboles de decisión\n",
    "\n",
    "Se repetirá el procedimiento visto anteriormente, la diferencia es que ahora usará `DecisionTreeClassifier`. "
   ]
  },
  {
   "cell_type": "code",
   "execution_count": null,
   "id": "9eed366d-6019-4557-b0ce-6973c516bb6e",
   "metadata": {},
   "outputs": [],
   "source": [
    "train, test = train_test_split(df_train, test_size=0.2)"
   ]
  },
  {
   "cell_type": "code",
   "execution_count": null,
   "id": "70f07a5d-f15b-4ebc-a939-8a83b591d8e1",
   "metadata": {},
   "outputs": [],
   "source": [
    "colnames = df_train.columns.values.tolist()\n",
    "predictors = ['OverallQual', 'GrLivArea', 'GarageCars', 'GarageArea', 'TotalBsmtSF', '1stFlrSF', 'FullBath', 'TotRmsAbvGrd', 'YearBuilt', 'YearRemodAdd']\n",
    "target = colnames[75]\n",
    "dtc = DecisionTreeClassifier(criterion=\"entropy\", max_depth=3, min_samples_split=20, random_state=99)\n",
    "dtc.fit(train[predictors], train[target])\n",
    "prediction = dtc.predict(test[predictors])"
   ]
  },
  {
   "cell_type": "markdown",
   "id": "2f27d1cd-c4fc-4bb6-8b9e-8542d97f5d69",
   "metadata": {},
   "source": [
    "Se ha creado una tabla cruzada que logra visualizar los resultados, además es posible usar metricas simples para verificar la exactitud del árbol."
   ]
  },
  {
   "cell_type": "code",
   "execution_count": null,
   "id": "1122f0dd-fe4a-4599-a516-eafa80f619b3",
   "metadata": {},
   "outputs": [],
   "source": [
    "pd.crosstab(test[target], prediction, colnames=[\"Predictions\"], rownames=[\"Real\"])"
   ]
  },
  {
   "cell_type": "code",
   "execution_count": null,
   "id": "efb667ca-954f-4ca3-8fff-0233a3804c88",
   "metadata": {},
   "outputs": [],
   "source": [
    "print(\"Accuracy: \", metrics.accuracy_score(prediction, test[target]))"
   ]
  },
  {
   "cell_type": "code",
   "execution_count": null,
   "id": "8082af08-9fbd-4f8d-80f5-b24d6ad66857",
   "metadata": {},
   "outputs": [],
   "source": [
    "with open('out/dtc.dot','w') as dotfile:\n",
    "    export_graphviz(dtc, out_file=dotfile, feature_names=predictors)\n",
    "    dotfile.close()"
   ]
  },
  {
   "cell_type": "raw",
   "id": "90e9c955-b5d1-4b88-a7e5-87d296bb6e57",
   "metadata": {},
   "source": [
    "file = open('out/dtc.dot', 'r')\n",
    "text = file.read()\n",
    "Source(text)"
   ]
  },
  {
   "cell_type": "code",
   "execution_count": null,
   "id": "a47ce0d5-0d4b-4e6f-9263-dac92ce1b53d",
   "metadata": {},
   "outputs": [],
   "source": [
    "tree.plot_tree(dtc);"
   ]
  },
  {
   "cell_type": "markdown",
   "id": "06d38fae-9a97-40e6-86b2-af973cc519e9",
   "metadata": {
    "tags": []
   },
   "source": [
    "Al usar nuevamente validación cruzada se observa que una buena clasificación esta entre `i=3` e `i=6`, lo que significa que si se deja crecer el árbol desde el nodo raíz con estas profundidades es posible obtener clasificaciones óptimas. También podemos ver que las variables de mayor importancia clasificatoria son `TotalBsmtSF` y `GrLivArea`."
   ]
  },
  {
   "cell_type": "code",
   "execution_count": null,
   "id": "4c5af4a5-8298-4517-b050-1026c23f7dfc",
   "metadata": {},
   "outputs": [],
   "source": [
    "for i in range(1,10):\n",
    "    dtc = DecisionTreeClassifier(criterion=\"entropy\", max_depth=i, min_samples_split=20, random_state=99)\n",
    "    dtc.fit(train[predictors], train[target])\n",
    "    cv = KFold(n_splits = 20, shuffle = True, random_state = 1)\n",
    "    score = np.mean(cross_val_score(dtc, train[predictors], train[target], scoring = \"accuracy\", cv = cv, n_jobs = 1))\n",
    "    print(\"Score para i=\",i,\": \",score)\n",
    "    print(\"Importancia de variables: \\n\\t\",dtc.feature_importances_)"
   ]
  },
  {
   "cell_type": "markdown",
   "id": "15bb8f7e-ae03-4b84-b3a0-985d47925cea",
   "metadata": {},
   "source": [
    "### Random Forest\n",
    "\n",
    "En la implementación de este bosque se usa el mismo procedimiento visto anteriormente, es importante poner atención en los cambios de los argumentos de cada árbol, cada implementación dependerá del problema."
   ]
  },
  {
   "cell_type": "code",
   "execution_count": null,
   "id": "b3df2784-b27f-4794-9eae-030a9e9b312c",
   "metadata": {},
   "outputs": [],
   "source": [
    "rfc = RandomForestClassifier(n_jobs = 1, oob_score=True, n_estimators=10000)\n",
    "rfc.fit(train[predictors], train[target])\n",
    "prediction = rfc.predict(test[predictors])\n",
    "test['preds'] = prediction\n",
    "test[['SalePriceGroup','preds']]"
   ]
  },
  {
   "cell_type": "markdown",
   "id": "471ace93-592e-4412-be46-81c2a312d6d4",
   "metadata": {},
   "source": [
    "En esta ocasión se ha aumentado la exactitud del árbol, es posible decir que se ha creado un modelo confible. Debido a que este es el mejor modelo obtenido, lo usaremos para `df_test`.  "
   ]
  },
  {
   "cell_type": "code",
   "execution_count": null,
   "id": "5d0308ed-be08-4578-9c96-ff0a2935b5b4",
   "metadata": {},
   "outputs": [],
   "source": [
    "rfc.oob_score_"
   ]
  },
  {
   "cell_type": "code",
   "execution_count": null,
   "id": "1b53b97e-57a1-4d9e-b35b-68d3371923d5",
   "metadata": {},
   "outputs": [],
   "source": [
    "df_test['SalePriceGroup'] = rfc.predict(df_test[predictors])\n",
    "df.to_csv('out/housing_test_complete.csv')\n",
    "df_test.head()"
   ]
  },
  {
   "cell_type": "markdown",
   "id": "9532ff0d-5fff-4afb-8c59-95c27c1cc7e5",
   "metadata": {},
   "source": [
    "## Conclusión"
   ]
  },
  {
   "cell_type": "code",
   "execution_count": null,
   "id": "a054be78-8fef-400e-a2aa-46126d0ceb06",
   "metadata": {},
   "outputs": [],
   "source": []
  }
 ],
 "metadata": {
  "jupytext": {
   "encoding": "# -*- coding: utf-8 -*-"
  },
  "kernelspec": {
   "display_name": "Python 3 (ipykernel)",
   "language": "python",
   "name": "python3"
  },
  "language_info": {
   "codemirror_mode": {
    "name": "ipython",
    "version": 3
   },
   "file_extension": ".py",
   "mimetype": "text/x-python",
   "name": "python",
   "nbconvert_exporter": "python",
   "pygments_lexer": "ipython3",
   "version": "3.7.12"
  }
 },
 "nbformat": 4,
 "nbformat_minor": 5
}
