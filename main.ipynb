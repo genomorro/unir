{
 "cells": [
  {
   "cell_type": "markdown",
   "id": "c262d60c-8624-48ab-9031-ee36ff75c0fa",
   "metadata": {},
   "source": [
    "# Actividad: Clasificación con máquina de vectores de soporte y redes de neuronas (Mobile Price Classification)"
   ]
  }
 ],
 "metadata": {
  "kernelspec": {
   "display_name": "Python 3 (ipykernel)",
   "language": "python",
   "name": "python3"
  },
  "language_info": {
   "codemirror_mode": {
    "name": "ipython",
    "version": 3
   },
   "file_extension": ".py",
   "mimetype": "text/x-python",
   "name": "python",
   "nbconvert_exporter": "python",
   "pygments_lexer": "ipython3",
   "version": "3.7.12"
  }
 },
 "nbformat": 4,
 "nbformat_minor": 5
}
