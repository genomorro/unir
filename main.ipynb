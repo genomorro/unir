{
 "cells": [
  {
   "cell_type": "code",
   "execution_count": 1,
   "id": "1d5dc96d-1a3e-4141-861d-95153500c4ef",
   "metadata": {},
   "outputs": [],
   "source": [
    "import pandas as pd"
   ]
  },
  {
   "cell_type": "code",
   "execution_count": 2,
   "id": "a841ad26-9375-491a-b0e1-e42d4b36f2fd",
   "metadata": {},
   "outputs": [],
   "source": [
    "ah = pd.read_excel('ds/Asentamiento Histo.xlsx')\n",
    "lin = pd.read_excel('ds/LIN.xlsx')"
   ]
  },
  {
   "cell_type": "code",
   "execution_count": 3,
   "id": "17f3fd74-4d62-4756-827d-16109526691f",
   "metadata": {},
   "outputs": [],
   "source": [
    "ah = ah.drop(['Unnamed: 5', 'clave_autodenom', 'Unnamed: 7',\n",
    "       'nom_autodenom_2008', 'nom_autodenom_1actualizacion',\n",
    "       'Trans_fonetica_2008', 'Trans_fonetica_1actualización',\n",
    "       'clave_ent_2000', 'clave_ent_2010', 'Unnamed: 14', 'Unnamed: 15',\n",
    "       'Unnamed: 16', 'Unnamed: 17', 'Unnamed: 18', 'Unnamed: 19',\n",
    "       'Unnamed: 20', 'Unnamed: 21', 'Unnamed: 22', 'Unnamed: 23',\n",
    "       'Unnamed: 24', 'Unnamed: 25', 'loc2015', 'tieneTocayas2000',\n",
    "       'bandera2000', 'mayorHLI2000', 'HLI_2000', 'HLI_2005', 'HLI_2010',\n",
    "       'edomunloc2000', 'edomunloc2010', 'clave_unica2000', 'clave_unica2010',\n",
    "       'clave_unica2015', 'NDRIESGO', 'cambios_DI',\n",
    "       'Claves para marcas de densidad ', 'Notas', 'Unnamed: 42',\n",
    "       'Unnamed: 43', 'Unnamed: 44'],axis=1)"
   ]
  },
  {
   "cell_type": "code",
   "execution_count": 4,
   "id": "454bdf2d-4711-4636-9504-6c74591f922a",
   "metadata": {},
   "outputs": [],
   "source": [
    "ah = ah.dropna()"
   ]
  },
  {
   "cell_type": "raw",
   "id": "7600b99a-288c-41ad-b542-f8364940735b",
   "metadata": {},
   "source": [
    "lin.head()"
   ]
  },
  {
   "cell_type": "raw",
   "id": "812d25c0-2fca-4751-bade-b0e3fa565a0e",
   "metadata": {},
   "source": [
    "lin.columns"
   ]
  },
  {
   "cell_type": "raw",
   "id": "5796814b-8c67-40ac-984d-d76e3b887bb5",
   "metadata": {},
   "source": [
    "ah.head()"
   ]
  },
  {
   "cell_type": "code",
   "execution_count": 5,
   "id": "6865eba5-c75d-4d96-a8f4-bfa2e03edfef",
   "metadata": {},
   "outputs": [],
   "source": [
    "temporal = lin.drop(['AH/M', 'Población de 3 años y más que habla lengua indígena',\n",
    "       'Hombres', 'Mujeres', 'AH/M.1'], axis=1)"
   ]
  },
  {
   "cell_type": "raw",
   "id": "fe43a338-5345-46c7-a060-2ff0cd98b13f",
   "metadata": {},
   "source": [
    "temporal.head()"
   ]
  },
  {
   "cell_type": "raw",
   "id": "8210b3ab-09e4-4605-b741-9d8827b0a4a6",
   "metadata": {},
   "source": [
    "print(temporal.columns)\n",
    "print(ah.columns)"
   ]
  },
  {
   "cell_type": "code",
   "execution_count": 12,
   "id": "46232a28-6f71-4775-b86d-adeef0db9c97",
   "metadata": {},
   "outputs": [],
   "source": [
    "#df2.set_index('player').subtract(df1.set_index('player'))\n",
    "\n",
    "diff_df = pd.merge(ah, temporal, how='outer', indicator='Exist')"
   ]
  },
  {
   "cell_type": "code",
   "execution_count": 13,
   "id": "6949716a-cb16-4ca3-bcaf-e571aec18e62",
   "metadata": {},
   "outputs": [],
   "source": [
    "diff_df = pd.concat([diff_df,temporal], axis=1)"
   ]
  },
  {
   "cell_type": "raw",
   "id": "468dc6f5-6713-4bee-ba1f-8063dba58d00",
   "metadata": {},
   "source": [
    "diff_df.shape"
   ]
  },
  {
   "cell_type": "code",
   "execution_count": 14,
   "id": "43c5d8e1-5cbb-4065-a7f1-77d3ef5c0424",
   "metadata": {},
   "outputs": [],
   "source": [
    "diff_df.to_csv(\"out/resultado.csv\")"
   ]
  },
  {
   "cell_type": "code",
   "execution_count": null,
   "id": "0c7b088a-e45f-43ee-a14f-175123722faf",
   "metadata": {},
   "outputs": [],
   "source": []
  }
 ],
 "metadata": {
  "kernelspec": {
   "display_name": "Python 3 (ipykernel)",
   "language": "python",
   "name": "python3"
  },
  "language_info": {
   "codemirror_mode": {
    "name": "ipython",
    "version": 3
   },
   "file_extension": ".py",
   "mimetype": "text/x-python",
   "name": "python",
   "nbconvert_exporter": "python",
   "pygments_lexer": "ipython3",
   "version": "3.7.12"
  }
 },
 "nbformat": 4,
 "nbformat_minor": 5
}
