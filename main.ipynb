{
 "cells": [
  {
   "cell_type": "markdown",
   "id": "57b011a9",
   "metadata": {},
   "source": [
    "# Eliminación de anomalías de una imagen"
   ]
  },
  {
   "cell_type": "markdown",
   "id": "46d7ff6e",
   "metadata": {},
   "source": [
    "## Introducción"
   ]
  },
  {
   "cell_type": "markdown",
   "id": "e98d1d49",
   "metadata": {},
   "source": [
    "## Librerías a utilizar\n",
    "### Librerías para el procesamiento de imágenes"
   ]
  },
  {
   "cell_type": "code",
   "execution_count": null,
   "id": "c24c0ad2",
   "metadata": {
    "tags": []
   },
   "outputs": [],
   "source": [
    "import cv2 as cv\n",
    "import numpy as np"
   ]
  },
  {
   "cell_type": "markdown",
   "id": "32813aae",
   "metadata": {},
   "source": [
    "### Librería opcional para mostrar imagenes en el notebook\n",
    "\n",
    "Esta librería espera imágenes RGB de otra manera los tonos y colores serán distintos. Para ver las imágenes de salida con detalle es necesario ir a la carpeta `out`. Las imágenes de entrada se encuentran en la carpeta `im`."
   ]
  },
  {
   "cell_type": "code",
   "execution_count": null,
   "id": "a94ee13d",
   "metadata": {},
   "outputs": [],
   "source": [
    "from matplotlib import pyplot as plt"
   ]
  },
  {
   "cell_type": "markdown",
   "id": "aeba993e",
   "metadata": {},
   "source": [
    "## Carga de imágenes"
   ]
  },
  {
   "cell_type": "code",
   "execution_count": null,
   "id": "e4c71679",
   "metadata": {},
   "outputs": [],
   "source": [
    "image_unir = cv.imread('im/unir-1.jpg')\n",
    "image_rgb = cv.imread('im/rgb.png')\n",
    "image_snp = cv.imread('im/salt-pepper.png')\n",
    "image_noisy = cv.imread('im/noisy.jpg')"
   ]
  },
  {
   "cell_type": "markdown",
   "id": "c8ef4fc4",
   "metadata": {
    "tags": []
   },
   "source": [
    "## Operación de convolución por promedio"
   ]
  },
  {
   "cell_type": "markdown",
   "id": "4c088337",
   "metadata": {},
   "source": [
    "### Uso de OpenCV"
   ]
  },
  {
   "cell_type": "code",
   "execution_count": null,
   "id": "4fb597c2",
   "metadata": {
    "jupyter": {
     "source_hidden": true
    },
    "tags": []
   },
   "outputs": [],
   "source": [
    "def mask(n):\n",
    "    '''Define a nxn mask.\n",
    "    Useful for a quick filter\n",
    "    '''\n",
    "    mask = np.ones((n,n), np.float32)*(1/(n**2))\n",
    "    return mask\n",
    "\n",
    "kernel = mask(5)\n",
    "print(kernel)"
   ]
  },
  {
   "cell_type": "markdown",
   "id": "37369eae",
   "metadata": {},
   "source": [
    "Ahora se debe probar con la función `cv.filter2D()`. No es necesario hacer nuevas funciones."
   ]
  },
  {
   "cell_type": "code",
   "execution_count": null,
   "id": "b3937dd1",
   "metadata": {},
   "outputs": [],
   "source": [
    "im = image_unir\n",
    "out = cv.filter2D(im,-1,kernel)\n",
    "cv.imwrite('out/filter2D.jpg', out)"
   ]
  },
  {
   "cell_type": "code",
   "execution_count": null,
   "id": "8472b609",
   "metadata": {},
   "outputs": [],
   "source": [
    "im = cv.cvtColor(im, cv.COLOR_BGR2RGB)\n",
    "out = cv.cvtColor(out, cv.COLOR_BGR2RGB)\n",
    "plt.subplot(1,2,1)\n",
    "plt.imshow(im)\n",
    "plt.title('Imagen Original')\n",
    "plt.xticks([])\n",
    "plt.yticks([])\n",
    "plt.subplot(1,2,2) \n",
    "plt.imshow(out)\n",
    "plt.title('Imagen Filtrada')\n",
    "plt.xticks([])\n",
    "plt.yticks([])\n",
    "plt.show()"
   ]
  },
  {
   "cell_type": "markdown",
   "id": "9979830f",
   "metadata": {},
   "source": [
    "Puede observarse como resultado del filtro que la imagen se difumina ligeramente, sobre todo en el texto. Ahora si el valor de la máscara es muy alto, por ejemplo 50, se notará un fuerte efecto de difuminado en la imagen."
   ]
  },
  {
   "cell_type": "code",
   "execution_count": null,
   "id": "5ea51933",
   "metadata": {
    "tags": []
   },
   "outputs": [],
   "source": [
    "kernel = mask(50)\n",
    "out = cv.filter2D(im,-1,kernel)\n",
    "cv.imwrite('out/filter2D-bigKernel.jpg', out)\n",
    "plt.imshow(out)\n",
    "plt.title('Valor alto en el kernel'), plt.xticks([]), plt.yticks([])\n",
    "plt.show()"
   ]
  },
  {
   "cell_type": "markdown",
   "id": "b5b6421c",
   "metadata": {},
   "source": [
    "El efecto de limpieza de ruido con este filtro pasa baja (LPF) puede observarse al usarlo con las imágenes `image_noisy` e `image_snp`. La primera es una foto del año 2008 tomada con una cámara marca Nikon, si se ve con detenimiento se verá la cantidad de ruido de la misma. La segunda es una clásica imagen con ruido _sal y pimienta_. "
   ]
  },
  {
   "cell_type": "code",
   "execution_count": null,
   "id": "8ac814c7",
   "metadata": {},
   "outputs": [],
   "source": [
    "# Mantener comentada una de las próximas dos líneas para observar el resultado del filtro\n",
    "im = image_noisy\n",
    "#im = image_snp\n",
    "# Cambie el tamaño de la máscara si así lo desea\n",
    "kernel = mask(7)\n",
    "out = cv.filter2D(im,-1,kernel)\n",
    "cv.imwrite('out/filter2D-cleaning.jpg', out)"
   ]
  },
  {
   "cell_type": "code",
   "execution_count": null,
   "id": "1b501bc7",
   "metadata": {},
   "outputs": [],
   "source": [
    "im = cv.cvtColor(im, cv.COLOR_BGR2RGB)\n",
    "out = cv.cvtColor(out, cv.COLOR_BGR2RGB)\n",
    "plt.subplot(1,2,1)\n",
    "plt.imshow(im)\n",
    "plt.title('Imagen Original')\n",
    "plt.xticks([])\n",
    "plt.yticks([])\n",
    "plt.subplot(1,2,2) \n",
    "plt.imshow(out)\n",
    "plt.title('Imagen Filtrada')\n",
    "plt.xticks([])\n",
    "plt.yticks([])\n",
    "plt.show()"
   ]
  },
  {
   "cell_type": "markdown",
   "id": "55d591b4",
   "metadata": {},
   "source": [
    "Es notorio que este filtro tiene un efecto relativo sobre el ruido: en el caso _sal y pimienta_ limpia muy poco la imagen, mientras tanto, en sobre el ruido aleatorio es casi imperceptible alguna mejora. Por eso se deben usar otro tipo de filtros.\n",
    "\n",
    "## Filtro gausiano"
   ]
  },
  {
   "cell_type": "code",
   "execution_count": null,
   "id": "06639318",
   "metadata": {},
   "outputs": [],
   "source": [
    "im = image_noisy\n",
    "out = cv.cvtColor(im, cv.COLOR_BGR2GRAY) \n",
    "out = cv.GaussianBlur(im,(21,21),0)\n",
    "cv.imwrite('out/gaussian-1.jpg', out)"
   ]
  },
  {
   "cell_type": "code",
   "execution_count": null,
   "id": "684d7c14",
   "metadata": {},
   "outputs": [],
   "source": [
    "im = cv.cvtColor(im, cv.COLOR_BGR2RGB)\n",
    "out = cv.cvtColor(out, cv.COLOR_BGR2RGB)\n",
    "plt.subplot(1,2,1)\n",
    "plt.imshow(im)\n",
    "plt.title('Imagen Original')\n",
    "plt.xticks([])\n",
    "plt.yticks([])\n",
    "plt.subplot(1,2,2) \n",
    "plt.imshow(out)\n",
    "plt.title('Filtro gaussiano')\n",
    "plt.xticks([])\n",
    "plt.yticks([])\n",
    "plt.show()"
   ]
  },
  {
   "cell_type": "code",
   "execution_count": null,
   "id": "5bcb34f2",
   "metadata": {},
   "outputs": [],
   "source": [
    "## Filtro de mediana"
   ]
  },
  {
   "cell_type": "code",
   "execution_count": null,
   "id": "0bc4c477",
   "metadata": {},
   "outputs": [],
   "source": [
    "im = image_snp\n",
    "out = cv.medianBlur(im,5)\n",
    "cv.imwrite('out/median-cv.jpg', out)"
   ]
  },
  {
   "cell_type": "code",
   "execution_count": null,
   "id": "5b4e3ef1",
   "metadata": {},
   "outputs": [],
   "source": [
    "im = cv.cvtColor(im, cv.COLOR_BGR2RGB)\n",
    "out = cv.cvtColor(out, cv.COLOR_BGR2RGB)\n",
    "plt.subplot(1,2,1)\n",
    "plt.imshow(im)\n",
    "plt.title('Imagen Original')\n",
    "plt.xticks([])\n",
    "plt.yticks([])\n",
    "plt.subplot(1,2,2) \n",
    "plt.imshow(out)\n",
    "plt.title('Filtro de mediana')\n",
    "plt.xticks([])\n",
    "plt.yticks([])\n",
    "plt.show()"
   ]
  },
  {
   "cell_type": "markdown",
   "id": "9dcc9fa4",
   "metadata": {},
   "source": [
    "### Otra implementación\n",
    "\n",
    "El filtro de mediana se usa para eliminar el ruido _sal y pimienta_. Esta primera implementación es tomada de un [código de Github](https://github.com/MeteHanC/Python-Median-Filter/blob/master/MedianFilter.py)."
   ]
  },
  {
   "cell_type": "code",
   "execution_count": null,
   "id": "8f48be07",
   "metadata": {
    "lines_to_next_cell": 1
   },
   "outputs": [],
   "source": [
    "def median_filter(data, filter_size):\n",
    "    \"\"\"Apply the median filter.\n",
    "    \n",
    "    Arguments:\n",
    "    data -- An array that represents an image.\n",
    "    filter_size -- An impair integer that represents mask/window size.\n",
    "    \n",
    "    Return a filtered array that represents an image.\n",
    "    \"\"\"\n",
    "    if (filter_size % 2) == 0:\n",
    "        raise TypeError(\"filter_size must be an impair integer\")\n",
    "    if not isinstance(data, np.ndarray):\n",
    "        raise TypeError(\"data must be an array\")\n",
    "    indexer = filter_size // 2\n",
    "    mask = [ # Crea un arreglo del tamaño adecuado\n",
    "        (i, j)\n",
    "        for i in range(-indexer, filter_size-indexer)\n",
    "        for j in range(-indexer, filter_size-indexer)\n",
    "    ]\n",
    "    index = len(mask) // 2\n",
    "    # Recorre data\n",
    "    for i in range(len(data)):\n",
    "        for j in range(len(data[0])):\n",
    "            # Ordena data\n",
    "            data[i][j] = sorted(\n",
    "                # Será 0 si es un límite de la imagen\n",
    "                0 if (\n",
    "                    min(i+a, j+b) < 0\n",
    "                    or len(data) <= i+a\n",
    "                    or len(data[0]) <= j+b\n",
    "                ) else data[i+a][j+b] # De otro modo será el valor de en la imagen\n",
    "                # Eso lo recorre en cada punto de la máscara\n",
    "                for a, b in mask\n",
    "            )[index] # Toma el valor de la mediana una vez ordanada data\n",
    "    return data"
   ]
  },
  {
   "cell_type": "code",
   "execution_count": null,
   "id": "b920883f",
   "metadata": {},
   "outputs": [],
   "source": [
    "from PIL import Image\n",
    "\n",
    "im = Image.open('im/salt-pepper.png')\n",
    "input = np.asarray(im)\n",
    "out = median_filter(input, 3)\n",
    "Image.fromarray(out).save(\"out/median-alg.jpg\")"
   ]
  },
  {
   "cell_type": "code",
   "execution_count": null,
   "id": "563aad0a",
   "metadata": {},
   "outputs": [],
   "source": [
    "plt.figure()\n",
    "plt.subplot(1,2,1)\n",
    "plt.imshow(im)\n",
    "plt.title('Imagen Original')\n",
    "plt.xticks([])\n",
    "plt.yticks([])\n",
    "plt.subplot(1,2,2) \n",
    "plt.imshow(out)\n",
    "plt.title('Filtro de mediana')\n",
    "plt.xticks([])\n",
    "plt.yticks([])\n",
    "plt.show()\n",
    "plt.savefig('out/testing.png')"
   ]
  },
  {
   "cell_type": "markdown",
   "id": "b50d509b",
   "metadata": {
    "lines_to_next_cell": 2
   },
   "source": [
    "#EOF"
   ]
  }
 ],
 "metadata": {
  "jupytext": {
   "encoding": "# -*- coding: utf-8 -*-"
  },
  "kernelspec": {
   "display_name": "Python 3 (ipykernel)",
   "language": "python",
   "name": "python3"
  }
 },
 "nbformat": 4,
 "nbformat_minor": 5
}