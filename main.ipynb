{
 "cells": [
  {
   "cell_type": "code",
   "execution_count": 1,
   "id": "1d5dc96d-1a3e-4141-861d-95153500c4ef",
   "metadata": {},
   "outputs": [],
   "source": [
    "import pandas as pd"
   ]
  },
  {
   "cell_type": "code",
   "execution_count": 2,
   "id": "a841ad26-9375-491a-b0e1-e42d4b36f2fd",
   "metadata": {},
   "outputs": [],
   "source": [
    "ah = pd.read_excel('ds/Asentamiento Histo.xlsx')\n",
    "lin = pd.read_excel('ds/LIN.xlsx')"
   ]
  },
  {
   "cell_type": "code",
   "execution_count": 3,
   "id": "17f3fd74-4d62-4756-827d-16109526691f",
   "metadata": {},
   "outputs": [],
   "source": [
    "ah = ah.drop(['Unnamed: 5', 'clave_autodenom', 'Unnamed: 7',\n",
    "       'nom_autodenom_2008', 'nom_autodenom_1actualizacion',\n",
    "       'Trans_fonetica_2008', 'Trans_fonetica_1actualización',\n",
    "       'clave_ent_2000', 'clave_ent_2010', 'Unnamed: 14', 'Unnamed: 15',\n",
    "       'Unnamed: 16', 'Unnamed: 17', 'Unnamed: 18', 'Unnamed: 19',\n",
    "       'Unnamed: 20', 'Unnamed: 21', 'Unnamed: 22', 'Unnamed: 23',\n",
    "       'Unnamed: 24', 'Unnamed: 25', 'loc2015', 'tieneTocayas2000',\n",
    "       'bandera2000', 'mayorHLI2000', 'HLI_2000', 'HLI_2005', 'HLI_2010',\n",
    "       'edomunloc2000', 'edomunloc2010', 'clave_unica2000', 'clave_unica2010',\n",
    "       'clave_unica2015', 'NDRIESGO', 'cambios_DI',\n",
    "       'Claves para marcas de densidad ', 'Notas', 'Unnamed: 42',\n",
    "       'Unnamed: 43', 'Unnamed: 44'],axis=1)"
   ]
  },
  {
   "cell_type": "code",
   "execution_count": 4,
   "id": "454bdf2d-4711-4636-9504-6c74591f922a",
   "metadata": {},
   "outputs": [],
   "source": [
    "ah = ah.dropna()"
   ]
  },
  {
   "cell_type": "raw",
   "id": "7600b99a-288c-41ad-b542-f8364940735b",
   "metadata": {},
   "source": [
    "lin.head()"
   ]
  },
  {
   "cell_type": "code",
   "execution_count": 21,
   "id": "080f29a0-a060-4aaa-854f-24c07cf1127e",
   "metadata": {},
   "outputs": [
    {
     "data": {
      "text/plain": [
       "Index(['Lengua indígena', 'Entidad federativa', 'Municipio', 'Localidad',\n",
       "       'AH/M', 'Población de 3 años y más que habla lengua indígena',\n",
       "       'Hombres', 'Mujeres', 'AH/M.1'],\n",
       "      dtype='object')"
      ]
     },
     "execution_count": 21,
     "metadata": {},
     "output_type": "execute_result"
    }
   ],
   "source": [
    "lin.columns"
   ]
  },
  {
   "cell_type": "raw",
   "id": "5796814b-8c67-40ac-984d-d76e3b887bb5",
   "metadata": {},
   "source": [
    "ah.head()"
   ]
  },
  {
   "cell_type": "code",
   "execution_count": 18,
   "id": "6865eba5-c75d-4d96-a8f4-bfa2e03edfef",
   "metadata": {},
   "outputs": [],
   "source": [
    "temporal = lin[['AH/M', 'Población de 3 años y más que habla lengua indígena',\n",
    "       'Hombres', 'Mujeres', 'AH/M.1']]"
   ]
  },
  {
   "cell_type": "code",
   "execution_count": 19,
   "id": "9fbb1149-aaf5-4443-88e1-d20833ca5411",
   "metadata": {},
   "outputs": [
    {
     "data": {
      "text/html": [
       "<div>\n",
       "<style scoped>\n",
       "    .dataframe tbody tr th:only-of-type {\n",
       "        vertical-align: middle;\n",
       "    }\n",
       "\n",
       "    .dataframe tbody tr th {\n",
       "        vertical-align: top;\n",
       "    }\n",
       "\n",
       "    .dataframe thead th {\n",
       "        text-align: right;\n",
       "    }\n",
       "</style>\n",
       "<table border=\"1\" class=\"dataframe\">\n",
       "  <thead>\n",
       "    <tr style=\"text-align: right;\">\n",
       "      <th></th>\n",
       "      <th>AH/M</th>\n",
       "      <th>Población de 3 años y más que habla lengua indígena</th>\n",
       "      <th>Hombres</th>\n",
       "      <th>Mujeres</th>\n",
       "      <th>AH/M.1</th>\n",
       "    </tr>\n",
       "  </thead>\n",
       "  <tbody>\n",
       "    <tr>\n",
       "      <th>0</th>\n",
       "      <td>NaN</td>\n",
       "      <td>1</td>\n",
       "      <td>1</td>\n",
       "      <td>0</td>\n",
       "      <td>NaN</td>\n",
       "    </tr>\n",
       "    <tr>\n",
       "      <th>1</th>\n",
       "      <td>NaN</td>\n",
       "      <td>1</td>\n",
       "      <td>1</td>\n",
       "      <td>0</td>\n",
       "      <td>NaN</td>\n",
       "    </tr>\n",
       "    <tr>\n",
       "      <th>2</th>\n",
       "      <td>NaN</td>\n",
       "      <td>1</td>\n",
       "      <td>1</td>\n",
       "      <td>0</td>\n",
       "      <td>NaN</td>\n",
       "    </tr>\n",
       "    <tr>\n",
       "      <th>3</th>\n",
       "      <td>NaN</td>\n",
       "      <td>2</td>\n",
       "      <td>1</td>\n",
       "      <td>1</td>\n",
       "      <td>NaN</td>\n",
       "    </tr>\n",
       "    <tr>\n",
       "      <th>4</th>\n",
       "      <td>NaN</td>\n",
       "      <td>2</td>\n",
       "      <td>1</td>\n",
       "      <td>1</td>\n",
       "      <td>NaN</td>\n",
       "    </tr>\n",
       "  </tbody>\n",
       "</table>\n",
       "</div>"
      ],
      "text/plain": [
       "   AH/M Población de 3 años y más que habla lengua indígena Hombres Mujeres  \\\n",
       "0   NaN                                                  1        1       0   \n",
       "1   NaN                                                  1        1       0   \n",
       "2   NaN                                                  1        1       0   \n",
       "3   NaN                                                  2        1       1   \n",
       "4   NaN                                                  2        1       1   \n",
       "\n",
       "  AH/M.1  \n",
       "0    NaN  \n",
       "1    NaN  \n",
       "2    NaN  \n",
       "3    NaN  \n",
       "4    NaN  "
      ]
     },
     "execution_count": 19,
     "metadata": {},
     "output_type": "execute_result"
    }
   ],
   "source": [
    "temporal.head()"
   ]
  },
  {
   "cell_type": "code",
   "execution_count": 22,
   "id": "46232a28-6f71-4775-b86d-adeef0db9c97",
   "metadata": {},
   "outputs": [],
   "source": [
    "#df2.set_index('player').subtract(df1.set_index('player'))\n",
    "\n",
    "diff_df = pd.merge(lin[['Lengua indígena', 'Entidad federativa', 'Municipio', 'Localidad']], ah, how='outer', indicator='Exist')"
   ]
  },
  {
   "cell_type": "code",
   "execution_count": 23,
   "id": "6949716a-cb16-4ca3-bcaf-e571aec18e62",
   "metadata": {},
   "outputs": [],
   "source": [
    "diff_df = pd.concat([diff_df,temporal], axis=1)"
   ]
  },
  {
   "cell_type": "code",
   "execution_count": 24,
   "id": "ec974593-1ae9-483f-afd8-1af7e2c3dedd",
   "metadata": {},
   "outputs": [
    {
     "data": {
      "text/html": [
       "<div>\n",
       "<style scoped>\n",
       "    .dataframe tbody tr th:only-of-type {\n",
       "        vertical-align: middle;\n",
       "    }\n",
       "\n",
       "    .dataframe tbody tr th {\n",
       "        vertical-align: top;\n",
       "    }\n",
       "\n",
       "    .dataframe thead th {\n",
       "        text-align: right;\n",
       "    }\n",
       "</style>\n",
       "<table border=\"1\" class=\"dataframe\">\n",
       "  <thead>\n",
       "    <tr style=\"text-align: right;\">\n",
       "      <th></th>\n",
       "      <th>Lengua indígena</th>\n",
       "      <th>Entidad federativa</th>\n",
       "      <th>Municipio</th>\n",
       "      <th>Localidad</th>\n",
       "      <th>AH/M</th>\n",
       "      <th>Exist</th>\n",
       "      <th>AH/M</th>\n",
       "      <th>Población de 3 años y más que habla lengua indígena</th>\n",
       "      <th>Hombres</th>\n",
       "      <th>Mujeres</th>\n",
       "      <th>AH/M.1</th>\n",
       "    </tr>\n",
       "  </thead>\n",
       "  <tbody>\n",
       "    <tr>\n",
       "      <th>0</th>\n",
       "      <td>Akateko</td>\n",
       "      <td>Aguascalientes</td>\n",
       "      <td>Aguascalientes</td>\n",
       "      <td>Aguascalientes</td>\n",
       "      <td>NaN</td>\n",
       "      <td>left_only</td>\n",
       "      <td>NaN</td>\n",
       "      <td>1</td>\n",
       "      <td>1</td>\n",
       "      <td>0</td>\n",
       "      <td>NaN</td>\n",
       "    </tr>\n",
       "    <tr>\n",
       "      <th>1</th>\n",
       "      <td>Akateko</td>\n",
       "      <td>Aguascalientes</td>\n",
       "      <td>Aguascalientes</td>\n",
       "      <td>Total</td>\n",
       "      <td>NaN</td>\n",
       "      <td>left_only</td>\n",
       "      <td>NaN</td>\n",
       "      <td>1</td>\n",
       "      <td>1</td>\n",
       "      <td>0</td>\n",
       "      <td>NaN</td>\n",
       "    </tr>\n",
       "    <tr>\n",
       "      <th>2</th>\n",
       "      <td>Akateko</td>\n",
       "      <td>Aguascalientes</td>\n",
       "      <td>Total</td>\n",
       "      <td>Total</td>\n",
       "      <td>NaN</td>\n",
       "      <td>left_only</td>\n",
       "      <td>NaN</td>\n",
       "      <td>1</td>\n",
       "      <td>1</td>\n",
       "      <td>0</td>\n",
       "      <td>NaN</td>\n",
       "    </tr>\n",
       "    <tr>\n",
       "      <th>3</th>\n",
       "      <td>Akateko</td>\n",
       "      <td>Baja California</td>\n",
       "      <td>Ensenada</td>\n",
       "      <td>Rodolfo Sánchez Taboada (Maneadero)</td>\n",
       "      <td>NaN</td>\n",
       "      <td>left_only</td>\n",
       "      <td>NaN</td>\n",
       "      <td>2</td>\n",
       "      <td>1</td>\n",
       "      <td>1</td>\n",
       "      <td>NaN</td>\n",
       "    </tr>\n",
       "    <tr>\n",
       "      <th>4</th>\n",
       "      <td>Akateko</td>\n",
       "      <td>Baja California</td>\n",
       "      <td>Ensenada</td>\n",
       "      <td>Total</td>\n",
       "      <td>NaN</td>\n",
       "      <td>left_only</td>\n",
       "      <td>NaN</td>\n",
       "      <td>2</td>\n",
       "      <td>1</td>\n",
       "      <td>1</td>\n",
       "      <td>NaN</td>\n",
       "    </tr>\n",
       "  </tbody>\n",
       "</table>\n",
       "</div>"
      ],
      "text/plain": [
       "  Lengua indígena Entidad federativa       Municipio  \\\n",
       "0         Akateko     Aguascalientes  Aguascalientes   \n",
       "1         Akateko     Aguascalientes  Aguascalientes   \n",
       "2         Akateko     Aguascalientes           Total   \n",
       "3         Akateko    Baja California        Ensenada   \n",
       "4         Akateko    Baja California        Ensenada   \n",
       "\n",
       "                             Localidad  AH/M      Exist  AH/M  \\\n",
       "0                       Aguascalientes   NaN  left_only   NaN   \n",
       "1                                Total   NaN  left_only   NaN   \n",
       "2                                Total   NaN  left_only   NaN   \n",
       "3  Rodolfo Sánchez Taboada (Maneadero)   NaN  left_only   NaN   \n",
       "4                                Total   NaN  left_only   NaN   \n",
       "\n",
       "  Población de 3 años y más que habla lengua indígena Hombres Mujeres AH/M.1  \n",
       "0                                                  1        1       0    NaN  \n",
       "1                                                  1        1       0    NaN  \n",
       "2                                                  1        1       0    NaN  \n",
       "3                                                  2        1       1    NaN  \n",
       "4                                                  2        1       1    NaN  "
      ]
     },
     "execution_count": 24,
     "metadata": {},
     "output_type": "execute_result"
    }
   ],
   "source": [
    "diff_df.head()"
   ]
  },
  {
   "cell_type": "code",
   "execution_count": 25,
   "id": "43c5d8e1-5cbb-4065-a7f1-77d3ef5c0424",
   "metadata": {},
   "outputs": [],
   "source": [
    "diff_df.to_csv(\"out/resultado.csv\")"
   ]
  },
  {
   "cell_type": "code",
   "execution_count": null,
   "id": "0c7b088a-e45f-43ee-a14f-175123722faf",
   "metadata": {},
   "outputs": [],
   "source": []
  }
 ],
 "metadata": {
  "kernelspec": {
   "display_name": "Python 3 (ipykernel)",
   "language": "python",
   "name": "python3"
  },
  "language_info": {
   "codemirror_mode": {
    "name": "ipython",
    "version": 3
   },
   "file_extension": ".py",
   "mimetype": "text/x-python",
   "name": "python",
   "nbconvert_exporter": "python",
   "pygments_lexer": "ipython3",
   "version": "3.7.12"
  }
 },
 "nbformat": 4,
 "nbformat_minor": 5
}
