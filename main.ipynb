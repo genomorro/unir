{
 "cells": [
  {
   "cell_type": "markdown",
   "id": "b42a490d-65f9-4092-9a6e-335627d5c1d3",
   "metadata": {},
   "source": [
    "# Evaluación de la segmentación"
   ]
  },
  {
   "cell_type": "code",
   "execution_count": 1,
   "id": "4e948266-811c-4bd2-b0eb-709b6a97708e",
   "metadata": {},
   "outputs": [],
   "source": [
    "import cv2 as cv\n",
    "from matplotlib import pyplot as plt"
   ]
  },
  {
   "cell_type": "code",
   "execution_count": 2,
   "id": "9e19a147-b1d1-44d6-8a02-cf1adaceff47",
   "metadata": {},
   "outputs": [],
   "source": [
    "image_10c = cv.imread('im/10c.jpg', cv.IMREAD_GRAYSCALE)\n",
    "image_10t = cv.imread('im/10t.jpg', cv.IMREAD_GRAYSCALE)\n",
    "image_all = cv.imread('im/all.jpg', cv.IMREAD_GRAYSCALE)\n",
    "image_rgb = cv.imread('im/rgb.png', cv.IMREAD_GRAYSCALE)"
   ]
  },
  {
   "cell_type": "code",
   "execution_count": 3,
   "id": "c82f3cb7-201f-42b4-874c-ca69dac2eca6",
   "metadata": {},
   "outputs": [
    {
     "data": {
      "text/plain": [
       "True"
      ]
     },
     "execution_count": 3,
     "metadata": {},
     "output_type": "execute_result"
    }
   ],
   "source": [
    "im = image_10c\n",
    "# Los números son las intensidades min y máx para identificar el borde\n",
    "canny = cv.Canny(im, 25, 100)\n",
    "cv.imwrite('out/canny.jpg', canny)"
   ]
  },
  {
   "cell_type": "code",
   "execution_count": 4,
   "id": "fd7b5746-2ab5-4944-be1a-1d8e2e878b51",
   "metadata": {},
   "outputs": [
    {
     "name": "stdout",
     "output_type": "stream",
     "text": [
      "Número de contornos encontrados:  16\n"
     ]
    },
    {
     "data": {
      "text/plain": [
       "True"
      ]
     },
     "execution_count": 4,
     "metadata": {},
     "output_type": "execute_result"
    }
   ],
   "source": [
    "contornos, canny = cv.findContours(canny, cv.RETR_EXTERNAL,cv.CHAIN_APPROX_SIMPLE)\n",
    "out = cv.drawContours(im, contornos, -1, (210,139,38), 2)\n",
    "print('Número de contornos encontrados: ', len(contornos))\n",
    "texto = 'Contornos encontrados: '+ str(len(contornos))\n",
    "cv.putText(out, texto, (10,20), cv.FONT_HERSHEY_SIMPLEX, 0.7,\n",
    "  (0, 0, 0), 1)\n",
    "out = cv.cvtColor(out, cv.COLOR_BGR2RGB)\n",
    "cv.imwrite('out/out.jpg', out)"
   ]
  },
  {
   "cell_type": "markdown",
   "id": "cd533c8c-ea06-4844-aafc-5fb0edf7befc",
   "metadata": {},
   "source": [
    "# Otro"
   ]
  },
  {
   "cell_type": "code",
   "execution_count": 5,
   "id": "ee0c21cc-48c5-43f9-81c4-6627bb80cc81",
   "metadata": {},
   "outputs": [],
   "source": [
    "im = image_10t\n",
    "# Imagen en binario\n",
    "thresh = 128 #La mitad de bits\n",
    "im_bin = cv.threshold(im, thresh, 255, cv.THRESH_BINARY)[1]"
   ]
  },
  {
   "cell_type": "code",
   "execution_count": 6,
   "id": "5a0e5082-b3ee-4d77-8409-0c02a7c188b3",
   "metadata": {},
   "outputs": [
    {
     "data": {
      "text/plain": [
       "True"
      ]
     },
     "execution_count": 6,
     "metadata": {},
     "output_type": "execute_result"
    }
   ],
   "source": [
    "contornos, im_bin = cv.findContours(im_bin, cv.RETR_EXTERNAL,cv.CHAIN_APPROX_SIMPLE)\n",
    "font = cv.FONT_HERSHEY_SIMPLEX\n",
    "i=0\n",
    "for c in contornos:\n",
    "    M=cv.moments(c)\n",
    "    if (M[\"m00\"]==0): M[\"m00\"]=1\n",
    "    x=int(M[\"m10\"]/M[\"m00\"])\n",
    "    y=int(M['m01']/M['m00'])\n",
    "\n",
    "    mensaje = 'Num :' + str(i+1)\n",
    "    cv.putText(im,mensaje,(x-40,y),font,0.75,(255,0,0),2,cv2.LINE_AA)\n",
    "    cv.drawContours(im, [c], 0, (255,0,0),2)\n",
    "  cv2.imshow('Imagen', imagen)\n",
    "  cv2.waitKey(0)\n",
    "  i = i+1\n",
    "cv.imwrite('out/outupt.jpg', im_bin)"
   ]
  },
  {
   "cell_type": "code",
   "execution_count": null,
   "id": "73980828-1f82-48d8-ad5e-23d296f9dc22",
   "metadata": {},
   "outputs": [],
   "source": []
  }
 ],
 "metadata": {
  "kernelspec": {
   "display_name": "Python 3 (ipykernel)",
   "language": "python",
   "name": "python3"
  },
  "language_info": {
   "codemirror_mode": {
    "name": "ipython",
    "version": 3
   },
   "file_extension": ".py",
   "mimetype": "text/x-python",
   "name": "python",
   "nbconvert_exporter": "python",
   "pygments_lexer": "ipython3",
   "version": "3.7.12"
  }
 },
 "nbformat": 4,
 "nbformat_minor": 5
}
