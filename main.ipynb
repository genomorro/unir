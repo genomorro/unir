{
 "cells": [
  {
   "cell_type": "markdown",
   "id": "e20288ce-5d5f-4da8-9de8-9aa39479bab5",
   "metadata": {},
   "source": [
    "# Uso de filtros espaciales y morfológicos"
   ]
  },
  {
   "cell_type": "code",
   "execution_count": 1,
   "id": "d5008c29-12dd-4187-9b8b-04b3335bc379",
   "metadata": {},
   "outputs": [
    {
     "ename": "ModuleNotFoundError",
     "evalue": "No module named 'cv2'",
     "output_type": "error",
     "traceback": [
      "\u001b[0;31m---------------------------------------------------------------------------\u001b[0m",
      "\u001b[0;31mModuleNotFoundError\u001b[0m                       Traceback (most recent call last)",
      "\u001b[0;32m/tmp/ipykernel_161/2843047893.py\u001b[0m in \u001b[0;36m<module>\u001b[0;34m\u001b[0m\n\u001b[0;32m----> 1\u001b[0;31m \u001b[0;32mimport\u001b[0m \u001b[0mcv2\u001b[0m \u001b[0;32mas\u001b[0m \u001b[0mcv\u001b[0m\u001b[0;34m\u001b[0m\u001b[0;34m\u001b[0m\u001b[0m\n\u001b[0m\u001b[1;32m      2\u001b[0m \u001b[0;32mimport\u001b[0m \u001b[0mnumpy\u001b[0m \u001b[0;32mas\u001b[0m \u001b[0mnp\u001b[0m\u001b[0;34m\u001b[0m\u001b[0;34m\u001b[0m\u001b[0m\n\u001b[1;32m      3\u001b[0m \u001b[0;32mfrom\u001b[0m \u001b[0mmatplotlib\u001b[0m \u001b[0;32mimport\u001b[0m \u001b[0mpyplot\u001b[0m \u001b[0;32mas\u001b[0m \u001b[0mplt\u001b[0m\u001b[0;34m\u001b[0m\u001b[0;34m\u001b[0m\u001b[0m\n",
      "\u001b[0;31mModuleNotFoundError\u001b[0m: No module named 'cv2'"
     ]
    }
   ],
   "source": [
    "import cv2 as cv\n",
    "import numpy as np\n",
    "from matplotlib import pyplot as plt"
   ]
  },
  {
   "cell_type": "code",
   "execution_count": null,
   "id": "a9032d87-890c-47fb-8a2d-1f66f54eab83",
   "metadata": {},
   "outputs": [],
   "source": [
    "image_unir = cv.imread('im/unir-1.jpg')"
   ]
  },
  {
   "cell_type": "code",
   "execution_count": null,
   "id": "1000e3ee-2142-41b3-acd0-1433455bb7ce",
   "metadata": {},
   "outputs": [],
   "source": [
    "def mask(n):\n",
    "    '''Define a nxn mask.\n",
    "    Useful for a quick filter\n",
    "    '''\n",
    "    mask = np.ones((n,n), np.uint8)\n",
    "    return mask\n",
    "\n",
    "kernel = mask(5)\n",
    "\n",
    "im = image_unir\n",
    "\n",
    "erosion_5 = cv.erode(im, kernel, iterations=1)\n",
    "dilation_5 = cv.dilate(im, kernel, iterations=1)\n",
    "cv.imwrite('out/erosion_5.jpg', erosion_5)\n",
    "cv.imwrite('out/dilation_5.jpg', dilation_5)"
   ]
  },
  {
   "cell_type": "code",
   "execution_count": null,
   "id": "e9655b24-3c82-4b83-8b05-64296c659214",
   "metadata": {},
   "outputs": [],
   "source": [
    "im = cv.cvtColor(im, cv.COLOR_BGR2RGB)\n",
    "erosion_5 = cv.cvtColor(erosion_5, cv.COLOR_BGR2RGB)\n",
    "dilation_5 = cv.cvtColor(dilation_5, cv.COLOR_BGR2RGB)\n",
    "plt.subplot(131)\n",
    "plt.imshow(im)\n",
    "plt.title('Imagen Original'), plt.xticks([]), plt.yticks([])\n",
    "plt.subplot(132)\n",
    "plt.imshow(erosion_5)\n",
    "plt.title('Erosión 5x5'), plt.xticks([]), plt.yticks([])\n",
    "plt.subplot(133)\n",
    "plt.imshow(dilation_5)\n",
    "plt.title('Dilatación 5x5'), plt.xticks([]), plt.yticks([])\n",
    "plt.show()"
   ]
  }
 ],
 "metadata": {
  "kernelspec": {
   "display_name": "Python 3 (ipykernel)",
   "language": "python",
   "name": "python3"
  },
  "language_info": {
   "codemirror_mode": {
    "name": "ipython",
    "version": 3
   },
   "file_extension": ".py",
   "mimetype": "text/x-python",
   "name": "python",
   "nbconvert_exporter": "python",
   "pygments_lexer": "ipython3",
   "version": "3.7.12"
  }
 },
 "nbformat": 4,
 "nbformat_minor": 5
}
